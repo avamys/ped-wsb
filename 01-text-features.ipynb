{
 "cells": [
  {
   "cell_type": "code",
   "execution_count": 1,
   "metadata": {},
   "outputs": [],
   "source": [
    "%matplotlib inline\n",
    "import pandas as pd\n",
    "import matplotlib.pyplot as plt\n",
    "import seaborn as sns\n",
    "import numpy as np\n",
    "import math\n",
    "import datetime"
   ]
  },
  {
   "cell_type": "code",
   "execution_count": 2,
   "metadata": {},
   "outputs": [],
   "source": [
    "df = pd.read_csv(\"data/reddit_wsb.csv\")"
   ]
  },
  {
   "cell_type": "code",
   "execution_count": 3,
   "metadata": {},
   "outputs": [
    {
     "data": {
      "text/html": [
       "<div>\n",
       "<style scoped>\n",
       "    .dataframe tbody tr th:only-of-type {\n",
       "        vertical-align: middle;\n",
       "    }\n",
       "\n",
       "    .dataframe tbody tr th {\n",
       "        vertical-align: top;\n",
       "    }\n",
       "\n",
       "    .dataframe thead th {\n",
       "        text-align: right;\n",
       "    }\n",
       "</style>\n",
       "<table border=\"1\" class=\"dataframe\">\n",
       "  <thead>\n",
       "    <tr style=\"text-align: right;\">\n",
       "      <th></th>\n",
       "      <th>title</th>\n",
       "      <th>score</th>\n",
       "      <th>id</th>\n",
       "      <th>url</th>\n",
       "      <th>comms_num</th>\n",
       "      <th>created</th>\n",
       "      <th>body</th>\n",
       "      <th>timestamp</th>\n",
       "      <th>upvote_ratio</th>\n",
       "      <th>is_oc</th>\n",
       "      <th>permalink</th>\n",
       "      <th>name</th>\n",
       "      <th>is_self</th>\n",
       "    </tr>\n",
       "  </thead>\n",
       "  <tbody>\n",
       "    <tr>\n",
       "      <th>0</th>\n",
       "      <td>Due to all the manipulation happening on sever...</td>\n",
       "      <td>4</td>\n",
       "      <td>l69fvk</td>\n",
       "      <td>https://www.reddit.com/r/wallstreetbets/commen...</td>\n",
       "      <td>2</td>\n",
       "      <td>1.611768e+09</td>\n",
       "      <td>Many trading platforms have disabled the abili...</td>\n",
       "      <td>Wed Jan 27 18:18:38 2021</td>\n",
       "      <td>0.75</td>\n",
       "      <td>False</td>\n",
       "      <td>/r/wallstreetbets/comments/l69fvk/due_to_all_t...</td>\n",
       "      <td>t3_l69fvk</td>\n",
       "      <td>True</td>\n",
       "    </tr>\n",
       "    <tr>\n",
       "      <th>1</th>\n",
       "      <td>Holding GME till the squeeze has squoze. 6421@21</td>\n",
       "      <td>1157</td>\n",
       "      <td>l87ci6</td>\n",
       "      <td>https://i.redd.it/20f2x4ehsce61.png</td>\n",
       "      <td>85</td>\n",
       "      <td>1.611962e+09</td>\n",
       "      <td>NaN</td>\n",
       "      <td>Sat Jan 30 00:12:20 2021</td>\n",
       "      <td>0.99</td>\n",
       "      <td>False</td>\n",
       "      <td>/r/wallstreetbets/comments/l87ci6/holding_gme_...</td>\n",
       "      <td>t3_l87ci6</td>\n",
       "      <td>False</td>\n",
       "    </tr>\n",
       "    <tr>\n",
       "      <th>2</th>\n",
       "      <td>Going long on my dick</td>\n",
       "      <td>0</td>\n",
       "      <td>lc8dnh</td>\n",
       "      <td>https://www.reddit.com/r/wallstreetbets/commen...</td>\n",
       "      <td>7</td>\n",
       "      <td>1.612416e+09</td>\n",
       "      <td>A month ago I found out that I have a big dick...</td>\n",
       "      <td>Thu Feb  4 06:17:59 2021</td>\n",
       "      <td>0.39</td>\n",
       "      <td>False</td>\n",
       "      <td>/r/wallstreetbets/comments/lc8dnh/going_long_o...</td>\n",
       "      <td>t3_lc8dnh</td>\n",
       "      <td>True</td>\n",
       "    </tr>\n",
       "    <tr>\n",
       "      <th>3</th>\n",
       "      <td>TASTYWORKS IS ALSO SETTING \"CERTAIN\" STOCKS TO...</td>\n",
       "      <td>3</td>\n",
       "      <td>l71knz</td>\n",
       "      <td>https://www.reddit.com/r/wallstreetbets/commen...</td>\n",
       "      <td>0</td>\n",
       "      <td>1.611852e+09</td>\n",
       "      <td>\"Apex Clearing, who acts as the custodian of a...</td>\n",
       "      <td>Thu Jan 28 17:35:13 2021</td>\n",
       "      <td>1.00</td>\n",
       "      <td>False</td>\n",
       "      <td>/r/wallstreetbets/comments/l71knz/tastyworks_i...</td>\n",
       "      <td>t3_l71knz</td>\n",
       "      <td>True</td>\n",
       "    </tr>\n",
       "    <tr>\n",
       "      <th>4</th>\n",
       "      <td>PLEASE HELP THIS IS A DUMBASS FUCKING QUESTION</td>\n",
       "      <td>4</td>\n",
       "      <td>l70720</td>\n",
       "      <td>https://www.reddit.com/r/wallstreetbets/commen...</td>\n",
       "      <td>7</td>\n",
       "      <td>1.611849e+09</td>\n",
       "      <td>I\\u2019ve been following for a couple years......</td>\n",
       "      <td>Thu Jan 28 16:45:57 2021</td>\n",
       "      <td>0.70</td>\n",
       "      <td>False</td>\n",
       "      <td>/r/wallstreetbets/comments/l70720/please_help_...</td>\n",
       "      <td>t3_l70720</td>\n",
       "      <td>True</td>\n",
       "    </tr>\n",
       "    <tr>\n",
       "      <th>...</th>\n",
       "      <td>...</td>\n",
       "      <td>...</td>\n",
       "      <td>...</td>\n",
       "      <td>...</td>\n",
       "      <td>...</td>\n",
       "      <td>...</td>\n",
       "      <td>...</td>\n",
       "      <td>...</td>\n",
       "      <td>...</td>\n",
       "      <td>...</td>\n",
       "      <td>...</td>\n",
       "      <td>...</td>\n",
       "      <td>...</td>\n",
       "    </tr>\n",
       "    <tr>\n",
       "      <th>38903</th>\n",
       "      <td>Damn.. with the government getting involved an...</td>\n",
       "      <td>0</td>\n",
       "      <td>l6b99w</td>\n",
       "      <td>https://www.reddit.com/r/wallstreetbets/commen...</td>\n",
       "      <td>15</td>\n",
       "      <td>1.611772e+09</td>\n",
       "      <td>I don\\u2019t have much.. but I\\u2019d rather n...</td>\n",
       "      <td>Wed Jan 27 19:32:50 2021</td>\n",
       "      <td>0.36</td>\n",
       "      <td>False</td>\n",
       "      <td>/r/wallstreetbets/comments/l6b99w/damn_with_th...</td>\n",
       "      <td>t3_l6b99w</td>\n",
       "      <td>True</td>\n",
       "    </tr>\n",
       "    <tr>\n",
       "      <th>38904</th>\n",
       "      <td>DONT BE FOOLED BY PRICE DROP IN $AMC. THE VOLU...</td>\n",
       "      <td>16</td>\n",
       "      <td>l6zb4b</td>\n",
       "      <td>https://i.redd.it/c4xkr2zwa3e61.jpg</td>\n",
       "      <td>2</td>\n",
       "      <td>1.611847e+09</td>\n",
       "      <td>NaN</td>\n",
       "      <td>Thu Jan 28 16:15:16 2021</td>\n",
       "      <td>0.90</td>\n",
       "      <td>False</td>\n",
       "      <td>/r/wallstreetbets/comments/l6zb4b/dont_be_fool...</td>\n",
       "      <td>t3_l6zb4b</td>\n",
       "      <td>False</td>\n",
       "    </tr>\n",
       "    <tr>\n",
       "      <th>38905</th>\n",
       "      <td>For everyone searching by new who wants to buy...</td>\n",
       "      <td>77</td>\n",
       "      <td>l70tgo</td>\n",
       "      <td>https://www.reddit.com/r/wallstreetbets/commen...</td>\n",
       "      <td>10</td>\n",
       "      <td>1.611850e+09</td>\n",
       "      <td>This is according to other users in the commen...</td>\n",
       "      <td>Thu Jan 28 17:09:14 2021</td>\n",
       "      <td>1.00</td>\n",
       "      <td>False</td>\n",
       "      <td>/r/wallstreetbets/comments/l70tgo/for_everyone...</td>\n",
       "      <td>t3_l70tgo</td>\n",
       "      <td>True</td>\n",
       "    </tr>\n",
       "    <tr>\n",
       "      <th>38906</th>\n",
       "      <td>Why buy GME now</td>\n",
       "      <td>0</td>\n",
       "      <td>lcgmi4</td>\n",
       "      <td>https://www.reddit.com/r/wallstreetbets/commen...</td>\n",
       "      <td>19</td>\n",
       "      <td>1.612448e+09</td>\n",
       "      <td>Can you retards explain to me why anyone shoul...</td>\n",
       "      <td>Thu Feb  4 15:20:37 2021</td>\n",
       "      <td>0.32</td>\n",
       "      <td>False</td>\n",
       "      <td>/r/wallstreetbets/comments/lcgmi4/why_buy_gme_...</td>\n",
       "      <td>t3_lcgmi4</td>\n",
       "      <td>True</td>\n",
       "    </tr>\n",
       "    <tr>\n",
       "      <th>38907</th>\n",
       "      <td>Introducing the MM - the Meme Multiplier</td>\n",
       "      <td>96</td>\n",
       "      <td>l8fis7</td>\n",
       "      <td>https://www.reddit.com/r/wallstreetbets/commen...</td>\n",
       "      <td>42</td>\n",
       "      <td>1.611987e+09</td>\n",
       "      <td>Hello fellow regards,\\n\\nI have been investing...</td>\n",
       "      <td>Sat Jan 30 07:15:12 2021</td>\n",
       "      <td>0.93</td>\n",
       "      <td>False</td>\n",
       "      <td>/r/wallstreetbets/comments/l8fis7/introducing_...</td>\n",
       "      <td>t3_l8fis7</td>\n",
       "      <td>True</td>\n",
       "    </tr>\n",
       "  </tbody>\n",
       "</table>\n",
       "<p>38908 rows × 13 columns</p>\n",
       "</div>"
      ],
      "text/plain": [
       "                                                   title  score      id  \\\n",
       "0      Due to all the manipulation happening on sever...      4  l69fvk   \n",
       "1       Holding GME till the squeeze has squoze. 6421@21   1157  l87ci6   \n",
       "2                                  Going long on my dick      0  lc8dnh   \n",
       "3      TASTYWORKS IS ALSO SETTING \"CERTAIN\" STOCKS TO...      3  l71knz   \n",
       "4         PLEASE HELP THIS IS A DUMBASS FUCKING QUESTION      4  l70720   \n",
       "...                                                  ...    ...     ...   \n",
       "38903  Damn.. with the government getting involved an...      0  l6b99w   \n",
       "38904  DONT BE FOOLED BY PRICE DROP IN $AMC. THE VOLU...     16  l6zb4b   \n",
       "38905  For everyone searching by new who wants to buy...     77  l70tgo   \n",
       "38906                                    Why buy GME now      0  lcgmi4   \n",
       "38907           Introducing the MM - the Meme Multiplier     96  l8fis7   \n",
       "\n",
       "                                                     url  comms_num  \\\n",
       "0      https://www.reddit.com/r/wallstreetbets/commen...          2   \n",
       "1                    https://i.redd.it/20f2x4ehsce61.png         85   \n",
       "2      https://www.reddit.com/r/wallstreetbets/commen...          7   \n",
       "3      https://www.reddit.com/r/wallstreetbets/commen...          0   \n",
       "4      https://www.reddit.com/r/wallstreetbets/commen...          7   \n",
       "...                                                  ...        ...   \n",
       "38903  https://www.reddit.com/r/wallstreetbets/commen...         15   \n",
       "38904                https://i.redd.it/c4xkr2zwa3e61.jpg          2   \n",
       "38905  https://www.reddit.com/r/wallstreetbets/commen...         10   \n",
       "38906  https://www.reddit.com/r/wallstreetbets/commen...         19   \n",
       "38907  https://www.reddit.com/r/wallstreetbets/commen...         42   \n",
       "\n",
       "            created                                               body  \\\n",
       "0      1.611768e+09  Many trading platforms have disabled the abili...   \n",
       "1      1.611962e+09                                                NaN   \n",
       "2      1.612416e+09  A month ago I found out that I have a big dick...   \n",
       "3      1.611852e+09  \"Apex Clearing, who acts as the custodian of a...   \n",
       "4      1.611849e+09  I\\u2019ve been following for a couple years......   \n",
       "...             ...                                                ...   \n",
       "38903  1.611772e+09  I don\\u2019t have much.. but I\\u2019d rather n...   \n",
       "38904  1.611847e+09                                                NaN   \n",
       "38905  1.611850e+09  This is according to other users in the commen...   \n",
       "38906  1.612448e+09  Can you retards explain to me why anyone shoul...   \n",
       "38907  1.611987e+09  Hello fellow regards,\\n\\nI have been investing...   \n",
       "\n",
       "                      timestamp  upvote_ratio  is_oc  \\\n",
       "0      Wed Jan 27 18:18:38 2021          0.75  False   \n",
       "1      Sat Jan 30 00:12:20 2021          0.99  False   \n",
       "2      Thu Feb  4 06:17:59 2021          0.39  False   \n",
       "3      Thu Jan 28 17:35:13 2021          1.00  False   \n",
       "4      Thu Jan 28 16:45:57 2021          0.70  False   \n",
       "...                         ...           ...    ...   \n",
       "38903  Wed Jan 27 19:32:50 2021          0.36  False   \n",
       "38904  Thu Jan 28 16:15:16 2021          0.90  False   \n",
       "38905  Thu Jan 28 17:09:14 2021          1.00  False   \n",
       "38906  Thu Feb  4 15:20:37 2021          0.32  False   \n",
       "38907  Sat Jan 30 07:15:12 2021          0.93  False   \n",
       "\n",
       "                                               permalink       name  is_self  \n",
       "0      /r/wallstreetbets/comments/l69fvk/due_to_all_t...  t3_l69fvk     True  \n",
       "1      /r/wallstreetbets/comments/l87ci6/holding_gme_...  t3_l87ci6    False  \n",
       "2      /r/wallstreetbets/comments/lc8dnh/going_long_o...  t3_lc8dnh     True  \n",
       "3      /r/wallstreetbets/comments/l71knz/tastyworks_i...  t3_l71knz     True  \n",
       "4      /r/wallstreetbets/comments/l70720/please_help_...  t3_l70720     True  \n",
       "...                                                  ...        ...      ...  \n",
       "38903  /r/wallstreetbets/comments/l6b99w/damn_with_th...  t3_l6b99w     True  \n",
       "38904  /r/wallstreetbets/comments/l6zb4b/dont_be_fool...  t3_l6zb4b    False  \n",
       "38905  /r/wallstreetbets/comments/l70tgo/for_everyone...  t3_l70tgo     True  \n",
       "38906  /r/wallstreetbets/comments/lcgmi4/why_buy_gme_...  t3_lcgmi4     True  \n",
       "38907  /r/wallstreetbets/comments/l8fis7/introducing_...  t3_l8fis7     True  \n",
       "\n",
       "[38908 rows x 13 columns]"
      ]
     },
     "execution_count": 3,
     "metadata": {},
     "output_type": "execute_result"
    }
   ],
   "source": [
    "df"
   ]
  },
  {
   "cell_type": "code",
   "execution_count": 4,
   "metadata": {},
   "outputs": [
    {
     "name": "stdout",
     "output_type": "stream",
     "text": [
      "<class 'pandas.core.frame.DataFrame'>\n",
      "RangeIndex: 38908 entries, 0 to 38907\n",
      "Data columns (total 13 columns):\n",
      " #   Column        Non-Null Count  Dtype  \n",
      "---  ------        --------------  -----  \n",
      " 0   title         38908 non-null  object \n",
      " 1   score         38908 non-null  int64  \n",
      " 2   id            38908 non-null  object \n",
      " 3   url           38908 non-null  object \n",
      " 4   comms_num     38908 non-null  int64  \n",
      " 5   created       38908 non-null  float64\n",
      " 6   body          20703 non-null  object \n",
      " 7   timestamp     38908 non-null  object \n",
      " 8   upvote_ratio  38908 non-null  float64\n",
      " 9   is_oc         38908 non-null  bool   \n",
      " 10  permalink     38908 non-null  object \n",
      " 11  name          38908 non-null  object \n",
      " 12  is_self       38908 non-null  bool   \n",
      "dtypes: bool(2), float64(2), int64(2), object(7)\n",
      "memory usage: 3.3+ MB\n"
     ]
    }
   ],
   "source": [
    "df.info()"
   ]
  },
  {
   "cell_type": "markdown",
   "metadata": {},
   "source": [
    "## Timestamp"
   ]
  },
  {
   "cell_type": "code",
   "execution_count": 5,
   "metadata": {},
   "outputs": [],
   "source": [
    "df['timestamp'] = pd.to_datetime(df['timestamp'])"
   ]
  },
  {
   "cell_type": "code",
   "execution_count": 6,
   "metadata": {},
   "outputs": [
    {
     "name": "stderr",
     "output_type": "stream",
     "text": [
      "<ipython-input-6-621d3f5dc36a>:1: FutureWarning: Treating datetime data as categorical rather than numeric in `.describe` is deprecated and will be removed in a future version of pandas. Specify `datetime_is_numeric=True` to silence this warning and adopt the future behavior now.\n",
      "  df['timestamp'].describe()\n"
     ]
    },
    {
     "data": {
      "text/plain": [
       "count                   38908\n",
       "unique                  30147\n",
       "top       2021-02-02 22:32:58\n",
       "freq                        9\n",
       "first     2021-01-19 12:00:21\n",
       "last      2021-02-11 11:02:43\n",
       "Name: timestamp, dtype: object"
      ]
     },
     "execution_count": 6,
     "metadata": {},
     "output_type": "execute_result"
    }
   ],
   "source": [
    "df['timestamp'].describe()"
   ]
  },
  {
   "cell_type": "code",
   "execution_count": 7,
   "metadata": {},
   "outputs": [
    {
     "data": {
      "text/html": [
       "<div>\n",
       "<style scoped>\n",
       "    .dataframe tbody tr th:only-of-type {\n",
       "        vertical-align: middle;\n",
       "    }\n",
       "\n",
       "    .dataframe tbody tr th {\n",
       "        vertical-align: top;\n",
       "    }\n",
       "\n",
       "    .dataframe thead th {\n",
       "        text-align: right;\n",
       "    }\n",
       "</style>\n",
       "<table border=\"1\" class=\"dataframe\">\n",
       "  <thead>\n",
       "    <tr style=\"text-align: right;\">\n",
       "      <th></th>\n",
       "      <th>title</th>\n",
       "      <th>score</th>\n",
       "      <th>id</th>\n",
       "      <th>url</th>\n",
       "      <th>comms_num</th>\n",
       "      <th>created</th>\n",
       "      <th>body</th>\n",
       "      <th>timestamp</th>\n",
       "      <th>upvote_ratio</th>\n",
       "      <th>is_oc</th>\n",
       "      <th>permalink</th>\n",
       "      <th>name</th>\n",
       "      <th>is_self</th>\n",
       "    </tr>\n",
       "  </thead>\n",
       "  <tbody>\n",
       "    <tr>\n",
       "      <th>27381</th>\n",
       "      <td>Daily Discussion Thread for January 19, 2021</td>\n",
       "      <td>604</td>\n",
       "      <td>l0hnrw</td>\n",
       "      <td>https://www.reddit.com/r/wallstreetbets/commen...</td>\n",
       "      <td>23670</td>\n",
       "      <td>1.611054e+09</td>\n",
       "      <td>Your daily trading discussion thread. Please k...</td>\n",
       "      <td>2021-01-19 12:00:21</td>\n",
       "      <td>0.92</td>\n",
       "      <td>False</td>\n",
       "      <td>/r/wallstreetbets/comments/l0hnrw/daily_discus...</td>\n",
       "      <td>t3_l0hnrw</td>\n",
       "      <td>True</td>\n",
       "    </tr>\n",
       "    <tr>\n",
       "      <th>11353</th>\n",
       "      <td>Check out my New Strategy based on Volume</td>\n",
       "      <td>51</td>\n",
       "      <td>l0hqt1</td>\n",
       "      <td>https://www.reddit.com/r/wallstreetbets/commen...</td>\n",
       "      <td>30</td>\n",
       "      <td>1.611054e+09</td>\n",
       "      <td>Hello my fellow retards\\n\\nAs I already pointe...</td>\n",
       "      <td>2021-01-19 12:05:42</td>\n",
       "      <td>0.87</td>\n",
       "      <td>False</td>\n",
       "      <td>/r/wallstreetbets/comments/l0hqt1/check_out_my...</td>\n",
       "      <td>t3_l0hqt1</td>\n",
       "      <td>True</td>\n",
       "    </tr>\n",
       "    <tr>\n",
       "      <th>2798</th>\n",
       "      <td>For all the autists bored af the past few days...</td>\n",
       "      <td>232</td>\n",
       "      <td>l0hw41</td>\n",
       "      <td>https://www.youtube.com/watch?v=ZEcqHA7dbwM</td>\n",
       "      <td>25</td>\n",
       "      <td>1.611055e+09</td>\n",
       "      <td>NaN</td>\n",
       "      <td>2021-01-19 12:16:33</td>\n",
       "      <td>0.99</td>\n",
       "      <td>False</td>\n",
       "      <td>/r/wallstreetbets/comments/l0hw41/for_all_the_...</td>\n",
       "      <td>t3_l0hw41</td>\n",
       "      <td>False</td>\n",
       "    </tr>\n",
       "    <tr>\n",
       "      <th>33329</th>\n",
       "      <td>BB vs GME technical analysis</td>\n",
       "      <td>151</td>\n",
       "      <td>l0i42t</td>\n",
       "      <td>https://www.reddit.com/r/wallstreetbets/commen...</td>\n",
       "      <td>70</td>\n",
       "      <td>1.611056e+09</td>\n",
       "      <td>Is BB the next meme stock? From technical poin...</td>\n",
       "      <td>2021-01-19 12:32:49</td>\n",
       "      <td>0.85</td>\n",
       "      <td>False</td>\n",
       "      <td>/r/wallstreetbets/comments/l0i42t/bb_vs_gme_te...</td>\n",
       "      <td>t3_l0i42t</td>\n",
       "      <td>True</td>\n",
       "    </tr>\n",
       "    <tr>\n",
       "      <th>16202</th>\n",
       "      <td>Tendieman v3</td>\n",
       "      <td>3563</td>\n",
       "      <td>l0i84t</td>\n",
       "      <td>https://v.redd.it/po3wsz2b0ac61</td>\n",
       "      <td>141</td>\n",
       "      <td>1.611056e+09</td>\n",
       "      <td>NaN</td>\n",
       "      <td>2021-01-19 12:41:18</td>\n",
       "      <td>0.96</td>\n",
       "      <td>True</td>\n",
       "      <td>/r/wallstreetbets/comments/l0i84t/tendieman_v3/</td>\n",
       "      <td>t3_l0i84t</td>\n",
       "      <td>False</td>\n",
       "    </tr>\n",
       "  </tbody>\n",
       "</table>\n",
       "</div>"
      ],
      "text/plain": [
       "                                                   title  score      id  \\\n",
       "27381       Daily Discussion Thread for January 19, 2021    604  l0hnrw   \n",
       "11353          Check out my New Strategy based on Volume     51  l0hqt1   \n",
       "2798   For all the autists bored af the past few days...    232  l0hw41   \n",
       "33329                       BB vs GME technical analysis    151  l0i42t   \n",
       "16202                                       Tendieman v3   3563  l0i84t   \n",
       "\n",
       "                                                     url  comms_num  \\\n",
       "27381  https://www.reddit.com/r/wallstreetbets/commen...      23670   \n",
       "11353  https://www.reddit.com/r/wallstreetbets/commen...         30   \n",
       "2798         https://www.youtube.com/watch?v=ZEcqHA7dbwM         25   \n",
       "33329  https://www.reddit.com/r/wallstreetbets/commen...         70   \n",
       "16202                    https://v.redd.it/po3wsz2b0ac61        141   \n",
       "\n",
       "            created                                               body  \\\n",
       "27381  1.611054e+09  Your daily trading discussion thread. Please k...   \n",
       "11353  1.611054e+09  Hello my fellow retards\\n\\nAs I already pointe...   \n",
       "2798   1.611055e+09                                                NaN   \n",
       "33329  1.611056e+09  Is BB the next meme stock? From technical poin...   \n",
       "16202  1.611056e+09                                                NaN   \n",
       "\n",
       "                timestamp  upvote_ratio  is_oc  \\\n",
       "27381 2021-01-19 12:00:21          0.92  False   \n",
       "11353 2021-01-19 12:05:42          0.87  False   \n",
       "2798  2021-01-19 12:16:33          0.99  False   \n",
       "33329 2021-01-19 12:32:49          0.85  False   \n",
       "16202 2021-01-19 12:41:18          0.96   True   \n",
       "\n",
       "                                               permalink       name  is_self  \n",
       "27381  /r/wallstreetbets/comments/l0hnrw/daily_discus...  t3_l0hnrw     True  \n",
       "11353  /r/wallstreetbets/comments/l0hqt1/check_out_my...  t3_l0hqt1     True  \n",
       "2798   /r/wallstreetbets/comments/l0hw41/for_all_the_...  t3_l0hw41    False  \n",
       "33329  /r/wallstreetbets/comments/l0i42t/bb_vs_gme_te...  t3_l0i42t     True  \n",
       "16202    /r/wallstreetbets/comments/l0i84t/tendieman_v3/  t3_l0i84t    False  "
      ]
     },
     "execution_count": 7,
     "metadata": {},
     "output_type": "execute_result"
    }
   ],
   "source": [
    "time_df = df.sort_values(by='timestamp')\n",
    "time_df.head()"
   ]
  },
  {
   "cell_type": "code",
   "execution_count": 8,
   "metadata": {},
   "outputs": [
    {
     "name": "stdout",
     "output_type": "stream",
     "text": [
      "https://www.reddit.com/r/wallstreetbets/comments/l0hnrw/daily_discussion_thread_for_january_19_2021/\n"
     ]
    }
   ],
   "source": [
    "min_date = df['timestamp'].min()\n",
    "earliest_post_url = df.loc[ df['timestamp'] == min_date ]['url']\n",
    "print(earliest_post_url.values[0])"
   ]
  },
  {
   "cell_type": "code",
   "execution_count": 9,
   "metadata": {},
   "outputs": [],
   "source": [
    "# df_raw = df.copy()\n",
    "# df.drop(index=earliest_post_url.index[0], inplace=True)"
   ]
  },
  {
   "cell_type": "markdown",
   "metadata": {},
   "source": [
    "## Nan"
   ]
  },
  {
   "cell_type": "code",
   "execution_count": 10,
   "metadata": {},
   "outputs": [
    {
     "data": {
      "text/plain": [
       "title               0\n",
       "score               0\n",
       "id                  0\n",
       "url                 0\n",
       "comms_num           0\n",
       "created             0\n",
       "body            18205\n",
       "timestamp           0\n",
       "upvote_ratio        0\n",
       "is_oc               0\n",
       "permalink           0\n",
       "name                0\n",
       "is_self             0\n",
       "dtype: int64"
      ]
     },
     "execution_count": 10,
     "metadata": {},
     "output_type": "execute_result"
    }
   ],
   "source": [
    "df.isna().sum()"
   ]
  },
  {
   "cell_type": "markdown",
   "metadata": {},
   "source": [
    "## Stats"
   ]
  },
  {
   "cell_type": "code",
   "execution_count": 11,
   "metadata": {},
   "outputs": [
    {
     "data": {
      "text/html": [
       "<div>\n",
       "<style scoped>\n",
       "    .dataframe tbody tr th:only-of-type {\n",
       "        vertical-align: middle;\n",
       "    }\n",
       "\n",
       "    .dataframe tbody tr th {\n",
       "        vertical-align: top;\n",
       "    }\n",
       "\n",
       "    .dataframe thead th {\n",
       "        text-align: right;\n",
       "    }\n",
       "</style>\n",
       "<table border=\"1\" class=\"dataframe\">\n",
       "  <thead>\n",
       "    <tr style=\"text-align: right;\">\n",
       "      <th></th>\n",
       "      <th>score</th>\n",
       "      <th>comms_num</th>\n",
       "    </tr>\n",
       "  </thead>\n",
       "  <tbody>\n",
       "    <tr>\n",
       "      <th>count</th>\n",
       "      <td>38908.000000</td>\n",
       "      <td>38908.000000</td>\n",
       "    </tr>\n",
       "    <tr>\n",
       "      <th>mean</th>\n",
       "      <td>1067.872725</td>\n",
       "      <td>163.334456</td>\n",
       "    </tr>\n",
       "    <tr>\n",
       "      <th>std</th>\n",
       "      <td>8307.818756</td>\n",
       "      <td>2618.259934</td>\n",
       "    </tr>\n",
       "    <tr>\n",
       "      <th>min</th>\n",
       "      <td>0.000000</td>\n",
       "      <td>0.000000</td>\n",
       "    </tr>\n",
       "    <tr>\n",
       "      <th>25%</th>\n",
       "      <td>7.000000</td>\n",
       "      <td>2.000000</td>\n",
       "    </tr>\n",
       "    <tr>\n",
       "      <th>50%</th>\n",
       "      <td>22.000000</td>\n",
       "      <td>7.000000</td>\n",
       "    </tr>\n",
       "    <tr>\n",
       "      <th>75%</th>\n",
       "      <td>102.000000</td>\n",
       "      <td>23.000000</td>\n",
       "    </tr>\n",
       "    <tr>\n",
       "      <th>max</th>\n",
       "      <td>403161.000000</td>\n",
       "      <td>97996.000000</td>\n",
       "    </tr>\n",
       "  </tbody>\n",
       "</table>\n",
       "</div>"
      ],
      "text/plain": [
       "               score     comms_num\n",
       "count   38908.000000  38908.000000\n",
       "mean     1067.872725    163.334456\n",
       "std      8307.818756   2618.259934\n",
       "min         0.000000      0.000000\n",
       "25%         7.000000      2.000000\n",
       "50%        22.000000      7.000000\n",
       "75%       102.000000     23.000000\n",
       "max    403161.000000  97996.000000"
      ]
     },
     "execution_count": 11,
     "metadata": {},
     "output_type": "execute_result"
    }
   ],
   "source": [
    "df[['score', 'comms_num']].describe()"
   ]
  },
  {
   "cell_type": "code",
   "execution_count": 12,
   "metadata": {},
   "outputs": [
    {
     "data": {
      "text/html": [
       "<div>\n",
       "<style scoped>\n",
       "    .dataframe tbody tr th:only-of-type {\n",
       "        vertical-align: middle;\n",
       "    }\n",
       "\n",
       "    .dataframe tbody tr th {\n",
       "        vertical-align: top;\n",
       "    }\n",
       "\n",
       "    .dataframe thead th {\n",
       "        text-align: right;\n",
       "    }\n",
       "</style>\n",
       "<table border=\"1\" class=\"dataframe\">\n",
       "  <thead>\n",
       "    <tr style=\"text-align: right;\">\n",
       "      <th></th>\n",
       "      <th>title</th>\n",
       "      <th>body</th>\n",
       "    </tr>\n",
       "  </thead>\n",
       "  <tbody>\n",
       "    <tr>\n",
       "      <th>count</th>\n",
       "      <td>38908</td>\n",
       "      <td>20703</td>\n",
       "    </tr>\n",
       "    <tr>\n",
       "      <th>unique</th>\n",
       "      <td>37433</td>\n",
       "      <td>19543</td>\n",
       "    </tr>\n",
       "    <tr>\n",
       "      <th>top</th>\n",
       "      <td>AMC</td>\n",
       "      <td>[deleted]</td>\n",
       "    </tr>\n",
       "    <tr>\n",
       "      <th>freq</th>\n",
       "      <td>70</td>\n",
       "      <td>600</td>\n",
       "    </tr>\n",
       "  </tbody>\n",
       "</table>\n",
       "</div>"
      ],
      "text/plain": [
       "        title       body\n",
       "count   38908      20703\n",
       "unique  37433      19543\n",
       "top       AMC  [deleted]\n",
       "freq       70        600"
      ]
     },
     "execution_count": 12,
     "metadata": {},
     "output_type": "execute_result"
    }
   ],
   "source": [
    "df[['title', 'body']].describe()"
   ]
  },
  {
   "cell_type": "markdown",
   "metadata": {},
   "source": [
    "## Histograms"
   ]
  },
  {
   "cell_type": "code",
   "execution_count": 13,
   "metadata": {},
   "outputs": [],
   "source": [
    "def plot_hist(col):\n",
    "    plt.figure(figsize=(14,6))\n",
    "    plt.hist(df[col], bins=100)\n",
    "    plt.plot()"
   ]
  },
  {
   "cell_type": "code",
   "execution_count": 14,
   "metadata": {},
   "outputs": [
    {
     "data": {
      "image/png": "[encoded data removed]",
      "text/plain": [
       "<Figure size 1008x432 with 1 Axes>"
      ]
     },
     "metadata": {
      "needs_background": "light"
     },
     "output_type": "display_data"
    }
   ],
   "source": [
    "plot_hist('score')"
   ]
  },
  {
   "cell_type": "code",
   "execution_count": 15,
   "metadata": {},
   "outputs": [
    {
     "data": {
      "image/png": "[encoded data removed]",
      "text/plain": [
       "<Figure size 1008x432 with 1 Axes>"
      ]
     },
     "metadata": {
      "needs_background": "light"
     },
     "output_type": "display_data"
    }
   ],
   "source": [
    "plot_hist('comms_num')"
   ]
  },
  {
   "cell_type": "markdown",
   "metadata": {},
   "source": [
    "## Created"
   ]
  },
  {
   "cell_type": "code",
   "execution_count": 16,
   "metadata": {},
   "outputs": [],
   "source": [
    "df['date'] = df['timestamp'].apply(lambda x: x.date())"
   ]
  },
  {
   "cell_type": "code",
   "execution_count": 17,
   "metadata": {},
   "outputs": [],
   "source": [
    "df['created_datetime'] = df['created'].apply(lambda x: datetime.datetime.utcfromtimestamp(x))"
   ]
  },
  {
   "cell_type": "code",
   "execution_count": 18,
   "metadata": {},
   "outputs": [
    {
     "data": {
      "text/html": [
       "<div>\n",
       "<style scoped>\n",
       "    .dataframe tbody tr th:only-of-type {\n",
       "        vertical-align: middle;\n",
       "    }\n",
       "\n",
       "    .dataframe tbody tr th {\n",
       "        vertical-align: top;\n",
       "    }\n",
       "\n",
       "    .dataframe thead th {\n",
       "        text-align: right;\n",
       "    }\n",
       "</style>\n",
       "<table border=\"1\" class=\"dataframe\">\n",
       "  <thead>\n",
       "    <tr style=\"text-align: right;\">\n",
       "      <th></th>\n",
       "      <th>created_datetime</th>\n",
       "      <th>timestamp</th>\n",
       "    </tr>\n",
       "  </thead>\n",
       "  <tbody>\n",
       "    <tr>\n",
       "      <th>0</th>\n",
       "      <td>2021-01-27 17:18:38</td>\n",
       "      <td>2021-01-27 18:18:38</td>\n",
       "    </tr>\n",
       "    <tr>\n",
       "      <th>1</th>\n",
       "      <td>2021-01-29 23:12:20</td>\n",
       "      <td>2021-01-30 00:12:20</td>\n",
       "    </tr>\n",
       "    <tr>\n",
       "      <th>2</th>\n",
       "      <td>2021-02-04 05:17:59</td>\n",
       "      <td>2021-02-04 06:17:59</td>\n",
       "    </tr>\n",
       "    <tr>\n",
       "      <th>3</th>\n",
       "      <td>2021-01-28 16:35:13</td>\n",
       "      <td>2021-01-28 17:35:13</td>\n",
       "    </tr>\n",
       "    <tr>\n",
       "      <th>4</th>\n",
       "      <td>2021-01-28 15:45:57</td>\n",
       "      <td>2021-01-28 16:45:57</td>\n",
       "    </tr>\n",
       "    <tr>\n",
       "      <th>...</th>\n",
       "      <td>...</td>\n",
       "      <td>...</td>\n",
       "    </tr>\n",
       "    <tr>\n",
       "      <th>38903</th>\n",
       "      <td>2021-01-27 18:32:50</td>\n",
       "      <td>2021-01-27 19:32:50</td>\n",
       "    </tr>\n",
       "    <tr>\n",
       "      <th>38904</th>\n",
       "      <td>2021-01-28 15:15:16</td>\n",
       "      <td>2021-01-28 16:15:16</td>\n",
       "    </tr>\n",
       "    <tr>\n",
       "      <th>38905</th>\n",
       "      <td>2021-01-28 16:09:14</td>\n",
       "      <td>2021-01-28 17:09:14</td>\n",
       "    </tr>\n",
       "    <tr>\n",
       "      <th>38906</th>\n",
       "      <td>2021-02-04 14:20:37</td>\n",
       "      <td>2021-02-04 15:20:37</td>\n",
       "    </tr>\n",
       "    <tr>\n",
       "      <th>38907</th>\n",
       "      <td>2021-01-30 06:15:12</td>\n",
       "      <td>2021-01-30 07:15:12</td>\n",
       "    </tr>\n",
       "  </tbody>\n",
       "</table>\n",
       "<p>38908 rows × 2 columns</p>\n",
       "</div>"
      ],
      "text/plain": [
       "         created_datetime           timestamp\n",
       "0     2021-01-27 17:18:38 2021-01-27 18:18:38\n",
       "1     2021-01-29 23:12:20 2021-01-30 00:12:20\n",
       "2     2021-02-04 05:17:59 2021-02-04 06:17:59\n",
       "3     2021-01-28 16:35:13 2021-01-28 17:35:13\n",
       "4     2021-01-28 15:45:57 2021-01-28 16:45:57\n",
       "...                   ...                 ...\n",
       "38903 2021-01-27 18:32:50 2021-01-27 19:32:50\n",
       "38904 2021-01-28 15:15:16 2021-01-28 16:15:16\n",
       "38905 2021-01-28 16:09:14 2021-01-28 17:09:14\n",
       "38906 2021-02-04 14:20:37 2021-02-04 15:20:37\n",
       "38907 2021-01-30 06:15:12 2021-01-30 07:15:12\n",
       "\n",
       "[38908 rows x 2 columns]"
      ]
     },
     "execution_count": 18,
     "metadata": {},
     "output_type": "execute_result"
    }
   ],
   "source": [
    "df[['created_datetime', 'timestamp']]"
   ]
  },
  {
   "cell_type": "code",
   "execution_count": 19,
   "metadata": {},
   "outputs": [
    {
     "data": {
      "text/plain": [
       "0 days 01:00:00    38908\n",
       "dtype: int64"
      ]
     },
     "execution_count": 19,
     "metadata": {},
     "output_type": "execute_result"
    }
   ],
   "source": [
    "diff = df['timestamp'] - df['created_datetime']\n",
    "diff.value_counts()"
   ]
  },
  {
   "cell_type": "code",
   "execution_count": 20,
   "metadata": {},
   "outputs": [],
   "source": [
    "df.drop(['created_datetime', 'created'], axis=1, inplace=True)"
   ]
  },
  {
   "cell_type": "markdown",
   "metadata": {},
   "source": [
    "## Plots"
   ]
  },
  {
   "cell_type": "code",
   "execution_count": 21,
   "metadata": {},
   "outputs": [],
   "source": [
    "avg_1_day = df[['score', 'comms_num', 'date']].groupby('date').mean()\n",
    "avg_1_day['date'] = avg_1_day.index"
   ]
  },
  {
   "cell_type": "code",
   "execution_count": 22,
   "metadata": {},
   "outputs": [
    {
     "data": {
      "text/plain": [
       "[]"
      ]
     },
     "execution_count": 22,
     "metadata": {},
     "output_type": "execute_result"
    },
    {
     "data": {
      "image/png": "[encoded data removed]",
      "text/plain": [
       "<Figure size 1296x720 with 1 Axes>"
      ]
     },
     "metadata": {
      "needs_background": "light"
     },
     "output_type": "display_data"
    }
   ],
   "source": [
    "plt.figure(figsize=(18,10))\n",
    "plt.title(\"1-day average for score\")\n",
    "sns.barplot(data=avg_1_day, x='date', y='score', color='b', label='Score')\n",
    "plt.legend()\n",
    "plt.xticks(rotation=45)\n",
    "plt.plot()"
   ]
  },
  {
   "cell_type": "code",
   "execution_count": 23,
   "metadata": {},
   "outputs": [
    {
     "data": {
      "text/plain": [
       "[]"
      ]
     },
     "execution_count": 23,
     "metadata": {},
     "output_type": "execute_result"
    },
    {
     "data": {
      "image/png": "[encoded data removed]",
      "text/plain": [
       "<Figure size 1296x720 with 1 Axes>"
      ]
     },
     "metadata": {
      "needs_background": "light"
     },
     "output_type": "display_data"
    }
   ],
   "source": [
    "plt.figure(figsize=(18,10))\n",
    "plt.title(\"1-day average for comments\")\n",
    "sns.barplot(data=avg_1_day, x='date', y='comms_num', color='r', label='Comments')\n",
    "plt.legend()\n",
    "plt.xticks(rotation=45)\n",
    "plt.plot()"
   ]
  },
  {
   "cell_type": "code",
   "execution_count": 24,
   "metadata": {},
   "outputs": [
    {
     "data": {
      "text/plain": [
       "[]"
      ]
     },
     "execution_count": 24,
     "metadata": {},
     "output_type": "execute_result"
    },
    {
     "data": {
      "image/png": "[encoded data removed]",
      "text/plain": [
       "<Figure size 1296x720 with 1 Axes>"
      ]
     },
     "metadata": {
      "needs_background": "light"
     },
     "output_type": "display_data"
    }
   ],
   "source": [
    "daily_counts = df['date'].value_counts().sort_index()\n",
    "\n",
    "plt.figure(figsize=(18,10))\n",
    "plt.title(\"Number of posts each day\")\n",
    "sns.barplot(daily_counts.index, daily_counts.values, color='g')\n",
    "plt.xticks(rotation=45)\n",
    "plt.plot()"
   ]
  },
  {
   "cell_type": "markdown",
   "metadata": {},
   "source": [
    "## Weekday"
   ]
  },
  {
   "cell_type": "code",
   "execution_count": 25,
   "metadata": {},
   "outputs": [
    {
     "data": {
      "text/plain": [
       "[]"
      ]
     },
     "execution_count": 25,
     "metadata": {},
     "output_type": "execute_result"
    },
    {
     "data": {
      "image/png": "[encoded data removed]",
      "text/plain": [
       "<Figure size 1296x720 with 1 Axes>"
      ]
     },
     "metadata": {
      "needs_background": "light"
     },
     "output_type": "display_data"
    }
   ],
   "source": [
    "weekday = df['score'].groupby(df['timestamp'].dt.weekday).count()\n",
    "\n",
    "plt.figure(figsize=(18,10))\n",
    "plt.title(\"Number of posts for every day of week\")\n",
    "sns.barplot(weekday.index, weekday.values, color='m')\n",
    "plt.plot()"
   ]
  },
  {
   "cell_type": "markdown",
   "metadata": {},
   "source": [
    "### Odfiltrowanie wartości z 28.01 i 27.01"
   ]
  },
  {
   "cell_type": "code",
   "execution_count": 26,
   "metadata": {},
   "outputs": [
    {
     "data": {
      "text/plain": [
       "[]"
      ]
     },
     "execution_count": 26,
     "metadata": {},
     "output_type": "execute_result"
    },
    {
     "data": {
      "image/png": "[encoded data removed]",
      "text/plain": [
       "<Figure size 1296x720 with 1 Axes>"
      ]
     },
     "metadata": {
      "needs_background": "light"
     },
     "output_type": "display_data"
    }
   ],
   "source": [
    "weekday_filtered = df['score'].loc[ (df['date'] != datetime.date(2021,1,28)) & (df['date'] != datetime.date(2021,1,27)) ].groupby(df['timestamp'].dt.weekday).count()\n",
    "\n",
    "plt.figure(figsize=(18,10))\n",
    "plt.title(\"Number of posts for every day of week\")\n",
    "sns.barplot(weekday_filtered.index, weekday_filtered.values, color='m')\n",
    "plt.plot()"
   ]
  },
  {
   "cell_type": "markdown",
   "metadata": {},
   "source": [
    "## Hour"
   ]
  },
  {
   "cell_type": "code",
   "execution_count": 27,
   "metadata": {},
   "outputs": [
    {
     "data": {
      "text/plain": [
       "[]"
      ]
     },
     "execution_count": 27,
     "metadata": {},
     "output_type": "execute_result"
    },
    {
     "data": {
      "image/png": "[encoded data removed]",
      "text/plain": [
       "<Figure size 1296x720 with 1 Axes>"
      ]
     },
     "metadata": {
      "needs_background": "light"
     },
     "output_type": "display_data"
    }
   ],
   "source": [
    "hourly = df['score'].groupby(df['timestamp'].dt.hour).count()\n",
    "\n",
    "plt.figure(figsize=(18,10))\n",
    "plt.title(\"Number of posts for every hour\")\n",
    "sns.barplot(hourly.index, hourly.values, color='g')\n",
    "plt.xticks(rotation=45)\n",
    "plt.plot()"
   ]
  },
  {
   "cell_type": "code",
   "execution_count": 28,
   "metadata": {},
   "outputs": [
    {
     "data": {
      "text/plain": [
       "[]"
      ]
     },
     "execution_count": 28,
     "metadata": {},
     "output_type": "execute_result"
    },
    {
     "data": {
      "image/png": "[encoded data removed]",
      "text/plain": [
       "<Figure size 1296x720 with 1 Axes>"
      ]
     },
     "metadata": {
      "needs_background": "light"
     },
     "output_type": "display_data"
    }
   ],
   "source": [
    "hourly_filtered = df['score'].loc[ (df['date'] != datetime.date(2021,1,28)) & (df['date'] != datetime.date(2021,1,27)) ].groupby(df['timestamp'].dt.hour).count()\n",
    "\n",
    "plt.figure(figsize=(18,10))\n",
    "plt.title(\"Number of posts for every hour\")\n",
    "sns.barplot(hourly_filtered.index, hourly_filtered.values, color='g')\n",
    "plt.xticks(rotation=45)\n",
    "plt.plot()"
   ]
  },
  {
   "cell_type": "code",
   "execution_count": 29,
   "metadata": {},
   "outputs": [
    {
     "data": {
      "text/plain": [
       "[]"
      ]
     },
     "execution_count": 29,
     "metadata": {},
     "output_type": "execute_result"
    },
    {
     "data": {
      "image/png": "[encoded data removed]",
      "text/plain": [
       "<Figure size 1296x720 with 1 Axes>"
      ]
     },
     "metadata": {
      "needs_background": "light"
     },
     "output_type": "display_data"
    }
   ],
   "source": [
    "hourly_data = df[['score', 'comms_num']].groupby(df['timestamp'].dt.hour).mean()\n",
    "hourly_data_filtered = df[['score', 'comms_num']].loc[ (df['date'] != datetime.date(2021,1,28)) & (df['date'] != datetime.date(2021,1,27)) ].groupby(df['timestamp'].dt.hour).mean()\n",
    "\n",
    "plt.figure(figsize=(18,10))\n",
    "plt.title(\"Hourly score and comments\")\n",
    "sns.barplot(data=hourly_data, x=hourly_data.index, y='score', color='b', label='Score')\n",
    "plt.legend()\n",
    "plt.xticks(rotation=45)\n",
    "plt.plot()"
   ]
  },
  {
   "cell_type": "code",
   "execution_count": 30,
   "metadata": {},
   "outputs": [
    {
     "data": {
      "text/plain": [
       "[]"
      ]
     },
     "execution_count": 30,
     "metadata": {},
     "output_type": "execute_result"
    },
    {
     "data": {
      "image/png": "[encoded data removed]",
      "text/plain": [
       "<Figure size 1296x720 with 1 Axes>"
      ]
     },
     "metadata": {
      "needs_background": "light"
     },
     "output_type": "display_data"
    }
   ],
   "source": [
    "plt.figure(figsize=(18,10))\n",
    "plt.title(\"Hourly score and comments\")\n",
    "sns.barplot(data=hourly_data_filtered, x=hourly_data_filtered.index, y='score', color='b', label='Score')\n",
    "plt.legend()\n",
    "plt.xticks(rotation=45)\n",
    "plt.plot()"
   ]
  },
  {
   "cell_type": "code",
   "execution_count": 31,
   "metadata": {},
   "outputs": [
    {
     "data": {
      "text/plain": [
       "[]"
      ]
     },
     "execution_count": 31,
     "metadata": {},
     "output_type": "execute_result"
    },
    {
     "data": {
      "image/png": "[encoded data removed]",
      "text/plain": [
       "<Figure size 1296x720 with 1 Axes>"
      ]
     },
     "metadata": {
      "needs_background": "light"
     },
     "output_type": "display_data"
    }
   ],
   "source": [
    "plt.figure(figsize=(18,10))\n",
    "plt.title(\"Hourly comments\")\n",
    "sns.barplot(data=hourly_data, x=hourly_data.index, y='comms_num', color='r', label='Comments')\n",
    "plt.legend()\n",
    "plt.xticks(rotation=45)\n",
    "plt.plot()"
   ]
  },
  {
   "cell_type": "code",
   "execution_count": 32,
   "metadata": {},
   "outputs": [
    {
     "data": {
      "text/plain": [
       "[]"
      ]
     },
     "execution_count": 32,
     "metadata": {},
     "output_type": "execute_result"
    },
    {
     "data": {
      "image/png": "[encoded data removed]",
      "text/plain": [
       "<Figure size 1296x720 with 1 Axes>"
      ]
     },
     "metadata": {
      "needs_background": "light"
     },
     "output_type": "display_data"
    }
   ],
   "source": [
    "plt.figure(figsize=(18,10))\n",
    "plt.title(\"Hourly comments\")\n",
    "sns.barplot(data=hourly_data_filtered, x=hourly_data_filtered.index, y='comms_num', color='r', label='Comments')\n",
    "plt.legend()\n",
    "plt.xticks(rotation=45)\n",
    "plt.plot()"
   ]
  },
  {
   "cell_type": "markdown",
   "metadata": {},
   "source": [
    "## NLP"
   ]
  },
  {
   "cell_type": "code",
   "execution_count": 33,
   "metadata": {},
   "outputs": [],
   "source": [
    "import spacy\n",
    "import nltk\n",
    "import re\n",
    "\n",
    "from nltk.stem.porter import *"
   ]
  },
  {
   "cell_type": "code",
   "execution_count": 34,
   "metadata": {},
   "outputs": [],
   "source": [
    "nlp = spacy.load(\"en_core_web_sm\")"
   ]
  },
  {
   "cell_type": "code",
   "execution_count": 35,
   "metadata": {},
   "outputs": [],
   "source": [
    "def transform_entities(x):\n",
    "    if type(x) == spacy.tokens.doc.Doc:\n",
    "        return x.ents\n",
    "    return x"
   ]
  },
  {
   "cell_type": "code",
   "execution_count": 36,
   "metadata": {},
   "outputs": [],
   "source": [
    "def lemmatization(x):\n",
    "    if type(x) == spacy.tokens.doc.Doc:\n",
    "        return [token.lemma_ for token in x if not token.is_stop and token.is_alpha]\n",
    "    return x"
   ]
  },
  {
   "cell_type": "code",
   "execution_count": 37,
   "metadata": {},
   "outputs": [],
   "source": [
    "df['title'] = df['title'].apply(lambda x: nlp(x))\n",
    "df['title_raw'] = df['title']\n",
    "df['title'] = df['title'].apply(lemmatization)"
   ]
  },
  {
   "cell_type": "code",
   "execution_count": 38,
   "metadata": {},
   "outputs": [],
   "source": [
    "df['body'] = df['body'].apply(lambda x: nlp(x) if type(x) == str else x)\n",
    "df['body_raw'] = df['body']\n",
    "df['body'] = df['body'].apply(lemmatization)"
   ]
  },
  {
   "cell_type": "markdown",
   "metadata": {},
   "source": [
    "## Attributes"
   ]
  },
  {
   "cell_type": "code",
   "execution_count": 39,
   "metadata": {},
   "outputs": [],
   "source": [
    "def type_check(x):\n",
    "    return type(x) == spacy.tokens.doc.Doc\n",
    "\n",
    "def get_punct(x):\n",
    "    if type_check(x):\n",
    "        for token in x:\n",
    "            if token.pos_ == 'PUNCT':\n",
    "                return 1\n",
    "    return 0\n",
    "\n",
    "def get_caps(x):\n",
    "    if type_check(x):\n",
    "        caps_perc = 0\n",
    "        title_len = 0\n",
    "        for token in x:\n",
    "            title_len += len(token.shape_)\n",
    "            caps_perc += token.shape_.count('X')\n",
    "        return caps_perc / title_len\n",
    "    return 0.0\n",
    "\n",
    "\n",
    "def get_urls(x):\n",
    "    if type_check(x):\n",
    "        urls = 0\n",
    "        for token in x:\n",
    "            if 'https' in str(token):\n",
    "                urls += 1\n",
    "        return urls\n",
    "    return 0\n",
    "\n",
    "def get_type(x):\n",
    "    if 'v.redd' in x or 'youtube' in x or 'vimeo' in x:\n",
    "        return 'video'\n",
    "    if 'i.redd' in x or 'gallery' in x or 'imgur' in x:\n",
    "        return 'image'\n",
    "    if 'reddit' in x:\n",
    "        return 'text'\n",
    "    return 'other'\n",
    "\n",
    "def get_features(df):\n",
    "    df['title_length'] = df['title_raw'].apply(lambda x: len(x))\n",
    "    df['title_capital'] = df['title_raw'].apply(get_caps)\n",
    "    df['body_length'] = df['body_raw'].apply(lambda x: len(x) if type_check(x) else x)\n",
    "    df['body_urls'] = df['body_raw'].apply(get_urls)\n",
    "    df['body_punct'] = df['body_raw'].apply(get_punct)\n",
    "    df['type'] = df['url'].apply(get_type)\n",
    "    df['deleted'] = (df['type'] == 'text') & df['body'].isna()\n",
    "    return df"
   ]
  },
  {
   "cell_type": "code",
   "execution_count": 40,
   "metadata": {},
   "outputs": [],
   "source": [
    "df = get_features(df)"
   ]
  },
  {
   "cell_type": "code",
   "execution_count": 41,
   "metadata": {},
   "outputs": [],
   "source": [
    "import emoji\n",
    "\n",
    "EMOJIS = r\"(\\:[^ ][a-zA-Z0-9\\s\\_]*\\:)\"    \n",
    "\n",
    "def get_emojis(x):\n",
    "    res = re.findall(EMOJIS, x)\n",
    "    return res\n",
    "\n",
    "def decode_emojis(x):\n",
    "    decoded = emoji.demojize(str(x))\n",
    "    decoded = decoded.replace('::', ' ')\n",
    "    emojis = get_emojis(decoded)\n",
    "    \n",
    "    emoji_list = []\n",
    "    for emo in emojis:\n",
    "        emo = emo.replace(':', '')\n",
    "        emo = emo.split(\" \")\n",
    "        \n",
    "        if type(emo) == list:\n",
    "            emoji_list.extend(emo)\n",
    "        else:\n",
    "            emoji_list.append(emo)\n",
    "        \n",
    "    return emoji_list"
   ]
  },
  {
   "cell_type": "code",
   "execution_count": 42,
   "metadata": {},
   "outputs": [],
   "source": [
    "df['title_emojis'] = df['title_raw'].apply(decode_emojis)\n",
    "df['body_emojis'] = df['body_raw'].apply(decode_emojis)"
   ]
  },
  {
   "cell_type": "code",
   "execution_count": 43,
   "metadata": {},
   "outputs": [],
   "source": [
    "df['title'] += df['title_emojis']\n",
    "df['body'] += df['body_emojis']"
   ]
  },
  {
   "cell_type": "code",
   "execution_count": 44,
   "metadata": {},
   "outputs": [],
   "source": [
    "df.drop(['title_emojis', 'body_emojis'], axis=1, inplace=True)"
   ]
  },
  {
   "cell_type": "code",
   "execution_count": 45,
   "metadata": {},
   "outputs": [],
   "source": [
    "from collections import Counter\n",
    "\n",
    "def get_vocab(data, n):\n",
    "    words = Counter()\n",
    "    for i in data.index:\n",
    "        words.update(data.at[i])\n",
    "\n",
    "    return words"
   ]
  },
  {
   "cell_type": "code",
   "execution_count": 46,
   "metadata": {},
   "outputs": [],
   "source": [
    "df['body'] = df['body'].fillna(value='')\n",
    "vocab = get_vocab(df['body'], 1000)"
   ]
  },
  {
   "cell_type": "code",
   "execution_count": 47,
   "metadata": {},
   "outputs": [],
   "source": [
    "def show_histogram(word_counts, title=None):\n",
    "    plot_df = pd.DataFrame.from_dict(word_counts).rename(columns={0:'Token', 1:'Count'})\n",
    "    \n",
    "    f, ax = plt.subplots(figsize=(12, 15))\n",
    "    p = sns.barplot(x=\"Count\", y=\"Token\", data=plot_df, color=\"b\")\n",
    "    p.set(xlabel=\"Count\", ylabel=\"\", title=title)"
   ]
  },
  {
   "cell_type": "code",
   "execution_count": 48,
   "metadata": {},
   "outputs": [
    {
     "data": {
      "image/png": "[encoded data removed]",
      "text/plain": [
       "<Figure size 864x1080 with 1 Axes>"
      ]
     },
     "metadata": {
      "needs_background": "light"
     },
     "output_type": "display_data"
    }
   ],
   "source": [
    "show_histogram(vocab.most_common(50))"
   ]
  },
  {
   "cell_type": "code",
   "execution_count": 49,
   "metadata": {},
   "outputs": [],
   "source": [
    "def bag_of_words(x, most_freq):\n",
    "    sent_vec = []\n",
    "    for token in most_freq:\n",
    "        if token in x:\n",
    "            sent_vec.append(1)\n",
    "        else:\n",
    "            sent_vec.append(0)\n",
    "    return sent_vec"
   ]
  },
  {
   "cell_type": "code",
   "execution_count": 50,
   "metadata": {},
   "outputs": [],
   "source": [
    "feature_dict = [key for key, _ in vocab.most_common(200)]\n",
    "\n",
    "df['body_bow'] = df['body'].apply(lambda x: bag_of_words(x, feature_dict))"
   ]
  },
  {
   "cell_type": "markdown",
   "metadata": {},
   "source": [
    "#### Title - bag of words"
   ]
  },
  {
   "cell_type": "code",
   "execution_count": 51,
   "metadata": {},
   "outputs": [
    {
     "data": {
      "image/png": "[encoded data removed]",
      "text/plain": [
       "<Figure size 864x1080 with 1 Axes>"
      ]
     },
     "metadata": {
      "needs_background": "light"
     },
     "output_type": "display_data"
    }
   ],
   "source": [
    "df['title'] = df['title'].fillna(value='')\n",
    "vocab = get_vocab(df['title'], 1000)\n",
    "show_histogram(vocab.most_common(50))"
   ]
  },
  {
   "cell_type": "code",
   "execution_count": 52,
   "metadata": {},
   "outputs": [],
   "source": [
    "feature_dict = [key for key, _ in vocab.most_common(200)]\n",
    "\n",
    "df['title_bow'] = df['title'].apply(lambda x: bag_of_words(x, feature_dict))"
   ]
  },
  {
   "cell_type": "code",
   "execution_count": 53,
   "metadata": {},
   "outputs": [
    {
     "data": {
      "text/html": [
       "<div>\n",
       "<style scoped>\n",
       "    .dataframe tbody tr th:only-of-type {\n",
       "        vertical-align: middle;\n",
       "    }\n",
       "\n",
       "    .dataframe tbody tr th {\n",
       "        vertical-align: top;\n",
       "    }\n",
       "\n",
       "    .dataframe thead th {\n",
       "        text-align: right;\n",
       "    }\n",
       "</style>\n",
       "<table border=\"1\" class=\"dataframe\">\n",
       "  <thead>\n",
       "    <tr style=\"text-align: right;\">\n",
       "      <th></th>\n",
       "      <th>title</th>\n",
       "      <th>score</th>\n",
       "      <th>id</th>\n",
       "      <th>url</th>\n",
       "      <th>comms_num</th>\n",
       "      <th>body</th>\n",
       "      <th>timestamp</th>\n",
       "      <th>upvote_ratio</th>\n",
       "      <th>is_oc</th>\n",
       "      <th>permalink</th>\n",
       "      <th>...</th>\n",
       "      <th>body_raw</th>\n",
       "      <th>title_length</th>\n",
       "      <th>title_capital</th>\n",
       "      <th>body_length</th>\n",
       "      <th>body_urls</th>\n",
       "      <th>body_punct</th>\n",
       "      <th>type</th>\n",
       "      <th>deleted</th>\n",
       "      <th>body_bow</th>\n",
       "      <th>title_bow</th>\n",
       "    </tr>\n",
       "  </thead>\n",
       "  <tbody>\n",
       "    <tr>\n",
       "      <th>0</th>\n",
       "      <td>[manipulation, happen, different, platform, cr...</td>\n",
       "      <td>4</td>\n",
       "      <td>l69fvk</td>\n",
       "      <td>https://www.reddit.com/r/wallstreetbets/commen...</td>\n",
       "      <td>2</td>\n",
       "      <td>[trading, platform, disable, ability, buy, sel...</td>\n",
       "      <td>2021-01-27 18:18:38</td>\n",
       "      <td>0.75</td>\n",
       "      <td>False</td>\n",
       "      <td>/r/wallstreetbets/comments/l69fvk/due_to_all_t...</td>\n",
       "      <td>...</td>\n",
       "      <td>(Many, trading, platforms, have, disabled, the...</td>\n",
       "      <td>18</td>\n",
       "      <td>0.068966</td>\n",
       "      <td>29.0</td>\n",
       "      <td>0</td>\n",
       "      <td>1</td>\n",
       "      <td>text</td>\n",
       "      <td>False</td>\n",
       "      <td>[1, 0, 1, 0, 1, 0, 0, 1, 0, 0, 0, 0, 0, 0, 0, ...</td>\n",
       "      <td>[0, 0, 0, 0, 0, 0, 0, 0, 0, 0, 0, 0, 0, 0, 0, ...</td>\n",
       "    </tr>\n",
       "    <tr>\n",
       "      <th>1</th>\n",
       "      <td>[hold, GME, till, squeeze, squoze]</td>\n",
       "      <td>1157</td>\n",
       "      <td>l87ci6</td>\n",
       "      <td>https://i.redd.it/20f2x4ehsce61.png</td>\n",
       "      <td>85</td>\n",
       "      <td></td>\n",
       "      <td>2021-01-30 00:12:20</td>\n",
       "      <td>0.99</td>\n",
       "      <td>False</td>\n",
       "      <td>/r/wallstreetbets/comments/l87ci6/holding_gme_...</td>\n",
       "      <td>...</td>\n",
       "      <td>NaN</td>\n",
       "      <td>9</td>\n",
       "      <td>0.117647</td>\n",
       "      <td>NaN</td>\n",
       "      <td>0</td>\n",
       "      <td>0</td>\n",
       "      <td>image</td>\n",
       "      <td>False</td>\n",
       "      <td>[0, 0, 0, 0, 0, 0, 0, 0, 0, 0, 0, 0, 0, 0, 0, ...</td>\n",
       "      <td>[0, 1, 1, 0, 0, 0, 0, 0, 0, 0, 0, 0, 0, 0, 0, ...</td>\n",
       "    </tr>\n",
       "    <tr>\n",
       "      <th>2</th>\n",
       "      <td>[go, long, dick]</td>\n",
       "      <td>0</td>\n",
       "      <td>lc8dnh</td>\n",
       "      <td>https://www.reddit.com/r/wallstreetbets/commen...</td>\n",
       "      <td>7</td>\n",
       "      <td>[month, ago, find, big, dick, thank, UK, newsp...</td>\n",
       "      <td>2021-02-04 06:17:59</td>\n",
       "      <td>0.39</td>\n",
       "      <td>False</td>\n",
       "      <td>/r/wallstreetbets/comments/lc8dnh/going_long_o...</td>\n",
       "      <td>...</td>\n",
       "      <td>(A, month, ago, I, found, out, that, I, have, ...</td>\n",
       "      <td>5</td>\n",
       "      <td>0.058824</td>\n",
       "      <td>155.0</td>\n",
       "      <td>0</td>\n",
       "      <td>1</td>\n",
       "      <td>text</td>\n",
       "      <td>False</td>\n",
       "      <td>[0, 0, 0, 0, 0, 0, 0, 0, 1, 0, 0, 0, 0, 0, 0, ...</td>\n",
       "      <td>[0, 0, 0, 0, 0, 0, 0, 0, 0, 0, 0, 1, 0, 0, 0, ...</td>\n",
       "    </tr>\n",
       "    <tr>\n",
       "      <th>3</th>\n",
       "      <td>[TASTYWORKS, set, certain, stock, close]</td>\n",
       "      <td>3</td>\n",
       "      <td>l71knz</td>\n",
       "      <td>https://www.reddit.com/r/wallstreetbets/commen...</td>\n",
       "      <td>0</td>\n",
       "      <td>[Apex, Clearing, act, custodian, tastywork, ac...</td>\n",
       "      <td>2021-01-28 17:35:13</td>\n",
       "      <td>1.00</td>\n",
       "      <td>False</td>\n",
       "      <td>/r/wallstreetbets/comments/l71knz/tastyworks_i...</td>\n",
       "      <td>...</td>\n",
       "      <td>(\", Apex, Clearing, ,, who, acts, as, the, cus...</td>\n",
       "      <td>11</td>\n",
       "      <td>0.941176</td>\n",
       "      <td>110.0</td>\n",
       "      <td>0</td>\n",
       "      <td>1</td>\n",
       "      <td>text</td>\n",
       "      <td>False</td>\n",
       "      <td>[1, 1, 0, 0, 0, 1, 0, 0, 0, 0, 0, 0, 0, 0, 0, ...</td>\n",
       "      <td>[0, 0, 0, 0, 0, 0, 0, 0, 1, 0, 0, 0, 0, 0, 0, ...</td>\n",
       "    </tr>\n",
       "    <tr>\n",
       "      <th>4</th>\n",
       "      <td>[help, dumbas, FUCKING, question]</td>\n",
       "      <td>4</td>\n",
       "      <td>l70720</td>\n",
       "      <td>https://www.reddit.com/r/wallstreetbets/commen...</td>\n",
       "      <td>7</td>\n",
       "      <td>[follow, couple, year, start, buy, day, plan, ...</td>\n",
       "      <td>2021-01-28 16:45:57</td>\n",
       "      <td>0.70</td>\n",
       "      <td>False</td>\n",
       "      <td>/r/wallstreetbets/comments/l70720/please_help_...</td>\n",
       "      <td>...</td>\n",
       "      <td>(I\\u2019ve, been, following, for, a, couple, y...</td>\n",
       "      <td>8</td>\n",
       "      <td>1.000000</td>\n",
       "      <td>41.0</td>\n",
       "      <td>0</td>\n",
       "      <td>1</td>\n",
       "      <td>text</td>\n",
       "      <td>False</td>\n",
       "      <td>[1, 0, 1, 0, 0, 0, 0, 1, 0, 0, 0, 0, 0, 0, 0, ...</td>\n",
       "      <td>[0, 0, 0, 0, 0, 0, 0, 0, 0, 0, 0, 0, 0, 0, 0, ...</td>\n",
       "    </tr>\n",
       "    <tr>\n",
       "      <th>...</th>\n",
       "      <td>...</td>\n",
       "      <td>...</td>\n",
       "      <td>...</td>\n",
       "      <td>...</td>\n",
       "      <td>...</td>\n",
       "      <td>...</td>\n",
       "      <td>...</td>\n",
       "      <td>...</td>\n",
       "      <td>...</td>\n",
       "      <td>...</td>\n",
       "      <td>...</td>\n",
       "      <td>...</td>\n",
       "      <td>...</td>\n",
       "      <td>...</td>\n",
       "      <td>...</td>\n",
       "      <td>...</td>\n",
       "      <td>...</td>\n",
       "      <td>...</td>\n",
       "      <td>...</td>\n",
       "      <td>...</td>\n",
       "      <td>...</td>\n",
       "    </tr>\n",
       "    <tr>\n",
       "      <th>38903</th>\n",
       "      <td>[damn, government, getting, involve, stock, ge...</td>\n",
       "      <td>0</td>\n",
       "      <td>l6b99w</td>\n",
       "      <td>https://www.reddit.com/r/wallstreetbets/commen...</td>\n",
       "      <td>15</td>\n",
       "      <td>[t, lose, power, have, ability, manipulate, go...</td>\n",
       "      <td>2021-01-27 19:32:50</td>\n",
       "      <td>0.36</td>\n",
       "      <td>False</td>\n",
       "      <td>/r/wallstreetbets/comments/l6b99w/damn_with_th...</td>\n",
       "      <td>...</td>\n",
       "      <td>(I, don\\u2019, t, have, much, .., but, I\\u2019...</td>\n",
       "      <td>20</td>\n",
       "      <td>0.033333</td>\n",
       "      <td>37.0</td>\n",
       "      <td>0</td>\n",
       "      <td>1</td>\n",
       "      <td>text</td>\n",
       "      <td>False</td>\n",
       "      <td>[0, 0, 0, 0, 0, 0, 0, 0, 0, 0, 0, 0, 1, 0, 0, ...</td>\n",
       "      <td>[0, 0, 0, 0, 0, 0, 0, 0, 1, 0, 0, 0, 0, 0, 0, ...</td>\n",
       "    </tr>\n",
       "    <tr>\n",
       "      <th>38904</th>\n",
       "      <td>[DONT, fool, price, drop, AMC, volume, LOW, fi...</td>\n",
       "      <td>16</td>\n",
       "      <td>l6zb4b</td>\n",
       "      <td>https://i.redd.it/c4xkr2zwa3e61.jpg</td>\n",
       "      <td>2</td>\n",
       "      <td></td>\n",
       "      <td>2021-01-28 16:15:16</td>\n",
       "      <td>0.90</td>\n",
       "      <td>False</td>\n",
       "      <td>/r/wallstreetbets/comments/l6zb4b/dont_be_fool...</td>\n",
       "      <td>...</td>\n",
       "      <td>NaN</td>\n",
       "      <td>29</td>\n",
       "      <td>0.583333</td>\n",
       "      <td>NaN</td>\n",
       "      <td>0</td>\n",
       "      <td>0</td>\n",
       "      <td>image</td>\n",
       "      <td>False</td>\n",
       "      <td>[0, 0, 0, 0, 0, 0, 0, 0, 0, 0, 0, 0, 0, 0, 0, ...</td>\n",
       "      <td>[0, 0, 0, 0, 0, 1, 0, 0, 0, 0, 0, 0, 0, 0, 0, ...</td>\n",
       "    </tr>\n",
       "    <tr>\n",
       "      <th>38905</th>\n",
       "      <td>[search, new, want, buy, GME, buy, Fidelity]</td>\n",
       "      <td>77</td>\n",
       "      <td>l70tgo</td>\n",
       "      <td>https://www.reddit.com/r/wallstreetbets/commen...</td>\n",
       "      <td>10</td>\n",
       "      <td>[accord, user, comment, use, wire, transfer]</td>\n",
       "      <td>2021-01-28 17:09:14</td>\n",
       "      <td>1.00</td>\n",
       "      <td>False</td>\n",
       "      <td>/r/wallstreetbets/comments/l70tgo/for_everyone...</td>\n",
       "      <td>...</td>\n",
       "      <td>(This, is, according, to, other, users, in, th...</td>\n",
       "      <td>16</td>\n",
       "      <td>0.104167</td>\n",
       "      <td>18.0</td>\n",
       "      <td>0</td>\n",
       "      <td>1</td>\n",
       "      <td>text</td>\n",
       "      <td>False</td>\n",
       "      <td>[0, 0, 0, 0, 0, 0, 0, 0, 0, 0, 0, 0, 0, 0, 0, ...</td>\n",
       "      <td>[0, 1, 0, 1, 0, 0, 0, 0, 0, 0, 0, 0, 0, 0, 0, ...</td>\n",
       "    </tr>\n",
       "    <tr>\n",
       "      <th>38906</th>\n",
       "      <td>[buy, GME]</td>\n",
       "      <td>0</td>\n",
       "      <td>lcgmi4</td>\n",
       "      <td>https://www.reddit.com/r/wallstreetbets/commen...</td>\n",
       "      <td>19</td>\n",
       "      <td>[retard, explain, buy, hold, GME, inflated, pr...</td>\n",
       "      <td>2021-02-04 15:20:37</td>\n",
       "      <td>0.32</td>\n",
       "      <td>False</td>\n",
       "      <td>/r/wallstreetbets/comments/lcgmi4/why_buy_gme_...</td>\n",
       "      <td>...</td>\n",
       "      <td>(Can, you, retards, explain, to, me, why, anyo...</td>\n",
       "      <td>4</td>\n",
       "      <td>0.333333</td>\n",
       "      <td>46.0</td>\n",
       "      <td>0</td>\n",
       "      <td>1</td>\n",
       "      <td>text</td>\n",
       "      <td>False</td>\n",
       "      <td>[1, 0, 1, 0, 0, 0, 1, 0, 0, 0, 1, 0, 0, 0, 0, ...</td>\n",
       "      <td>[0, 1, 0, 1, 0, 0, 0, 0, 0, 0, 0, 0, 0, 0, 0, ...</td>\n",
       "    </tr>\n",
       "    <tr>\n",
       "      <th>38907</th>\n",
       "      <td>[introduce, MM, Meme, Multiplier]</td>\n",
       "      <td>96</td>\n",
       "      <td>l8fis7</td>\n",
       "      <td>https://www.reddit.com/r/wallstreetbets/commen...</td>\n",
       "      <td>42</td>\n",
       "      <td>[hello, fellow, invest, fundamental, recently,...</td>\n",
       "      <td>2021-01-30 07:15:12</td>\n",
       "      <td>0.93</td>\n",
       "      <td>False</td>\n",
       "      <td>/r/wallstreetbets/comments/l8fis7/introducing_...</td>\n",
       "      <td>...</td>\n",
       "      <td>(Hello, fellow, regards,\\n\\nI, have, been, inv...</td>\n",
       "      <td>7</td>\n",
       "      <td>0.217391</td>\n",
       "      <td>197.0</td>\n",
       "      <td>1</td>\n",
       "      <td>1</td>\n",
       "      <td>text</td>\n",
       "      <td>False</td>\n",
       "      <td>[1, 1, 1, 0, 0, 0, 0, 0, 0, 1, 1, 0, 0, 0, 0, ...</td>\n",
       "      <td>[0, 0, 0, 0, 0, 0, 0, 0, 0, 0, 0, 0, 0, 0, 0, ...</td>\n",
       "    </tr>\n",
       "  </tbody>\n",
       "</table>\n",
       "<p>38908 rows × 24 columns</p>\n",
       "</div>"
      ],
      "text/plain": [
       "                                                   title  score      id  \\\n",
       "0      [manipulation, happen, different, platform, cr...      4  l69fvk   \n",
       "1                     [hold, GME, till, squeeze, squoze]   1157  l87ci6   \n",
       "2                                       [go, long, dick]      0  lc8dnh   \n",
       "3               [TASTYWORKS, set, certain, stock, close]      3  l71knz   \n",
       "4                      [help, dumbas, FUCKING, question]      4  l70720   \n",
       "...                                                  ...    ...     ...   \n",
       "38903  [damn, government, getting, involve, stock, ge...      0  l6b99w   \n",
       "38904  [DONT, fool, price, drop, AMC, volume, LOW, fi...     16  l6zb4b   \n",
       "38905       [search, new, want, buy, GME, buy, Fidelity]     77  l70tgo   \n",
       "38906                                         [buy, GME]      0  lcgmi4   \n",
       "38907                  [introduce, MM, Meme, Multiplier]     96  l8fis7   \n",
       "\n",
       "                                                     url  comms_num  \\\n",
       "0      https://www.reddit.com/r/wallstreetbets/commen...          2   \n",
       "1                    https://i.redd.it/20f2x4ehsce61.png         85   \n",
       "2      https://www.reddit.com/r/wallstreetbets/commen...          7   \n",
       "3      https://www.reddit.com/r/wallstreetbets/commen...          0   \n",
       "4      https://www.reddit.com/r/wallstreetbets/commen...          7   \n",
       "...                                                  ...        ...   \n",
       "38903  https://www.reddit.com/r/wallstreetbets/commen...         15   \n",
       "38904                https://i.redd.it/c4xkr2zwa3e61.jpg          2   \n",
       "38905  https://www.reddit.com/r/wallstreetbets/commen...         10   \n",
       "38906  https://www.reddit.com/r/wallstreetbets/commen...         19   \n",
       "38907  https://www.reddit.com/r/wallstreetbets/commen...         42   \n",
       "\n",
       "                                                    body           timestamp  \\\n",
       "0      [trading, platform, disable, ability, buy, sel... 2021-01-27 18:18:38   \n",
       "1                                                        2021-01-30 00:12:20   \n",
       "2      [month, ago, find, big, dick, thank, UK, newsp... 2021-02-04 06:17:59   \n",
       "3      [Apex, Clearing, act, custodian, tastywork, ac... 2021-01-28 17:35:13   \n",
       "4      [follow, couple, year, start, buy, day, plan, ... 2021-01-28 16:45:57   \n",
       "...                                                  ...                 ...   \n",
       "38903  [t, lose, power, have, ability, manipulate, go... 2021-01-27 19:32:50   \n",
       "38904                                                    2021-01-28 16:15:16   \n",
       "38905       [accord, user, comment, use, wire, transfer] 2021-01-28 17:09:14   \n",
       "38906  [retard, explain, buy, hold, GME, inflated, pr... 2021-02-04 15:20:37   \n",
       "38907  [hello, fellow, invest, fundamental, recently,... 2021-01-30 07:15:12   \n",
       "\n",
       "       upvote_ratio  is_oc                                          permalink  \\\n",
       "0              0.75  False  /r/wallstreetbets/comments/l69fvk/due_to_all_t...   \n",
       "1              0.99  False  /r/wallstreetbets/comments/l87ci6/holding_gme_...   \n",
       "2              0.39  False  /r/wallstreetbets/comments/lc8dnh/going_long_o...   \n",
       "3              1.00  False  /r/wallstreetbets/comments/l71knz/tastyworks_i...   \n",
       "4              0.70  False  /r/wallstreetbets/comments/l70720/please_help_...   \n",
       "...             ...    ...                                                ...   \n",
       "38903          0.36  False  /r/wallstreetbets/comments/l6b99w/damn_with_th...   \n",
       "38904          0.90  False  /r/wallstreetbets/comments/l6zb4b/dont_be_fool...   \n",
       "38905          1.00  False  /r/wallstreetbets/comments/l70tgo/for_everyone...   \n",
       "38906          0.32  False  /r/wallstreetbets/comments/lcgmi4/why_buy_gme_...   \n",
       "38907          0.93  False  /r/wallstreetbets/comments/l8fis7/introducing_...   \n",
       "\n",
       "       ...                                           body_raw  title_length  \\\n",
       "0      ...  (Many, trading, platforms, have, disabled, the...            18   \n",
       "1      ...                                                NaN             9   \n",
       "2      ...  (A, month, ago, I, found, out, that, I, have, ...             5   \n",
       "3      ...  (\", Apex, Clearing, ,, who, acts, as, the, cus...            11   \n",
       "4      ...  (I\\u2019ve, been, following, for, a, couple, y...             8   \n",
       "...    ...                                                ...           ...   \n",
       "38903  ...  (I, don\\u2019, t, have, much, .., but, I\\u2019...            20   \n",
       "38904  ...                                                NaN            29   \n",
       "38905  ...  (This, is, according, to, other, users, in, th...            16   \n",
       "38906  ...  (Can, you, retards, explain, to, me, why, anyo...             4   \n",
       "38907  ...  (Hello, fellow, regards,\\n\\nI, have, been, inv...             7   \n",
       "\n",
       "      title_capital body_length body_urls  body_punct   type  deleted  \\\n",
       "0          0.068966        29.0         0           1   text    False   \n",
       "1          0.117647         NaN         0           0  image    False   \n",
       "2          0.058824       155.0         0           1   text    False   \n",
       "3          0.941176       110.0         0           1   text    False   \n",
       "4          1.000000        41.0         0           1   text    False   \n",
       "...             ...         ...       ...         ...    ...      ...   \n",
       "38903      0.033333        37.0         0           1   text    False   \n",
       "38904      0.583333         NaN         0           0  image    False   \n",
       "38905      0.104167        18.0         0           1   text    False   \n",
       "38906      0.333333        46.0         0           1   text    False   \n",
       "38907      0.217391       197.0         1           1   text    False   \n",
       "\n",
       "                                                body_bow  \\\n",
       "0      [1, 0, 1, 0, 1, 0, 0, 1, 0, 0, 0, 0, 0, 0, 0, ...   \n",
       "1      [0, 0, 0, 0, 0, 0, 0, 0, 0, 0, 0, 0, 0, 0, 0, ...   \n",
       "2      [0, 0, 0, 0, 0, 0, 0, 0, 1, 0, 0, 0, 0, 0, 0, ...   \n",
       "3      [1, 1, 0, 0, 0, 1, 0, 0, 0, 0, 0, 0, 0, 0, 0, ...   \n",
       "4      [1, 0, 1, 0, 0, 0, 0, 1, 0, 0, 0, 0, 0, 0, 0, ...   \n",
       "...                                                  ...   \n",
       "38903  [0, 0, 0, 0, 0, 0, 0, 0, 0, 0, 0, 0, 1, 0, 0, ...   \n",
       "38904  [0, 0, 0, 0, 0, 0, 0, 0, 0, 0, 0, 0, 0, 0, 0, ...   \n",
       "38905  [0, 0, 0, 0, 0, 0, 0, 0, 0, 0, 0, 0, 0, 0, 0, ...   \n",
       "38906  [1, 0, 1, 0, 0, 0, 1, 0, 0, 0, 1, 0, 0, 0, 0, ...   \n",
       "38907  [1, 1, 1, 0, 0, 0, 0, 0, 0, 1, 1, 0, 0, 0, 0, ...   \n",
       "\n",
       "                                               title_bow  \n",
       "0      [0, 0, 0, 0, 0, 0, 0, 0, 0, 0, 0, 0, 0, 0, 0, ...  \n",
       "1      [0, 1, 1, 0, 0, 0, 0, 0, 0, 0, 0, 0, 0, 0, 0, ...  \n",
       "2      [0, 0, 0, 0, 0, 0, 0, 0, 0, 0, 0, 1, 0, 0, 0, ...  \n",
       "3      [0, 0, 0, 0, 0, 0, 0, 0, 1, 0, 0, 0, 0, 0, 0, ...  \n",
       "4      [0, 0, 0, 0, 0, 0, 0, 0, 0, 0, 0, 0, 0, 0, 0, ...  \n",
       "...                                                  ...  \n",
       "38903  [0, 0, 0, 0, 0, 0, 0, 0, 1, 0, 0, 0, 0, 0, 0, ...  \n",
       "38904  [0, 0, 0, 0, 0, 1, 0, 0, 0, 0, 0, 0, 0, 0, 0, ...  \n",
       "38905  [0, 1, 0, 1, 0, 0, 0, 0, 0, 0, 0, 0, 0, 0, 0, ...  \n",
       "38906  [0, 1, 0, 1, 0, 0, 0, 0, 0, 0, 0, 0, 0, 0, 0, ...  \n",
       "38907  [0, 0, 0, 0, 0, 0, 0, 0, 0, 0, 0, 0, 0, 0, 0, ...  \n",
       "\n",
       "[38908 rows x 24 columns]"
      ]
     },
     "execution_count": 53,
     "metadata": {},
     "output_type": "execute_result"
    }
   ],
   "source": [
    "df"
   ]
  },
  {
   "cell_type": "code",
   "execution_count": 54,
   "metadata": {},
   "outputs": [
    {
     "data": {
      "text/html": [
       "<div>\n",
       "<style scoped>\n",
       "    .dataframe tbody tr th:only-of-type {\n",
       "        vertical-align: middle;\n",
       "    }\n",
       "\n",
       "    .dataframe tbody tr th {\n",
       "        vertical-align: top;\n",
       "    }\n",
       "\n",
       "    .dataframe thead th {\n",
       "        text-align: right;\n",
       "    }\n",
       "</style>\n",
       "<table border=\"1\" class=\"dataframe\">\n",
       "  <thead>\n",
       "    <tr style=\"text-align: right;\">\n",
       "      <th></th>\n",
       "      <th>title_length</th>\n",
       "      <th>title_capital</th>\n",
       "      <th>body_length</th>\n",
       "      <th>body_urls</th>\n",
       "    </tr>\n",
       "  </thead>\n",
       "  <tbody>\n",
       "    <tr>\n",
       "      <th>count</th>\n",
       "      <td>38908.000000</td>\n",
       "      <td>38908.000000</td>\n",
       "      <td>20703.000000</td>\n",
       "      <td>38908.000000</td>\n",
       "    </tr>\n",
       "    <tr>\n",
       "      <th>mean</th>\n",
       "      <td>13.275907</td>\n",
       "      <td>0.275971</td>\n",
       "      <td>114.334686</td>\n",
       "      <td>0.227048</td>\n",
       "    </tr>\n",
       "    <tr>\n",
       "      <th>std</th>\n",
       "      <td>10.943288</td>\n",
       "      <td>0.302223</td>\n",
       "      <td>259.281598</td>\n",
       "      <td>1.468252</td>\n",
       "    </tr>\n",
       "    <tr>\n",
       "      <th>min</th>\n",
       "      <td>1.000000</td>\n",
       "      <td>0.000000</td>\n",
       "      <td>1.000000</td>\n",
       "      <td>0.000000</td>\n",
       "    </tr>\n",
       "    <tr>\n",
       "      <th>25%</th>\n",
       "      <td>6.000000</td>\n",
       "      <td>0.066667</td>\n",
       "      <td>13.000000</td>\n",
       "      <td>0.000000</td>\n",
       "    </tr>\n",
       "    <tr>\n",
       "      <th>50%</th>\n",
       "      <td>10.000000</td>\n",
       "      <td>0.145833</td>\n",
       "      <td>35.000000</td>\n",
       "      <td>0.000000</td>\n",
       "    </tr>\n",
       "    <tr>\n",
       "      <th>75%</th>\n",
       "      <td>17.000000</td>\n",
       "      <td>0.333333</td>\n",
       "      <td>107.000000</td>\n",
       "      <td>0.000000</td>\n",
       "    </tr>\n",
       "    <tr>\n",
       "      <th>max</th>\n",
       "      <td>270.000000</td>\n",
       "      <td>1.000000</td>\n",
       "      <td>8650.000000</td>\n",
       "      <td>52.000000</td>\n",
       "    </tr>\n",
       "  </tbody>\n",
       "</table>\n",
       "</div>"
      ],
      "text/plain": [
       "       title_length  title_capital   body_length     body_urls\n",
       "count  38908.000000   38908.000000  20703.000000  38908.000000\n",
       "mean      13.275907       0.275971    114.334686      0.227048\n",
       "std       10.943288       0.302223    259.281598      1.468252\n",
       "min        1.000000       0.000000      1.000000      0.000000\n",
       "25%        6.000000       0.066667     13.000000      0.000000\n",
       "50%       10.000000       0.145833     35.000000      0.000000\n",
       "75%       17.000000       0.333333    107.000000      0.000000\n",
       "max      270.000000       1.000000   8650.000000     52.000000"
      ]
     },
     "execution_count": 54,
     "metadata": {},
     "output_type": "execute_result"
    }
   ],
   "source": [
    "df[['title_length', 'title_capital', 'body_length', 'body_urls']].describe()"
   ]
  },
  {
   "cell_type": "code",
   "execution_count": 55,
   "metadata": {},
   "outputs": [
    {
     "data": {
      "text/plain": [
       "0.8782302081823891"
      ]
     },
     "execution_count": 55,
     "metadata": {},
     "output_type": "execute_result"
    }
   ],
   "source": [
    "df['body_punct'].sum() / df['body_length'].count()"
   ]
  },
  {
   "cell_type": "code",
   "execution_count": 56,
   "metadata": {},
   "outputs": [
    {
     "data": {
      "text/plain": [
       "0.426701444235135"
      ]
     },
     "execution_count": 56,
     "metadata": {},
     "output_type": "execute_result"
    }
   ],
   "source": [
    "df['body_urls'].sum() / df['body_length'].count()"
   ]
  },
  {
   "cell_type": "code",
   "execution_count": 57,
   "metadata": {},
   "outputs": [
    {
     "data": {
      "text/plain": [
       "0.1956238226344008"
      ]
     },
     "execution_count": 57,
     "metadata": {},
     "output_type": "execute_result"
    }
   ],
   "source": [
    "df['deleted'].sum() / df['body_length'].count()"
   ]
  },
  {
   "cell_type": "code",
   "execution_count": 58,
   "metadata": {},
   "outputs": [
    {
     "data": {
      "text/plain": [
       "[]"
      ]
     },
     "execution_count": 58,
     "metadata": {},
     "output_type": "execute_result"
    },
    {
     "data": {
      "image/png": "[encoded data removed]",
      "text/plain": [
       "<Figure size 864x576 with 1 Axes>"
      ]
     },
     "metadata": {
      "needs_background": "light"
     },
     "output_type": "display_data"
    }
   ],
   "source": [
    "types = df['type'].value_counts()\n",
    "\n",
    "plt.figure(figsize=(12,8))\n",
    "plt.title(\"Types\")\n",
    "ax = sns.barplot(data=types, x=types.index, y=types.values)\n",
    "ax.set_xticklabels(reversed(types.index))\n",
    "plt.plot()"
   ]
  },
  {
   "cell_type": "markdown",
   "metadata": {},
   "source": [
    "## Save csv"
   ]
  },
  {
   "cell_type": "code",
   "execution_count": 59,
   "metadata": {},
   "outputs": [],
   "source": [
    "df.to_csv(\"data/wsb_interim.csv\")"
   ]
  }
 ],
 "metadata": {
  "kernelspec": {
   "display_name": "Python 3",
   "language": "python",
   "name": "python3"
  },
  "language_info": {
   "codemirror_mode": {
    "name": "ipython",
    "version": 3
   },
   "file_extension": ".py",
   "mimetype": "text/x-python",
   "name": "python",
   "nbconvert_exporter": "python",
   "pygments_lexer": "ipython3",
   "version": "3.8.3"
  }
 },
 "nbformat": 4,
 "nbformat_minor": 4
}

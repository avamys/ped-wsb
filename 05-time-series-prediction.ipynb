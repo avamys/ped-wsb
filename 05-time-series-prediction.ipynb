{
 "cells": [
  {
   "cell_type": "code",
   "execution_count": 9,
   "metadata": {},
   "outputs": [],
   "source": [
    "import yaml\n",
    "import praw"
   ]
  },
  {
   "cell_type": "code",
   "execution_count": 19,
   "metadata": {},
   "outputs": [],
   "source": [
    "with open('backup/reddit-api-data.yml', 'r') as file:\n",
    "    config = yaml.load(file, Loader=yaml.FullLoader)"
   ]
  },
  {
   "cell_type": "code",
   "execution_count": 20,
   "metadata": {},
   "outputs": [],
   "source": [
    "reddit = praw.Reddit(\n",
    "    user_agent=\"Comment Extraction (by u/USERNAME)\",\n",
    "    client_id=config['id'],\n",
    "    client_secret=config['secret'],\n",
    "    username=config['username'],\n",
    "    password=config['password'],\n",
    ")"
   ]
  },
  {
   "cell_type": "code",
   "execution_count": 1,
   "metadata": {},
   "outputs": [],
   "source": [
    "import pandas as pd\n",
    "\n",
    "def get_comments(post_id, top=False):\n",
    "    submission = reddit.submission(id=post_id)\n",
    "    comments_data = []\n",
    "    \n",
    "    submission.comments.replace_more(limit=None)\n",
    "    sub = submission.comments if top else submission.comments.list()\n",
    "    for comment in sub:\n",
    "        data = [pd.to_datetime(comment.created_utc, unit='s'), comment.author, comment.body, comment.score]\n",
    "        if top:\n",
    "            data.append(len(comment.replies))\n",
    "            data.append(len(comment.replies.list()))\n",
    "        comments_data.append(data)\n",
    "    \n",
    "    if top:\n",
    "        comments_df = pd.DataFrame(comments_data, columns=['date', 'author', 'body', 'score', 'replies', 'comms'])\n",
    "    else:\n",
    "        comments_df = pd.DataFrame(comments_data, columns=['date', 'author', 'body', 'score'])\n",
    "    \n",
    "    return comments_df.set_index('date').sort_index()"
   ]
  },
  {
   "cell_type": "code",
   "execution_count": 2,
   "metadata": {},
   "outputs": [],
   "source": [
    "df = pd.read_csv(\"data/wsb_processed.csv\", index_col=0)"
   ]
  },
  {
   "cell_type": "code",
   "execution_count": 3,
   "metadata": {},
   "outputs": [
    {
     "data": {
      "text/html": [
       "<div>\n",
       "<style scoped>\n",
       "    .dataframe tbody tr th:only-of-type {\n",
       "        vertical-align: middle;\n",
       "    }\n",
       "\n",
       "    .dataframe tbody tr th {\n",
       "        vertical-align: top;\n",
       "    }\n",
       "\n",
       "    .dataframe thead th {\n",
       "        text-align: right;\n",
       "    }\n",
       "</style>\n",
       "<table border=\"1\" class=\"dataframe\">\n",
       "  <thead>\n",
       "    <tr style=\"text-align: right;\">\n",
       "      <th></th>\n",
       "      <th>is_self</th>\n",
       "      <th>title_length</th>\n",
       "      <th>title_capital</th>\n",
       "      <th>body_length</th>\n",
       "      <th>body_urls</th>\n",
       "      <th>body_punct</th>\n",
       "      <th>deleted</th>\n",
       "      <th>b0</th>\n",
       "      <th>b1</th>\n",
       "      <th>b2</th>\n",
       "      <th>...</th>\n",
       "      <th>0</th>\n",
       "      <th>1</th>\n",
       "      <th>3</th>\n",
       "      <th>col0</th>\n",
       "      <th>col1</th>\n",
       "      <th>col2</th>\n",
       "      <th>col3</th>\n",
       "      <th>col4</th>\n",
       "      <th>col5</th>\n",
       "      <th>col7</th>\n",
       "    </tr>\n",
       "    <tr>\n",
       "      <th>id</th>\n",
       "      <th></th>\n",
       "      <th></th>\n",
       "      <th></th>\n",
       "      <th></th>\n",
       "      <th></th>\n",
       "      <th></th>\n",
       "      <th></th>\n",
       "      <th></th>\n",
       "      <th></th>\n",
       "      <th></th>\n",
       "      <th></th>\n",
       "      <th></th>\n",
       "      <th></th>\n",
       "      <th></th>\n",
       "      <th></th>\n",
       "      <th></th>\n",
       "      <th></th>\n",
       "      <th></th>\n",
       "      <th></th>\n",
       "      <th></th>\n",
       "      <th></th>\n",
       "    </tr>\n",
       "  </thead>\n",
       "  <tbody>\n",
       "    <tr>\n",
       "      <th>l69fvk</th>\n",
       "      <td>True</td>\n",
       "      <td>18</td>\n",
       "      <td>0.068966</td>\n",
       "      <td>29.0</td>\n",
       "      <td>0</td>\n",
       "      <td>1</td>\n",
       "      <td>False</td>\n",
       "      <td>1</td>\n",
       "      <td>0</td>\n",
       "      <td>1</td>\n",
       "      <td>...</td>\n",
       "      <td>0.000000</td>\n",
       "      <td>0.000000</td>\n",
       "      <td>0.000000</td>\n",
       "      <td>0.0</td>\n",
       "      <td>0.000000</td>\n",
       "      <td>0.000000</td>\n",
       "      <td>0.000000</td>\n",
       "      <td>0.000000</td>\n",
       "      <td>0.000000</td>\n",
       "      <td>0.000000</td>\n",
       "    </tr>\n",
       "    <tr>\n",
       "      <th>l87ci6</th>\n",
       "      <td>False</td>\n",
       "      <td>9</td>\n",
       "      <td>0.117647</td>\n",
       "      <td>0.0</td>\n",
       "      <td>0</td>\n",
       "      <td>0</td>\n",
       "      <td>False</td>\n",
       "      <td>0</td>\n",
       "      <td>0</td>\n",
       "      <td>0</td>\n",
       "      <td>...</td>\n",
       "      <td>-11.368509</td>\n",
       "      <td>-34.681310</td>\n",
       "      <td>-14.813305</td>\n",
       "      <td>0.5</td>\n",
       "      <td>0.000000</td>\n",
       "      <td>0.363636</td>\n",
       "      <td>0.500000</td>\n",
       "      <td>0.444444</td>\n",
       "      <td>0.354701</td>\n",
       "      <td>0.354545</td>\n",
       "    </tr>\n",
       "    <tr>\n",
       "      <th>lc8dnh</th>\n",
       "      <td>True</td>\n",
       "      <td>5</td>\n",
       "      <td>0.058824</td>\n",
       "      <td>155.0</td>\n",
       "      <td>0</td>\n",
       "      <td>1</td>\n",
       "      <td>False</td>\n",
       "      <td>0</td>\n",
       "      <td>0</td>\n",
       "      <td>0</td>\n",
       "      <td>...</td>\n",
       "      <td>0.000000</td>\n",
       "      <td>0.000000</td>\n",
       "      <td>0.000000</td>\n",
       "      <td>0.0</td>\n",
       "      <td>0.000000</td>\n",
       "      <td>0.000000</td>\n",
       "      <td>0.000000</td>\n",
       "      <td>0.000000</td>\n",
       "      <td>0.000000</td>\n",
       "      <td>0.000000</td>\n",
       "    </tr>\n",
       "    <tr>\n",
       "      <th>l71knz</th>\n",
       "      <td>True</td>\n",
       "      <td>11</td>\n",
       "      <td>0.941176</td>\n",
       "      <td>110.0</td>\n",
       "      <td>0</td>\n",
       "      <td>1</td>\n",
       "      <td>False</td>\n",
       "      <td>1</td>\n",
       "      <td>1</td>\n",
       "      <td>0</td>\n",
       "      <td>...</td>\n",
       "      <td>0.000000</td>\n",
       "      <td>0.000000</td>\n",
       "      <td>0.000000</td>\n",
       "      <td>0.0</td>\n",
       "      <td>0.000000</td>\n",
       "      <td>0.000000</td>\n",
       "      <td>0.000000</td>\n",
       "      <td>0.000000</td>\n",
       "      <td>0.000000</td>\n",
       "      <td>0.000000</td>\n",
       "    </tr>\n",
       "    <tr>\n",
       "      <th>l70720</th>\n",
       "      <td>True</td>\n",
       "      <td>8</td>\n",
       "      <td>1.000000</td>\n",
       "      <td>41.0</td>\n",
       "      <td>0</td>\n",
       "      <td>1</td>\n",
       "      <td>False</td>\n",
       "      <td>1</td>\n",
       "      <td>0</td>\n",
       "      <td>1</td>\n",
       "      <td>...</td>\n",
       "      <td>0.000000</td>\n",
       "      <td>0.000000</td>\n",
       "      <td>0.000000</td>\n",
       "      <td>0.0</td>\n",
       "      <td>0.000000</td>\n",
       "      <td>0.000000</td>\n",
       "      <td>0.000000</td>\n",
       "      <td>0.000000</td>\n",
       "      <td>0.000000</td>\n",
       "      <td>0.000000</td>\n",
       "    </tr>\n",
       "    <tr>\n",
       "      <th>...</th>\n",
       "      <td>...</td>\n",
       "      <td>...</td>\n",
       "      <td>...</td>\n",
       "      <td>...</td>\n",
       "      <td>...</td>\n",
       "      <td>...</td>\n",
       "      <td>...</td>\n",
       "      <td>...</td>\n",
       "      <td>...</td>\n",
       "      <td>...</td>\n",
       "      <td>...</td>\n",
       "      <td>...</td>\n",
       "      <td>...</td>\n",
       "      <td>...</td>\n",
       "      <td>...</td>\n",
       "      <td>...</td>\n",
       "      <td>...</td>\n",
       "      <td>...</td>\n",
       "      <td>...</td>\n",
       "      <td>...</td>\n",
       "      <td>...</td>\n",
       "    </tr>\n",
       "    <tr>\n",
       "      <th>l6b99w</th>\n",
       "      <td>True</td>\n",
       "      <td>20</td>\n",
       "      <td>0.033333</td>\n",
       "      <td>37.0</td>\n",
       "      <td>0</td>\n",
       "      <td>1</td>\n",
       "      <td>False</td>\n",
       "      <td>0</td>\n",
       "      <td>0</td>\n",
       "      <td>0</td>\n",
       "      <td>...</td>\n",
       "      <td>0.000000</td>\n",
       "      <td>0.000000</td>\n",
       "      <td>0.000000</td>\n",
       "      <td>0.0</td>\n",
       "      <td>0.000000</td>\n",
       "      <td>0.000000</td>\n",
       "      <td>0.000000</td>\n",
       "      <td>0.000000</td>\n",
       "      <td>0.000000</td>\n",
       "      <td>0.000000</td>\n",
       "    </tr>\n",
       "    <tr>\n",
       "      <th>l6zb4b</th>\n",
       "      <td>False</td>\n",
       "      <td>29</td>\n",
       "      <td>0.583333</td>\n",
       "      <td>0.0</td>\n",
       "      <td>0</td>\n",
       "      <td>0</td>\n",
       "      <td>False</td>\n",
       "      <td>0</td>\n",
       "      <td>0</td>\n",
       "      <td>0</td>\n",
       "      <td>...</td>\n",
       "      <td>-16.384602</td>\n",
       "      <td>-29.250435</td>\n",
       "      <td>-4.414461</td>\n",
       "      <td>0.5</td>\n",
       "      <td>0.533333</td>\n",
       "      <td>0.500000</td>\n",
       "      <td>0.583333</td>\n",
       "      <td>0.424883</td>\n",
       "      <td>0.421958</td>\n",
       "      <td>0.997312</td>\n",
       "    </tr>\n",
       "    <tr>\n",
       "      <th>l70tgo</th>\n",
       "      <td>True</td>\n",
       "      <td>16</td>\n",
       "      <td>0.104167</td>\n",
       "      <td>18.0</td>\n",
       "      <td>0</td>\n",
       "      <td>1</td>\n",
       "      <td>False</td>\n",
       "      <td>0</td>\n",
       "      <td>0</td>\n",
       "      <td>0</td>\n",
       "      <td>...</td>\n",
       "      <td>0.000000</td>\n",
       "      <td>0.000000</td>\n",
       "      <td>0.000000</td>\n",
       "      <td>0.0</td>\n",
       "      <td>0.000000</td>\n",
       "      <td>0.000000</td>\n",
       "      <td>0.000000</td>\n",
       "      <td>0.000000</td>\n",
       "      <td>0.000000</td>\n",
       "      <td>0.000000</td>\n",
       "    </tr>\n",
       "    <tr>\n",
       "      <th>lcgmi4</th>\n",
       "      <td>True</td>\n",
       "      <td>4</td>\n",
       "      <td>0.333333</td>\n",
       "      <td>46.0</td>\n",
       "      <td>0</td>\n",
       "      <td>1</td>\n",
       "      <td>False</td>\n",
       "      <td>1</td>\n",
       "      <td>0</td>\n",
       "      <td>1</td>\n",
       "      <td>...</td>\n",
       "      <td>0.000000</td>\n",
       "      <td>0.000000</td>\n",
       "      <td>0.000000</td>\n",
       "      <td>0.0</td>\n",
       "      <td>0.000000</td>\n",
       "      <td>0.000000</td>\n",
       "      <td>0.000000</td>\n",
       "      <td>0.000000</td>\n",
       "      <td>0.000000</td>\n",
       "      <td>0.000000</td>\n",
       "    </tr>\n",
       "    <tr>\n",
       "      <th>l8fis7</th>\n",
       "      <td>True</td>\n",
       "      <td>7</td>\n",
       "      <td>0.217391</td>\n",
       "      <td>197.0</td>\n",
       "      <td>1</td>\n",
       "      <td>1</td>\n",
       "      <td>False</td>\n",
       "      <td>1</td>\n",
       "      <td>1</td>\n",
       "      <td>1</td>\n",
       "      <td>...</td>\n",
       "      <td>0.000000</td>\n",
       "      <td>0.000000</td>\n",
       "      <td>0.000000</td>\n",
       "      <td>0.0</td>\n",
       "      <td>0.000000</td>\n",
       "      <td>0.000000</td>\n",
       "      <td>0.000000</td>\n",
       "      <td>0.000000</td>\n",
       "      <td>0.000000</td>\n",
       "      <td>0.000000</td>\n",
       "    </tr>\n",
       "  </tbody>\n",
       "</table>\n",
       "<p>38908 rows × 109 columns</p>\n",
       "</div>"
      ],
      "text/plain": [
       "        is_self  title_length  title_capital  body_length  body_urls  \\\n",
       "id                                                                     \n",
       "l69fvk     True            18       0.068966         29.0          0   \n",
       "l87ci6    False             9       0.117647          0.0          0   \n",
       "lc8dnh     True             5       0.058824        155.0          0   \n",
       "l71knz     True            11       0.941176        110.0          0   \n",
       "l70720     True             8       1.000000         41.0          0   \n",
       "...         ...           ...            ...          ...        ...   \n",
       "l6b99w     True            20       0.033333         37.0          0   \n",
       "l6zb4b    False            29       0.583333          0.0          0   \n",
       "l70tgo     True            16       0.104167         18.0          0   \n",
       "lcgmi4     True             4       0.333333         46.0          0   \n",
       "l8fis7     True             7       0.217391        197.0          1   \n",
       "\n",
       "        body_punct  deleted  b0  b1  b2  ...          0          1          3  \\\n",
       "id                                       ...                                    \n",
       "l69fvk           1    False   1   0   1  ...   0.000000   0.000000   0.000000   \n",
       "l87ci6           0    False   0   0   0  ... -11.368509 -34.681310 -14.813305   \n",
       "lc8dnh           1    False   0   0   0  ...   0.000000   0.000000   0.000000   \n",
       "l71knz           1    False   1   1   0  ...   0.000000   0.000000   0.000000   \n",
       "l70720           1    False   1   0   1  ...   0.000000   0.000000   0.000000   \n",
       "...            ...      ...  ..  ..  ..  ...        ...        ...        ...   \n",
       "l6b99w           1    False   0   0   0  ...   0.000000   0.000000   0.000000   \n",
       "l6zb4b           0    False   0   0   0  ... -16.384602 -29.250435  -4.414461   \n",
       "l70tgo           1    False   0   0   0  ...   0.000000   0.000000   0.000000   \n",
       "lcgmi4           1    False   1   0   1  ...   0.000000   0.000000   0.000000   \n",
       "l8fis7           1    False   1   1   1  ...   0.000000   0.000000   0.000000   \n",
       "\n",
       "        col0      col1      col2      col3      col4      col5      col7  \n",
       "id                                                                        \n",
       "l69fvk   0.0  0.000000  0.000000  0.000000  0.000000  0.000000  0.000000  \n",
       "l87ci6   0.5  0.000000  0.363636  0.500000  0.444444  0.354701  0.354545  \n",
       "lc8dnh   0.0  0.000000  0.000000  0.000000  0.000000  0.000000  0.000000  \n",
       "l71knz   0.0  0.000000  0.000000  0.000000  0.000000  0.000000  0.000000  \n",
       "l70720   0.0  0.000000  0.000000  0.000000  0.000000  0.000000  0.000000  \n",
       "...      ...       ...       ...       ...       ...       ...       ...  \n",
       "l6b99w   0.0  0.000000  0.000000  0.000000  0.000000  0.000000  0.000000  \n",
       "l6zb4b   0.5  0.533333  0.500000  0.583333  0.424883  0.421958  0.997312  \n",
       "l70tgo   0.0  0.000000  0.000000  0.000000  0.000000  0.000000  0.000000  \n",
       "lcgmi4   0.0  0.000000  0.000000  0.000000  0.000000  0.000000  0.000000  \n",
       "l8fis7   0.0  0.000000  0.000000  0.000000  0.000000  0.000000  0.000000  \n",
       "\n",
       "[38908 rows x 109 columns]"
      ]
     },
     "execution_count": 3,
     "metadata": {},
     "output_type": "execute_result"
    }
   ],
   "source": [
    "df"
   ]
  },
  {
   "cell_type": "code",
   "execution_count": 4,
   "metadata": {},
   "outputs": [
    {
     "data": {
      "text/plain": [
       "count    38908.000000\n",
       "mean       163.334456\n",
       "std       2618.259934\n",
       "min          0.000000\n",
       "25%          2.000000\n",
       "50%          7.000000\n",
       "75%         23.000000\n",
       "max      97996.000000\n",
       "Name: comms_num, dtype: float64"
      ]
     },
     "execution_count": 4,
     "metadata": {},
     "output_type": "execute_result"
    }
   ],
   "source": [
    "df['comms_num'].describe()"
   ]
  },
  {
   "cell_type": "code",
   "execution_count": 24,
   "metadata": {},
   "outputs": [],
   "source": [
    "from tqdm.notebook import tqdm\n",
    "\n",
    "def get_posts(df, n=100, top=False):\n",
    "    posts = df[(df['comms_num'] > 50) & (df['comms_num'] < 10000)].sample(n)\n",
    "    pdict = {}\n",
    "    for i in tqdm(posts.index):\n",
    "        comm_df = get_comments(i, top)\n",
    "        pdict[i] = get_comments(i, top)\n",
    "        \n",
    "    return pdict"
   ]
  },
  {
   "cell_type": "code",
   "execution_count": 28,
   "metadata": {},
   "outputs": [
    {
     "data": {
      "application/vnd.jupyter.widget-view+json": {
       "model_id": "52c133cf803b457db27fc0719f277649",
       "version_major": 2,
       "version_minor": 0
      },
      "text/plain": [
       "HBox(children=(FloatProgress(value=0.0), HTML(value='')))"
      ]
     },
     "metadata": {},
     "output_type": "display_data"
    },
    {
     "name": "stdout",
     "output_type": "stream",
     "text": [
      "\n"
     ]
    }
   ],
   "source": [
    "import pickle\n",
    "\n",
    "comms = get_posts(df, 100)\n",
    "\n",
    "with open('backup/comments.pickle', 'wb') as handle:\n",
    "    pickle.dump(comms, handle, protocol=pickle.HIGHEST_PROTOCOL)"
   ]
  },
  {
   "cell_type": "code",
   "execution_count": 5,
   "metadata": {},
   "outputs": [],
   "source": [
    "import pickle\n",
    "\n",
    "with open('backup/comments.pickle', 'rb') as handle:\n",
    "    comms_ = pickle.load(handle)"
   ]
  },
  {
   "cell_type": "code",
   "execution_count": 6,
   "metadata": {},
   "outputs": [
    {
     "data": {
      "text/plain": [
       "dict_keys(['lbs0h2', 'l7q26x', 'l7otwv', 'l77bl1', 'lb3cn9', 'lg8b7a', 'lfv9ah', 'l9ldib', 'l6novm', 'l79zmy', 'l59u37', 'l1hw75', 'l9gqbf', 'lbo9ud', 'l24457', 'l78duc', 'la1m8w', 'la6ouz', 'labcje', 'lb0595', 'l77wt7', 'lg9ktu', 'la631h', 'lcjf5w', 'l6vngb', 'l77wpb', 'l70hc4', 'l80pt5', 'l69q9u', 'l73brc', 'l9li04', 'l7gnla', 'l8or77', 'lbl1vr', 'l83mn8', 'l77may', 'la5k7e', 'l7vkj8', 'l7mep6', 'l9n5j0', 'l9l78h', 'l7uvcg', 'l1qtmg', 'l8oinu', 'lan2qs', 'laz2d2', 'lcjac3', 'la1nvq', 'l7x4b0', 'l95k8j', 'la9ym6', 'l3etpg', 'la8oc8', 'l4xcij', 'lg3zf4', 'l90d0f', 'lau7z0', 'l9jgw1', 'l1zqvz', 'l7uw0g', 'l121r4', 'l9vx4t', 'l6gxkm', 'l8mzbx', 'latzst', 'l80pli', 'l6x5b8', 'l7u27v', 'l4ww5c', 'l2gbae', 'las5ys', 'l7rdlq', 'l9o35x', 'lc6xn8', 'lbm1ks', 'l833dg', 'l9aueq', 'lb7jtd', 'lbi8y6', 'lac2b8', 'lal1g7', 'l4cv1c', 'la6nzb', 'ladphl', 'lbujvi', 'l6pw3w', 'l665ot', 'la4wz8', 'la9krl', 'l70xjl', 'labfsr', 'l81cb2', 'lbwco7', 'l6mib8', 'lh173n', 'lb0cg3', 'lbd21v', 'l1zl9r', 'layxmy', 'l10axx'])"
      ]
     },
     "execution_count": 6,
     "metadata": {},
     "output_type": "execute_result"
    }
   ],
   "source": [
    "comms_.keys()"
   ]
  },
  {
   "cell_type": "code",
   "execution_count": 7,
   "metadata": {},
   "outputs": [
    {
     "data": {
      "text/html": [
       "<div>\n",
       "<style scoped>\n",
       "    .dataframe tbody tr th:only-of-type {\n",
       "        vertical-align: middle;\n",
       "    }\n",
       "\n",
       "    .dataframe tbody tr th {\n",
       "        vertical-align: top;\n",
       "    }\n",
       "\n",
       "    .dataframe thead th {\n",
       "        text-align: right;\n",
       "    }\n",
       "</style>\n",
       "<table border=\"1\" class=\"dataframe\">\n",
       "  <thead>\n",
       "    <tr style=\"text-align: right;\">\n",
       "      <th></th>\n",
       "      <th>index</th>\n",
       "      <th>date</th>\n",
       "      <th>author</th>\n",
       "      <th>body</th>\n",
       "      <th>score</th>\n",
       "    </tr>\n",
       "  </thead>\n",
       "  <tbody>\n",
       "    <tr>\n",
       "      <th>0</th>\n",
       "      <td>1</td>\n",
       "      <td>2021-01-29 20:23:42</td>\n",
       "      <td>0toHeroInvesting</td>\n",
       "      <td>**\\~Tl;dr\\~ Buy AMD especially under $86 and e...</td>\n",
       "      <td>80</td>\n",
       "    </tr>\n",
       "    <tr>\n",
       "      <th>1</th>\n",
       "      <td>2</td>\n",
       "      <td>2021-01-29 20:23:45</td>\n",
       "      <td>tatey15</td>\n",
       "      <td>intruder</td>\n",
       "      <td>-2</td>\n",
       "    </tr>\n",
       "    <tr>\n",
       "      <th>2</th>\n",
       "      <td>3</td>\n",
       "      <td>2021-01-29 20:23:51</td>\n",
       "      <td>Darkgold44333</td>\n",
       "      <td>SHORT LADDER ATTACK INCOMING HOLD HOLD HOLD UP...</td>\n",
       "      <td>12</td>\n",
       "    </tr>\n",
       "    <tr>\n",
       "      <th>3</th>\n",
       "      <td>4</td>\n",
       "      <td>2021-01-29 20:23:52</td>\n",
       "      <td>ambitiontowin56</td>\n",
       "      <td>y’all gotta save these posts for next week 😂</td>\n",
       "      <td>225</td>\n",
       "    </tr>\n",
       "    <tr>\n",
       "      <th>4</th>\n",
       "      <td>5</td>\n",
       "      <td>2021-01-29 20:24:27</td>\n",
       "      <td>raidz817</td>\n",
       "      <td>Positions or ban.</td>\n",
       "      <td>18</td>\n",
       "    </tr>\n",
       "    <tr>\n",
       "      <th>...</th>\n",
       "      <td>...</td>\n",
       "      <td>...</td>\n",
       "      <td>...</td>\n",
       "      <td>...</td>\n",
       "      <td>...</td>\n",
       "    </tr>\n",
       "    <tr>\n",
       "      <th>247</th>\n",
       "      <td>248</td>\n",
       "      <td>2021-02-09 02:35:24</td>\n",
       "      <td>Hopai79</td>\n",
       "      <td>10 days later and the stock is still bagging. ...</td>\n",
       "      <td>2</td>\n",
       "    </tr>\n",
       "    <tr>\n",
       "      <th>248</th>\n",
       "      <td>249</td>\n",
       "      <td>2021-02-13 00:09:28</td>\n",
       "      <td>millionreddit617</td>\n",
       "      <td>I like your funny words, magic man.</td>\n",
       "      <td>3</td>\n",
       "    </tr>\n",
       "    <tr>\n",
       "      <th>249</th>\n",
       "      <td>250</td>\n",
       "      <td>2021-02-13 08:04:42</td>\n",
       "      <td>0toHeroInvesting</td>\n",
       "      <td>Nice!</td>\n",
       "      <td>1</td>\n",
       "    </tr>\n",
       "    <tr>\n",
       "      <th>250</th>\n",
       "      <td>251</td>\n",
       "      <td>2021-05-10 09:47:05</td>\n",
       "      <td>stocklistglobal</td>\n",
       "      <td>Heres why amd is a steal https://youtu.be/6tyJ...</td>\n",
       "      <td>1</td>\n",
       "    </tr>\n",
       "    <tr>\n",
       "      <th>251</th>\n",
       "      <td>252</td>\n",
       "      <td>2021-06-04 18:26:08</td>\n",
       "      <td>haboooob</td>\n",
       "      <td>Excellent service my dear retard</td>\n",
       "      <td>2</td>\n",
       "    </tr>\n",
       "  </tbody>\n",
       "</table>\n",
       "<p>252 rows × 5 columns</p>\n",
       "</div>"
      ],
      "text/plain": [
       "     index                date            author  \\\n",
       "0        1 2021-01-29 20:23:42  0toHeroInvesting   \n",
       "1        2 2021-01-29 20:23:45           tatey15   \n",
       "2        3 2021-01-29 20:23:51     Darkgold44333   \n",
       "3        4 2021-01-29 20:23:52   ambitiontowin56   \n",
       "4        5 2021-01-29 20:24:27          raidz817   \n",
       "..     ...                 ...               ...   \n",
       "247    248 2021-02-09 02:35:24           Hopai79   \n",
       "248    249 2021-02-13 00:09:28  millionreddit617   \n",
       "249    250 2021-02-13 08:04:42  0toHeroInvesting   \n",
       "250    251 2021-05-10 09:47:05   stocklistglobal   \n",
       "251    252 2021-06-04 18:26:08          haboooob   \n",
       "\n",
       "                                                  body  score  \n",
       "0    **\\~Tl;dr\\~ Buy AMD especially under $86 and e...     80  \n",
       "1                                             intruder     -2  \n",
       "2    SHORT LADDER ATTACK INCOMING HOLD HOLD HOLD UP...     12  \n",
       "3         y’all gotta save these posts for next week 😂    225  \n",
       "4                                    Positions or ban.     18  \n",
       "..                                                 ...    ...  \n",
       "247  10 days later and the stock is still bagging. ...      2  \n",
       "248                I like your funny words, magic man.      3  \n",
       "249                                              Nice!      1  \n",
       "250  Heres why amd is a steal https://youtu.be/6tyJ...      1  \n",
       "251                   Excellent service my dear retard      2  \n",
       "\n",
       "[252 rows x 5 columns]"
      ]
     },
     "execution_count": 7,
     "metadata": {},
     "output_type": "execute_result"
    }
   ],
   "source": [
    "test = comms_['l833dg'].reset_index().reset_index()\n",
    "test['index'] += 1\n",
    "test"
   ]
  },
  {
   "cell_type": "code",
   "execution_count": 8,
   "metadata": {},
   "outputs": [
    {
     "data": {
      "image/png": "[encoded data removed]",
      "text/plain": [
       "<Figure size 432x288 with 1 Axes>"
      ]
     },
     "metadata": {
      "needs_background": "light"
     },
     "output_type": "display_data"
    }
   ],
   "source": [
    "import matplotlib.pyplot as plt\n",
    "from matplotlib.dates import DateFormatter\n",
    "\n",
    "\n",
    "fig, ax = plt.subplots()\n",
    "ax.plot(test['date'], test['index'])\n",
    "plt.xticks(rotation=60)\n",
    "\n",
    "myFmt = DateFormatter(\"%m.%d %H:%M\")\n",
    "ax.xaxis.set_major_formatter(myFmt)"
   ]
  },
  {
   "cell_type": "markdown",
   "metadata": {},
   "source": [
    "# Aggregate"
   ]
  },
  {
   "cell_type": "code",
   "execution_count": 9,
   "metadata": {},
   "outputs": [],
   "source": [
    "test = comms_['l833dg']\n",
    "\n",
    "agg_text = test['body'].groupby(pd.Grouper(freq='30Min')).apply(lambda x: ','.join(x))\n",
    "agg_ncomms = test.reset_index().reset_index().set_index('date')\n",
    "agg_ncomms['index'] += 1\n",
    "agg_ncomms = agg_ncomms.groupby(pd.Grouper(freq='30Min')).count()['index']"
   ]
  },
  {
   "cell_type": "code",
   "execution_count": 10,
   "metadata": {},
   "outputs": [],
   "source": [
    "agg_post = pd.concat([agg_text, agg_ncomms], axis=1)"
   ]
  },
  {
   "cell_type": "code",
   "execution_count": 11,
   "metadata": {},
   "outputs": [
    {
     "data": {
      "text/html": [
       "<div>\n",
       "<style scoped>\n",
       "    .dataframe tbody tr th:only-of-type {\n",
       "        vertical-align: middle;\n",
       "    }\n",
       "\n",
       "    .dataframe tbody tr th {\n",
       "        vertical-align: top;\n",
       "    }\n",
       "\n",
       "    .dataframe thead th {\n",
       "        text-align: right;\n",
       "    }\n",
       "</style>\n",
       "<table border=\"1\" class=\"dataframe\">\n",
       "  <thead>\n",
       "    <tr style=\"text-align: right;\">\n",
       "      <th></th>\n",
       "      <th>body</th>\n",
       "      <th>index</th>\n",
       "    </tr>\n",
       "    <tr>\n",
       "      <th>date</th>\n",
       "      <th></th>\n",
       "      <th></th>\n",
       "    </tr>\n",
       "  </thead>\n",
       "  <tbody>\n",
       "    <tr>\n",
       "      <th>2021-01-29 20:00:00</th>\n",
       "      <td>**\\~Tl;dr\\~ Buy AMD especially under $86 and e...</td>\n",
       "      <td>32</td>\n",
       "    </tr>\n",
       "    <tr>\n",
       "      <th>2021-01-29 20:30:00</th>\n",
       "      <td>I like this stock. Bought some today 4 @ $86 t...</td>\n",
       "      <td>24</td>\n",
       "    </tr>\n",
       "    <tr>\n",
       "      <th>2021-01-29 21:00:00</th>\n",
       "      <td>Will buy after pulling out of BB,Nah but it do...</td>\n",
       "      <td>9</td>\n",
       "    </tr>\n",
       "    <tr>\n",
       "      <th>2021-01-29 21:30:00</th>\n",
       "      <td>Repost this next week tard.  To pluto we will ...</td>\n",
       "      <td>6</td>\n",
       "    </tr>\n",
       "    <tr>\n",
       "      <th>2021-01-29 22:00:00</th>\n",
       "      <td>I'll buy in next week for sure!,I definitely g...</td>\n",
       "      <td>21</td>\n",
       "    </tr>\n",
       "    <tr>\n",
       "      <th>...</th>\n",
       "      <td>...</td>\n",
       "      <td>...</td>\n",
       "    </tr>\n",
       "    <tr>\n",
       "      <th>2021-06-04 16:00:00</th>\n",
       "      <td></td>\n",
       "      <td>0</td>\n",
       "    </tr>\n",
       "    <tr>\n",
       "      <th>2021-06-04 16:30:00</th>\n",
       "      <td></td>\n",
       "      <td>0</td>\n",
       "    </tr>\n",
       "    <tr>\n",
       "      <th>2021-06-04 17:00:00</th>\n",
       "      <td></td>\n",
       "      <td>0</td>\n",
       "    </tr>\n",
       "    <tr>\n",
       "      <th>2021-06-04 17:30:00</th>\n",
       "      <td></td>\n",
       "      <td>0</td>\n",
       "    </tr>\n",
       "    <tr>\n",
       "      <th>2021-06-04 18:00:00</th>\n",
       "      <td>Excellent service my dear retard</td>\n",
       "      <td>1</td>\n",
       "    </tr>\n",
       "  </tbody>\n",
       "</table>\n",
       "<p>6045 rows × 2 columns</p>\n",
       "</div>"
      ],
      "text/plain": [
       "                                                                  body  index\n",
       "date                                                                         \n",
       "2021-01-29 20:00:00  **\\~Tl;dr\\~ Buy AMD especially under $86 and e...     32\n",
       "2021-01-29 20:30:00  I like this stock. Bought some today 4 @ $86 t...     24\n",
       "2021-01-29 21:00:00  Will buy after pulling out of BB,Nah but it do...      9\n",
       "2021-01-29 21:30:00  Repost this next week tard.  To pluto we will ...      6\n",
       "2021-01-29 22:00:00  I'll buy in next week for sure!,I definitely g...     21\n",
       "...                                                                ...    ...\n",
       "2021-06-04 16:00:00                                                         0\n",
       "2021-06-04 16:30:00                                                         0\n",
       "2021-06-04 17:00:00                                                         0\n",
       "2021-06-04 17:30:00                                                         0\n",
       "2021-06-04 18:00:00                   Excellent service my dear retard      1\n",
       "\n",
       "[6045 rows x 2 columns]"
      ]
     },
     "execution_count": 11,
     "metadata": {},
     "output_type": "execute_result"
    }
   ],
   "source": [
    "agg_post"
   ]
  },
  {
   "cell_type": "code",
   "execution_count": 12,
   "metadata": {
    "scrolled": false
   },
   "outputs": [
    {
     "data": {
      "text/plain": [
       "Index(['b51', 'b52', 'b53', 'b54', 'b55', 'b60', 'b61', 'b63', 'b64', 'b66',\n",
       "       'b68', 'b70', 'b83', 'b88', 't0', 't1', 't2', 't3', 't5', 't6', 't7',\n",
       "       't9', 't10', 't12', 't13', 'col6', '2', '6', '12', 'i6', 'i12', 'image',\n",
       "       'other', 'monday', 'tuesday', 'wednesday', 'thursday', 'friday',\n",
       "       '15:00', '16:00', '17:00', '18:00', '19:00', '22:00', 'score',\n",
       "       'comms_num', 'upvote_ratio', 'text_length', 'text_capital', '0'],\n",
       "      dtype='object')"
      ]
     },
     "execution_count": 12,
     "metadata": {},
     "output_type": "execute_result"
    }
   ],
   "source": [
    "df.columns[50:100]"
   ]
  },
  {
   "cell_type": "code",
   "execution_count": 13,
   "metadata": {},
   "outputs": [],
   "source": [
    "post_feats = ['title_length', 'title_capital', 'body_length', 'monday', 'tuesday', 'wednesday', 'thursday', 'friday', 'image']"
   ]
  },
  {
   "cell_type": "code",
   "execution_count": 14,
   "metadata": {},
   "outputs": [],
   "source": [
    "post_info = df.loc['l833dg', post_feats]"
   ]
  },
  {
   "cell_type": "code",
   "execution_count": 15,
   "metadata": {},
   "outputs": [],
   "source": [
    "for info, feat in zip(post_info, post_feats):\n",
    "    agg_post[feat] = info"
   ]
  },
  {
   "cell_type": "code",
   "execution_count": 16,
   "metadata": {},
   "outputs": [],
   "source": [
    "agg_post['post_id'] = 'l833dg'"
   ]
  },
  {
   "cell_type": "code",
   "execution_count": 17,
   "metadata": {},
   "outputs": [
    {
     "data": {
      "text/html": [
       "<div>\n",
       "<style scoped>\n",
       "    .dataframe tbody tr th:only-of-type {\n",
       "        vertical-align: middle;\n",
       "    }\n",
       "\n",
       "    .dataframe tbody tr th {\n",
       "        vertical-align: top;\n",
       "    }\n",
       "\n",
       "    .dataframe thead th {\n",
       "        text-align: right;\n",
       "    }\n",
       "</style>\n",
       "<table border=\"1\" class=\"dataframe\">\n",
       "  <thead>\n",
       "    <tr style=\"text-align: right;\">\n",
       "      <th></th>\n",
       "      <th>body</th>\n",
       "      <th>index</th>\n",
       "      <th>title_length</th>\n",
       "      <th>title_capital</th>\n",
       "      <th>body_length</th>\n",
       "      <th>monday</th>\n",
       "      <th>tuesday</th>\n",
       "      <th>wednesday</th>\n",
       "      <th>thursday</th>\n",
       "      <th>friday</th>\n",
       "      <th>image</th>\n",
       "      <th>post_id</th>\n",
       "    </tr>\n",
       "    <tr>\n",
       "      <th>date</th>\n",
       "      <th></th>\n",
       "      <th></th>\n",
       "      <th></th>\n",
       "      <th></th>\n",
       "      <th></th>\n",
       "      <th></th>\n",
       "      <th></th>\n",
       "      <th></th>\n",
       "      <th></th>\n",
       "      <th></th>\n",
       "      <th></th>\n",
       "      <th></th>\n",
       "    </tr>\n",
       "  </thead>\n",
       "  <tbody>\n",
       "    <tr>\n",
       "      <th>2021-01-29 20:00:00</th>\n",
       "      <td>**\\~Tl;dr\\~ Buy AMD especially under $86 and e...</td>\n",
       "      <td>32</td>\n",
       "      <td>29</td>\n",
       "      <td>0.285714</td>\n",
       "      <td>2647.0</td>\n",
       "      <td>0</td>\n",
       "      <td>0</td>\n",
       "      <td>0</td>\n",
       "      <td>0</td>\n",
       "      <td>1</td>\n",
       "      <td>0</td>\n",
       "      <td>l833dg</td>\n",
       "    </tr>\n",
       "    <tr>\n",
       "      <th>2021-01-29 20:30:00</th>\n",
       "      <td>I like this stock. Bought some today 4 @ $86 t...</td>\n",
       "      <td>24</td>\n",
       "      <td>29</td>\n",
       "      <td>0.285714</td>\n",
       "      <td>2647.0</td>\n",
       "      <td>0</td>\n",
       "      <td>0</td>\n",
       "      <td>0</td>\n",
       "      <td>0</td>\n",
       "      <td>1</td>\n",
       "      <td>0</td>\n",
       "      <td>l833dg</td>\n",
       "    </tr>\n",
       "    <tr>\n",
       "      <th>2021-01-29 21:00:00</th>\n",
       "      <td>Will buy after pulling out of BB,Nah but it do...</td>\n",
       "      <td>9</td>\n",
       "      <td>29</td>\n",
       "      <td>0.285714</td>\n",
       "      <td>2647.0</td>\n",
       "      <td>0</td>\n",
       "      <td>0</td>\n",
       "      <td>0</td>\n",
       "      <td>0</td>\n",
       "      <td>1</td>\n",
       "      <td>0</td>\n",
       "      <td>l833dg</td>\n",
       "    </tr>\n",
       "    <tr>\n",
       "      <th>2021-01-29 21:30:00</th>\n",
       "      <td>Repost this next week tard.  To pluto we will ...</td>\n",
       "      <td>6</td>\n",
       "      <td>29</td>\n",
       "      <td>0.285714</td>\n",
       "      <td>2647.0</td>\n",
       "      <td>0</td>\n",
       "      <td>0</td>\n",
       "      <td>0</td>\n",
       "      <td>0</td>\n",
       "      <td>1</td>\n",
       "      <td>0</td>\n",
       "      <td>l833dg</td>\n",
       "    </tr>\n",
       "    <tr>\n",
       "      <th>2021-01-29 22:00:00</th>\n",
       "      <td>I'll buy in next week for sure!,I definitely g...</td>\n",
       "      <td>21</td>\n",
       "      <td>29</td>\n",
       "      <td>0.285714</td>\n",
       "      <td>2647.0</td>\n",
       "      <td>0</td>\n",
       "      <td>0</td>\n",
       "      <td>0</td>\n",
       "      <td>0</td>\n",
       "      <td>1</td>\n",
       "      <td>0</td>\n",
       "      <td>l833dg</td>\n",
       "    </tr>\n",
       "    <tr>\n",
       "      <th>...</th>\n",
       "      <td>...</td>\n",
       "      <td>...</td>\n",
       "      <td>...</td>\n",
       "      <td>...</td>\n",
       "      <td>...</td>\n",
       "      <td>...</td>\n",
       "      <td>...</td>\n",
       "      <td>...</td>\n",
       "      <td>...</td>\n",
       "      <td>...</td>\n",
       "      <td>...</td>\n",
       "      <td>...</td>\n",
       "    </tr>\n",
       "    <tr>\n",
       "      <th>2021-06-04 16:00:00</th>\n",
       "      <td></td>\n",
       "      <td>0</td>\n",
       "      <td>29</td>\n",
       "      <td>0.285714</td>\n",
       "      <td>2647.0</td>\n",
       "      <td>0</td>\n",
       "      <td>0</td>\n",
       "      <td>0</td>\n",
       "      <td>0</td>\n",
       "      <td>1</td>\n",
       "      <td>0</td>\n",
       "      <td>l833dg</td>\n",
       "    </tr>\n",
       "    <tr>\n",
       "      <th>2021-06-04 16:30:00</th>\n",
       "      <td></td>\n",
       "      <td>0</td>\n",
       "      <td>29</td>\n",
       "      <td>0.285714</td>\n",
       "      <td>2647.0</td>\n",
       "      <td>0</td>\n",
       "      <td>0</td>\n",
       "      <td>0</td>\n",
       "      <td>0</td>\n",
       "      <td>1</td>\n",
       "      <td>0</td>\n",
       "      <td>l833dg</td>\n",
       "    </tr>\n",
       "    <tr>\n",
       "      <th>2021-06-04 17:00:00</th>\n",
       "      <td></td>\n",
       "      <td>0</td>\n",
       "      <td>29</td>\n",
       "      <td>0.285714</td>\n",
       "      <td>2647.0</td>\n",
       "      <td>0</td>\n",
       "      <td>0</td>\n",
       "      <td>0</td>\n",
       "      <td>0</td>\n",
       "      <td>1</td>\n",
       "      <td>0</td>\n",
       "      <td>l833dg</td>\n",
       "    </tr>\n",
       "    <tr>\n",
       "      <th>2021-06-04 17:30:00</th>\n",
       "      <td></td>\n",
       "      <td>0</td>\n",
       "      <td>29</td>\n",
       "      <td>0.285714</td>\n",
       "      <td>2647.0</td>\n",
       "      <td>0</td>\n",
       "      <td>0</td>\n",
       "      <td>0</td>\n",
       "      <td>0</td>\n",
       "      <td>1</td>\n",
       "      <td>0</td>\n",
       "      <td>l833dg</td>\n",
       "    </tr>\n",
       "    <tr>\n",
       "      <th>2021-06-04 18:00:00</th>\n",
       "      <td>Excellent service my dear retard</td>\n",
       "      <td>1</td>\n",
       "      <td>29</td>\n",
       "      <td>0.285714</td>\n",
       "      <td>2647.0</td>\n",
       "      <td>0</td>\n",
       "      <td>0</td>\n",
       "      <td>0</td>\n",
       "      <td>0</td>\n",
       "      <td>1</td>\n",
       "      <td>0</td>\n",
       "      <td>l833dg</td>\n",
       "    </tr>\n",
       "  </tbody>\n",
       "</table>\n",
       "<p>6045 rows × 12 columns</p>\n",
       "</div>"
      ],
      "text/plain": [
       "                                                                  body  index  \\\n",
       "date                                                                            \n",
       "2021-01-29 20:00:00  **\\~Tl;dr\\~ Buy AMD especially under $86 and e...     32   \n",
       "2021-01-29 20:30:00  I like this stock. Bought some today 4 @ $86 t...     24   \n",
       "2021-01-29 21:00:00  Will buy after pulling out of BB,Nah but it do...      9   \n",
       "2021-01-29 21:30:00  Repost this next week tard.  To pluto we will ...      6   \n",
       "2021-01-29 22:00:00  I'll buy in next week for sure!,I definitely g...     21   \n",
       "...                                                                ...    ...   \n",
       "2021-06-04 16:00:00                                                         0   \n",
       "2021-06-04 16:30:00                                                         0   \n",
       "2021-06-04 17:00:00                                                         0   \n",
       "2021-06-04 17:30:00                                                         0   \n",
       "2021-06-04 18:00:00                   Excellent service my dear retard      1   \n",
       "\n",
       "                     title_length  title_capital  body_length  monday  \\\n",
       "date                                                                    \n",
       "2021-01-29 20:00:00            29       0.285714       2647.0       0   \n",
       "2021-01-29 20:30:00            29       0.285714       2647.0       0   \n",
       "2021-01-29 21:00:00            29       0.285714       2647.0       0   \n",
       "2021-01-29 21:30:00            29       0.285714       2647.0       0   \n",
       "2021-01-29 22:00:00            29       0.285714       2647.0       0   \n",
       "...                           ...            ...          ...     ...   \n",
       "2021-06-04 16:00:00            29       0.285714       2647.0       0   \n",
       "2021-06-04 16:30:00            29       0.285714       2647.0       0   \n",
       "2021-06-04 17:00:00            29       0.285714       2647.0       0   \n",
       "2021-06-04 17:30:00            29       0.285714       2647.0       0   \n",
       "2021-06-04 18:00:00            29       0.285714       2647.0       0   \n",
       "\n",
       "                     tuesday  wednesday  thursday  friday  image post_id  \n",
       "date                                                                      \n",
       "2021-01-29 20:00:00        0          0         0       1      0  l833dg  \n",
       "2021-01-29 20:30:00        0          0         0       1      0  l833dg  \n",
       "2021-01-29 21:00:00        0          0         0       1      0  l833dg  \n",
       "2021-01-29 21:30:00        0          0         0       1      0  l833dg  \n",
       "2021-01-29 22:00:00        0          0         0       1      0  l833dg  \n",
       "...                      ...        ...       ...     ...    ...     ...  \n",
       "2021-06-04 16:00:00        0          0         0       1      0  l833dg  \n",
       "2021-06-04 16:30:00        0          0         0       1      0  l833dg  \n",
       "2021-06-04 17:00:00        0          0         0       1      0  l833dg  \n",
       "2021-06-04 17:30:00        0          0         0       1      0  l833dg  \n",
       "2021-06-04 18:00:00        0          0         0       1      0  l833dg  \n",
       "\n",
       "[6045 rows x 12 columns]"
      ]
     },
     "execution_count": 17,
     "metadata": {},
     "output_type": "execute_result"
    }
   ],
   "source": [
    "agg_post"
   ]
  },
  {
   "cell_type": "code",
   "execution_count": 18,
   "metadata": {},
   "outputs": [],
   "source": [
    "import datetime\n",
    "\n",
    "def get_aggregated(post_dict, post_id, freq, features):\n",
    "    post = post_dict[post_id]\n",
    "    \n",
    "    post = post[post.index < '2021-2-11']\n",
    "    \n",
    "    agg_text = post['body'].groupby(pd.Grouper(freq=freq)).apply(lambda x: ','.join(x))\n",
    "    agg_ncomms = post.reset_index().reset_index().set_index('date')\n",
    "    agg_ncomms['index'] += 1\n",
    "    agg_ncomms = agg_ncomms.groupby(pd.Grouper(freq=freq)).count()['index']\n",
    "    \n",
    "    agg_post = pd.concat([agg_text, agg_ncomms], axis=1)\n",
    "    \n",
    "    post_info = df.loc[post_id, features]\n",
    "    for info, feat in zip(post_info, features):\n",
    "        agg_post[feat] = info\n",
    "        \n",
    "    agg_post['post_id'] = post_id\n",
    "    \n",
    "    agg_post['post_signal'] = agg_post['post_id'].shift(1, fill_value=agg_post[\"post_id\"].head(1)) != agg_post[\"post_id\"]\n",
    "    \n",
    "    return agg_post"
   ]
  },
  {
   "cell_type": "code",
   "execution_count": 19,
   "metadata": {},
   "outputs": [],
   "source": [
    "aggs = []\n",
    "for key in comms_.keys():\n",
    "    aggs.append(get_aggregated(comms_, key, '1H', post_feats))"
   ]
  },
  {
   "cell_type": "code",
   "execution_count": 20,
   "metadata": {},
   "outputs": [],
   "source": [
    "df_posts = pd.concat(aggs)"
   ]
  },
  {
   "cell_type": "code",
   "execution_count": 21,
   "metadata": {},
   "outputs": [],
   "source": [
    "ss = df_posts['post_id'].shift(1, fill_value=df_posts[\"post_id\"].head(1)) != df_posts[\"post_id\"]"
   ]
  },
  {
   "cell_type": "code",
   "execution_count": 22,
   "metadata": {},
   "outputs": [],
   "source": [
    "df_posts['post_signal'] = ss"
   ]
  },
  {
   "cell_type": "code",
   "execution_count": 23,
   "metadata": {},
   "outputs": [
    {
     "data": {
      "text/plain": [
       "<matplotlib.axes._subplots.AxesSubplot at 0x1b2008e0>"
      ]
     },
     "execution_count": 23,
     "metadata": {},
     "output_type": "execute_result"
    },
    {
     "data": {
      "image/png": "[encoded data removed]",
      "text/plain": [
       "<Figure size 432x288 with 1 Axes>"
      ]
     },
     "metadata": {
      "needs_background": "light"
     },
     "output_type": "display_data"
    }
   ],
   "source": [
    "df_posts.reset_index()['index'].plot()"
   ]
  },
  {
   "cell_type": "markdown",
   "metadata": {},
   "source": [
    "# NLP"
   ]
  },
  {
   "cell_type": "code",
   "execution_count": 24,
   "metadata": {},
   "outputs": [],
   "source": [
    "import spacy\n",
    "\n",
    "nlp = spacy.load(\"en_core_web_sm\")"
   ]
  },
  {
   "cell_type": "code",
   "execution_count": 25,
   "metadata": {},
   "outputs": [],
   "source": [
    "def lemmatization(x):\n",
    "    if type(x) == spacy.tokens.doc.Doc:\n",
    "        return [token.lemma_ for token in x if not token.is_stop and token.is_alpha]\n",
    "    return x"
   ]
  },
  {
   "cell_type": "code",
   "execution_count": 26,
   "metadata": {},
   "outputs": [],
   "source": [
    "df_posts['body'] = df_posts['body'].apply(lambda x: nlp(x))\n",
    "df_posts['body_raw'] = df_posts['body']\n",
    "df_posts['body'] = df_posts['body'].apply(lemmatization)"
   ]
  },
  {
   "cell_type": "code",
   "execution_count": 27,
   "metadata": {},
   "outputs": [],
   "source": [
    "import emoji\n",
    "import re\n",
    "\n",
    "EMOJIS = r\"(\\:[^ ][a-zA-Z0-9\\s\\_]*\\:)\"    \n",
    "\n",
    "def get_emojis(x):\n",
    "    res = re.findall(EMOJIS, x)\n",
    "    return res\n",
    "\n",
    "def decode_emojis(x):\n",
    "    decoded = emoji.demojize(str(x))\n",
    "    decoded = decoded.replace('::', ' ')\n",
    "    emojis = get_emojis(decoded)\n",
    "    \n",
    "    emoji_list = []\n",
    "    for emo in emojis:\n",
    "        emo = emo.replace(':', '')\n",
    "        emo = emo.split(\" \")\n",
    "        \n",
    "        if type(emo) == list:\n",
    "            emoji_list.extend(emo)\n",
    "        else:\n",
    "            emoji_list.append(emo)\n",
    "        \n",
    "    return emoji_list"
   ]
  },
  {
   "cell_type": "code",
   "execution_count": 28,
   "metadata": {},
   "outputs": [],
   "source": [
    "emojis = df_posts['body_raw'].apply(decode_emojis)\n",
    "df_posts['body'] += emojis"
   ]
  },
  {
   "cell_type": "code",
   "execution_count": 29,
   "metadata": {},
   "outputs": [],
   "source": [
    "from collections import Counter\n",
    "import seaborn as sns\n",
    "\n",
    "def get_vocab(data, n):\n",
    "    words = Counter()\n",
    "    for i in data.index:\n",
    "        words.update(data.at[i])\n",
    "\n",
    "    return words.most_common(n)\n",
    "\n",
    "def show_histogram(word_counts, title=None):\n",
    "    plot_df = pd.DataFrame.from_dict(word_counts).rename(columns={0:'Token', 1:'Count'})\n",
    "    \n",
    "    f, ax = plt.subplots(figsize=(12, 15))\n",
    "    p = sns.barplot(x=\"Count\", y=\"Token\", data=plot_df, color=\"b\")\n",
    "    p.set(xlabel=\"Count\", ylabel=\"\", title=title)"
   ]
  },
  {
   "cell_type": "code",
   "execution_count": 30,
   "metadata": {},
   "outputs": [],
   "source": [
    "df_posts['body'] = df_posts['body'].fillna(value='')\n",
    "vocab = get_vocab(df_posts['body'].reset_index()['body'], 100)"
   ]
  },
  {
   "cell_type": "code",
   "execution_count": 31,
   "metadata": {},
   "outputs": [
    {
     "data": {
      "image/png": "[encoded data removed]",
      "text/plain": [
       "<Figure size 864x1080 with 1 Axes>"
      ]
     },
     "metadata": {
      "needs_background": "light"
     },
     "output_type": "display_data"
    }
   ],
   "source": [
    "show_histogram(vocab)"
   ]
  },
  {
   "cell_type": "code",
   "execution_count": 32,
   "metadata": {},
   "outputs": [],
   "source": [
    "def bag_of_words(x, most_freq):\n",
    "    sent_vec = []\n",
    "    for token in most_freq:\n",
    "        if token in x:\n",
    "            sent_vec.append(x.count(token))\n",
    "        else:\n",
    "            sent_vec.append(0)\n",
    "    return sent_vec"
   ]
  },
  {
   "cell_type": "code",
   "execution_count": 33,
   "metadata": {},
   "outputs": [],
   "source": [
    "feature_dict = [key for key, _ in vocab]\n",
    "\n",
    "df_posts['body_bow'] = df_posts['body'].apply(lambda x: bag_of_words(x, feature_dict))"
   ]
  },
  {
   "cell_type": "code",
   "execution_count": 34,
   "metadata": {},
   "outputs": [],
   "source": [
    "import numpy as np\n",
    "\n",
    "body_bow = df_posts['body_bow']\n",
    "body_bow = body_bow.apply(lambda x: np.asarray(x))\n",
    "\n",
    "body_ind = ['b'+str(x) for x in range(100)]\n",
    "df_body = pd.DataFrame(body_bow.values.tolist(), columns=body_ind)\n",
    "\n",
    "df_posts = df_posts.reset_index().join(df_body)"
   ]
  },
  {
   "cell_type": "markdown",
   "metadata": {},
   "source": [
    "# Features"
   ]
  },
  {
   "cell_type": "code",
   "execution_count": 35,
   "metadata": {},
   "outputs": [],
   "source": [
    "fuz = body_ind + post_feats + ['post_signal']\n",
    "X = df_posts[fuz]"
   ]
  },
  {
   "cell_type": "code",
   "execution_count": 36,
   "metadata": {},
   "outputs": [],
   "source": [
    "num = []\n",
    "counter = 0\n",
    "for index, row in X.iterrows():\n",
    "    if row['post_signal']:\n",
    "        counter = 0\n",
    "    num.append(counter)\n",
    "    counter += 1"
   ]
  },
  {
   "cell_type": "code",
   "execution_count": 37,
   "metadata": {},
   "outputs": [
    {
     "name": "stderr",
     "output_type": "stream",
     "text": [
      "<ipython-input-37-e3dddb1a97f0>:1: SettingWithCopyWarning: \n",
      "A value is trying to be set on a copy of a slice from a DataFrame.\n",
      "Try using .loc[row_indexer,col_indexer] = value instead\n",
      "\n",
      "See the caveats in the documentation: https://pandas.pydata.org/pandas-docs/stable/user_guide/indexing.html#returning-a-view-versus-a-copy\n",
      "  X['obs'] = num\n"
     ]
    }
   ],
   "source": [
    "X['obs'] = num"
   ]
  },
  {
   "cell_type": "code",
   "execution_count": 38,
   "metadata": {},
   "outputs": [],
   "source": [
    "X = X.drop(['post_signal'], axis=1)"
   ]
  },
  {
   "cell_type": "code",
   "execution_count": 39,
   "metadata": {},
   "outputs": [
    {
     "data": {
      "text/html": [
       "<div>\n",
       "<style scoped>\n",
       "    .dataframe tbody tr th:only-of-type {\n",
       "        vertical-align: middle;\n",
       "    }\n",
       "\n",
       "    .dataframe tbody tr th {\n",
       "        vertical-align: top;\n",
       "    }\n",
       "\n",
       "    .dataframe thead th {\n",
       "        text-align: right;\n",
       "    }\n",
       "</style>\n",
       "<table border=\"1\" class=\"dataframe\">\n",
       "  <thead>\n",
       "    <tr style=\"text-align: right;\">\n",
       "      <th></th>\n",
       "      <th>b0</th>\n",
       "      <th>b1</th>\n",
       "      <th>b2</th>\n",
       "      <th>b3</th>\n",
       "      <th>b4</th>\n",
       "      <th>b5</th>\n",
       "      <th>b6</th>\n",
       "      <th>b7</th>\n",
       "      <th>b8</th>\n",
       "      <th>b9</th>\n",
       "      <th>...</th>\n",
       "      <th>title_length</th>\n",
       "      <th>title_capital</th>\n",
       "      <th>body_length</th>\n",
       "      <th>monday</th>\n",
       "      <th>tuesday</th>\n",
       "      <th>wednesday</th>\n",
       "      <th>thursday</th>\n",
       "      <th>friday</th>\n",
       "      <th>image</th>\n",
       "      <th>obs</th>\n",
       "    </tr>\n",
       "  </thead>\n",
       "  <tbody>\n",
       "    <tr>\n",
       "      <th>0</th>\n",
       "      <td>1</td>\n",
       "      <td>0</td>\n",
       "      <td>1</td>\n",
       "      <td>0</td>\n",
       "      <td>0</td>\n",
       "      <td>0</td>\n",
       "      <td>1</td>\n",
       "      <td>0</td>\n",
       "      <td>0</td>\n",
       "      <td>0</td>\n",
       "      <td>...</td>\n",
       "      <td>8</td>\n",
       "      <td>0.173913</td>\n",
       "      <td>149.0</td>\n",
       "      <td>0</td>\n",
       "      <td>0</td>\n",
       "      <td>1</td>\n",
       "      <td>0</td>\n",
       "      <td>0</td>\n",
       "      <td>0</td>\n",
       "      <td>0</td>\n",
       "    </tr>\n",
       "    <tr>\n",
       "      <th>1</th>\n",
       "      <td>0</td>\n",
       "      <td>2</td>\n",
       "      <td>4</td>\n",
       "      <td>1</td>\n",
       "      <td>3</td>\n",
       "      <td>3</td>\n",
       "      <td>0</td>\n",
       "      <td>0</td>\n",
       "      <td>0</td>\n",
       "      <td>4</td>\n",
       "      <td>...</td>\n",
       "      <td>8</td>\n",
       "      <td>0.173913</td>\n",
       "      <td>149.0</td>\n",
       "      <td>0</td>\n",
       "      <td>0</td>\n",
       "      <td>1</td>\n",
       "      <td>0</td>\n",
       "      <td>0</td>\n",
       "      <td>0</td>\n",
       "      <td>1</td>\n",
       "    </tr>\n",
       "    <tr>\n",
       "      <th>2</th>\n",
       "      <td>0</td>\n",
       "      <td>0</td>\n",
       "      <td>0</td>\n",
       "      <td>0</td>\n",
       "      <td>0</td>\n",
       "      <td>0</td>\n",
       "      <td>0</td>\n",
       "      <td>0</td>\n",
       "      <td>0</td>\n",
       "      <td>0</td>\n",
       "      <td>...</td>\n",
       "      <td>8</td>\n",
       "      <td>0.173913</td>\n",
       "      <td>149.0</td>\n",
       "      <td>0</td>\n",
       "      <td>0</td>\n",
       "      <td>1</td>\n",
       "      <td>0</td>\n",
       "      <td>0</td>\n",
       "      <td>0</td>\n",
       "      <td>2</td>\n",
       "    </tr>\n",
       "    <tr>\n",
       "      <th>3</th>\n",
       "      <td>0</td>\n",
       "      <td>0</td>\n",
       "      <td>0</td>\n",
       "      <td>0</td>\n",
       "      <td>0</td>\n",
       "      <td>0</td>\n",
       "      <td>0</td>\n",
       "      <td>0</td>\n",
       "      <td>0</td>\n",
       "      <td>0</td>\n",
       "      <td>...</td>\n",
       "      <td>8</td>\n",
       "      <td>0.173913</td>\n",
       "      <td>149.0</td>\n",
       "      <td>0</td>\n",
       "      <td>0</td>\n",
       "      <td>1</td>\n",
       "      <td>0</td>\n",
       "      <td>0</td>\n",
       "      <td>0</td>\n",
       "      <td>3</td>\n",
       "    </tr>\n",
       "    <tr>\n",
       "      <th>4</th>\n",
       "      <td>0</td>\n",
       "      <td>4</td>\n",
       "      <td>3</td>\n",
       "      <td>2</td>\n",
       "      <td>0</td>\n",
       "      <td>2</td>\n",
       "      <td>6</td>\n",
       "      <td>1</td>\n",
       "      <td>0</td>\n",
       "      <td>1</td>\n",
       "      <td>...</td>\n",
       "      <td>8</td>\n",
       "      <td>0.173913</td>\n",
       "      <td>149.0</td>\n",
       "      <td>0</td>\n",
       "      <td>0</td>\n",
       "      <td>1</td>\n",
       "      <td>0</td>\n",
       "      <td>0</td>\n",
       "      <td>0</td>\n",
       "      <td>4</td>\n",
       "    </tr>\n",
       "    <tr>\n",
       "      <th>...</th>\n",
       "      <td>...</td>\n",
       "      <td>...</td>\n",
       "      <td>...</td>\n",
       "      <td>...</td>\n",
       "      <td>...</td>\n",
       "      <td>...</td>\n",
       "      <td>...</td>\n",
       "      <td>...</td>\n",
       "      <td>...</td>\n",
       "      <td>...</td>\n",
       "      <td>...</td>\n",
       "      <td>...</td>\n",
       "      <td>...</td>\n",
       "      <td>...</td>\n",
       "      <td>...</td>\n",
       "      <td>...</td>\n",
       "      <td>...</td>\n",
       "      <td>...</td>\n",
       "      <td>...</td>\n",
       "      <td>...</td>\n",
       "      <td>...</td>\n",
       "    </tr>\n",
       "    <tr>\n",
       "      <th>4730</th>\n",
       "      <td>0</td>\n",
       "      <td>0</td>\n",
       "      <td>0</td>\n",
       "      <td>0</td>\n",
       "      <td>0</td>\n",
       "      <td>0</td>\n",
       "      <td>0</td>\n",
       "      <td>0</td>\n",
       "      <td>0</td>\n",
       "      <td>0</td>\n",
       "      <td>...</td>\n",
       "      <td>16</td>\n",
       "      <td>0.105263</td>\n",
       "      <td>0.0</td>\n",
       "      <td>0</td>\n",
       "      <td>0</td>\n",
       "      <td>1</td>\n",
       "      <td>0</td>\n",
       "      <td>0</td>\n",
       "      <td>0</td>\n",
       "      <td>32</td>\n",
       "    </tr>\n",
       "    <tr>\n",
       "      <th>4731</th>\n",
       "      <td>0</td>\n",
       "      <td>0</td>\n",
       "      <td>0</td>\n",
       "      <td>0</td>\n",
       "      <td>0</td>\n",
       "      <td>0</td>\n",
       "      <td>0</td>\n",
       "      <td>0</td>\n",
       "      <td>0</td>\n",
       "      <td>0</td>\n",
       "      <td>...</td>\n",
       "      <td>16</td>\n",
       "      <td>0.105263</td>\n",
       "      <td>0.0</td>\n",
       "      <td>0</td>\n",
       "      <td>0</td>\n",
       "      <td>1</td>\n",
       "      <td>0</td>\n",
       "      <td>0</td>\n",
       "      <td>0</td>\n",
       "      <td>33</td>\n",
       "    </tr>\n",
       "    <tr>\n",
       "      <th>4732</th>\n",
       "      <td>0</td>\n",
       "      <td>0</td>\n",
       "      <td>0</td>\n",
       "      <td>0</td>\n",
       "      <td>0</td>\n",
       "      <td>0</td>\n",
       "      <td>0</td>\n",
       "      <td>0</td>\n",
       "      <td>0</td>\n",
       "      <td>0</td>\n",
       "      <td>...</td>\n",
       "      <td>16</td>\n",
       "      <td>0.105263</td>\n",
       "      <td>0.0</td>\n",
       "      <td>0</td>\n",
       "      <td>0</td>\n",
       "      <td>1</td>\n",
       "      <td>0</td>\n",
       "      <td>0</td>\n",
       "      <td>0</td>\n",
       "      <td>34</td>\n",
       "    </tr>\n",
       "    <tr>\n",
       "      <th>4733</th>\n",
       "      <td>0</td>\n",
       "      <td>0</td>\n",
       "      <td>0</td>\n",
       "      <td>0</td>\n",
       "      <td>0</td>\n",
       "      <td>0</td>\n",
       "      <td>0</td>\n",
       "      <td>0</td>\n",
       "      <td>0</td>\n",
       "      <td>0</td>\n",
       "      <td>...</td>\n",
       "      <td>16</td>\n",
       "      <td>0.105263</td>\n",
       "      <td>0.0</td>\n",
       "      <td>0</td>\n",
       "      <td>0</td>\n",
       "      <td>1</td>\n",
       "      <td>0</td>\n",
       "      <td>0</td>\n",
       "      <td>0</td>\n",
       "      <td>35</td>\n",
       "    </tr>\n",
       "    <tr>\n",
       "      <th>4734</th>\n",
       "      <td>0</td>\n",
       "      <td>0</td>\n",
       "      <td>0</td>\n",
       "      <td>0</td>\n",
       "      <td>0</td>\n",
       "      <td>0</td>\n",
       "      <td>0</td>\n",
       "      <td>0</td>\n",
       "      <td>0</td>\n",
       "      <td>0</td>\n",
       "      <td>...</td>\n",
       "      <td>16</td>\n",
       "      <td>0.105263</td>\n",
       "      <td>0.0</td>\n",
       "      <td>0</td>\n",
       "      <td>0</td>\n",
       "      <td>1</td>\n",
       "      <td>0</td>\n",
       "      <td>0</td>\n",
       "      <td>0</td>\n",
       "      <td>36</td>\n",
       "    </tr>\n",
       "  </tbody>\n",
       "</table>\n",
       "<p>4735 rows × 110 columns</p>\n",
       "</div>"
      ],
      "text/plain": [
       "      b0  b1  b2  b3  b4  b5  b6  b7  b8  b9  ...  title_length  \\\n",
       "0      1   0   1   0   0   0   1   0   0   0  ...             8   \n",
       "1      0   2   4   1   3   3   0   0   0   4  ...             8   \n",
       "2      0   0   0   0   0   0   0   0   0   0  ...             8   \n",
       "3      0   0   0   0   0   0   0   0   0   0  ...             8   \n",
       "4      0   4   3   2   0   2   6   1   0   1  ...             8   \n",
       "...   ..  ..  ..  ..  ..  ..  ..  ..  ..  ..  ...           ...   \n",
       "4730   0   0   0   0   0   0   0   0   0   0  ...            16   \n",
       "4731   0   0   0   0   0   0   0   0   0   0  ...            16   \n",
       "4732   0   0   0   0   0   0   0   0   0   0  ...            16   \n",
       "4733   0   0   0   0   0   0   0   0   0   0  ...            16   \n",
       "4734   0   0   0   0   0   0   0   0   0   0  ...            16   \n",
       "\n",
       "      title_capital  body_length  monday  tuesday  wednesday  thursday  \\\n",
       "0          0.173913        149.0       0        0          1         0   \n",
       "1          0.173913        149.0       0        0          1         0   \n",
       "2          0.173913        149.0       0        0          1         0   \n",
       "3          0.173913        149.0       0        0          1         0   \n",
       "4          0.173913        149.0       0        0          1         0   \n",
       "...             ...          ...     ...      ...        ...       ...   \n",
       "4730       0.105263          0.0       0        0          1         0   \n",
       "4731       0.105263          0.0       0        0          1         0   \n",
       "4732       0.105263          0.0       0        0          1         0   \n",
       "4733       0.105263          0.0       0        0          1         0   \n",
       "4734       0.105263          0.0       0        0          1         0   \n",
       "\n",
       "      friday  image  obs  \n",
       "0          0      0    0  \n",
       "1          0      0    1  \n",
       "2          0      0    2  \n",
       "3          0      0    3  \n",
       "4          0      0    4  \n",
       "...      ...    ...  ...  \n",
       "4730       0      0   32  \n",
       "4731       0      0   33  \n",
       "4732       0      0   34  \n",
       "4733       0      0   35  \n",
       "4734       0      0   36  \n",
       "\n",
       "[4735 rows x 110 columns]"
      ]
     },
     "execution_count": 39,
     "metadata": {},
     "output_type": "execute_result"
    }
   ],
   "source": [
    "X"
   ]
  },
  {
   "cell_type": "code",
   "execution_count": 40,
   "metadata": {},
   "outputs": [],
   "source": [
    "y = df_posts['index'].shift(-1).fillna('0')"
   ]
  },
  {
   "cell_type": "markdown",
   "metadata": {},
   "source": [
    "# Model"
   ]
  },
  {
   "cell_type": "code",
   "execution_count": 59,
   "metadata": {},
   "outputs": [],
   "source": [
    "import torch\n",
    "import torch.nn as nn\n",
    "import torch.nn.functional as F\n",
    "import torch.optim as optim\n",
    "from torch.utils.data import TensorDataset, DataLoader"
   ]
  },
  {
   "cell_type": "code",
   "execution_count": 60,
   "metadata": {},
   "outputs": [],
   "source": [
    "from sklearn.model_selection import train_test_split\n",
    "from sklearn.preprocessing import MinMaxScaler\n",
    "\n",
    "scaler = MinMaxScaler()\n",
    "scaler_y = MinMaxScaler()\n",
    "\n",
    "X_train, X_test, y_train, y_test = train_test_split(X, y, test_size=0.2, random_state=42, shuffle=True)\n",
    "\n",
    "X_train = scaler.fit_transform(X_train)\n",
    "X_test = scaler.transform(X_test)\n",
    "\n",
    "y_train = scaler_y.fit_transform(y_train.values.reshape(-1, 1))\n",
    "y_test = scaler_y.transform(y_test.values.reshape(-1, 1))\n",
    "\n",
    "tensor_train_x = torch.Tensor(X_train)\n",
    "tensor_train_y = torch.Tensor(y_train)\n",
    "\n",
    "train_dataset = TensorDataset(tensor_train_x, tensor_train_y)\n",
    "\n",
    "tensor_x = torch.Tensor(X_test)\n",
    "tensor_y = torch.Tensor(y_test)\n",
    "\n",
    "test_dataset = TensorDataset(tensor_x, tensor_y)\n",
    "\n",
    "train_dataloader = DataLoader(train_dataset, batch_size=256, shuffle=True)\n",
    "test_dataloader = DataLoader(test_dataset, batch_size=256, shuffle=True)"
   ]
  },
  {
   "cell_type": "code",
   "execution_count": 61,
   "metadata": {},
   "outputs": [],
   "source": [
    "class Model(nn.Module):\n",
    "    def __init__(self, in_sz, out_sz, layers, p=0.5):\n",
    "        super().__init__()\n",
    "        \n",
    "        layerlist = []\n",
    "        \n",
    "        for i in layers:\n",
    "            layerlist.append(nn.Linear(in_sz, i)) \n",
    "            layerlist.append(nn.ReLU(inplace=True))\n",
    "            layerlist.append(nn.BatchNorm1d(i))\n",
    "            layerlist.append(nn.Dropout(p))\n",
    "            in_sz = i\n",
    "        layerlist.append(nn.Linear(layers[-1],out_sz))\n",
    "            \n",
    "        self.layers = nn.Sequential(*layerlist)\n",
    "    \n",
    "    def forward(self, x):\n",
    "        x = self.layers(x)\n",
    "        return x"
   ]
  },
  {
   "cell_type": "code",
   "execution_count": 62,
   "metadata": {},
   "outputs": [],
   "source": [
    "model = Model(X.shape[1], 1, [1000, 100, 10], p=0.4)"
   ]
  },
  {
   "cell_type": "code",
   "execution_count": 63,
   "metadata": {},
   "outputs": [],
   "source": [
    "criterion = nn.L1Loss()\n",
    "optimizer = torch.optim.Adam(model.parameters(), lr=0.01)"
   ]
  },
  {
   "cell_type": "code",
   "execution_count": 64,
   "metadata": {},
   "outputs": [
    {
     "data": {
      "application/vnd.jupyter.widget-view+json": {
       "model_id": "dc41d307f33e4f19882d56dfc17b1bca",
       "version_major": 2,
       "version_minor": 0
      },
      "text/plain": [
       "HBox(children=(FloatProgress(value=0.0, max=15.0), HTML(value='')))"
      ]
     },
     "metadata": {},
     "output_type": "display_data"
    },
    {
     "name": "stdout",
     "output_type": "stream",
     "text": [
      "\n",
      "Epoch 1, loss: 3.4073993861675262\n"
     ]
    },
    {
     "data": {
      "application/vnd.jupyter.widget-view+json": {
       "model_id": "1fc2a27abfda483699275e804660b3f5",
       "version_major": 2,
       "version_minor": 0
      },
      "text/plain": [
       "HBox(children=(FloatProgress(value=0.0, max=15.0), HTML(value='')))"
      ]
     },
     "metadata": {},
     "output_type": "display_data"
    },
    {
     "name": "stdout",
     "output_type": "stream",
     "text": [
      "\n",
      "Epoch 2, loss: 0.6216913275420666\n"
     ]
    },
    {
     "data": {
      "application/vnd.jupyter.widget-view+json": {
       "model_id": "b65254cd105d480c9121b141f6a9f19c",
       "version_major": 2,
       "version_minor": 0
      },
      "text/plain": [
       "HBox(children=(FloatProgress(value=0.0, max=15.0), HTML(value='')))"
      ]
     },
     "metadata": {},
     "output_type": "display_data"
    },
    {
     "name": "stdout",
     "output_type": "stream",
     "text": [
      "\n",
      "Epoch 3, loss: 0.2302236589603126\n"
     ]
    },
    {
     "data": {
      "application/vnd.jupyter.widget-view+json": {
       "model_id": "7aa9c33da47342c6a5d190d33e0b8f64",
       "version_major": 2,
       "version_minor": 0
      },
      "text/plain": [
       "HBox(children=(FloatProgress(value=0.0, max=15.0), HTML(value='')))"
      ]
     },
     "metadata": {},
     "output_type": "display_data"
    },
    {
     "name": "stdout",
     "output_type": "stream",
     "text": [
      "\n",
      "Epoch 4, loss: 0.13617949699983\n"
     ]
    },
    {
     "data": {
      "application/vnd.jupyter.widget-view+json": {
       "model_id": "d371ca2590634c33b42b300d064bbe52",
       "version_major": 2,
       "version_minor": 0
      },
      "text/plain": [
       "HBox(children=(FloatProgress(value=0.0, max=15.0), HTML(value='')))"
      ]
     },
     "metadata": {},
     "output_type": "display_data"
    },
    {
     "name": "stdout",
     "output_type": "stream",
     "text": [
      "\n",
      "Epoch 5, loss: 0.11325137969106436\n"
     ]
    },
    {
     "data": {
      "application/vnd.jupyter.widget-view+json": {
       "model_id": "4bb5135e24ee4c808e7f89915e3f6305",
       "version_major": 2,
       "version_minor": 0
      },
      "text/plain": [
       "HBox(children=(FloatProgress(value=0.0, max=15.0), HTML(value='')))"
      ]
     },
     "metadata": {},
     "output_type": "display_data"
    },
    {
     "name": "stdout",
     "output_type": "stream",
     "text": [
      "\n",
      "Epoch 6, loss: 0.103062704205513\n"
     ]
    },
    {
     "data": {
      "application/vnd.jupyter.widget-view+json": {
       "model_id": "1bf39abe01234160adae3a6b14e4e7eb",
       "version_major": 2,
       "version_minor": 0
      },
      "text/plain": [
       "HBox(children=(FloatProgress(value=0.0, max=15.0), HTML(value='')))"
      ]
     },
     "metadata": {},
     "output_type": "display_data"
    },
    {
     "name": "stdout",
     "output_type": "stream",
     "text": [
      "\n",
      "Epoch 7, loss: 0.11674171080812812\n"
     ]
    },
    {
     "data": {
      "application/vnd.jupyter.widget-view+json": {
       "model_id": "9830538b821f4f5d823957a17a1924cf",
       "version_major": 2,
       "version_minor": 0
      },
      "text/plain": [
       "HBox(children=(FloatProgress(value=0.0, max=15.0), HTML(value='')))"
      ]
     },
     "metadata": {},
     "output_type": "display_data"
    },
    {
     "name": "stdout",
     "output_type": "stream",
     "text": [
      "\n",
      "Epoch 8, loss: 0.12520099710673094\n"
     ]
    },
    {
     "data": {
      "application/vnd.jupyter.widget-view+json": {
       "model_id": "261035e896b94bfd870e7b714c5ddb4d",
       "version_major": 2,
       "version_minor": 0
      },
      "text/plain": [
       "HBox(children=(FloatProgress(value=0.0, max=15.0), HTML(value='')))"
      ]
     },
     "metadata": {},
     "output_type": "display_data"
    },
    {
     "name": "stdout",
     "output_type": "stream",
     "text": [
      "\n",
      "Epoch 9, loss: 0.10230351076461375\n"
     ]
    },
    {
     "data": {
      "application/vnd.jupyter.widget-view+json": {
       "model_id": "ffedca80c03f4b7581de9827ce90c459",
       "version_major": 2,
       "version_minor": 0
      },
      "text/plain": [
       "HBox(children=(FloatProgress(value=0.0, max=15.0), HTML(value='')))"
      ]
     },
     "metadata": {},
     "output_type": "display_data"
    },
    {
     "name": "stdout",
     "output_type": "stream",
     "text": [
      "\n",
      "Epoch 10, loss: 0.10192488366737962\n"
     ]
    },
    {
     "data": {
      "application/vnd.jupyter.widget-view+json": {
       "model_id": "725c729ec8ef4f6192d8ae8d944940d6",
       "version_major": 2,
       "version_minor": 0
      },
      "text/plain": [
       "HBox(children=(FloatProgress(value=0.0, max=15.0), HTML(value='')))"
      ]
     },
     "metadata": {},
     "output_type": "display_data"
    },
    {
     "name": "stdout",
     "output_type": "stream",
     "text": [
      "\n",
      "Epoch 11, loss: 0.09843473182991147\n"
     ]
    },
    {
     "data": {
      "application/vnd.jupyter.widget-view+json": {
       "model_id": "491bd77684b046bebb07587a7ac18404",
       "version_major": 2,
       "version_minor": 0
      },
      "text/plain": [
       "HBox(children=(FloatProgress(value=0.0, max=15.0), HTML(value='')))"
      ]
     },
     "metadata": {},
     "output_type": "display_data"
    },
    {
     "name": "stdout",
     "output_type": "stream",
     "text": [
      "\n",
      "Epoch 12, loss: 0.09765157522633672\n"
     ]
    },
    {
     "data": {
      "application/vnd.jupyter.widget-view+json": {
       "model_id": "119b969a65ec45288d4d5d53101c2c55",
       "version_major": 2,
       "version_minor": 0
      },
      "text/plain": [
       "HBox(children=(FloatProgress(value=0.0, max=15.0), HTML(value='')))"
      ]
     },
     "metadata": {},
     "output_type": "display_data"
    },
    {
     "name": "stdout",
     "output_type": "stream",
     "text": [
      "\n",
      "Epoch 13, loss: 0.10021243849769235\n"
     ]
    },
    {
     "data": {
      "application/vnd.jupyter.widget-view+json": {
       "model_id": "d5ad6199f231462299fd3d80d36e94d0",
       "version_major": 2,
       "version_minor": 0
      },
      "text/plain": [
       "HBox(children=(FloatProgress(value=0.0, max=15.0), HTML(value='')))"
      ]
     },
     "metadata": {},
     "output_type": "display_data"
    },
    {
     "name": "stdout",
     "output_type": "stream",
     "text": [
      "\n",
      "Epoch 14, loss: 0.10589544125832617\n"
     ]
    },
    {
     "data": {
      "application/vnd.jupyter.widget-view+json": {
       "model_id": "242503c466e4462ca3ebb164d4e3f579",
       "version_major": 2,
       "version_minor": 0
      },
      "text/plain": [
       "HBox(children=(FloatProgress(value=0.0, max=15.0), HTML(value='')))"
      ]
     },
     "metadata": {},
     "output_type": "display_data"
    },
    {
     "name": "stdout",
     "output_type": "stream",
     "text": [
      "\n",
      "Epoch 15, loss: 0.11694085318595171\n"
     ]
    },
    {
     "data": {
      "application/vnd.jupyter.widget-view+json": {
       "model_id": "989715f7434d4b32b4fceed8896054b6",
       "version_major": 2,
       "version_minor": 0
      },
      "text/plain": [
       "HBox(children=(FloatProgress(value=0.0, max=15.0), HTML(value='')))"
      ]
     },
     "metadata": {},
     "output_type": "display_data"
    },
    {
     "name": "stdout",
     "output_type": "stream",
     "text": [
      "\n",
      "Epoch 16, loss: 0.10768810845911503\n"
     ]
    },
    {
     "data": {
      "application/vnd.jupyter.widget-view+json": {
       "model_id": "ad2ca2c5b82c4f3297b6649d3ad4be54",
       "version_major": 2,
       "version_minor": 0
      },
      "text/plain": [
       "HBox(children=(FloatProgress(value=0.0, max=15.0), HTML(value='')))"
      ]
     },
     "metadata": {},
     "output_type": "display_data"
    },
    {
     "name": "stdout",
     "output_type": "stream",
     "text": [
      "\n",
      "Epoch 17, loss: 0.09916659258306026\n"
     ]
    },
    {
     "data": {
      "application/vnd.jupyter.widget-view+json": {
       "model_id": "77d166df8493454783f1c0cc0d99091b",
       "version_major": 2,
       "version_minor": 0
      },
      "text/plain": [
       "HBox(children=(FloatProgress(value=0.0, max=15.0), HTML(value='')))"
      ]
     },
     "metadata": {},
     "output_type": "display_data"
    },
    {
     "name": "stdout",
     "output_type": "stream",
     "text": [
      "\n",
      "Epoch 18, loss: 0.10919464379549026\n"
     ]
    },
    {
     "data": {
      "application/vnd.jupyter.widget-view+json": {
       "model_id": "33b86dee922d460596802901c9ec4480",
       "version_major": 2,
       "version_minor": 0
      },
      "text/plain": [
       "HBox(children=(FloatProgress(value=0.0, max=15.0), HTML(value='')))"
      ]
     },
     "metadata": {},
     "output_type": "display_data"
    },
    {
     "name": "stdout",
     "output_type": "stream",
     "text": [
      "\n",
      "Epoch 19, loss: 0.10435728216543794\n"
     ]
    },
    {
     "data": {
      "application/vnd.jupyter.widget-view+json": {
       "model_id": "ec7428b61be8457fbae42c93d62b83ac",
       "version_major": 2,
       "version_minor": 0
      },
      "text/plain": [
       "HBox(children=(FloatProgress(value=0.0, max=15.0), HTML(value='')))"
      ]
     },
     "metadata": {},
     "output_type": "display_data"
    },
    {
     "name": "stdout",
     "output_type": "stream",
     "text": [
      "\n",
      "Epoch 20, loss: 0.10618373565375805\n"
     ]
    },
    {
     "data": {
      "application/vnd.jupyter.widget-view+json": {
       "model_id": "3c08e3f6e14f498ea5a9ad8842aecc3f",
       "version_major": 2,
       "version_minor": 0
      },
      "text/plain": [
       "HBox(children=(FloatProgress(value=0.0, max=15.0), HTML(value='')))"
      ]
     },
     "metadata": {},
     "output_type": "display_data"
    },
    {
     "name": "stdout",
     "output_type": "stream",
     "text": [
      "\n",
      "Epoch 21, loss: 0.11013891268521547\n"
     ]
    },
    {
     "data": {
      "application/vnd.jupyter.widget-view+json": {
       "model_id": "15e514f85de34af488e49715f565d841",
       "version_major": 2,
       "version_minor": 0
      },
      "text/plain": [
       "HBox(children=(FloatProgress(value=0.0, max=15.0), HTML(value='')))"
      ]
     },
     "metadata": {},
     "output_type": "display_data"
    },
    {
     "name": "stdout",
     "output_type": "stream",
     "text": [
      "\n",
      "Epoch 22, loss: 0.1251298754941672\n"
     ]
    },
    {
     "data": {
      "application/vnd.jupyter.widget-view+json": {
       "model_id": "a090fb8c9bbb45ca8356646c45119d68",
       "version_major": 2,
       "version_minor": 0
      },
      "text/plain": [
       "HBox(children=(FloatProgress(value=0.0, max=15.0), HTML(value='')))"
      ]
     },
     "metadata": {},
     "output_type": "display_data"
    },
    {
     "name": "stdout",
     "output_type": "stream",
     "text": [
      "\n",
      "Epoch 23, loss: 0.0971823032014072\n"
     ]
    },
    {
     "data": {
      "application/vnd.jupyter.widget-view+json": {
       "model_id": "bbc5fdd5180249d1a6feecd01764e068",
       "version_major": 2,
       "version_minor": 0
      },
      "text/plain": [
       "HBox(children=(FloatProgress(value=0.0, max=15.0), HTML(value='')))"
      ]
     },
     "metadata": {},
     "output_type": "display_data"
    },
    {
     "name": "stdout",
     "output_type": "stream",
     "text": [
      "\n",
      "Epoch 24, loss: 0.097188217099756\n"
     ]
    },
    {
     "data": {
      "application/vnd.jupyter.widget-view+json": {
       "model_id": "9ec7051ffa9a4c4da4f39548ee4d6105",
       "version_major": 2,
       "version_minor": 0
      },
      "text/plain": [
       "HBox(children=(FloatProgress(value=0.0, max=15.0), HTML(value='')))"
      ]
     },
     "metadata": {},
     "output_type": "display_data"
    },
    {
     "name": "stdout",
     "output_type": "stream",
     "text": [
      "\n",
      "Epoch 25, loss: 0.093163070268929\n"
     ]
    },
    {
     "data": {
      "application/vnd.jupyter.widget-view+json": {
       "model_id": "f0c8444058ac492f8efe12d89cad64c6",
       "version_major": 2,
       "version_minor": 0
      },
      "text/plain": [
       "HBox(children=(FloatProgress(value=0.0, max=15.0), HTML(value='')))"
      ]
     },
     "metadata": {},
     "output_type": "display_data"
    },
    {
     "name": "stdout",
     "output_type": "stream",
     "text": [
      "\n",
      "Epoch 26, loss: 0.09391088294796646\n"
     ]
    },
    {
     "data": {
      "application/vnd.jupyter.widget-view+json": {
       "model_id": "6b6aa54727914f51bf399f21f6bf385a",
       "version_major": 2,
       "version_minor": 0
      },
      "text/plain": [
       "HBox(children=(FloatProgress(value=0.0, max=15.0), HTML(value='')))"
      ]
     },
     "metadata": {},
     "output_type": "display_data"
    },
    {
     "name": "stdout",
     "output_type": "stream",
     "text": [
      "\n",
      "Epoch 27, loss: 0.09418774209916592\n"
     ]
    },
    {
     "data": {
      "application/vnd.jupyter.widget-view+json": {
       "model_id": "7dd77c69ab30413bb44361ce966ecd67",
       "version_major": 2,
       "version_minor": 0
      },
      "text/plain": [
       "HBox(children=(FloatProgress(value=0.0, max=15.0), HTML(value='')))"
      ]
     },
     "metadata": {},
     "output_type": "display_data"
    },
    {
     "name": "stdout",
     "output_type": "stream",
     "text": [
      "\n",
      "Epoch 28, loss: 0.10159261710941792\n"
     ]
    },
    {
     "data": {
      "application/vnd.jupyter.widget-view+json": {
       "model_id": "32b14f35ea27438bb68e627fed579cf6",
       "version_major": 2,
       "version_minor": 0
      },
      "text/plain": [
       "HBox(children=(FloatProgress(value=0.0, max=15.0), HTML(value='')))"
      ]
     },
     "metadata": {},
     "output_type": "display_data"
    },
    {
     "name": "stdout",
     "output_type": "stream",
     "text": [
      "\n",
      "Epoch 29, loss: 0.1029900349676609\n"
     ]
    },
    {
     "data": {
      "application/vnd.jupyter.widget-view+json": {
       "model_id": "6961632c9aef48698fe149154b85adec",
       "version_major": 2,
       "version_minor": 0
      },
      "text/plain": [
       "HBox(children=(FloatProgress(value=0.0, max=15.0), HTML(value='')))"
      ]
     },
     "metadata": {},
     "output_type": "display_data"
    },
    {
     "name": "stdout",
     "output_type": "stream",
     "text": [
      "\n",
      "Epoch 30, loss: 0.0967857870273292\n"
     ]
    },
    {
     "data": {
      "application/vnd.jupyter.widget-view+json": {
       "model_id": "eed5c49190d6404a89d9d4d3269e8705",
       "version_major": 2,
       "version_minor": 0
      },
      "text/plain": [
       "HBox(children=(FloatProgress(value=0.0, max=15.0), HTML(value='')))"
      ]
     },
     "metadata": {},
     "output_type": "display_data"
    },
    {
     "name": "stdout",
     "output_type": "stream",
     "text": [
      "\n",
      "Epoch 31, loss: 0.08875011466443539\n"
     ]
    },
    {
     "data": {
      "application/vnd.jupyter.widget-view+json": {
       "model_id": "0a8347f528094363b22411305b64e8f7",
       "version_major": 2,
       "version_minor": 0
      },
      "text/plain": [
       "HBox(children=(FloatProgress(value=0.0, max=15.0), HTML(value='')))"
      ]
     },
     "metadata": {},
     "output_type": "display_data"
    },
    {
     "name": "stdout",
     "output_type": "stream",
     "text": [
      "\n",
      "Epoch 32, loss: 0.08504731254652143\n"
     ]
    },
    {
     "data": {
      "application/vnd.jupyter.widget-view+json": {
       "model_id": "594b6dea30794c14b721c228de511407",
       "version_major": 2,
       "version_minor": 0
      },
      "text/plain": [
       "HBox(children=(FloatProgress(value=0.0, max=15.0), HTML(value='')))"
      ]
     },
     "metadata": {},
     "output_type": "display_data"
    },
    {
     "name": "stdout",
     "output_type": "stream",
     "text": [
      "\n",
      "Epoch 33, loss: 0.1055329549126327\n"
     ]
    },
    {
     "data": {
      "application/vnd.jupyter.widget-view+json": {
       "model_id": "32b9e30c43194b218ee5cca541ee37a5",
       "version_major": 2,
       "version_minor": 0
      },
      "text/plain": [
       "HBox(children=(FloatProgress(value=0.0, max=15.0), HTML(value='')))"
      ]
     },
     "metadata": {},
     "output_type": "display_data"
    },
    {
     "name": "stdout",
     "output_type": "stream",
     "text": [
      "\n",
      "Epoch 34, loss: 0.10139822959899902\n"
     ]
    },
    {
     "data": {
      "application/vnd.jupyter.widget-view+json": {
       "model_id": "21ccdee42e40469a99ccaa0b622f73fa",
       "version_major": 2,
       "version_minor": 0
      },
      "text/plain": [
       "HBox(children=(FloatProgress(value=0.0, max=15.0), HTML(value='')))"
      ]
     },
     "metadata": {},
     "output_type": "display_data"
    },
    {
     "name": "stdout",
     "output_type": "stream",
     "text": [
      "\n",
      "Epoch 35, loss: 0.09017886850051582\n"
     ]
    },
    {
     "data": {
      "application/vnd.jupyter.widget-view+json": {
       "model_id": "d024aad41c4a40c0864892f7ee84206f",
       "version_major": 2,
       "version_minor": 0
      },
      "text/plain": [
       "HBox(children=(FloatProgress(value=0.0, max=15.0), HTML(value='')))"
      ]
     },
     "metadata": {},
     "output_type": "display_data"
    },
    {
     "name": "stdout",
     "output_type": "stream",
     "text": [
      "\n",
      "Epoch 36, loss: 0.09864605567418039\n"
     ]
    },
    {
     "data": {
      "application/vnd.jupyter.widget-view+json": {
       "model_id": "6ce7b5b971ec462bb690deab07c71494",
       "version_major": 2,
       "version_minor": 0
      },
      "text/plain": [
       "HBox(children=(FloatProgress(value=0.0, max=15.0), HTML(value='')))"
      ]
     },
     "metadata": {},
     "output_type": "display_data"
    },
    {
     "name": "stdout",
     "output_type": "stream",
     "text": [
      "\n",
      "Epoch 37, loss: 0.088698570150882\n"
     ]
    },
    {
     "data": {
      "application/vnd.jupyter.widget-view+json": {
       "model_id": "806a69dca87e48fd93dceb8cc31765b8",
       "version_major": 2,
       "version_minor": 0
      },
      "text/plain": [
       "HBox(children=(FloatProgress(value=0.0, max=15.0), HTML(value='')))"
      ]
     },
     "metadata": {},
     "output_type": "display_data"
    },
    {
     "name": "stdout",
     "output_type": "stream",
     "text": [
      "\n",
      "Epoch 38, loss: 0.08460472384467721\n"
     ]
    },
    {
     "data": {
      "application/vnd.jupyter.widget-view+json": {
       "model_id": "ab3873c71c364a29b5a385c35f9b38ef",
       "version_major": 2,
       "version_minor": 0
      },
      "text/plain": [
       "HBox(children=(FloatProgress(value=0.0, max=15.0), HTML(value='')))"
      ]
     },
     "metadata": {},
     "output_type": "display_data"
    },
    {
     "name": "stdout",
     "output_type": "stream",
     "text": [
      "\n",
      "Epoch 39, loss: 0.09598706755787134\n"
     ]
    },
    {
     "data": {
      "application/vnd.jupyter.widget-view+json": {
       "model_id": "1051a348fcd84d6c854a721ede07a79f",
       "version_major": 2,
       "version_minor": 0
      },
      "text/plain": [
       "HBox(children=(FloatProgress(value=0.0, max=15.0), HTML(value='')))"
      ]
     },
     "metadata": {},
     "output_type": "display_data"
    },
    {
     "name": "stdout",
     "output_type": "stream",
     "text": [
      "\n",
      "Epoch 40, loss: 0.09577689645811915\n"
     ]
    },
    {
     "data": {
      "application/vnd.jupyter.widget-view+json": {
       "model_id": "2b149af82083476ea0ded340e62aab4c",
       "version_major": 2,
       "version_minor": 0
      },
      "text/plain": [
       "HBox(children=(FloatProgress(value=0.0, max=15.0), HTML(value='')))"
      ]
     },
     "metadata": {},
     "output_type": "display_data"
    },
    {
     "name": "stdout",
     "output_type": "stream",
     "text": [
      "\n",
      "Epoch 41, loss: 0.08238417003303766\n"
     ]
    },
    {
     "data": {
      "application/vnd.jupyter.widget-view+json": {
       "model_id": "5e749fe93abf4621889377098892b959",
       "version_major": 2,
       "version_minor": 0
      },
      "text/plain": [
       "HBox(children=(FloatProgress(value=0.0, max=15.0), HTML(value='')))"
      ]
     },
     "metadata": {},
     "output_type": "display_data"
    },
    {
     "name": "stdout",
     "output_type": "stream",
     "text": [
      "\n",
      "Epoch 42, loss: 0.08685603481717408\n"
     ]
    },
    {
     "data": {
      "application/vnd.jupyter.widget-view+json": {
       "model_id": "13641ce7fe6847b7be7079e10b525230",
       "version_major": 2,
       "version_minor": 0
      },
      "text/plain": [
       "HBox(children=(FloatProgress(value=0.0, max=15.0), HTML(value='')))"
      ]
     },
     "metadata": {},
     "output_type": "display_data"
    },
    {
     "name": "stdout",
     "output_type": "stream",
     "text": [
      "\n",
      "Epoch 43, loss: 0.08779124147258699\n"
     ]
    },
    {
     "data": {
      "application/vnd.jupyter.widget-view+json": {
       "model_id": "97780898ba14447da69893421f55f29b",
       "version_major": 2,
       "version_minor": 0
      },
      "text/plain": [
       "HBox(children=(FloatProgress(value=0.0, max=15.0), HTML(value='')))"
      ]
     },
     "metadata": {},
     "output_type": "display_data"
    },
    {
     "name": "stdout",
     "output_type": "stream",
     "text": [
      "\n",
      "Epoch 44, loss: 0.08036384405568242\n"
     ]
    },
    {
     "data": {
      "application/vnd.jupyter.widget-view+json": {
       "model_id": "fb12b42954474ff88749c60600eb41d3",
       "version_major": 2,
       "version_minor": 0
      },
      "text/plain": [
       "HBox(children=(FloatProgress(value=0.0, max=15.0), HTML(value='')))"
      ]
     },
     "metadata": {},
     "output_type": "display_data"
    },
    {
     "name": "stdout",
     "output_type": "stream",
     "text": [
      "\n",
      "Epoch 45, loss: 0.087783585768193\n"
     ]
    },
    {
     "data": {
      "application/vnd.jupyter.widget-view+json": {
       "model_id": "f87b009951ca4fdbbbbb63d89c695c2e",
       "version_major": 2,
       "version_minor": 0
      },
      "text/plain": [
       "HBox(children=(FloatProgress(value=0.0, max=15.0), HTML(value='')))"
      ]
     },
     "metadata": {},
     "output_type": "display_data"
    },
    {
     "name": "stdout",
     "output_type": "stream",
     "text": [
      "\n",
      "Epoch 46, loss: 0.08542265463620424\n"
     ]
    },
    {
     "data": {
      "application/vnd.jupyter.widget-view+json": {
       "model_id": "f5c60fd5122947afaab77ea71dc183e7",
       "version_major": 2,
       "version_minor": 0
      },
      "text/plain": [
       "HBox(children=(FloatProgress(value=0.0, max=15.0), HTML(value='')))"
      ]
     },
     "metadata": {},
     "output_type": "display_data"
    },
    {
     "name": "stdout",
     "output_type": "stream",
     "text": [
      "\n",
      "Epoch 47, loss: 0.09242833266034722\n"
     ]
    },
    {
     "data": {
      "application/vnd.jupyter.widget-view+json": {
       "model_id": "654b7cafd0674e9586bdf97900707b07",
       "version_major": 2,
       "version_minor": 0
      },
      "text/plain": [
       "HBox(children=(FloatProgress(value=0.0, max=15.0), HTML(value='')))"
      ]
     },
     "metadata": {},
     "output_type": "display_data"
    },
    {
     "name": "stdout",
     "output_type": "stream",
     "text": [
      "\n",
      "Epoch 48, loss: 0.08546948991715908\n"
     ]
    },
    {
     "data": {
      "application/vnd.jupyter.widget-view+json": {
       "model_id": "240658b07f384098b82fdc481f7f6136",
       "version_major": 2,
       "version_minor": 0
      },
      "text/plain": [
       "HBox(children=(FloatProgress(value=0.0, max=15.0), HTML(value='')))"
      ]
     },
     "metadata": {},
     "output_type": "display_data"
    },
    {
     "name": "stdout",
     "output_type": "stream",
     "text": [
      "\n",
      "Epoch 49, loss: 0.08565869461745024\n"
     ]
    },
    {
     "data": {
      "application/vnd.jupyter.widget-view+json": {
       "model_id": "010de93eeb2b41e9959e9224a5c5e202",
       "version_major": 2,
       "version_minor": 0
      },
      "text/plain": [
       "HBox(children=(FloatProgress(value=0.0, max=15.0), HTML(value='')))"
      ]
     },
     "metadata": {},
     "output_type": "display_data"
    },
    {
     "name": "stdout",
     "output_type": "stream",
     "text": [
      "\n",
      "Epoch 50, loss: 0.09177351323887706\n"
     ]
    },
    {
     "data": {
      "application/vnd.jupyter.widget-view+json": {
       "model_id": "394c7eef88c644a282bb207701c155fd",
       "version_major": 2,
       "version_minor": 0
      },
      "text/plain": [
       "HBox(children=(FloatProgress(value=0.0, max=15.0), HTML(value='')))"
      ]
     },
     "metadata": {},
     "output_type": "display_data"
    },
    {
     "name": "stdout",
     "output_type": "stream",
     "text": [
      "\n",
      "Epoch 51, loss: 0.0854217167943716\n"
     ]
    },
    {
     "data": {
      "application/vnd.jupyter.widget-view+json": {
       "model_id": "b7ac5cd7a7f94ef4823f13292248d865",
       "version_major": 2,
       "version_minor": 0
      },
      "text/plain": [
       "HBox(children=(FloatProgress(value=0.0, max=15.0), HTML(value='')))"
      ]
     },
     "metadata": {},
     "output_type": "display_data"
    },
    {
     "name": "stdout",
     "output_type": "stream",
     "text": [
      "\n",
      "Epoch 52, loss: 0.08237430430017412\n"
     ]
    },
    {
     "data": {
      "application/vnd.jupyter.widget-view+json": {
       "model_id": "5a3382bd76e1403d82afcd22ff6b5ac9",
       "version_major": 2,
       "version_minor": 0
      },
      "text/plain": [
       "HBox(children=(FloatProgress(value=0.0, max=15.0), HTML(value='')))"
      ]
     },
     "metadata": {},
     "output_type": "display_data"
    },
    {
     "name": "stdout",
     "output_type": "stream",
     "text": [
      "\n",
      "Epoch 53, loss: 0.08719621086493134\n"
     ]
    },
    {
     "data": {
      "application/vnd.jupyter.widget-view+json": {
       "model_id": "b4fe543ce9c5451eb62ff7d4b91cb9ba",
       "version_major": 2,
       "version_minor": 0
      },
      "text/plain": [
       "HBox(children=(FloatProgress(value=0.0, max=15.0), HTML(value='')))"
      ]
     },
     "metadata": {},
     "output_type": "display_data"
    },
    {
     "name": "stdout",
     "output_type": "stream",
     "text": [
      "\n",
      "Epoch 54, loss: 0.08990946505218744\n"
     ]
    },
    {
     "data": {
      "application/vnd.jupyter.widget-view+json": {
       "model_id": "bcd971edaa1642338cd7fa5a010e3072",
       "version_major": 2,
       "version_minor": 0
      },
      "text/plain": [
       "HBox(children=(FloatProgress(value=0.0, max=15.0), HTML(value='')))"
      ]
     },
     "metadata": {},
     "output_type": "display_data"
    },
    {
     "name": "stdout",
     "output_type": "stream",
     "text": [
      "\n",
      "Epoch 55, loss: 0.09610087983310223\n"
     ]
    },
    {
     "data": {
      "application/vnd.jupyter.widget-view+json": {
       "model_id": "027f723cc040475db0b83abe980a5fe7",
       "version_major": 2,
       "version_minor": 0
      },
      "text/plain": [
       "HBox(children=(FloatProgress(value=0.0, max=15.0), HTML(value='')))"
      ]
     },
     "metadata": {},
     "output_type": "display_data"
    },
    {
     "name": "stdout",
     "output_type": "stream",
     "text": [
      "\n",
      "Epoch 56, loss: 0.09112607687711716\n"
     ]
    },
    {
     "data": {
      "application/vnd.jupyter.widget-view+json": {
       "model_id": "eb34a7b3fd694dd2bf411e9348017ec9",
       "version_major": 2,
       "version_minor": 0
      },
      "text/plain": [
       "HBox(children=(FloatProgress(value=0.0, max=15.0), HTML(value='')))"
      ]
     },
     "metadata": {},
     "output_type": "display_data"
    },
    {
     "name": "stdout",
     "output_type": "stream",
     "text": [
      "\n",
      "Epoch 57, loss: 0.08449564641341567\n"
     ]
    },
    {
     "data": {
      "application/vnd.jupyter.widget-view+json": {
       "model_id": "fe4a89c87c73427991c6f48fa68e705d",
       "version_major": 2,
       "version_minor": 0
      },
      "text/plain": [
       "HBox(children=(FloatProgress(value=0.0, max=15.0), HTML(value='')))"
      ]
     },
     "metadata": {},
     "output_type": "display_data"
    },
    {
     "name": "stdout",
     "output_type": "stream",
     "text": [
      "\n",
      "Epoch 58, loss: 0.09704465605318546\n"
     ]
    },
    {
     "data": {
      "application/vnd.jupyter.widget-view+json": {
       "model_id": "d54bf88aa21f4f7e88adacaa1656f17f",
       "version_major": 2,
       "version_minor": 0
      },
      "text/plain": [
       "HBox(children=(FloatProgress(value=0.0, max=15.0), HTML(value='')))"
      ]
     },
     "metadata": {},
     "output_type": "display_data"
    },
    {
     "name": "stdout",
     "output_type": "stream",
     "text": [
      "\n",
      "Epoch 59, loss: 0.09686103742569685\n"
     ]
    },
    {
     "data": {
      "application/vnd.jupyter.widget-view+json": {
       "model_id": "ff128b4f6f004f72a88bde0e3e3c94d8",
       "version_major": 2,
       "version_minor": 0
      },
      "text/plain": [
       "HBox(children=(FloatProgress(value=0.0, max=15.0), HTML(value='')))"
      ]
     },
     "metadata": {},
     "output_type": "display_data"
    },
    {
     "name": "stdout",
     "output_type": "stream",
     "text": [
      "\n",
      "Epoch 60, loss: 0.08469513850286603\n"
     ]
    },
    {
     "data": {
      "application/vnd.jupyter.widget-view+json": {
       "model_id": "b421bd265e804fa68dfd90a91ae7e768",
       "version_major": 2,
       "version_minor": 0
      },
      "text/plain": [
       "HBox(children=(FloatProgress(value=0.0, max=15.0), HTML(value='')))"
      ]
     },
     "metadata": {},
     "output_type": "display_data"
    },
    {
     "name": "stdout",
     "output_type": "stream",
     "text": [
      "\n",
      "Epoch 61, loss: 0.08232609974220395\n"
     ]
    },
    {
     "data": {
      "application/vnd.jupyter.widget-view+json": {
       "model_id": "64edcd89da744bf4a757a47d98d013e7",
       "version_major": 2,
       "version_minor": 0
      },
      "text/plain": [
       "HBox(children=(FloatProgress(value=0.0, max=15.0), HTML(value='')))"
      ]
     },
     "metadata": {},
     "output_type": "display_data"
    },
    {
     "name": "stdout",
     "output_type": "stream",
     "text": [
      "\n",
      "Epoch 62, loss: 0.09886969812214375\n"
     ]
    },
    {
     "data": {
      "application/vnd.jupyter.widget-view+json": {
       "model_id": "ac22b77916d349f6ab79df74e7677ad8",
       "version_major": 2,
       "version_minor": 0
      },
      "text/plain": [
       "HBox(children=(FloatProgress(value=0.0, max=15.0), HTML(value='')))"
      ]
     },
     "metadata": {},
     "output_type": "display_data"
    },
    {
     "name": "stdout",
     "output_type": "stream",
     "text": [
      "\n",
      "Epoch 63, loss: 0.08286248706281185\n"
     ]
    },
    {
     "data": {
      "application/vnd.jupyter.widget-view+json": {
       "model_id": "e6e2c006e76d48f88d7cbe7d0a0cc4de",
       "version_major": 2,
       "version_minor": 0
      },
      "text/plain": [
       "HBox(children=(FloatProgress(value=0.0, max=15.0), HTML(value='')))"
      ]
     },
     "metadata": {},
     "output_type": "display_data"
    },
    {
     "name": "stdout",
     "output_type": "stream",
     "text": [
      "\n",
      "Epoch 64, loss: 0.09298446448519826\n"
     ]
    },
    {
     "data": {
      "application/vnd.jupyter.widget-view+json": {
       "model_id": "80cafcb382a54a5494c4cc86f9684d92",
       "version_major": 2,
       "version_minor": 0
      },
      "text/plain": [
       "HBox(children=(FloatProgress(value=0.0, max=15.0), HTML(value='')))"
      ]
     },
     "metadata": {},
     "output_type": "display_data"
    },
    {
     "name": "stdout",
     "output_type": "stream",
     "text": [
      "\n",
      "Epoch 65, loss: 0.09642780525609851\n"
     ]
    },
    {
     "data": {
      "application/vnd.jupyter.widget-view+json": {
       "model_id": "5dd563fe0f364bc6bd175e428ad850ba",
       "version_major": 2,
       "version_minor": 0
      },
      "text/plain": [
       "HBox(children=(FloatProgress(value=0.0, max=15.0), HTML(value='')))"
      ]
     },
     "metadata": {},
     "output_type": "display_data"
    },
    {
     "name": "stdout",
     "output_type": "stream",
     "text": [
      "\n",
      "Epoch 66, loss: 0.08761911699548364\n"
     ]
    },
    {
     "data": {
      "application/vnd.jupyter.widget-view+json": {
       "model_id": "ac60b2e600a04e879fddf0d7bb6fa150",
       "version_major": 2,
       "version_minor": 0
      },
      "text/plain": [
       "HBox(children=(FloatProgress(value=0.0, max=15.0), HTML(value='')))"
      ]
     },
     "metadata": {},
     "output_type": "display_data"
    },
    {
     "name": "stdout",
     "output_type": "stream",
     "text": [
      "\n",
      "Epoch 67, loss: 0.07339922478422523\n"
     ]
    },
    {
     "data": {
      "application/vnd.jupyter.widget-view+json": {
       "model_id": "47a04012cb764f7c8b9559223b0b796e",
       "version_major": 2,
       "version_minor": 0
      },
      "text/plain": [
       "HBox(children=(FloatProgress(value=0.0, max=15.0), HTML(value='')))"
      ]
     },
     "metadata": {},
     "output_type": "display_data"
    },
    {
     "name": "stdout",
     "output_type": "stream",
     "text": [
      "\n",
      "Epoch 68, loss: 0.07885646913200617\n"
     ]
    },
    {
     "data": {
      "application/vnd.jupyter.widget-view+json": {
       "model_id": "b60e373694ef458f96f5db5027d95eeb",
       "version_major": 2,
       "version_minor": 0
      },
      "text/plain": [
       "HBox(children=(FloatProgress(value=0.0, max=15.0), HTML(value='')))"
      ]
     },
     "metadata": {},
     "output_type": "display_data"
    },
    {
     "name": "stdout",
     "output_type": "stream",
     "text": [
      "\n",
      "Epoch 69, loss: 0.07915967865847051\n"
     ]
    },
    {
     "data": {
      "application/vnd.jupyter.widget-view+json": {
       "model_id": "75f722afd89d42f0a5b8b8c16b5bcd49",
       "version_major": 2,
       "version_minor": 0
      },
      "text/plain": [
       "HBox(children=(FloatProgress(value=0.0, max=15.0), HTML(value='')))"
      ]
     },
     "metadata": {},
     "output_type": "display_data"
    },
    {
     "name": "stdout",
     "output_type": "stream",
     "text": [
      "\n",
      "Epoch 70, loss: 0.08343700761906803\n"
     ]
    },
    {
     "data": {
      "application/vnd.jupyter.widget-view+json": {
       "model_id": "773ada50cb904e32baf649c8109af4c4",
       "version_major": 2,
       "version_minor": 0
      },
      "text/plain": [
       "HBox(children=(FloatProgress(value=0.0, max=15.0), HTML(value='')))"
      ]
     },
     "metadata": {},
     "output_type": "display_data"
    },
    {
     "name": "stdout",
     "output_type": "stream",
     "text": [
      "\n",
      "Epoch 71, loss: 0.08451023348607123\n"
     ]
    },
    {
     "data": {
      "application/vnd.jupyter.widget-view+json": {
       "model_id": "c51435c032a54833af49e454ebb49a9d",
       "version_major": 2,
       "version_minor": 0
      },
      "text/plain": [
       "HBox(children=(FloatProgress(value=0.0, max=15.0), HTML(value='')))"
      ]
     },
     "metadata": {},
     "output_type": "display_data"
    },
    {
     "name": "stdout",
     "output_type": "stream",
     "text": [
      "\n",
      "Epoch 72, loss: 0.08104529418051243\n"
     ]
    },
    {
     "data": {
      "application/vnd.jupyter.widget-view+json": {
       "model_id": "bb2213dc88054fe29f161a59ee53e0fb",
       "version_major": 2,
       "version_minor": 0
      },
      "text/plain": [
       "HBox(children=(FloatProgress(value=0.0, max=15.0), HTML(value='')))"
      ]
     },
     "metadata": {},
     "output_type": "display_data"
    },
    {
     "name": "stdout",
     "output_type": "stream",
     "text": [
      "\n",
      "Epoch 73, loss: 0.08816864085383713\n"
     ]
    },
    {
     "data": {
      "application/vnd.jupyter.widget-view+json": {
       "model_id": "e51cddb052824985ae346f11660a8605",
       "version_major": 2,
       "version_minor": 0
      },
      "text/plain": [
       "HBox(children=(FloatProgress(value=0.0, max=15.0), HTML(value='')))"
      ]
     },
     "metadata": {},
     "output_type": "display_data"
    },
    {
     "name": "stdout",
     "output_type": "stream",
     "text": [
      "\n",
      "Epoch 74, loss: 0.07959083910100162\n"
     ]
    },
    {
     "data": {
      "application/vnd.jupyter.widget-view+json": {
       "model_id": "386ad4f3e868427fa89a1aebd976d953",
       "version_major": 2,
       "version_minor": 0
      },
      "text/plain": [
       "HBox(children=(FloatProgress(value=0.0, max=15.0), HTML(value='')))"
      ]
     },
     "metadata": {},
     "output_type": "display_data"
    },
    {
     "name": "stdout",
     "output_type": "stream",
     "text": [
      "\n",
      "Epoch 75, loss: 0.07738689286634326\n"
     ]
    },
    {
     "data": {
      "application/vnd.jupyter.widget-view+json": {
       "model_id": "5480a101530a4638a27447b43ea01a18",
       "version_major": 2,
       "version_minor": 0
      },
      "text/plain": [
       "HBox(children=(FloatProgress(value=0.0, max=15.0), HTML(value='')))"
      ]
     },
     "metadata": {},
     "output_type": "display_data"
    },
    {
     "name": "stdout",
     "output_type": "stream",
     "text": [
      "\n",
      "Epoch 76, loss: 0.07825509342364967\n"
     ]
    },
    {
     "data": {
      "application/vnd.jupyter.widget-view+json": {
       "model_id": "62d32cdbe4444f85bb148b563668f670",
       "version_major": 2,
       "version_minor": 0
      },
      "text/plain": [
       "HBox(children=(FloatProgress(value=0.0, max=15.0), HTML(value='')))"
      ]
     },
     "metadata": {},
     "output_type": "display_data"
    },
    {
     "name": "stdout",
     "output_type": "stream",
     "text": [
      "\n",
      "Epoch 77, loss: 0.0733685230370611\n"
     ]
    },
    {
     "data": {
      "application/vnd.jupyter.widget-view+json": {
       "model_id": "16fe79f1b51b4c038e2ec849ea1006de",
       "version_major": 2,
       "version_minor": 0
      },
      "text/plain": [
       "HBox(children=(FloatProgress(value=0.0, max=15.0), HTML(value='')))"
      ]
     },
     "metadata": {},
     "output_type": "display_data"
    },
    {
     "name": "stdout",
     "output_type": "stream",
     "text": [
      "\n",
      "Epoch 78, loss: 0.0755224353633821\n"
     ]
    },
    {
     "data": {
      "application/vnd.jupyter.widget-view+json": {
       "model_id": "704ce44eed2f434fb0521b7625e215e4",
       "version_major": 2,
       "version_minor": 0
      },
      "text/plain": [
       "HBox(children=(FloatProgress(value=0.0, max=15.0), HTML(value='')))"
      ]
     },
     "metadata": {},
     "output_type": "display_data"
    },
    {
     "name": "stdout",
     "output_type": "stream",
     "text": [
      "\n",
      "Epoch 79, loss: 0.07748894230462611\n"
     ]
    },
    {
     "data": {
      "application/vnd.jupyter.widget-view+json": {
       "model_id": "215e547362d6487589d02abae50ce72a",
       "version_major": 2,
       "version_minor": 0
      },
      "text/plain": [
       "HBox(children=(FloatProgress(value=0.0, max=15.0), HTML(value='')))"
      ]
     },
     "metadata": {},
     "output_type": "display_data"
    },
    {
     "name": "stdout",
     "output_type": "stream",
     "text": [
      "\n",
      "Epoch 80, loss: 0.07293606270104647\n"
     ]
    },
    {
     "data": {
      "application/vnd.jupyter.widget-view+json": {
       "model_id": "1ec0daaf44b645a0b4f6ef60bae910fc",
       "version_major": 2,
       "version_minor": 0
      },
      "text/plain": [
       "HBox(children=(FloatProgress(value=0.0, max=15.0), HTML(value='')))"
      ]
     },
     "metadata": {},
     "output_type": "display_data"
    },
    {
     "name": "stdout",
     "output_type": "stream",
     "text": [
      "\n",
      "Epoch 81, loss: 0.08433068986050785\n"
     ]
    },
    {
     "data": {
      "application/vnd.jupyter.widget-view+json": {
       "model_id": "210c8e5f3d73473e93e9f108cdee4af3",
       "version_major": 2,
       "version_minor": 0
      },
      "text/plain": [
       "HBox(children=(FloatProgress(value=0.0, max=15.0), HTML(value='')))"
      ]
     },
     "metadata": {},
     "output_type": "display_data"
    },
    {
     "name": "stdout",
     "output_type": "stream",
     "text": [
      "\n",
      "Epoch 82, loss: 0.0758021087385714\n"
     ]
    },
    {
     "data": {
      "application/vnd.jupyter.widget-view+json": {
       "model_id": "b96c9d331a8745129f6cbb3130f84c09",
       "version_major": 2,
       "version_minor": 0
      },
      "text/plain": [
       "HBox(children=(FloatProgress(value=0.0, max=15.0), HTML(value='')))"
      ]
     },
     "metadata": {},
     "output_type": "display_data"
    },
    {
     "name": "stdout",
     "output_type": "stream",
     "text": [
      "\n",
      "Epoch 83, loss: 0.07924998737871647\n"
     ]
    },
    {
     "data": {
      "application/vnd.jupyter.widget-view+json": {
       "model_id": "e6270bdcf03945f6903a74a4eb1d7acb",
       "version_major": 2,
       "version_minor": 0
      },
      "text/plain": [
       "HBox(children=(FloatProgress(value=0.0, max=15.0), HTML(value='')))"
      ]
     },
     "metadata": {},
     "output_type": "display_data"
    },
    {
     "name": "stdout",
     "output_type": "stream",
     "text": [
      "\n",
      "Epoch 84, loss: 0.07873497484251857\n"
     ]
    },
    {
     "data": {
      "application/vnd.jupyter.widget-view+json": {
       "model_id": "e56fa74279c44f30b669cdfb0c51d49f",
       "version_major": 2,
       "version_minor": 0
      },
      "text/plain": [
       "HBox(children=(FloatProgress(value=0.0, max=15.0), HTML(value='')))"
      ]
     },
     "metadata": {},
     "output_type": "display_data"
    },
    {
     "name": "stdout",
     "output_type": "stream",
     "text": [
      "\n",
      "Epoch 85, loss: 0.08317897096276283\n"
     ]
    },
    {
     "data": {
      "application/vnd.jupyter.widget-view+json": {
       "model_id": "d2f88b43058842e1ac972cfc0f1a9335",
       "version_major": 2,
       "version_minor": 0
      },
      "text/plain": [
       "HBox(children=(FloatProgress(value=0.0, max=15.0), HTML(value='')))"
      ]
     },
     "metadata": {},
     "output_type": "display_data"
    },
    {
     "name": "stdout",
     "output_type": "stream",
     "text": [
      "\n",
      "Epoch 86, loss: 0.08261503255926073\n"
     ]
    },
    {
     "data": {
      "application/vnd.jupyter.widget-view+json": {
       "model_id": "20bb7c7d5612486caa20ed21569a0ddd",
       "version_major": 2,
       "version_minor": 0
      },
      "text/plain": [
       "HBox(children=(FloatProgress(value=0.0, max=15.0), HTML(value='')))"
      ]
     },
     "metadata": {},
     "output_type": "display_data"
    },
    {
     "name": "stdout",
     "output_type": "stream",
     "text": [
      "\n",
      "Epoch 87, loss: 0.08687244448810816\n"
     ]
    },
    {
     "data": {
      "application/vnd.jupyter.widget-view+json": {
       "model_id": "b07e94e5239f49128954450012c7b3d5",
       "version_major": 2,
       "version_minor": 0
      },
      "text/plain": [
       "HBox(children=(FloatProgress(value=0.0, max=15.0), HTML(value='')))"
      ]
     },
     "metadata": {},
     "output_type": "display_data"
    },
    {
     "name": "stdout",
     "output_type": "stream",
     "text": [
      "\n",
      "Epoch 88, loss: 0.08480544667690992\n"
     ]
    },
    {
     "data": {
      "application/vnd.jupyter.widget-view+json": {
       "model_id": "170e757d6ee045e9b7a360f53ca89146",
       "version_major": 2,
       "version_minor": 0
      },
      "text/plain": [
       "HBox(children=(FloatProgress(value=0.0, max=15.0), HTML(value='')))"
      ]
     },
     "metadata": {},
     "output_type": "display_data"
    },
    {
     "name": "stdout",
     "output_type": "stream",
     "text": [
      "\n",
      "Epoch 89, loss: 0.07859639590606093\n"
     ]
    },
    {
     "data": {
      "application/vnd.jupyter.widget-view+json": {
       "model_id": "4784d3449e9a41439915f2dc270f1349",
       "version_major": 2,
       "version_minor": 0
      },
      "text/plain": [
       "HBox(children=(FloatProgress(value=0.0, max=15.0), HTML(value='')))"
      ]
     },
     "metadata": {},
     "output_type": "display_data"
    },
    {
     "name": "stdout",
     "output_type": "stream",
     "text": [
      "\n",
      "Epoch 90, loss: 0.0835964058060199\n"
     ]
    },
    {
     "data": {
      "application/vnd.jupyter.widget-view+json": {
       "model_id": "c82004ec303d4b7190b98235fdc384de",
       "version_major": 2,
       "version_minor": 0
      },
      "text/plain": [
       "HBox(children=(FloatProgress(value=0.0, max=15.0), HTML(value='')))"
      ]
     },
     "metadata": {},
     "output_type": "display_data"
    },
    {
     "name": "stdout",
     "output_type": "stream",
     "text": [
      "\n",
      "Epoch 91, loss: 0.08550480799749494\n"
     ]
    },
    {
     "data": {
      "application/vnd.jupyter.widget-view+json": {
       "model_id": "2e0dd72aa2b34bf9971a9ab7d012b724",
       "version_major": 2,
       "version_minor": 0
      },
      "text/plain": [
       "HBox(children=(FloatProgress(value=0.0, max=15.0), HTML(value='')))"
      ]
     },
     "metadata": {},
     "output_type": "display_data"
    },
    {
     "name": "stdout",
     "output_type": "stream",
     "text": [
      "\n",
      "Epoch 92, loss: 0.07858154573477805\n"
     ]
    },
    {
     "data": {
      "application/vnd.jupyter.widget-view+json": {
       "model_id": "71c5aa9f979b4c7da828c30603fd3ca8",
       "version_major": 2,
       "version_minor": 0
      },
      "text/plain": [
       "HBox(children=(FloatProgress(value=0.0, max=15.0), HTML(value='')))"
      ]
     },
     "metadata": {},
     "output_type": "display_data"
    },
    {
     "name": "stdout",
     "output_type": "stream",
     "text": [
      "\n",
      "Epoch 93, loss: 0.07527488260529935\n"
     ]
    },
    {
     "data": {
      "application/vnd.jupyter.widget-view+json": {
       "model_id": "101b6a8074ac4d6b9823a379d4559b5d",
       "version_major": 2,
       "version_minor": 0
      },
      "text/plain": [
       "HBox(children=(FloatProgress(value=0.0, max=15.0), HTML(value='')))"
      ]
     },
     "metadata": {},
     "output_type": "display_data"
    },
    {
     "name": "stdout",
     "output_type": "stream",
     "text": [
      "\n",
      "Epoch 94, loss: 0.07555319974198937\n"
     ]
    },
    {
     "data": {
      "application/vnd.jupyter.widget-view+json": {
       "model_id": "1db4c347b2c54c02bc1773fc8163fe6c",
       "version_major": 2,
       "version_minor": 0
      },
      "text/plain": [
       "HBox(children=(FloatProgress(value=0.0, max=15.0), HTML(value='')))"
      ]
     },
     "metadata": {},
     "output_type": "display_data"
    },
    {
     "name": "stdout",
     "output_type": "stream",
     "text": [
      "\n",
      "Epoch 95, loss: 0.06794387591071427\n"
     ]
    },
    {
     "data": {
      "application/vnd.jupyter.widget-view+json": {
       "model_id": "24240920f970459ca8a11a71bf280306",
       "version_major": 2,
       "version_minor": 0
      },
      "text/plain": [
       "HBox(children=(FloatProgress(value=0.0, max=15.0), HTML(value='')))"
      ]
     },
     "metadata": {},
     "output_type": "display_data"
    },
    {
     "name": "stdout",
     "output_type": "stream",
     "text": [
      "\n",
      "Epoch 96, loss: 0.07886959961615503\n"
     ]
    },
    {
     "data": {
      "application/vnd.jupyter.widget-view+json": {
       "model_id": "cf38c702721c4385931b156c116250ab",
       "version_major": 2,
       "version_minor": 0
      },
      "text/plain": [
       "HBox(children=(FloatProgress(value=0.0, max=15.0), HTML(value='')))"
      ]
     },
     "metadata": {},
     "output_type": "display_data"
    },
    {
     "name": "stdout",
     "output_type": "stream",
     "text": [
      "\n",
      "Epoch 97, loss: 0.07689728122204542\n"
     ]
    },
    {
     "data": {
      "application/vnd.jupyter.widget-view+json": {
       "model_id": "d68c6cdb3a5543089e59b5ab67140af1",
       "version_major": 2,
       "version_minor": 0
      },
      "text/plain": [
       "HBox(children=(FloatProgress(value=0.0, max=15.0), HTML(value='')))"
      ]
     },
     "metadata": {},
     "output_type": "display_data"
    },
    {
     "name": "stdout",
     "output_type": "stream",
     "text": [
      "\n",
      "Epoch 98, loss: 0.07698822813108563\n"
     ]
    },
    {
     "data": {
      "application/vnd.jupyter.widget-view+json": {
       "model_id": "f9176472a6a84cde88b3a9162dd6ca33",
       "version_major": 2,
       "version_minor": 0
      },
      "text/plain": [
       "HBox(children=(FloatProgress(value=0.0, max=15.0), HTML(value='')))"
      ]
     },
     "metadata": {},
     "output_type": "display_data"
    },
    {
     "name": "stdout",
     "output_type": "stream",
     "text": [
      "\n",
      "Epoch 99, loss: 0.07000200159382075\n"
     ]
    },
    {
     "data": {
      "application/vnd.jupyter.widget-view+json": {
       "model_id": "ed835c5ed5d846c1bcd2003f0e4c6858",
       "version_major": 2,
       "version_minor": 0
      },
      "text/plain": [
       "HBox(children=(FloatProgress(value=0.0, max=15.0), HTML(value='')))"
      ]
     },
     "metadata": {},
     "output_type": "display_data"
    },
    {
     "name": "stdout",
     "output_type": "stream",
     "text": [
      "\n",
      "Epoch 100, loss: 0.07060080347582698\n"
     ]
    }
   ],
   "source": [
    "from tqdm.notebook import tqdm\n",
    "\n",
    "epochs = 100\n",
    "losses = []\n",
    "\n",
    "for i in range(epochs):\n",
    "    batch_loss = 0.0\n",
    "    for X, y in tqdm(train_dataloader):\n",
    "        y_pred = model(X)\n",
    "        loss = criterion(y_pred, y)\n",
    "\n",
    "        optimizer.zero_grad()\n",
    "        loss.backward()\n",
    "        optimizer.step()\n",
    "        \n",
    "        batch_loss += loss.item()\n",
    "    \n",
    "    if (i+1) % 100 == 0:\n",
    "        torch.save(model.state_dict(), 'backup/disc2.pth')\n",
    "\n",
    "    losses.append(batch_loss)\n",
    "    print(f\"Epoch {i+1}, loss: {batch_loss}\")"
   ]
  },
  {
   "cell_type": "code",
   "execution_count": 65,
   "metadata": {},
   "outputs": [
    {
     "data": {
      "text/plain": [
       "[<matplotlib.lines.Line2D at 0x4a552130>]"
      ]
     },
     "execution_count": 65,
     "metadata": {},
     "output_type": "execute_result"
    },
    {
     "data": {
      "image/png": "[encoded data removed]",
      "text/plain": [
       "<Figure size 432x288 with 1 Axes>"
      ]
     },
     "metadata": {
      "needs_background": "light"
     },
     "output_type": "display_data"
    }
   ],
   "source": [
    "plt.plot(losses)"
   ]
  },
  {
   "cell_type": "code",
   "execution_count": 66,
   "metadata": {},
   "outputs": [
    {
     "data": {
      "application/vnd.jupyter.widget-view+json": {
       "model_id": "13d93add98d142c1b1e2c2abff22c0c9",
       "version_major": 2,
       "version_minor": 0
      },
      "text/plain": [
       "HBox(children=(FloatProgress(value=0.0, max=4.0), HTML(value='')))"
      ]
     },
     "metadata": {},
     "output_type": "display_data"
    },
    {
     "name": "stdout",
     "output_type": "stream",
     "text": [
      "\n",
      "RMSE: 0.00359696\n"
     ]
    }
   ],
   "source": [
    "import numpy as np\n",
    "\n",
    "model.eval()\n",
    "\n",
    "with torch.no_grad():\n",
    "    test_loss = []\n",
    "    for X, y in tqdm(test_dataloader):\n",
    "        y_val = model(X)\n",
    "        loss = criterion(y_val, y)\n",
    "        test_loss.append(loss.item())\n",
    "print(f'RMSE: {np.mean(test_loss):.8f}')"
   ]
  },
  {
   "cell_type": "code",
   "execution_count": 67,
   "metadata": {},
   "outputs": [
    {
     "data": {
      "text/plain": [
       "2.663525342941284"
      ]
     },
     "execution_count": 67,
     "metadata": {},
     "output_type": "execute_result"
    }
   ],
   "source": [
    "ps = df_posts['index']\n",
    "\n",
    "err = torch.mean(loss) * (ps.max(axis=0) - ps.min(axis=0)) + ps.min(axis=0)\n",
    "\n",
    "err.item()"
   ]
  },
  {
   "cell_type": "markdown",
   "metadata": {},
   "source": [
    "# Test model"
   ]
  },
  {
   "cell_type": "code",
   "execution_count": 68,
   "metadata": {},
   "outputs": [
    {
     "data": {
      "text/plain": [
       "Model(\n",
       "  (layers): Sequential(\n",
       "    (0): Linear(in_features=110, out_features=1000, bias=True)\n",
       "    (1): ReLU(inplace=True)\n",
       "    (2): BatchNorm1d(1000, eps=1e-05, momentum=0.1, affine=True, track_running_stats=True)\n",
       "    (3): Dropout(p=0.4, inplace=False)\n",
       "    (4): Linear(in_features=1000, out_features=100, bias=True)\n",
       "    (5): ReLU(inplace=True)\n",
       "    (6): BatchNorm1d(100, eps=1e-05, momentum=0.1, affine=True, track_running_stats=True)\n",
       "    (7): Dropout(p=0.4, inplace=False)\n",
       "    (8): Linear(in_features=100, out_features=10, bias=True)\n",
       "    (9): ReLU(inplace=True)\n",
       "    (10): BatchNorm1d(10, eps=1e-05, momentum=0.1, affine=True, track_running_stats=True)\n",
       "    (11): Dropout(p=0.4, inplace=False)\n",
       "    (12): Linear(in_features=10, out_features=1, bias=True)\n",
       "  )\n",
       ")"
      ]
     },
     "execution_count": 68,
     "metadata": {},
     "output_type": "execute_result"
    }
   ],
   "source": [
    "model = Model(X.shape[1], 1, [1000, 100, 10], p=0.4)\n",
    "criterion = nn.L1Loss()\n",
    "\n",
    "model.load_state_dict(torch.load('backup/disc2.pth'))\n",
    "model.eval()"
   ]
  },
  {
   "cell_type": "code",
   "execution_count": 69,
   "metadata": {},
   "outputs": [
    {
     "name": "stderr",
     "output_type": "stream",
     "text": [
      "Version 7.2.0 of praw is outdated. Version 7.3.0 was released 10 hours ago.\n"
     ]
    }
   ],
   "source": [
    "import yaml\n",
    "import praw\n",
    "from tqdm.notebook import tqdm\n",
    "\n",
    "with open('backup/reddit-api-data.yml', 'r') as file:\n",
    "    config = yaml.load(file, Loader=yaml.FullLoader)\n",
    "    \n",
    "reddit = praw.Reddit(\n",
    "    user_agent=\"Comment Extraction (by u/USERNAME)\",\n",
    "    client_id=config['id'],\n",
    "    client_secret=config['secret'],\n",
    "    username=config['username'],\n",
    "    password=config['password'],\n",
    ")\n",
    "\n",
    "def get_posts(df, n=100, top=False):\n",
    "    posts = df[(df['comms_num'] > 50) & (df['comms_num'] < 10000)].sample(n)\n",
    "    pdict = {}\n",
    "    for i in tqdm(posts.index):\n",
    "        comm_df = get_comments(i, top)\n",
    "        pdict[i] = get_comments(i, top)\n",
    "        \n",
    "    return pdict"
   ]
  },
  {
   "cell_type": "code",
   "execution_count": 112,
   "metadata": {},
   "outputs": [
    {
     "data": {
      "application/vnd.jupyter.widget-view+json": {
       "model_id": "cfb5800b40634cfa8cef7bb8fb567383",
       "version_major": 2,
       "version_minor": 0
      },
      "text/plain": [
       "HBox(children=(FloatProgress(value=0.0, max=4.0), HTML(value='')))"
      ]
     },
     "metadata": {},
     "output_type": "display_data"
    },
    {
     "name": "stdout",
     "output_type": "stream",
     "text": [
      "\n"
     ]
    }
   ],
   "source": [
    "test_comms = get_posts(df, 4)"
   ]
  },
  {
   "cell_type": "code",
   "execution_count": 113,
   "metadata": {},
   "outputs": [],
   "source": [
    "test_aggs = []\n",
    "for key in test_comms.keys():\n",
    "    test_aggs.append(get_aggregated(test_comms, key, '1H', post_feats))"
   ]
  },
  {
   "cell_type": "code",
   "execution_count": 114,
   "metadata": {},
   "outputs": [],
   "source": [
    "def preprocess(xdf, feature_dict):\n",
    "    xdf['body'] = xdf['body'].apply(lambda x: nlp(x))\n",
    "    xdf['body_raw'] = xdf['body']\n",
    "    xdf['body'] = xdf['body'].apply(lemmatization)\n",
    "    emojis = xdf['body_raw'].apply(decode_emojis)\n",
    "    xdf['body'] += emojis\n",
    "    xdf['body_bow'] = xdf['body'].apply(lambda x: bag_of_words(x, feature_dict))\n",
    "    \n",
    "    body_bow = xdf['body_bow']\n",
    "    body_bow = body_bow.apply(lambda x: np.asarray(x))\n",
    "\n",
    "    body_ind = ['b'+str(x) for x in range(100)]\n",
    "    df_body = pd.DataFrame(body_bow.values.tolist(), columns=body_ind)\n",
    "\n",
    "    xdf = xdf.reset_index().join(df_body)\n",
    "    \n",
    "    return xdf"
   ]
  },
  {
   "cell_type": "code",
   "execution_count": 115,
   "metadata": {},
   "outputs": [],
   "source": [
    "for idx, xdf in enumerate(test_aggs):\n",
    "    test_aggs[idx] = preprocess(xdf, feature_dict)"
   ]
  },
  {
   "cell_type": "code",
   "execution_count": 116,
   "metadata": {},
   "outputs": [],
   "source": [
    "fuz = body_ind + post_feats + ['obs']\n",
    "\n",
    "y_test = []\n",
    "X_test = []\n",
    "for idx, xdf in enumerate(test_aggs):\n",
    "    y_test.append(xdf['index'])\n",
    "    uwu = xdf.reset_index().rename(columns={'level_0': 'obs'})\n",
    "    X_test.append(uwu[fuz])"
   ]
  },
  {
   "cell_type": "code",
   "execution_count": 117,
   "metadata": {},
   "outputs": [],
   "source": [
    "def rescale(val):\n",
    "    return val * (df_posts['index'].max(axis=0) - df_posts['index'].min(axis=0)) + df_posts['index'].min(axis=0)"
   ]
  },
  {
   "cell_type": "code",
   "execution_count": 118,
   "metadata": {},
   "outputs": [
    {
     "name": "stdout",
     "output_type": "stream",
     "text": [
      "RMSE:  5.821056365966797\n"
     ]
    },
    {
     "data": {
      "image/png": "[encoded data removed]",
      "text/plain": [
       "<Figure size 432x288 with 1 Axes>"
      ]
     },
     "metadata": {
      "needs_background": "light"
     },
     "output_type": "display_data"
    },
    {
     "name": "stdout",
     "output_type": "stream",
     "text": [
      "RMSE:  1.5970579385757446\n"
     ]
    },
    {
     "data": {
      "image/png": "[encoded data removed]",
      "text/plain": [
       "<Figure size 432x288 with 1 Axes>"
      ]
     },
     "metadata": {
      "needs_background": "light"
     },
     "output_type": "display_data"
    },
    {
     "name": "stdout",
     "output_type": "stream",
     "text": [
      "RMSE:  1.7867058515548706\n"
     ]
    },
    {
     "data": {
      "image/png": "[encoded data removed]",
      "text/plain": [
       "<Figure size 432x288 with 1 Axes>"
      ]
     },
     "metadata": {
      "needs_background": "light"
     },
     "output_type": "display_data"
    },
    {
     "name": "stdout",
     "output_type": "stream",
     "text": [
      "RMSE:  6.042515277862549\n"
     ]
    },
    {
     "data": {
      "image/png": "[encoded data removed]",
      "text/plain": [
       "<Figure size 432x288 with 1 Axes>"
      ]
     },
     "metadata": {
      "needs_background": "light"
     },
     "output_type": "display_data"
    }
   ],
   "source": [
    "preds = []\n",
    "for X, y in zip(X_test, y_test):\n",
    "    X = scaler.transform(X.values)\n",
    "    y = scaler_y.transform(y.values.reshape(-1, 1))\n",
    "    \n",
    "    tensor_x = torch.Tensor(X)\n",
    "    tensor_y = torch.Tensor(y)\n",
    "    \n",
    "    model.eval()\n",
    "    with torch.no_grad():\n",
    "        y_val = model(tensor_x)\n",
    "        \n",
    "    y = rescale(tensor_y)\n",
    "    y_val = rescale(y_val)\n",
    "\n",
    "    print(\"RMSE: \", criterion(y_val, y).item())\n",
    "    plt.figure()\n",
    "    plt.plot(y, label='original')\n",
    "    plt.plot(y_val, label='prediction')\n",
    "    plt.legend()\n",
    "    plt.show()"
   ]
  },
  {
   "cell_type": "markdown",
   "metadata": {},
   "source": [
    "# LSTM"
   ]
  },
  {
   "cell_type": "code",
   "execution_count": 75,
   "metadata": {},
   "outputs": [
    {
     "data": {
      "application/vnd.jupyter.widget-view+json": {
       "model_id": "098d04addfe44080a27b5b669a2177c0",
       "version_major": 2,
       "version_minor": 0
      },
      "text/plain": [
       "HBox(children=(FloatProgress(value=0.0, max=140.0), HTML(value='')))"
      ]
     },
     "metadata": {},
     "output_type": "display_data"
    },
    {
     "name": "stdout",
     "output_type": "stream",
     "text": [
      "\n"
     ]
    }
   ],
   "source": [
    "import pickle\n",
    "\n",
    "def get_posts_even(df):\n",
    "    posts_low = df[(df['comms_num'] > 50) & (df['comms_num'] < 300)].sample(70)\n",
    "    posts_mid = df[(df['comms_num'] > 300) & (df['comms_num'] < 500)].sample(50)\n",
    "    posts_high = df[(df['comms_num'] > 500) & (df['comms_num'] < 10000)].sample(20)\n",
    "    posts = pd.concat([posts_low, posts_mid, posts_high])\n",
    "    pdict = {}\n",
    "    for i in tqdm(posts.index):\n",
    "        pdict[i] = get_comments(i)\n",
    "        \n",
    "    return pdict\n",
    "\n",
    "lstm_comms = get_posts_even(df)\n",
    "\n",
    "with open('backup/lstmcomments.pickle', 'wb') as handle:\n",
    "    pickle.dump(lstm_comms, handle, protocol=pickle.HIGHEST_PROTOCOL)"
   ]
  },
  {
   "cell_type": "code",
   "execution_count": 11,
   "metadata": {},
   "outputs": [],
   "source": [
    "import pickle\n",
    "\n",
    "with open('backup/comments.pickle', 'rb') as handle:\n",
    "    lstm_comms = pickle.load(handle)"
   ]
  },
  {
   "cell_type": "code",
   "execution_count": 21,
   "metadata": {},
   "outputs": [],
   "source": [
    "import numpy as np\n",
    "\n",
    "post_feats = ['title_length', 'title_capital', 'body_length', 'monday', 'tuesday', 'wednesday', 'thursday', 'friday', 'image']\n",
    "body_ind = ['b'+str(x) for x in range(100)]\n",
    "\n",
    "def preprocess(xdf):\n",
    "    xdf['body'] = xdf['body'].apply(lambda x: nlp(x))\n",
    "    xdf['body_raw'] = xdf['body']\n",
    "    xdf['body'] = xdf['body'].apply(lemmatization)\n",
    "    emojis = xdf['body_raw'].apply(decode_emojis)\n",
    "    xdf['body'] += emojis\n",
    "    \n",
    "    return xdf\n",
    "\n",
    "def get_bow(xdf, feature_dict):\n",
    "    xdf['body_bow'] = xdf['body'].apply(lambda x: bag_of_words(x, feature_dict))\n",
    "    \n",
    "    body_bow = xdf['body_bow']\n",
    "    body_bow = body_bow.apply(lambda x: np.asarray(x))\n",
    "\n",
    "    body_ind = ['b'+str(x) for x in range(100)]\n",
    "    df_body = pd.DataFrame(body_bow.values.tolist(), columns=body_ind)\n",
    "\n",
    "    xdf = xdf.reset_index().join(df_body)\n",
    "    \n",
    "    return xdf\n",
    "\n",
    "def get_sequences(df, target, keys, seq_length):\n",
    "    seq = []\n",
    "    tar = []\n",
    "    corr_post = []\n",
    "    for key in keys:\n",
    "        post = df[df['post_id'] == key]\n",
    "        post_tar = target[target['post_id'] == key]['target'].reset_index(drop=True)\n",
    "        size = len(post) - (len(post) % seq_length)\n",
    "        \n",
    "        if size > 0:\n",
    "            bow_feats = ['b'+str(x) for x in range(100)] + ['index']\n",
    "            bow = post[bow_feats]\n",
    "            post_info = post[post_feats].iloc[0, :]\n",
    "\n",
    "            for i in range(size-seq_length):\n",
    "                seq.append(bow.iloc[i:i+seq_length, :].values)\n",
    "                tar.append(post_tar[i+seq_length])\n",
    "                corr_post.append(post_info.values)\n",
    "\n",
    "    return seq, corr_post, tar"
   ]
  },
  {
   "cell_type": "code",
   "execution_count": 104,
   "metadata": {},
   "outputs": [],
   "source": [
    "aggs = []\n",
    "for key in lstm_comms.keys():\n",
    "    aggs.append(get_aggregated(lstm_comms, key, '30min', post_feats))\n",
    "\n",
    "df_lstm = pd.concat(aggs)\n",
    "preprocessed_df = preprocess(df_lstm)\n",
    "vocab_lstm = get_vocab(df_lstm['body'].reset_index()['body'], 100)\n",
    "feature_dict_lstm = [key for key, _ in vocab_lstm]\n",
    "df_lstm = get_bow(df_lstm, feature_dict_lstm)"
   ]
  },
  {
   "cell_type": "code",
   "execution_count": 206,
   "metadata": {},
   "outputs": [],
   "source": [
    "from sklearn.preprocessing import MinMaxScaler\n",
    "import random\n",
    "\n",
    "fuz = body_ind + post_feats + ['index']\n",
    "\n",
    "scaler = MinMaxScaler()\n",
    "scaler_y = MinMaxScaler()\n",
    "\n",
    "test_keys = random.sample(lstm_comms.keys(), 10)\n",
    "train_keys = [key for key in lstm_comms.keys() if key not in test_keys]\n",
    "train = df_lstm[df_lstm['post_id'].isin(train_keys)]\n",
    "train_y = train['index']\n",
    "train_ids = train['post_id']\n",
    "train = train[fuz]\n",
    "\n",
    "test = df_lstm[df_lstm['post_id'].isin(test_keys)]\n",
    "test_y = test['index']\n",
    "test_ids = test['post_id']\n",
    "test = test[fuz]\n",
    "\n",
    "X_train = pd.DataFrame(scaler.fit_transform(train), columns=fuz)\n",
    "X_train['post_id'] = train_ids\n",
    "X_test = pd.DataFrame(scaler.transform(test), columns=fuz)\n",
    "X_test['post_id'] = test_ids\n",
    "\n",
    "y_train = pd.DataFrame(scaler_y.fit_transform(train_y.values.reshape(-1, 1)), columns=['target'])\n",
    "y_train['post_id'] = train_ids\n",
    "y_test = pd.DataFrame(scaler_y.transform(test_y.values.reshape(-1, 1)), columns=['target'])\n",
    "y_test['post_id'] = test_ids\n",
    "\n",
    "in_seq, in_post, out_seq = get_sequences(X_train, y_train, train_keys, 2)"
   ]
  },
  {
   "cell_type": "code",
   "execution_count": 207,
   "metadata": {},
   "outputs": [
    {
     "data": {
      "text/plain": [
       "7234"
      ]
     },
     "execution_count": 207,
     "metadata": {},
     "output_type": "execute_result"
    }
   ],
   "source": [
    "len(in_seq)"
   ]
  },
  {
   "cell_type": "code",
   "execution_count": 208,
   "metadata": {},
   "outputs": [
    {
     "data": {
      "text/plain": [
       "tensor([0.0534, 0.0636, 0.0204, 0.0127, 0.0254, 0.0025, 0.0025, 0.0051, 0.0000,\n",
       "        0.0153, 0.0025, 0.0051, 0.0025, 0.0178, 0.0025, 0.0000, 0.0051, 0.0153,\n",
       "        0.0000, 0.0254, 0.0076, 0.0000, 0.0051, 0.0076, 0.0076, 0.0000, 0.0025,\n",
       "        0.0051, 0.0076, 0.0025, 0.0051, 0.0051, 0.0000, 0.0051, 0.0025, 0.0025,\n",
       "        0.0000, 0.0025, 0.0025, 0.0000, 0.0000, 0.0025, 0.0025, 0.0025, 0.0000,\n",
       "        0.0127, 0.0000, 0.0000])"
      ]
     },
     "execution_count": 208,
     "metadata": {},
     "output_type": "execute_result"
    }
   ],
   "source": [
    "test_seq, test_post, test_out = get_sequences(X_test, y_test, test_keys, 2)\n",
    "test_inout_seq = (torch.tensor(test_seq).float(), torch.tensor(test_post).float(), torch.tensor(test_out).float())\n",
    "test_inout_seq[2]"
   ]
  },
  {
   "cell_type": "code",
   "execution_count": 209,
   "metadata": {},
   "outputs": [],
   "source": [
    "w = torch.tensor(in_seq)"
   ]
  },
  {
   "cell_type": "code",
   "execution_count": 210,
   "metadata": {},
   "outputs": [
    {
     "data": {
      "text/plain": [
       "torch.Size([7234, 2, 101])"
      ]
     },
     "execution_count": 210,
     "metadata": {},
     "output_type": "execute_result"
    }
   ],
   "source": [
    "w.shape"
   ]
  },
  {
   "cell_type": "code",
   "execution_count": 211,
   "metadata": {},
   "outputs": [
    {
     "data": {
      "text/plain": [
       "torch.Size([7234, 9])"
      ]
     },
     "execution_count": 211,
     "metadata": {},
     "output_type": "execute_result"
    }
   ],
   "source": [
    "s = torch.tensor(in_post)\n",
    "s.shape"
   ]
  },
  {
   "cell_type": "code",
   "execution_count": 215,
   "metadata": {},
   "outputs": [],
   "source": [
    "class LSTM(nn.Module):\n",
    "    def __init__(self, bow_size=101, post_size=9, hidden_layer_size=300, batch_size=2, num_layers=2, output_size=100):\n",
    "        super().__init__()\n",
    "        self.hidden_layer_size = hidden_layer_size\n",
    "\n",
    "        self.lstm = nn.LSTM(bow_size, hidden_layer_size, num_layers=num_layers, dropout=0.3)\n",
    "\n",
    "        self.linear = nn.Linear(hidden_layer_size*batch_size, output_size)\n",
    "        \n",
    "        self.activation = nn.LeakyReLU(inplace=True)\n",
    "        \n",
    "        self.post_net = nn.Sequential(\n",
    "            nn.Linear(output_size+post_size, 100),\n",
    "            self.activation,\n",
    "            nn.Linear(100, 20),\n",
    "            self.activation,\n",
    "            nn.Linear(20, 1)\n",
    "        )\n",
    "\n",
    "        self.hidden_cell = (torch.zeros(1,1,self.hidden_layer_size),\n",
    "                            torch.zeros(1,1,self.hidden_layer_size))\n",
    "\n",
    "    def forward(self, input_bow, input_post):\n",
    "        lstm_out, self.hidden_cell = self.lstm(input_bow, self.hidden_cell)\n",
    "        lstm_out = self.activation(lstm_out)\n",
    "        ints = self.linear(lstm_out.view(len(input_bow), -1))\n",
    "        ints = self.activation(ints)\n",
    "        ints_post = torch.cat((ints, input_post), dim=1)\n",
    "        prediction = self.post_net(ints_post)\n",
    "        return prediction"
   ]
  },
  {
   "cell_type": "code",
   "execution_count": 216,
   "metadata": {},
   "outputs": [],
   "source": [
    "model = LSTM()\n",
    "criterion = nn.MSELoss()\n",
    "optimizer = torch.optim.Adam(model.parameters(), lr=0.003)"
   ]
  },
  {
   "cell_type": "code",
   "execution_count": 217,
   "metadata": {},
   "outputs": [
    {
     "name": "stdout",
     "output_type": "stream",
     "text": [
      "LSTM(\n",
      "  (lstm): LSTM(101, 300, num_layers=2, dropout=0.3)\n",
      "  (linear): Linear(in_features=600, out_features=100, bias=True)\n",
      "  (activation): LeakyReLU(negative_slope=0.01, inplace=True)\n",
      "  (post_net): Sequential(\n",
      "    (0): Linear(in_features=109, out_features=100, bias=True)\n",
      "    (1): LeakyReLU(negative_slope=0.01, inplace=True)\n",
      "    (2): Linear(in_features=100, out_features=20, bias=True)\n",
      "    (3): LeakyReLU(negative_slope=0.01, inplace=True)\n",
      "    (4): Linear(in_features=20, out_features=1, bias=True)\n",
      "  )\n",
      ")\n"
     ]
    }
   ],
   "source": [
    "print(model)"
   ]
  },
  {
   "cell_type": "code",
   "execution_count": 218,
   "metadata": {},
   "outputs": [],
   "source": [
    "train_inout_seq = (torch.tensor(in_seq).float(), torch.tensor(in_post).float(), torch.tensor(out_seq).float())"
   ]
  },
  {
   "cell_type": "code",
   "execution_count": 220,
   "metadata": {},
   "outputs": [
    {
     "data": {
      "application/vnd.jupyter.widget-view+json": {
       "model_id": "556c1a00fe384661893c49d4e281891d",
       "version_major": 2,
       "version_minor": 0
      },
      "text/plain": [
       "HBox(children=(FloatProgress(value=0.0, max=50.0), HTML(value='')))"
      ]
     },
     "metadata": {},
     "output_type": "display_data"
    },
    {
     "name": "stderr",
     "output_type": "stream",
     "text": [
      "D:\\anaconda3\\lib\\site-packages\\torch\\nn\\modules\\loss.py:446: UserWarning: Using a target size (torch.Size([7234])) that is different to the input size (torch.Size([7234, 1])). This will likely lead to incorrect results due to broadcasting. Please ensure they have the same size.\n",
      "  return F.mse_loss(input, target, reduction=self.reduction)\n"
     ]
    },
    {
     "name": "stdout",
     "output_type": "stream",
     "text": [
      "Epoch:   0 loss: 806.21514893\n",
      "Epoch:  10 loss: 170.10676575\n",
      "Epoch:  20 loss: 162.23254395\n",
      "Epoch:  30 loss: 160.56987000\n",
      "Epoch:  40 loss: 160.34460449\n",
      "\n"
     ]
    },
    {
     "ename": "KeyboardInterrupt",
     "evalue": "",
     "output_type": "error",
     "traceback": [
      "\u001b[1;31m---------------------------------------------------------------------------\u001b[0m",
      "\u001b[1;31mKeyboardInterrupt\u001b[0m                         Traceback (most recent call last)",
      "\u001b[1;32m<ipython-input-220-c0cbd68a4a3d>\u001b[0m in \u001b[0;36m<module>\u001b[1;34m\u001b[0m\n\u001b[0;32m     13\u001b[0m     \u001b[0mloss\u001b[0m \u001b[1;33m=\u001b[0m \u001b[0mcriterion\u001b[0m\u001b[1;33m(\u001b[0m\u001b[0mrescale_minmax\u001b[0m\u001b[1;33m(\u001b[0m\u001b[0my_pred\u001b[0m\u001b[1;33m)\u001b[0m\u001b[1;33m,\u001b[0m \u001b[0mrescale_minmax\u001b[0m\u001b[1;33m(\u001b[0m\u001b[0mout\u001b[0m\u001b[1;33m)\u001b[0m\u001b[1;33m)\u001b[0m\u001b[1;33m\u001b[0m\u001b[1;33m\u001b[0m\u001b[0m\n\u001b[0;32m     14\u001b[0m     \u001b[0mlosses\u001b[0m\u001b[1;33m.\u001b[0m\u001b[0mappend\u001b[0m\u001b[1;33m(\u001b[0m\u001b[0mloss\u001b[0m\u001b[1;33m)\u001b[0m\u001b[1;33m\u001b[0m\u001b[1;33m\u001b[0m\u001b[0m\n\u001b[1;32m---> 15\u001b[1;33m     \u001b[0mloss\u001b[0m\u001b[1;33m.\u001b[0m\u001b[0mbackward\u001b[0m\u001b[1;33m(\u001b[0m\u001b[1;33m)\u001b[0m\u001b[1;33m\u001b[0m\u001b[1;33m\u001b[0m\u001b[0m\n\u001b[0m\u001b[0;32m     16\u001b[0m     \u001b[0moptimizer\u001b[0m\u001b[1;33m.\u001b[0m\u001b[0mstep\u001b[0m\u001b[1;33m(\u001b[0m\u001b[1;33m)\u001b[0m\u001b[1;33m\u001b[0m\u001b[1;33m\u001b[0m\u001b[0m\n\u001b[0;32m     17\u001b[0m \u001b[1;33m\u001b[0m\u001b[0m\n",
      "\u001b[1;32mD:\\anaconda3\\lib\\site-packages\\torch\\tensor.py\u001b[0m in \u001b[0;36mbackward\u001b[1;34m(self, gradient, retain_graph, create_graph)\u001b[0m\n\u001b[0;32m    219\u001b[0m                 \u001b[0mretain_graph\u001b[0m\u001b[1;33m=\u001b[0m\u001b[0mretain_graph\u001b[0m\u001b[1;33m,\u001b[0m\u001b[1;33m\u001b[0m\u001b[1;33m\u001b[0m\u001b[0m\n\u001b[0;32m    220\u001b[0m                 create_graph=create_graph)\n\u001b[1;32m--> 221\u001b[1;33m         \u001b[0mtorch\u001b[0m\u001b[1;33m.\u001b[0m\u001b[0mautograd\u001b[0m\u001b[1;33m.\u001b[0m\u001b[0mbackward\u001b[0m\u001b[1;33m(\u001b[0m\u001b[0mself\u001b[0m\u001b[1;33m,\u001b[0m \u001b[0mgradient\u001b[0m\u001b[1;33m,\u001b[0m \u001b[0mretain_graph\u001b[0m\u001b[1;33m,\u001b[0m \u001b[0mcreate_graph\u001b[0m\u001b[1;33m)\u001b[0m\u001b[1;33m\u001b[0m\u001b[1;33m\u001b[0m\u001b[0m\n\u001b[0m\u001b[0;32m    222\u001b[0m \u001b[1;33m\u001b[0m\u001b[0m\n\u001b[0;32m    223\u001b[0m     \u001b[1;32mdef\u001b[0m \u001b[0mregister_hook\u001b[0m\u001b[1;33m(\u001b[0m\u001b[0mself\u001b[0m\u001b[1;33m,\u001b[0m \u001b[0mhook\u001b[0m\u001b[1;33m)\u001b[0m\u001b[1;33m:\u001b[0m\u001b[1;33m\u001b[0m\u001b[1;33m\u001b[0m\u001b[0m\n",
      "\u001b[1;32mD:\\anaconda3\\lib\\site-packages\\torch\\autograd\\__init__.py\u001b[0m in \u001b[0;36mbackward\u001b[1;34m(tensors, grad_tensors, retain_graph, create_graph, grad_variables)\u001b[0m\n\u001b[0;32m    128\u001b[0m         \u001b[0mretain_graph\u001b[0m \u001b[1;33m=\u001b[0m \u001b[0mcreate_graph\u001b[0m\u001b[1;33m\u001b[0m\u001b[1;33m\u001b[0m\u001b[0m\n\u001b[0;32m    129\u001b[0m \u001b[1;33m\u001b[0m\u001b[0m\n\u001b[1;32m--> 130\u001b[1;33m     Variable._execution_engine.run_backward(\n\u001b[0m\u001b[0;32m    131\u001b[0m         \u001b[0mtensors\u001b[0m\u001b[1;33m,\u001b[0m \u001b[0mgrad_tensors_\u001b[0m\u001b[1;33m,\u001b[0m \u001b[0mretain_graph\u001b[0m\u001b[1;33m,\u001b[0m \u001b[0mcreate_graph\u001b[0m\u001b[1;33m,\u001b[0m\u001b[1;33m\u001b[0m\u001b[1;33m\u001b[0m\u001b[0m\n\u001b[0;32m    132\u001b[0m         allow_unreachable=True)  # allow_unreachable flag\n",
      "\u001b[1;31mKeyboardInterrupt\u001b[0m: "
     ]
    }
   ],
   "source": [
    "from tqdm.notebook import tqdm\n",
    "\n",
    "epochs = 50\n",
    "losses = []\n",
    "\n",
    "for i in tqdm(range(epochs)):\n",
    "    seq, post, out = train_inout_seq\n",
    "    optimizer.zero_grad()\n",
    "    model.hidden_cell = (torch.zeros(2, 2, model.hidden_layer_size, dtype=torch.float),\n",
    "                    torch.zeros(2, 2, model.hidden_layer_size, dtype=torch.float))\n",
    "\n",
    "    y_pred = model(seq, post)\n",
    "    loss = criterion(rescale_minmax(y_pred), rescale_minmax(out))\n",
    "    losses.append(loss)\n",
    "    loss.backward()\n",
    "    optimizer.step()\n",
    "        \n",
    "    if i%10 == 0:\n",
    "        print(f'Epoch: {i:3} loss: {loss.item():10.8f}')"
   ]
  },
  {
   "cell_type": "code",
   "execution_count": 221,
   "metadata": {},
   "outputs": [],
   "source": [
    "torch.save(model.state_dict(), 'backup/lstm_model_olddata_5_mse3.pth')"
   ]
  },
  {
   "cell_type": "code",
   "execution_count": 222,
   "metadata": {},
   "outputs": [
    {
     "data": {
      "text/plain": [
       "[<matplotlib.lines.Line2D at 0x4b4c9040>]"
      ]
     },
     "execution_count": 222,
     "metadata": {},
     "output_type": "execute_result"
    },
    {
     "data": {
      "image/png": "[encoded data removed]",
      "text/plain": [
       "<Figure size 432x288 with 1 Axes>"
      ]
     },
     "metadata": {
      "needs_background": "light"
     },
     "output_type": "display_data"
    }
   ],
   "source": [
    "import matplotlib.pyplot as plt\n",
    "\n",
    "plt.plot(losses)"
   ]
  },
  {
   "cell_type": "markdown",
   "metadata": {},
   "source": [
    "# Test LSTM model"
   ]
  },
  {
   "cell_type": "code",
   "execution_count": null,
   "metadata": {},
   "outputs": [],
   "source": [
    "model = LSTM()\n",
    "criterion = nn.MSELoss()\n",
    "\n",
    "model.load_state_dict(torch.load('backup/lstm_model_olddata_5_mse3.pth'))\n",
    "model.eval()"
   ]
  },
  {
   "cell_type": "code",
   "execution_count": 223,
   "metadata": {},
   "outputs": [],
   "source": [
    "test_seq, test_post, test_out = get_sequences(X_test, y_test, test_keys, 2)"
   ]
  },
  {
   "cell_type": "code",
   "execution_count": 224,
   "metadata": {},
   "outputs": [],
   "source": [
    "test_inout_seq = (torch.tensor(test_seq).float(), torch.tensor(test_post).float(), torch.tensor(test_out).float())"
   ]
  },
  {
   "cell_type": "code",
   "execution_count": 225,
   "metadata": {},
   "outputs": [
    {
     "data": {
      "text/plain": [
       "tensor([0.0534, 0.0636, 0.0204, 0.0127, 0.0254, 0.0025, 0.0025, 0.0051, 0.0000,\n",
       "        0.0153, 0.0025, 0.0051, 0.0025, 0.0178, 0.0025, 0.0000, 0.0051, 0.0153,\n",
       "        0.0000, 0.0254, 0.0076, 0.0000, 0.0051, 0.0076, 0.0076, 0.0000, 0.0025,\n",
       "        0.0051, 0.0076, 0.0025, 0.0051, 0.0051, 0.0000, 0.0051, 0.0025, 0.0025,\n",
       "        0.0000, 0.0025, 0.0025, 0.0000, 0.0000, 0.0025, 0.0025, 0.0025, 0.0000,\n",
       "        0.0127, 0.0000, 0.0000])"
      ]
     },
     "execution_count": 225,
     "metadata": {},
     "output_type": "execute_result"
    }
   ],
   "source": [
    "test_inout_seq[2]"
   ]
  },
  {
   "cell_type": "code",
   "execution_count": 226,
   "metadata": {},
   "outputs": [],
   "source": [
    "u = np.mean(train_y.values)\n",
    "s = np.std(train_y.values)\n",
    "mx = np.max(train_y.values)\n",
    "mn = np.min(train_y.values)\n",
    "\n",
    "def rescale_std(x):\n",
    "    return x*s + u\n",
    "\n",
    "def rescale_minmax(x):\n",
    "    return x * (mx - mn) + mn"
   ]
  },
  {
   "cell_type": "code",
   "execution_count": 227,
   "metadata": {},
   "outputs": [
    {
     "name": "stderr",
     "output_type": "stream",
     "text": [
      "D:\\anaconda3\\lib\\site-packages\\torch\\nn\\modules\\loss.py:446: UserWarning: Using a target size (torch.Size([48])) that is different to the input size (torch.Size([48, 1])). This will likely lead to incorrect results due to broadcasting. Please ensure they have the same size.\n",
      "  return F.mse_loss(input, target, reduction=self.reduction)\n"
     ]
    },
    {
     "name": "stdout",
     "output_type": "stream",
     "text": [
      "RMSE:  0.00017969009059015661\n"
     ]
    },
    {
     "data": {
      "image/png": "[encoded data removed]",
      "text/plain": [
       "<Figure size 432x288 with 1 Axes>"
      ]
     },
     "metadata": {
      "needs_background": "light"
     },
     "output_type": "display_data"
    }
   ],
   "source": [
    "model.eval()\n",
    "\n",
    "with torch.no_grad():\n",
    "    y_pred = model(test_inout_seq[0], test_inout_seq[1])\n",
    "    \n",
    "print(\"RMSE: \", criterion(y_pred, test_inout_seq[2]).item())\n",
    "plt.figure()\n",
    "plt.plot(rescale_minmax(test_inout_seq[2]), label='original')\n",
    "plt.plot(rescale_minmax(y_pred), label='prediction')\n",
    "plt.legend()\n",
    "plt.show()"
   ]
  },
  {
   "cell_type": "markdown",
   "metadata": {},
   "source": [
    "# ARIMA"
   ]
  },
  {
   "cell_type": "code",
   "execution_count": 41,
   "metadata": {},
   "outputs": [
    {
     "name": "stderr",
     "output_type": "stream",
     "text": [
      "<ipython-input-41-a505621e0502>:1: SettingWithCopyWarning: \n",
      "A value is trying to be set on a copy of a slice from a DataFrame\n",
      "\n",
      "See the caveats in the documentation: https://pandas.pydata.org/pandas-docs/stable/user_guide/indexing.html#returning-a-view-versus-a-copy\n",
      "  df_posts['post_signal'][0] = True\n"
     ]
    }
   ],
   "source": [
    "df_posts['post_signal'][0] = True"
   ]
  },
  {
   "cell_type": "code",
   "execution_count": 42,
   "metadata": {},
   "outputs": [
    {
     "data": {
      "text/html": [
       "<div>\n",
       "<style scoped>\n",
       "    .dataframe tbody tr th:only-of-type {\n",
       "        vertical-align: middle;\n",
       "    }\n",
       "\n",
       "    .dataframe tbody tr th {\n",
       "        vertical-align: top;\n",
       "    }\n",
       "\n",
       "    .dataframe thead th {\n",
       "        text-align: right;\n",
       "    }\n",
       "</style>\n",
       "<table border=\"1\" class=\"dataframe\">\n",
       "  <thead>\n",
       "    <tr style=\"text-align: right;\">\n",
       "      <th></th>\n",
       "      <th>date</th>\n",
       "      <th>post_id</th>\n",
       "    </tr>\n",
       "  </thead>\n",
       "  <tbody>\n",
       "    <tr>\n",
       "      <th>4698</th>\n",
       "      <td>2021-01-20 03:00:00</td>\n",
       "      <td>l10axx</td>\n",
       "    </tr>\n",
       "    <tr>\n",
       "      <th>3174</th>\n",
       "      <td>2021-01-20 04:00:00</td>\n",
       "      <td>l121r4</td>\n",
       "    </tr>\n",
       "    <tr>\n",
       "      <th>696</th>\n",
       "      <td>2021-01-20 20:00:00</td>\n",
       "      <td>l1hw75</td>\n",
       "    </tr>\n",
       "    <tr>\n",
       "      <th>1959</th>\n",
       "      <td>2021-01-21 04:00:00</td>\n",
       "      <td>l1qtmg</td>\n",
       "    </tr>\n",
       "    <tr>\n",
       "      <th>3103</th>\n",
       "      <td>2021-01-21 14:00:00</td>\n",
       "      <td>l1zqvz</td>\n",
       "    </tr>\n",
       "    <tr>\n",
       "      <th>...</th>\n",
       "      <td>...</td>\n",
       "      <td>...</td>\n",
       "    </tr>\n",
       "    <tr>\n",
       "      <th>276</th>\n",
       "      <td>2021-02-09 05:00:00</td>\n",
       "      <td>lfv9ah</td>\n",
       "    </tr>\n",
       "    <tr>\n",
       "      <th>2967</th>\n",
       "      <td>2021-02-09 14:00:00</td>\n",
       "      <td>lg3zf4</td>\n",
       "    </tr>\n",
       "    <tr>\n",
       "      <th>252</th>\n",
       "      <td>2021-02-09 17:00:00</td>\n",
       "      <td>lg8b7a</td>\n",
       "    </tr>\n",
       "    <tr>\n",
       "      <th>1296</th>\n",
       "      <td>2021-02-09 18:00:00</td>\n",
       "      <td>lg9ktu</td>\n",
       "    </tr>\n",
       "    <tr>\n",
       "      <th>4610</th>\n",
       "      <td>2021-02-10 19:00:00</td>\n",
       "      <td>lh173n</td>\n",
       "    </tr>\n",
       "  </tbody>\n",
       "</table>\n",
       "<p>100 rows × 2 columns</p>\n",
       "</div>"
      ],
      "text/plain": [
       "                    date post_id\n",
       "4698 2021-01-20 03:00:00  l10axx\n",
       "3174 2021-01-20 04:00:00  l121r4\n",
       "696  2021-01-20 20:00:00  l1hw75\n",
       "1959 2021-01-21 04:00:00  l1qtmg\n",
       "3103 2021-01-21 14:00:00  l1zqvz\n",
       "...                  ...     ...\n",
       "276  2021-02-09 05:00:00  lfv9ah\n",
       "2967 2021-02-09 14:00:00  lg3zf4\n",
       "252  2021-02-09 17:00:00  lg8b7a\n",
       "1296 2021-02-09 18:00:00  lg9ktu\n",
       "4610 2021-02-10 19:00:00  lh173n\n",
       "\n",
       "[100 rows x 2 columns]"
      ]
     },
     "execution_count": 42,
     "metadata": {},
     "output_type": "execute_result"
    }
   ],
   "source": [
    "dates = df_posts[df_posts['post_signal'] == True][['date', 'post_id']].copy()\n",
    "\n",
    "dates.sort_values('date')"
   ]
  },
  {
   "cell_type": "code",
   "execution_count": 43,
   "metadata": {},
   "outputs": [],
   "source": [
    "df_sorted = df_posts.sort_values(by=['post_id', 'date']).reset_index(drop=True)"
   ]
  },
  {
   "cell_type": "code",
   "execution_count": 44,
   "metadata": {},
   "outputs": [
    {
     "data": {
      "text/plain": [
       "<matplotlib.axes._subplots.AxesSubplot at 0x47b67880>"
      ]
     },
     "execution_count": 44,
     "metadata": {},
     "output_type": "execute_result"
    },
    {
     "data": {
      "image/png": "[encoded data removed]",
      "text/plain": [
       "<Figure size 432x288 with 1 Axes>"
      ]
     },
     "metadata": {
      "needs_background": "light"
     },
     "output_type": "display_data"
    }
   ],
   "source": [
    "df_sorted.set_index('date')['index'].plot()"
   ]
  },
  {
   "cell_type": "code",
   "execution_count": 45,
   "metadata": {},
   "outputs": [
    {
     "data": {
      "text/plain": [
       "l1qtmg    474\n",
       "l4xcij    349\n",
       "l6novm    332\n",
       "l833dg    247\n",
       "l7q26x    235\n",
       "l1hw75    223\n",
       "l121r4    186\n",
       "l78duc    186\n",
       "l77wpb    146\n",
       "lc6xn8    143\n",
       "Name: post_id, dtype: int64"
      ]
     },
     "execution_count": 45,
     "metadata": {},
     "output_type": "execute_result"
    }
   ],
   "source": [
    "comms = df_sorted['index']\n",
    "df_sorted['post_id'].value_counts()[:10]"
   ]
  },
  {
   "cell_type": "code",
   "execution_count": 56,
   "metadata": {},
   "outputs": [
    {
     "data": {
      "text/plain": [
       "<matplotlib.axes._subplots.AxesSubplot at 0x48f7b9a0>"
      ]
     },
     "execution_count": 56,
     "metadata": {},
     "output_type": "execute_result"
    },
    {
     "data": {
      "image/png": "[encoded data removed]",
      "text/plain": [
       "<Figure size 432x288 with 1 Axes>"
      ]
     },
     "metadata": {
      "needs_background": "light"
     },
     "output_type": "display_data"
    }
   ],
   "source": [
    "comms = df_sorted[df_sorted['post_id'] == 'l6novm']['index']\n",
    "comms = comms.reset_index(drop=True)\n",
    "comms.plot()"
   ]
  },
  {
   "cell_type": "code",
   "execution_count": 76,
   "metadata": {},
   "outputs": [],
   "source": [
    "comms = df_sorted['index']\n",
    "comms = comms.reset_index(drop=True)"
   ]
  },
  {
   "cell_type": "markdown",
   "metadata": {},
   "source": [
    "# ARIMA"
   ]
  },
  {
   "cell_type": "code",
   "execution_count": 77,
   "metadata": {},
   "outputs": [
    {
     "name": "stdout",
     "output_type": "stream",
     "text": [
      "ADF Statistic: -26.751301\n",
      "p-value: 0.000000\n"
     ]
    }
   ],
   "source": [
    "from statsmodels.tsa.stattools import adfuller\n",
    "from numpy import log\n",
    "\n",
    "result = adfuller(comms)\n",
    "print('ADF Statistic: %f' % result[0])\n",
    "print('p-value: %f' % result[1])"
   ]
  },
  {
   "cell_type": "code",
   "execution_count": 78,
   "metadata": {},
   "outputs": [
    {
     "data": {
      "image/png": "[encoded data removed]",
      "text/plain": [
       "<Figure size 1080x840 with 6 Axes>"
      ]
     },
     "metadata": {
      "needs_background": "light"
     },
     "output_type": "display_data"
    }
   ],
   "source": [
    "import numpy as np, pandas as pd\n",
    "from statsmodels.graphics.tsaplots import plot_acf, plot_pacf\n",
    "import matplotlib.pyplot as plt\n",
    "\n",
    "plt.rcParams.update({'figure.figsize':(9,7), 'figure.dpi':120})\n",
    "\n",
    "# Original Series\n",
    "fig, axes = plt.subplots(3, 2, sharex=True)\n",
    "axes[0, 0].plot(comms); axes[0, 0].set_title('Original Series')\n",
    "plot_acf(comms, ax=axes[0, 1])\n",
    "\n",
    "# 1st Differencing\n",
    "axes[1, 0].plot(comms.diff()); axes[1, 0].set_title('1st Order Differencing')\n",
    "plot_acf(comms.diff().dropna(), ax=axes[1, 1])\n",
    "\n",
    "# 2nd Differencing\n",
    "axes[2, 0].plot(comms.diff().diff()); axes[2, 0].set_title('2nd Order Differencing')\n",
    "plot_acf(comms.diff().diff().dropna(), ax=axes[2, 1])\n",
    "\n",
    "plt.show()"
   ]
  },
  {
   "cell_type": "code",
   "execution_count": 79,
   "metadata": {},
   "outputs": [
    {
     "data": {
      "image/png": "[encoded data removed]",
      "text/plain": [
       "<Figure size 1080x360 with 2 Axes>"
      ]
     },
     "metadata": {
      "needs_background": "light"
     },
     "output_type": "display_data"
    }
   ],
   "source": [
    "# PACF plot of 1st differenced series\n",
    "plt.rcParams.update({'figure.figsize':(9,3), 'figure.dpi':120})\n",
    "\n",
    "fig, axes = plt.subplots(1, 2, sharex=True)\n",
    "axes[0].plot(comms.diff()); axes[0].set_title('1st Differencing')\n",
    "axes[1].set(ylim=(0,5))\n",
    "plot_pacf(comms.diff().dropna(), ax=axes[1])\n",
    "\n",
    "plt.show()"
   ]
  },
  {
   "cell_type": "code",
   "execution_count": 80,
   "metadata": {},
   "outputs": [
    {
     "data": {
      "image/png": "[encoded data removed]",
      "text/plain": [
       "<Figure size 1080x360 with 2 Axes>"
      ]
     },
     "metadata": {
      "needs_background": "light"
     },
     "output_type": "display_data"
    }
   ],
   "source": [
    "import pandas as pd\n",
    "from statsmodels.graphics.tsaplots import plot_acf, plot_pacf\n",
    "import matplotlib.pyplot as plt\n",
    "plt.rcParams.update({'figure.figsize':(9,3), 'figure.dpi':120})\n",
    "\n",
    "fig, axes = plt.subplots(1, 2, sharex=True)\n",
    "axes[0].plot(comms.diff()); axes[0].set_title('1st Differencing')\n",
    "axes[1].set(ylim=(0,1.2))\n",
    "plot_acf(comms.diff().dropna(), ax=axes[1])\n",
    "\n",
    "plt.show()"
   ]
  },
  {
   "cell_type": "code",
   "execution_count": 81,
   "metadata": {},
   "outputs": [],
   "source": [
    "from statsmodels.tsa.arima_model import ARIMA"
   ]
  },
  {
   "cell_type": "code",
   "execution_count": 86,
   "metadata": {},
   "outputs": [
    {
     "name": "stdout",
     "output_type": "stream",
     "text": [
      "                             ARIMA Model Results                              \n",
      "==============================================================================\n",
      "Dep. Variable:                D.index   No. Observations:                 4734\n",
      "Model:                 ARIMA(1, 1, 1)   Log Likelihood              -19310.383\n",
      "Method:                       css-mle   S.D. of innovations             14.289\n",
      "Date:                Mon, 21 Jun 2021   AIC                          38628.765\n",
      "Time:                        12:55:55   BIC                          38654.615\n",
      "Sample:                             1   HQIC                         38637.850\n",
      "                                                                              \n",
      "=================================================================================\n",
      "                    coef    std err          z      P>|z|      [0.025      0.975]\n",
      "---------------------------------------------------------------------------------\n",
      "const             0.0010      0.001      1.548      0.122      -0.000       0.002\n",
      "ar.L1.D.index     0.7597      0.009     80.277      0.000       0.741       0.778\n",
      "ma.L1.D.index    -1.0000      0.001  -1159.205      0.000      -1.002      -0.998\n",
      "                                    Roots                                    \n",
      "=============================================================================\n",
      "                  Real          Imaginary           Modulus         Frequency\n",
      "-----------------------------------------------------------------------------\n",
      "AR.1            1.3164           +0.0000j            1.3164            0.0000\n",
      "MA.1            1.0000           +0.0000j            1.0000            0.0000\n",
      "-----------------------------------------------------------------------------\n"
     ]
    }
   ],
   "source": [
    "model = ARIMA(comms, order=(1,1,1))\n",
    "model_fit = model.fit(disp=0)\n",
    "print(model_fit.summary())"
   ]
  },
  {
   "cell_type": "code",
   "execution_count": 89,
   "metadata": {},
   "outputs": [
    {
     "name": "stdout",
     "output_type": "stream",
     "text": [
      "                             ARIMA Model Results                              \n",
      "==============================================================================\n",
      "Dep. Variable:                D.index   No. Observations:                 4734\n",
      "Model:                 ARIMA(1, 1, 2)   Log Likelihood              -19189.763\n",
      "Method:                       css-mle   S.D. of innovations             13.929\n",
      "Date:                Mon, 21 Jun 2021   AIC                          38389.526\n",
      "Time:                        12:57:20   BIC                          38421.839\n",
      "Sample:                             1   HQIC                         38400.883\n",
      "                                                                              \n",
      "=================================================================================\n",
      "                    coef    std err          z      P>|z|      [0.025      0.975]\n",
      "---------------------------------------------------------------------------------\n",
      "const             0.0010      0.001      1.814      0.070    -7.9e-05       0.002\n",
      "ar.L1.D.index     0.6487      0.014     46.914      0.000       0.622       0.676\n",
      "ma.L1.D.index    -0.7206      0.017    -42.481      0.000      -0.754      -0.687\n",
      "ma.L2.D.index    -0.2794      0.017    -16.547      0.000      -0.312      -0.246\n",
      "                                    Roots                                    \n",
      "=============================================================================\n",
      "                  Real          Imaginary           Modulus         Frequency\n",
      "-----------------------------------------------------------------------------\n",
      "AR.1            1.5416           +0.0000j            1.5416            0.0000\n",
      "MA.1            1.0000           +0.0000j            1.0000            0.0000\n",
      "MA.2           -3.5792           +0.0000j            3.5792            0.5000\n",
      "-----------------------------------------------------------------------------\n"
     ]
    }
   ],
   "source": [
    "model = ARIMA(comms, order=(1,1,2))\n",
    "model_fit = model.fit(disp=0)\n",
    "print(model_fit.summary())"
   ]
  },
  {
   "cell_type": "code",
   "execution_count": 90,
   "metadata": {},
   "outputs": [
    {
     "data": {
      "image/png": "[encoded data removed]",
      "text/plain": [
       "<Figure size 1080x360 with 2 Axes>"
      ]
     },
     "metadata": {
      "needs_background": "light"
     },
     "output_type": "display_data"
    }
   ],
   "source": [
    "# Plot residual errors\n",
    "residuals = pd.DataFrame(model_fit.resid)\n",
    "fig, ax = plt.subplots(1,2)\n",
    "residuals.plot(title=\"Residuals\", ax=ax[0])\n",
    "residuals.plot(kind='kde', title='Density', ax=ax[1])\n",
    "plt.show()"
   ]
  },
  {
   "cell_type": "code",
   "execution_count": 91,
   "metadata": {},
   "outputs": [
    {
     "data": {
      "image/png": "[encoded data removed]",
      "text/plain": [
       "<Figure size 1080x360 with 1 Axes>"
      ]
     },
     "metadata": {
      "needs_background": "light"
     },
     "output_type": "display_data"
    }
   ],
   "source": [
    "# Actual vs Fitted\n",
    "model_fit.plot_predict(dynamic=False)\n",
    "plt.show()"
   ]
  },
  {
   "cell_type": "code",
   "execution_count": 92,
   "metadata": {},
   "outputs": [],
   "source": [
    "from statsmodels.tsa.stattools import acf\n",
    "\n",
    "\n",
    "# Create Training and Test\n",
    "train = comms[:4000]\n",
    "test = comms[4000:]"
   ]
  },
  {
   "cell_type": "code",
   "execution_count": 103,
   "metadata": {},
   "outputs": [
    {
     "data": {
      "image/png": "[encoded data removed]",
      "text/plain": [
       "<Figure size 1200x500 with 1 Axes>"
      ]
     },
     "metadata": {
      "needs_background": "light"
     },
     "output_type": "display_data"
    }
   ],
   "source": [
    "# Build Model \n",
    "model = ARIMA(train, order=(1, 1, 2))  \n",
    "fitted = model.fit(disp=-1)  \n",
    "\n",
    "# Forecast\n",
    "fc, se, conf = fitted.forecast(735, alpha=0.05)  # 95% conf\n",
    "\n",
    "# Make as pandas series\n",
    "fc_series = pd.Series(fc, index=test.index)\n",
    "lower_series = pd.Series(conf[:, 0], index=test.index)\n",
    "upper_series = pd.Series(conf[:, 1], index=test.index)\n",
    "\n",
    "# Plot\n",
    "plt.figure(figsize=(12,5), dpi=100)\n",
    "plt.plot(train, label='training')\n",
    "plt.plot(test, label='actual')\n",
    "plt.plot(fc_series, label='forecast')\n",
    "plt.fill_between(lower_series.index, lower_series, upper_series, \n",
    "                 color='k', alpha=.15)\n",
    "plt.title('Forecast vs Actuals')\n",
    "plt.legend(loc='upper left', fontsize=8)\n",
    "plt.show()"
   ]
  },
  {
   "cell_type": "code",
   "execution_count": 104,
   "metadata": {},
   "outputs": [
    {
     "name": "stderr",
     "output_type": "stream",
     "text": [
      "<ipython-input-104-41be5724d783>:3: RuntimeWarning: divide by zero encountered in true_divide\n",
      "  mape = np.mean(np.abs(forecast - actual)/np.abs(actual))  # MAPE\n",
      "<ipython-input-104-41be5724d783>:6: RuntimeWarning: divide by zero encountered in true_divide\n",
      "  mpe = np.mean((forecast - actual)/actual)   # MPE\n",
      "D:\\anaconda3\\lib\\site-packages\\statsmodels\\tsa\\stattools.py:568: FutureWarning: fft=True will become the default in a future version of statsmodels. To suppress this warning, explicitly set fft=False.\n",
      "  warnings.warn(\n"
     ]
    },
    {
     "data": {
      "text/plain": [
       "{'mape': inf,\n",
       " 'me': 1.5243953561509598,\n",
       " 'mae': 8.276281971635884,\n",
       " 'mpe': inf,\n",
       " 'rmse': 14.50450232619779,\n",
       " 'acf1': 0.6075084548724295,\n",
       " 'corr': -0.010597370753132529,\n",
       " 'minmax': 0.8112134007785214}"
      ]
     },
     "execution_count": 104,
     "metadata": {},
     "output_type": "execute_result"
    }
   ],
   "source": [
    "# Accuracy metrics\n",
    "def forecast_accuracy(forecast, actual):\n",
    "    mape = np.mean(np.abs(forecast - actual)/np.abs(actual))  # MAPE\n",
    "    me = np.mean(forecast - actual)             # ME\n",
    "    mae = np.mean(np.abs(forecast - actual))    # MAE\n",
    "    mpe = np.mean((forecast - actual)/actual)   # MPE\n",
    "    rmse = np.mean((forecast - actual)**2)**.5  # RMSE\n",
    "    corr = np.corrcoef(forecast, actual)[0,1]   # corr\n",
    "    mins = np.amin(np.hstack([forecast[:,None], \n",
    "                              actual[:,None]]), axis=1)\n",
    "    maxs = np.amax(np.hstack([forecast[:,None], \n",
    "                              actual[:,None]]), axis=1)\n",
    "    minmax = 1 - np.mean(mins/maxs)             # minmax\n",
    "    acf1 = acf(fc-test)[1]                      # ACF1\n",
    "    return({'mape':mape, 'me':me, 'mae': mae, \n",
    "            'mpe': mpe, 'rmse':rmse, 'acf1':acf1, \n",
    "            'corr':corr, 'minmax':minmax})\n",
    "\n",
    "forecast_accuracy(fc, test.values)"
   ]
  }
 ],
 "metadata": {
  "kernelspec": {
   "display_name": "Python 3",
   "language": "python",
   "name": "python3"
  },
  "language_info": {
   "codemirror_mode": {
    "name": "ipython",
    "version": 3
   },
   "file_extension": ".py",
   "mimetype": "text/x-python",
   "name": "python",
   "nbconvert_exporter": "python",
   "pygments_lexer": "ipython3",
   "version": "3.8.3"
  }
 },
 "nbformat": 4,
 "nbformat_minor": 4
}

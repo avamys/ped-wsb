{
 "cells": [
  {
   "cell_type": "code",
   "execution_count": 1,
   "metadata": {},
   "outputs": [],
   "source": [
    "%matplotlib inline\n",
    "import os\n",
    "import pandas as pd\n",
    "import matplotlib.pyplot as plt\n",
    "import seaborn as sns\n",
    "import numpy as np\n",
    "import cv2\n",
    "import urllib\n",
    "from tqdm.notebook import tqdm"
   ]
  },
  {
   "cell_type": "code",
   "execution_count": 2,
   "metadata": {},
   "outputs": [],
   "source": [
    "df = pd.read_csv(\"data/wsb_interim.csv\", index_col=0)"
   ]
  },
  {
   "cell_type": "code",
   "execution_count": 3,
   "metadata": {},
   "outputs": [],
   "source": [
    "df2 = df[ df['body'].isna() ]"
   ]
  },
  {
   "cell_type": "code",
   "execution_count": 4,
   "metadata": {},
   "outputs": [
    {
     "data": {
      "text/plain": [
       "29231      https://i.redd.it/cw5bnzhs71d61.jpg\n",
       "19188      https://i.redd.it/w32qhsded3e61.png\n",
       "12340      https://i.redd.it/nk71e1nc3xc61.png\n",
       "37840      https://i.redd.it/oi0vn1wh6if61.png\n",
       "37068      https://i.redd.it/s53bjn17qde61.jpg\n",
       "16183      https://i.redd.it/t3xeblqoz2f61.jpg\n",
       "26107      https://i.redd.it/kr8aba6gshe61.jpg\n",
       "38794      https://i.redd.it/uet9y9kr43e61.jpg\n",
       "18251    https://www.reddit.com/gallery/l47bt6\n",
       "38475      https://i.redd.it/xeo9r08rrwd61.jpg\n",
       "Name: url, dtype: object"
      ]
     },
     "execution_count": 4,
     "metadata": {},
     "output_type": "execute_result"
    }
   ],
   "source": [
    "df2[df2.type=='image'].sample(10)['url']"
   ]
  },
  {
   "cell_type": "code",
   "execution_count": 5,
   "metadata": {},
   "outputs": [
    {
     "data": {
      "text/html": [
       "<div>\n",
       "<style scoped>\n",
       "    .dataframe tbody tr th:only-of-type {\n",
       "        vertical-align: middle;\n",
       "    }\n",
       "\n",
       "    .dataframe tbody tr th {\n",
       "        vertical-align: top;\n",
       "    }\n",
       "\n",
       "    .dataframe thead th {\n",
       "        text-align: right;\n",
       "    }\n",
       "</style>\n",
       "<table border=\"1\" class=\"dataframe\">\n",
       "  <thead>\n",
       "    <tr style=\"text-align: right;\">\n",
       "      <th></th>\n",
       "      <th>title</th>\n",
       "      <th>score</th>\n",
       "      <th>id</th>\n",
       "      <th>url</th>\n",
       "      <th>comms_num</th>\n",
       "      <th>body</th>\n",
       "      <th>timestamp</th>\n",
       "      <th>upvote_ratio</th>\n",
       "      <th>is_oc</th>\n",
       "      <th>permalink</th>\n",
       "      <th>...</th>\n",
       "      <th>body_raw</th>\n",
       "      <th>title_length</th>\n",
       "      <th>title_capital</th>\n",
       "      <th>body_length</th>\n",
       "      <th>body_urls</th>\n",
       "      <th>body_punct</th>\n",
       "      <th>type</th>\n",
       "      <th>deleted</th>\n",
       "      <th>body_bow</th>\n",
       "      <th>title_bow</th>\n",
       "    </tr>\n",
       "  </thead>\n",
       "  <tbody>\n",
       "    <tr>\n",
       "      <th>1</th>\n",
       "      <td>['hold', 'GME', 'till', 'squeeze', 'squoze']</td>\n",
       "      <td>1157</td>\n",
       "      <td>l87ci6</td>\n",
       "      <td>https://i.redd.it/20f2x4ehsce61.png</td>\n",
       "      <td>85</td>\n",
       "      <td>NaN</td>\n",
       "      <td>2021-01-30 00:12:20</td>\n",
       "      <td>0.99</td>\n",
       "      <td>False</td>\n",
       "      <td>/r/wallstreetbets/comments/l87ci6/holding_gme_...</td>\n",
       "      <td>...</td>\n",
       "      <td>NaN</td>\n",
       "      <td>9</td>\n",
       "      <td>0.117647</td>\n",
       "      <td>NaN</td>\n",
       "      <td>0</td>\n",
       "      <td>0</td>\n",
       "      <td>image</td>\n",
       "      <td>False</td>\n",
       "      <td>[0, 0, 0, 0, 0, 0, 0, 0, 0, 0, 0, 0, 0, 0, 0, ...</td>\n",
       "      <td>[0, 1, 1, 0, 0, 0, 0, 0, 0, 0, 0, 0, 0, 0, 0, ...</td>\n",
       "    </tr>\n",
       "    <tr>\n",
       "      <th>7</th>\n",
       "      <td>['buy', 'DIP', 'hold', 'rocket', 'rocket', 'ro...</td>\n",
       "      <td>15</td>\n",
       "      <td>l6955d</td>\n",
       "      <td>https://www.reddit.com/r/wallstreetbets/commen...</td>\n",
       "      <td>2</td>\n",
       "      <td>NaN</td>\n",
       "      <td>2021-01-27 18:06:55</td>\n",
       "      <td>1.00</td>\n",
       "      <td>False</td>\n",
       "      <td>/r/wallstreetbets/comments/l6955d/buy_the_dip_...</td>\n",
       "      <td>...</td>\n",
       "      <td>NaN</td>\n",
       "      <td>8</td>\n",
       "      <td>0.842105</td>\n",
       "      <td>NaN</td>\n",
       "      <td>0</td>\n",
       "      <td>0</td>\n",
       "      <td>text</td>\n",
       "      <td>True</td>\n",
       "      <td>[0, 0, 0, 0, 0, 0, 0, 0, 0, 0, 0, 0, 0, 0, 0, ...</td>\n",
       "      <td>[1, 0, 1, 1, 0, 0, 0, 0, 0, 0, 0, 0, 0, 0, 0, ...</td>\n",
       "    </tr>\n",
       "    <tr>\n",
       "      <th>12</th>\n",
       "      <td>['inability', 'rh', 'user', 'purchase', 'AMC',...</td>\n",
       "      <td>19</td>\n",
       "      <td>l6wtpf</td>\n",
       "      <td>https://www.reddit.com/r/wallstreetbets/commen...</td>\n",
       "      <td>8</td>\n",
       "      <td>NaN</td>\n",
       "      <td>2021-01-28 14:40:05</td>\n",
       "      <td>1.00</td>\n",
       "      <td>False</td>\n",
       "      <td>/r/wallstreetbets/comments/l6wtpf/due_to_the_i...</td>\n",
       "      <td>...</td>\n",
       "      <td>NaN</td>\n",
       "      <td>45</td>\n",
       "      <td>0.069767</td>\n",
       "      <td>NaN</td>\n",
       "      <td>0</td>\n",
       "      <td>0</td>\n",
       "      <td>text</td>\n",
       "      <td>True</td>\n",
       "      <td>[0, 0, 0, 0, 0, 0, 0, 0, 0, 0, 0, 0, 0, 0, 0, ...</td>\n",
       "      <td>[0, 0, 0, 0, 0, 1, 0, 0, 0, 0, 0, 0, 0, 0, 0, ...</td>\n",
       "    </tr>\n",
       "    <tr>\n",
       "      <th>13</th>\n",
       "      <td>['new', 'fill', 'order', 'dip', 'pray', 'fill'...</td>\n",
       "      <td>9</td>\n",
       "      <td>l720fg</td>\n",
       "      <td>https://www.reddit.com/r/wallstreetbets/commen...</td>\n",
       "      <td>2</td>\n",
       "      <td>NaN</td>\n",
       "      <td>2021-01-28 17:50:08</td>\n",
       "      <td>1.00</td>\n",
       "      <td>False</td>\n",
       "      <td>/r/wallstreetbets/comments/l720fg/put_in_a_new...</td>\n",
       "      <td>...</td>\n",
       "      <td>NaN</td>\n",
       "      <td>26</td>\n",
       "      <td>0.125000</td>\n",
       "      <td>NaN</td>\n",
       "      <td>0</td>\n",
       "      <td>0</td>\n",
       "      <td>text</td>\n",
       "      <td>True</td>\n",
       "      <td>[0, 0, 0, 0, 0, 0, 0, 0, 0, 0, 0, 0, 0, 0, 0, ...</td>\n",
       "      <td>[0, 0, 0, 0, 0, 0, 0, 0, 1, 0, 0, 0, 0, 0, 0, ...</td>\n",
       "    </tr>\n",
       "    <tr>\n",
       "      <th>20</th>\n",
       "      <td>['big', 'loss', 'lot', 'money', 'stay', 'stron...</td>\n",
       "      <td>30</td>\n",
       "      <td>lcj6n5</td>\n",
       "      <td>https://i.redd.it/7hswv66yjhf61.png</td>\n",
       "      <td>2</td>\n",
       "      <td>NaN</td>\n",
       "      <td>2021-02-04 17:16:33</td>\n",
       "      <td>0.85</td>\n",
       "      <td>False</td>\n",
       "      <td>/r/wallstreetbets/comments/lcj6n5/not_as_big_o...</td>\n",
       "      <td>...</td>\n",
       "      <td>NaN</td>\n",
       "      <td>22</td>\n",
       "      <td>0.034483</td>\n",
       "      <td>NaN</td>\n",
       "      <td>0</td>\n",
       "      <td>0</td>\n",
       "      <td>image</td>\n",
       "      <td>False</td>\n",
       "      <td>[0, 0, 0, 0, 0, 0, 0, 0, 0, 0, 0, 0, 0, 0, 0, ...</td>\n",
       "      <td>[0, 0, 1, 0, 0, 0, 0, 0, 0, 0, 0, 0, 0, 0, 0, ...</td>\n",
       "    </tr>\n",
       "  </tbody>\n",
       "</table>\n",
       "<p>5 rows × 24 columns</p>\n",
       "</div>"
      ],
      "text/plain": [
       "                                                title  score      id  \\\n",
       "1        ['hold', 'GME', 'till', 'squeeze', 'squoze']   1157  l87ci6   \n",
       "7   ['buy', 'DIP', 'hold', 'rocket', 'rocket', 'ro...     15  l6955d   \n",
       "12  ['inability', 'rh', 'user', 'purchase', 'AMC',...     19  l6wtpf   \n",
       "13  ['new', 'fill', 'order', 'dip', 'pray', 'fill'...      9  l720fg   \n",
       "20  ['big', 'loss', 'lot', 'money', 'stay', 'stron...     30  lcj6n5   \n",
       "\n",
       "                                                  url  comms_num body  \\\n",
       "1                 https://i.redd.it/20f2x4ehsce61.png         85  NaN   \n",
       "7   https://www.reddit.com/r/wallstreetbets/commen...          2  NaN   \n",
       "12  https://www.reddit.com/r/wallstreetbets/commen...          8  NaN   \n",
       "13  https://www.reddit.com/r/wallstreetbets/commen...          2  NaN   \n",
       "20                https://i.redd.it/7hswv66yjhf61.png          2  NaN   \n",
       "\n",
       "              timestamp  upvote_ratio  is_oc  \\\n",
       "1   2021-01-30 00:12:20          0.99  False   \n",
       "7   2021-01-27 18:06:55          1.00  False   \n",
       "12  2021-01-28 14:40:05          1.00  False   \n",
       "13  2021-01-28 17:50:08          1.00  False   \n",
       "20  2021-02-04 17:16:33          0.85  False   \n",
       "\n",
       "                                            permalink  ... body_raw  \\\n",
       "1   /r/wallstreetbets/comments/l87ci6/holding_gme_...  ...      NaN   \n",
       "7   /r/wallstreetbets/comments/l6955d/buy_the_dip_...  ...      NaN   \n",
       "12  /r/wallstreetbets/comments/l6wtpf/due_to_the_i...  ...      NaN   \n",
       "13  /r/wallstreetbets/comments/l720fg/put_in_a_new...  ...      NaN   \n",
       "20  /r/wallstreetbets/comments/lcj6n5/not_as_big_o...  ...      NaN   \n",
       "\n",
       "    title_length title_capital body_length body_urls  body_punct   type  \\\n",
       "1              9      0.117647         NaN         0           0  image   \n",
       "7              8      0.842105         NaN         0           0   text   \n",
       "12            45      0.069767         NaN         0           0   text   \n",
       "13            26      0.125000         NaN         0           0   text   \n",
       "20            22      0.034483         NaN         0           0  image   \n",
       "\n",
       "    deleted                                           body_bow  \\\n",
       "1     False  [0, 0, 0, 0, 0, 0, 0, 0, 0, 0, 0, 0, 0, 0, 0, ...   \n",
       "7      True  [0, 0, 0, 0, 0, 0, 0, 0, 0, 0, 0, 0, 0, 0, 0, ...   \n",
       "12     True  [0, 0, 0, 0, 0, 0, 0, 0, 0, 0, 0, 0, 0, 0, 0, ...   \n",
       "13     True  [0, 0, 0, 0, 0, 0, 0, 0, 0, 0, 0, 0, 0, 0, 0, ...   \n",
       "20    False  [0, 0, 0, 0, 0, 0, 0, 0, 0, 0, 0, 0, 0, 0, 0, ...   \n",
       "\n",
       "                                            title_bow  \n",
       "1   [0, 1, 1, 0, 0, 0, 0, 0, 0, 0, 0, 0, 0, 0, 0, ...  \n",
       "7   [1, 0, 1, 1, 0, 0, 0, 0, 0, 0, 0, 0, 0, 0, 0, ...  \n",
       "12  [0, 0, 0, 0, 0, 1, 0, 0, 0, 0, 0, 0, 0, 0, 0, ...  \n",
       "13  [0, 0, 0, 0, 0, 0, 0, 0, 1, 0, 0, 0, 0, 0, 0, ...  \n",
       "20  [0, 0, 1, 0, 0, 0, 0, 0, 0, 0, 0, 0, 0, 0, 0, ...  \n",
       "\n",
       "[5 rows x 24 columns]"
      ]
     },
     "execution_count": 5,
     "metadata": {},
     "output_type": "execute_result"
    }
   ],
   "source": [
    "df2.head()"
   ]
  },
  {
   "cell_type": "code",
   "execution_count": 6,
   "metadata": {},
   "outputs": [],
   "source": [
    "import time\n",
    "\n",
    "path = 'images/'\n",
    "\n",
    "def download_image(name, url):\n",
    "    if '.jpg' in url or '.png' in url:\n",
    "        \n",
    "        try:\n",
    "            req = urllib.request.Request(url, headers={'User-Agent': 'Mozilla/5.0'})   \n",
    "\n",
    "            html = urllib.request.urlopen(req)\n",
    "            arr = np.asarray(bytearray(html.read()), dtype=np.uint8)\n",
    "            img = cv2.imdecode(arr, -1)\n",
    "            cv2.imwrite(path+name+'.jpg', img)\n",
    "            \n",
    "        except:\n",
    "            pass\n",
    "        \n",
    "        finally:\n",
    "            pass"
   ]
  },
  {
   "cell_type": "code",
   "execution_count": 7,
   "metadata": {},
   "outputs": [
    {
     "data": {
      "text/plain": [
       "10828"
      ]
     },
     "execution_count": 7,
     "metadata": {},
     "output_type": "execute_result"
    }
   ],
   "source": [
    "len(df2[ df2['url'].str.contains('.jpg') | df2['url'].str.contains('.png') ])"
   ]
  },
  {
   "cell_type": "code",
   "execution_count": 8,
   "metadata": {},
   "outputs": [
    {
     "data": {
      "text/plain": [
       "993"
      ]
     },
     "execution_count": 8,
     "metadata": {},
     "output_type": "execute_result"
    }
   ],
   "source": [
    "len(df2[ df2['url'].str.contains('gallery') ])"
   ]
  },
  {
   "cell_type": "code",
   "execution_count": 9,
   "metadata": {},
   "outputs": [
    {
     "data": {
      "text/plain": [
       "233"
      ]
     },
     "execution_count": 9,
     "metadata": {},
     "output_type": "execute_result"
    }
   ],
   "source": [
    "len(df2[ df2['url'].str.contains('youtube') | df2['url'].str.contains('youtu.be') ])"
   ]
  },
  {
   "cell_type": "code",
   "execution_count": 10,
   "metadata": {},
   "outputs": [
    {
     "data": {
      "text/plain": [
       "296"
      ]
     },
     "execution_count": 10,
     "metadata": {},
     "output_type": "execute_result"
    }
   ],
   "source": [
    "len(df2[ df2['url'].str.contains('twitter') ])"
   ]
  },
  {
   "cell_type": "code",
   "execution_count": 11,
   "metadata": {},
   "outputs": [
    {
     "data": {
      "text/plain": [
       "717"
      ]
     },
     "execution_count": 11,
     "metadata": {},
     "output_type": "execute_result"
    }
   ],
   "source": [
    "len(df2[ df2['url'].str.contains('v.redd') ])"
   ]
  },
  {
   "cell_type": "code",
   "execution_count": 12,
   "metadata": {},
   "outputs": [
    {
     "data": {
      "text/plain": [
       "18205"
      ]
     },
     "execution_count": 12,
     "metadata": {},
     "output_type": "execute_result"
    }
   ],
   "source": [
    "len(df2)"
   ]
  },
  {
   "cell_type": "markdown",
   "metadata": {},
   "source": [
    "## Download images"
   ]
  },
  {
   "cell_type": "code",
   "execution_count": 13,
   "metadata": {},
   "outputs": [
    {
     "data": {
      "application/vnd.jupyter.widget-view+json": {
       "model_id": "7d557fc3a0bc46afa0284206d3c18a74",
       "version_major": 2,
       "version_minor": 0
      },
      "text/plain": [
       "HBox(children=(FloatProgress(value=1.0, bar_style='info', max=1.0), HTML(value='')))"
      ]
     },
     "metadata": {},
     "output_type": "display_data"
    },
    {
     "name": "stdout",
     "output_type": "stream",
     "text": [
      "\n"
     ]
    }
   ],
   "source": [
    "from tqdm.notebook import tqdm\n",
    "\n",
    "for index, row in tqdm(df2.iterrows()):\n",
    "    download_image(row['id'], row['url'])\n",
    "    time.sleep(0.1)\n",
    "\n",
    "# df2.apply(lambda x: download_image(x['id'], x['url']), axis=1)"
   ]
  },
  {
   "cell_type": "markdown",
   "metadata": {},
   "source": [
    "## OCR Tesseract"
   ]
  },
  {
   "cell_type": "code",
   "execution_count": 15,
   "metadata": {},
   "outputs": [],
   "source": [
    "from pytesseract import Output\n",
    "import pytesseract\n",
    "\n",
    "pytesseract.pytesseract.tesseract_cmd = 'D:\\\\Program Files\\\\Tesseract-OCR\\\\tesseract.exe'"
   ]
  },
  {
   "cell_type": "code",
   "execution_count": 23,
   "metadata": {},
   "outputs": [],
   "source": [
    "def resize(img):\n",
    "    w = img.shape[1]\n",
    "    h = img.shape[0]\n",
    "    \n",
    "    if w > 400 or h > 400:\n",
    "        scale_factor = 400 / w if w > h else 400 / h\n",
    "    else:\n",
    "        return img\n",
    "    \n",
    "    width = int(w * scale_factor)\n",
    "    height = int(h * scale_factor)\n",
    "    dim = (width, height)\n",
    "    resized = cv2.resize(img, dim, interpolation = cv2.INTER_AREA)\n",
    "    return resized\n",
    "\n",
    "def get_text(path):\n",
    "    image = cv2.imread(path)\n",
    "    rgb = cv2.cvtColor(image, cv2.COLOR_BGR2RGB)\n",
    "    \n",
    "    results = pytesseract.image_to_data(rgb, output_type=Output.DICT)\n",
    "    \n",
    "    texts = []\n",
    "    for i in range(0, len(results[\"text\"])):\n",
    "        text = results[\"text\"][i]\n",
    "        conf = int(results[\"conf\"][i])\n",
    "        \n",
    "        if conf > 50:\n",
    "            texts.append(text)\n",
    "            \n",
    "    return ' '.join(texts)"
   ]
  },
  {
   "cell_type": "code",
   "execution_count": 17,
   "metadata": {},
   "outputs": [
    {
     "data": {
      "text/plain": [
       "'melvin of underpants being up your but crack, they ride up labia, ‘tis mot okay t pic your Melvin public. by alicenwundrind October 14,2014 '"
      ]
     },
     "execution_count": 17,
     "metadata": {},
     "output_type": "execute_result"
    }
   ],
   "source": [
    "samp = \"images/l6h59b.jpg\"\n",
    "get_text(samp)"
   ]
  },
  {
   "cell_type": "code",
   "execution_count": 24,
   "metadata": {},
   "outputs": [],
   "source": [
    "import pickle\n",
    "\n",
    "tess = []\n",
    "tess_names = []"
   ]
  },
  {
   "cell_type": "code",
   "execution_count": 25,
   "metadata": {},
   "outputs": [
    {
     "data": {
      "application/vnd.jupyter.widget-view+json": {
       "model_id": "ea879e3ae1514ff99c034554d6ab38da",
       "version_major": 2,
       "version_minor": 0
      },
      "text/plain": [
       "HBox(children=(FloatProgress(value=0.0, max=10630.0), HTML(value='')))"
      ]
     },
     "metadata": {},
     "output_type": "display_data"
    },
    {
     "name": "stdout",
     "output_type": "stream",
     "text": [
      "Checkpoint 0\n",
      "Checkpoint 1000\n",
      "Checkpoint 2000\n",
      "Checkpoint 3000\n",
      "Checkpoint 4000\n",
      "Checkpoint 5000\n",
      "Checkpoint 6000\n",
      "Checkpoint 7000\n",
      "Checkpoint 8000\n",
      "Checkpoint 9000\n",
      "Checkpoint 10000\n",
      "\n"
     ]
    }
   ],
   "source": [
    "directory = \"./images\"\n",
    "\n",
    "for idx, filename in enumerate(tqdm(os.listdir(directory))):\n",
    "    tess.append(get_text(os.path.join(directory, filename)))\n",
    "    tess_names.append(filename.split('.')[0])\n",
    "    \n",
    "    if idx % 1000 == 0:\n",
    "        print(f\"Checkpoint {idx}\")\n",
    "        with open('backup/ocr_tesseract_checkpoint.pickle', 'wb') as handle:\n",
    "            pickle.dump(tess, handle, protocol=pickle.HIGHEST_PROTOCOL)\n",
    "    \n",
    "        with open('backup/ocr_names_tesseract_checkpoint.pickle', 'wb') as handle:\n",
    "            pickle.dump(tess_names, handle, protocol=pickle.HIGHEST_PROTOCOL)"
   ]
  },
  {
   "cell_type": "code",
   "execution_count": 27,
   "metadata": {},
   "outputs": [],
   "source": [
    "import pickle\n",
    "\n",
    "with open('backup/ocr_tesseract.pickle', 'wb') as handle:\n",
    "    pickle.dump(tess, handle, protocol=pickle.HIGHEST_PROTOCOL)\n",
    "    \n",
    "with open('backup/ocr_names_tesseract.pickle', 'wb') as handle:\n",
    "    pickle.dump(tess_names, handle, protocol=pickle.HIGHEST_PROTOCOL)"
   ]
  },
  {
   "cell_type": "markdown",
   "metadata": {},
   "source": [
    "#### Load from pickle"
   ]
  },
  {
   "cell_type": "code",
   "execution_count": 6,
   "metadata": {},
   "outputs": [],
   "source": [
    "import pickle\n",
    "\n",
    "with open('backup/ocr_tesseract.pickle', 'rb') as handle:\n",
    "    tess = pickle.load(handle)\n",
    "    \n",
    "with open('backup/ocr_names_tesseract.pickle', 'rb') as handle:\n",
    "    tess_names = pickle.load(handle)"
   ]
  },
  {
   "cell_type": "code",
   "execution_count": 7,
   "metadata": {},
   "outputs": [],
   "source": [
    "df_ocr = pd.DataFrame(zip(tess_names, tess), columns=[\"id\", \"text\"])"
   ]
  },
  {
   "cell_type": "code",
   "execution_count": 8,
   "metadata": {},
   "outputs": [
    {
     "data": {
      "text/html": [
       "<div>\n",
       "<style scoped>\n",
       "    .dataframe tbody tr th:only-of-type {\n",
       "        vertical-align: middle;\n",
       "    }\n",
       "\n",
       "    .dataframe tbody tr th {\n",
       "        vertical-align: top;\n",
       "    }\n",
       "\n",
       "    .dataframe thead th {\n",
       "        text-align: right;\n",
       "    }\n",
       "</style>\n",
       "<table border=\"1\" class=\"dataframe\">\n",
       "  <thead>\n",
       "    <tr style=\"text-align: right;\">\n",
       "      <th></th>\n",
       "      <th>id</th>\n",
       "      <th>text</th>\n",
       "    </tr>\n",
       "  </thead>\n",
       "  <tbody>\n",
       "    <tr>\n",
       "      <th>0</th>\n",
       "      <td>l0j2uy</td>\n",
       "      <td>Palantir announces multi- million dollar deal ...</td>\n",
       "    </tr>\n",
       "    <tr>\n",
       "      <th>1</th>\n",
       "      <td>l0jw5j</td>\n",
       "      <td>Ursula von der Leyen @ @vonderleyen Clean...</td>\n",
       "    </tr>\n",
       "    <tr>\n",
       "      <th>2</th>\n",
       "      <td>l0k6vs</td>\n",
       "      <td>Benzinga Pro's Top 5 Stocks To Watch For Tuesd...</td>\n",
       "    </tr>\n",
       "    <tr>\n",
       "      <th>3</th>\n",
       "      <td>l0k7wq</td>\n",
       "      <td>= BASTOGNE «</td>\n",
       "    </tr>\n",
       "    <tr>\n",
       "      <th>4</th>\n",
       "      <td>l0khnn</td>\n",
       "      <td>09:060R @ € News TRADE (NELX) - Will report Q4...</td>\n",
       "    </tr>\n",
       "    <tr>\n",
       "      <th>...</th>\n",
       "      <td>...</td>\n",
       "      <td>...</td>\n",
       "    </tr>\n",
       "    <tr>\n",
       "      <th>10625</th>\n",
       "      <td>lh8j7j</td>\n",
       "      <td>4:20 all&gt; @) &lt; ® 1D 1W Your Position Shares Ma...</td>\n",
       "    </tr>\n",
       "    <tr>\n",
       "      <th>10626</th>\n",
       "      <td>lh9q18</td>\n",
       "      <td>3:57 7 all &gt; $63.99 &lt; TLRY @ V vv 1M 3M 1Y 5Y ...</td>\n",
       "    </tr>\n",
       "    <tr>\n",
       "      <th>10627</th>\n",
       "      <td>lh9t7w</td>\n",
       "      <td>6:35 all $7,173.63 V $19,170.96 (72.77%) Oct 2...</td>\n",
       "    </tr>\n",
       "    <tr>\n",
       "      <th>10628</th>\n",
       "      <td>lhaeyc</td>\n",
       "      <td>Corsair Gaming $42.87 (-4.08%) CRSR $70 Call $...</td>\n",
       "    </tr>\n",
       "    <tr>\n",
       "      <th>10629</th>\n",
       "      <td>lhcqjk</td>\n",
       "      <td>ITSLAUS $ -35.35          Conter strikes Cale ...</td>\n",
       "    </tr>\n",
       "  </tbody>\n",
       "</table>\n",
       "<p>10630 rows × 2 columns</p>\n",
       "</div>"
      ],
      "text/plain": [
       "           id                                               text\n",
       "0      l0j2uy  Palantir announces multi- million dollar deal ...\n",
       "1      l0jw5j       Ursula von der Leyen @ @vonderleyen Clean...\n",
       "2      l0k6vs  Benzinga Pro's Top 5 Stocks To Watch For Tuesd...\n",
       "3      l0k7wq                                      = BASTOGNE « \n",
       "4      l0khnn  09:060R @ € News TRADE (NELX) - Will report Q4...\n",
       "...       ...                                                ...\n",
       "10625  lh8j7j  4:20 all> @) < ® 1D 1W Your Position Shares Ma...\n",
       "10626  lh9q18  3:57 7 all > $63.99 < TLRY @ V vv 1M 3M 1Y 5Y ...\n",
       "10627  lh9t7w  6:35 all $7,173.63 V $19,170.96 (72.77%) Oct 2...\n",
       "10628  lhaeyc  Corsair Gaming $42.87 (-4.08%) CRSR $70 Call $...\n",
       "10629  lhcqjk  ITSLAUS $ -35.35          Conter strikes Cale ...\n",
       "\n",
       "[10630 rows x 2 columns]"
      ]
     },
     "execution_count": 8,
     "metadata": {},
     "output_type": "execute_result"
    }
   ],
   "source": [
    "df_ocr"
   ]
  },
  {
   "cell_type": "code",
   "execution_count": 9,
   "metadata": {},
   "outputs": [],
   "source": [
    "import spacy\n",
    "import nltk\n",
    "import re\n",
    "\n",
    "from nltk.stem.porter import *\n",
    "\n",
    "nlp = spacy.load(\"en_core_web_sm\")\n",
    "\n",
    "TIME = r\"\\d{1,2}:\\d{2}\"\n",
    "EXP = re.compile(TIME)\n",
    "\n",
    "def lemmatization(x):\n",
    "    if type(x) == spacy.tokens.doc.Doc:\n",
    "        return [token.lemma_ for token in x if not token.is_stop and token.is_alpha]\n",
    "    return x\n",
    "\n",
    "def type_check(x):\n",
    "    return type(x) == spacy.tokens.doc.Doc\n",
    "\n",
    "def get_caps(x):\n",
    "    if type_check(x):\n",
    "        caps_perc = 0\n",
    "        title_len = 0\n",
    "        for token in x:\n",
    "            title_len += len(token.shape_)\n",
    "            caps_perc += token.shape_.count('X')\n",
    "            \n",
    "        if title_len != 0:\n",
    "            return caps_perc / title_len\n",
    "    return 0.0\n",
    "\n",
    "def is_twitt(x):\n",
    "    if 'Twitt' in x:\n",
    "        return 1\n",
    "    return 0\n",
    "\n",
    "def get_features(df):\n",
    "    df['twitter'] = df['text'].apply(is_twitt)\n",
    "    df['text'] = df['text'].apply(lambda x: nlp(x))\n",
    "    df['text_bow'] = df['text'].apply(lemmatization)\n",
    "    df['text_length'] = df['text'].apply(lambda x: len(x))\n",
    "    df['text_capital'] = df['text'].apply(get_caps)\n",
    "    return df"
   ]
  },
  {
   "cell_type": "code",
   "execution_count": 10,
   "metadata": {},
   "outputs": [],
   "source": [
    "df_ocr_proc = get_features(df_ocr)"
   ]
  },
  {
   "cell_type": "code",
   "execution_count": 11,
   "metadata": {},
   "outputs": [
    {
     "data": {
      "text/html": [
       "<div>\n",
       "<style scoped>\n",
       "    .dataframe tbody tr th:only-of-type {\n",
       "        vertical-align: middle;\n",
       "    }\n",
       "\n",
       "    .dataframe tbody tr th {\n",
       "        vertical-align: top;\n",
       "    }\n",
       "\n",
       "    .dataframe thead th {\n",
       "        text-align: right;\n",
       "    }\n",
       "</style>\n",
       "<table border=\"1\" class=\"dataframe\">\n",
       "  <thead>\n",
       "    <tr style=\"text-align: right;\">\n",
       "      <th></th>\n",
       "      <th>id</th>\n",
       "      <th>text</th>\n",
       "      <th>twitter</th>\n",
       "      <th>text_bow</th>\n",
       "      <th>text_length</th>\n",
       "      <th>text_capital</th>\n",
       "    </tr>\n",
       "  </thead>\n",
       "  <tbody>\n",
       "    <tr>\n",
       "      <th>0</th>\n",
       "      <td>l0j2uy</td>\n",
       "      <td>(Palantir, announces, multi-, million, dollar,...</td>\n",
       "      <td>0</td>\n",
       "      <td>[Palantir, announce, million, dollar, deal, PL...</td>\n",
       "      <td>40</td>\n",
       "      <td>0.229167</td>\n",
       "    </tr>\n",
       "    <tr>\n",
       "      <th>1</th>\n",
       "      <td>l0jw5j</td>\n",
       "      <td>(     , Ursula, von, der, Leyen, @, @vonderley...</td>\n",
       "      <td>0</td>\n",
       "      <td>[Ursula, von, der, Leyen, clean, hydrogen, hel...</td>\n",
       "      <td>62</td>\n",
       "      <td>0.068627</td>\n",
       "    </tr>\n",
       "    <tr>\n",
       "      <th>2</th>\n",
       "      <td>l0k6vs</td>\n",
       "      <td>(Benzinga, Pro, 's, Top, 5, Stocks, To, Watch,...</td>\n",
       "      <td>0</td>\n",
       "      <td>[Benzinga, Pro, stock, Watch, Tuesday, NFLX, M...</td>\n",
       "      <td>175</td>\n",
       "      <td>0.129344</td>\n",
       "    </tr>\n",
       "    <tr>\n",
       "      <th>3</th>\n",
       "      <td>l0k7wq</td>\n",
       "      <td>(  , =, BASTOGNE, «)</td>\n",
       "      <td>0</td>\n",
       "      <td>[BASTOGNE]</td>\n",
       "      <td>4</td>\n",
       "      <td>0.500000</td>\n",
       "    </tr>\n",
       "    <tr>\n",
       "      <th>4</th>\n",
       "      <td>l0khnn</td>\n",
       "      <td>(09:060R, @, €, News, TRADE, (, NELX, ), -, Wi...</td>\n",
       "      <td>0</td>\n",
       "      <td>[News, TRADE, NELX, report, earning, market, c...</td>\n",
       "      <td>180</td>\n",
       "      <td>0.114964</td>\n",
       "    </tr>\n",
       "    <tr>\n",
       "      <th>...</th>\n",
       "      <td>...</td>\n",
       "      <td>...</td>\n",
       "      <td>...</td>\n",
       "      <td>...</td>\n",
       "      <td>...</td>\n",
       "      <td>...</td>\n",
       "    </tr>\n",
       "    <tr>\n",
       "      <th>10625</th>\n",
       "      <td>lh8j7j</td>\n",
       "      <td>(4:20, all, &gt;, @, ), &lt;, ®, 1D, 1W, Your, Posit...</td>\n",
       "      <td>0</td>\n",
       "      <td>[Position, Shares, market, Value, Avg, Cost, P...</td>\n",
       "      <td>52</td>\n",
       "      <td>0.111111</td>\n",
       "    </tr>\n",
       "    <tr>\n",
       "      <th>10626</th>\n",
       "      <td>lh9q18</td>\n",
       "      <td>(3:57, 7, all, &gt;, $, 63.99, &lt;, TLRY, @, V, vv,...</td>\n",
       "      <td>0</td>\n",
       "      <td>[TLRY, v, vv, M, M, Options, Contracts, Value,...</td>\n",
       "      <td>68</td>\n",
       "      <td>0.143519</td>\n",
       "    </tr>\n",
       "    <tr>\n",
       "      <th>10627</th>\n",
       "      <td>lh9t7w</td>\n",
       "      <td>(6:35, all, $, 7,173.63, V, $, 19,170.96, (, 7...</td>\n",
       "      <td>0</td>\n",
       "      <td>[v, oct, M, M, Buying, Power, ws, Reuters, m, ...</td>\n",
       "      <td>316</td>\n",
       "      <td>0.128017</td>\n",
       "    </tr>\n",
       "    <tr>\n",
       "      <th>10628</th>\n",
       "      <td>lhaeyc</td>\n",
       "      <td>(Corsair, Gaming, $, 42.87, (, -4.08, %, ), CR...</td>\n",
       "      <td>0</td>\n",
       "      <td>[corsair, game, CRSR, today, Ww, Market, Value...</td>\n",
       "      <td>58</td>\n",
       "      <td>0.147959</td>\n",
       "    </tr>\n",
       "    <tr>\n",
       "      <th>10629</th>\n",
       "      <td>lhcqjk</td>\n",
       "      <td>(ITSLAUS, $, -35.35,          , Conter, strike...</td>\n",
       "      <td>0</td>\n",
       "      <td>[ITSLAUS, Conter, strike, Cale, Mode, trike, T...</td>\n",
       "      <td>167</td>\n",
       "      <td>0.134307</td>\n",
       "    </tr>\n",
       "  </tbody>\n",
       "</table>\n",
       "<p>10630 rows × 6 columns</p>\n",
       "</div>"
      ],
      "text/plain": [
       "           id                                               text  twitter  \\\n",
       "0      l0j2uy  (Palantir, announces, multi-, million, dollar,...        0   \n",
       "1      l0jw5j  (     , Ursula, von, der, Leyen, @, @vonderley...        0   \n",
       "2      l0k6vs  (Benzinga, Pro, 's, Top, 5, Stocks, To, Watch,...        0   \n",
       "3      l0k7wq                               (  , =, BASTOGNE, «)        0   \n",
       "4      l0khnn  (09:060R, @, €, News, TRADE, (, NELX, ), -, Wi...        0   \n",
       "...       ...                                                ...      ...   \n",
       "10625  lh8j7j  (4:20, all, >, @, ), <, ®, 1D, 1W, Your, Posit...        0   \n",
       "10626  lh9q18  (3:57, 7, all, >, $, 63.99, <, TLRY, @, V, vv,...        0   \n",
       "10627  lh9t7w  (6:35, all, $, 7,173.63, V, $, 19,170.96, (, 7...        0   \n",
       "10628  lhaeyc  (Corsair, Gaming, $, 42.87, (, -4.08, %, ), CR...        0   \n",
       "10629  lhcqjk  (ITSLAUS, $, -35.35,          , Conter, strike...        0   \n",
       "\n",
       "                                                text_bow  text_length  \\\n",
       "0      [Palantir, announce, million, dollar, deal, PL...           40   \n",
       "1      [Ursula, von, der, Leyen, clean, hydrogen, hel...           62   \n",
       "2      [Benzinga, Pro, stock, Watch, Tuesday, NFLX, M...          175   \n",
       "3                                             [BASTOGNE]            4   \n",
       "4      [News, TRADE, NELX, report, earning, market, c...          180   \n",
       "...                                                  ...          ...   \n",
       "10625  [Position, Shares, market, Value, Avg, Cost, P...           52   \n",
       "10626  [TLRY, v, vv, M, M, Options, Contracts, Value,...           68   \n",
       "10627  [v, oct, M, M, Buying, Power, ws, Reuters, m, ...          316   \n",
       "10628  [corsair, game, CRSR, today, Ww, Market, Value...           58   \n",
       "10629  [ITSLAUS, Conter, strike, Cale, Mode, trike, T...          167   \n",
       "\n",
       "       text_capital  \n",
       "0          0.229167  \n",
       "1          0.068627  \n",
       "2          0.129344  \n",
       "3          0.500000  \n",
       "4          0.114964  \n",
       "...             ...  \n",
       "10625      0.111111  \n",
       "10626      0.143519  \n",
       "10627      0.128017  \n",
       "10628      0.147959  \n",
       "10629      0.134307  \n",
       "\n",
       "[10630 rows x 6 columns]"
      ]
     },
     "execution_count": 11,
     "metadata": {},
     "output_type": "execute_result"
    }
   ],
   "source": [
    "df_ocr_proc"
   ]
  },
  {
   "cell_type": "code",
   "execution_count": 12,
   "metadata": {},
   "outputs": [],
   "source": [
    "from collections import Counter\n",
    "\n",
    "def get_vocab(data, n):\n",
    "    words = Counter()\n",
    "    for i in data.index:\n",
    "        words.update(data.at[i])\n",
    "\n",
    "    return words\n",
    "\n",
    "def show_histogram(word_counts, title=None):\n",
    "    plot_df = pd.DataFrame.from_dict(word_counts).rename(columns={0:'Token', 1:'Count'})\n",
    "    \n",
    "    f, ax = plt.subplots(figsize=(12, 15))\n",
    "    p = sns.barplot(x=\"Count\", y=\"Token\", data=plot_df, color=\"b\")\n",
    "    p.set(xlabel=\"Count\", ylabel=\"\", title=title)"
   ]
  },
  {
   "cell_type": "code",
   "execution_count": 13,
   "metadata": {},
   "outputs": [],
   "source": [
    "df_ocr_proc['text_bow'] = df_ocr_proc['text_bow'].fillna(value='')\n",
    "vocab = get_vocab(df_ocr_proc['text_bow'], 1000)"
   ]
  },
  {
   "cell_type": "code",
   "execution_count": 14,
   "metadata": {},
   "outputs": [
    {
     "data": {
      "image/png": "[encoded data removed]",
      "text/plain": [
       "<Figure size 864x1080 with 1 Axes>"
      ]
     },
     "metadata": {
      "needs_background": "light"
     },
     "output_type": "display_data"
    }
   ],
   "source": [
    "show_histogram(vocab.most_common(50))"
   ]
  },
  {
   "cell_type": "code",
   "execution_count": 15,
   "metadata": {},
   "outputs": [],
   "source": [
    "def bag_of_words(x, most_freq):\n",
    "    sent_vec = []\n",
    "    for token in most_freq:\n",
    "        if token in x:\n",
    "            sent_vec.append(1)\n",
    "        else:\n",
    "            sent_vec.append(0)\n",
    "    return sent_vec"
   ]
  },
  {
   "cell_type": "code",
   "execution_count": 16,
   "metadata": {},
   "outputs": [],
   "source": [
    "feature_dict = [key for key, _ in vocab.most_common(200)]\n",
    "\n",
    "df_ocr_proc['text_bow'] = df_ocr_proc['text_bow'].apply(lambda x: bag_of_words(x, feature_dict))"
   ]
  },
  {
   "cell_type": "code",
   "execution_count": 17,
   "metadata": {},
   "outputs": [
    {
     "data": {
      "text/html": [
       "<div>\n",
       "<style scoped>\n",
       "    .dataframe tbody tr th:only-of-type {\n",
       "        vertical-align: middle;\n",
       "    }\n",
       "\n",
       "    .dataframe tbody tr th {\n",
       "        vertical-align: top;\n",
       "    }\n",
       "\n",
       "    .dataframe thead th {\n",
       "        text-align: right;\n",
       "    }\n",
       "</style>\n",
       "<table border=\"1\" class=\"dataframe\">\n",
       "  <thead>\n",
       "    <tr style=\"text-align: right;\">\n",
       "      <th></th>\n",
       "      <th>id</th>\n",
       "      <th>twitter</th>\n",
       "      <th>text_bow</th>\n",
       "      <th>text_length</th>\n",
       "      <th>text_capital</th>\n",
       "    </tr>\n",
       "  </thead>\n",
       "  <tbody>\n",
       "    <tr>\n",
       "      <th>0</th>\n",
       "      <td>l0j2uy</td>\n",
       "      <td>0</td>\n",
       "      <td>[0, 1, 0, 0, 0, 0, 0, 0, 0, 0, 0, 0, 0, 0, 0, ...</td>\n",
       "      <td>40</td>\n",
       "      <td>0.229167</td>\n",
       "    </tr>\n",
       "    <tr>\n",
       "      <th>1</th>\n",
       "      <td>l0jw5j</td>\n",
       "      <td>0</td>\n",
       "      <td>[0, 0, 0, 0, 0, 0, 0, 0, 0, 0, 0, 0, 0, 0, 0, ...</td>\n",
       "      <td>62</td>\n",
       "      <td>0.068627</td>\n",
       "    </tr>\n",
       "    <tr>\n",
       "      <th>2</th>\n",
       "      <td>l0k6vs</td>\n",
       "      <td>0</td>\n",
       "      <td>[0, 0, 0, 1, 0, 1, 0, 1, 0, 0, 0, 0, 0, 0, 0, ...</td>\n",
       "      <td>175</td>\n",
       "      <td>0.129344</td>\n",
       "    </tr>\n",
       "    <tr>\n",
       "      <th>3</th>\n",
       "      <td>l0k7wq</td>\n",
       "      <td>0</td>\n",
       "      <td>[0, 0, 0, 0, 0, 0, 0, 0, 0, 0, 0, 0, 0, 0, 0, ...</td>\n",
       "      <td>4</td>\n",
       "      <td>0.500000</td>\n",
       "    </tr>\n",
       "    <tr>\n",
       "      <th>4</th>\n",
       "      <td>l0khnn</td>\n",
       "      <td>0</td>\n",
       "      <td>[0, 0, 0, 1, 0, 1, 0, 1, 0, 0, 0, 0, 0, 0, 0, ...</td>\n",
       "      <td>180</td>\n",
       "      <td>0.114964</td>\n",
       "    </tr>\n",
       "  </tbody>\n",
       "</table>\n",
       "</div>"
      ],
      "text/plain": [
       "       id  twitter                                           text_bow  \\\n",
       "0  l0j2uy        0  [0, 1, 0, 0, 0, 0, 0, 0, 0, 0, 0, 0, 0, 0, 0, ...   \n",
       "1  l0jw5j        0  [0, 0, 0, 0, 0, 0, 0, 0, 0, 0, 0, 0, 0, 0, 0, ...   \n",
       "2  l0k6vs        0  [0, 0, 0, 1, 0, 1, 0, 1, 0, 0, 0, 0, 0, 0, 0, ...   \n",
       "3  l0k7wq        0  [0, 0, 0, 0, 0, 0, 0, 0, 0, 0, 0, 0, 0, 0, 0, ...   \n",
       "4  l0khnn        0  [0, 0, 0, 1, 0, 1, 0, 1, 0, 0, 0, 0, 0, 0, 0, ...   \n",
       "\n",
       "   text_length  text_capital  \n",
       "0           40      0.229167  \n",
       "1           62      0.068627  \n",
       "2          175      0.129344  \n",
       "3            4      0.500000  \n",
       "4          180      0.114964  "
      ]
     },
     "execution_count": 17,
     "metadata": {},
     "output_type": "execute_result"
    }
   ],
   "source": [
    "df_ocr_proc = df_ocr_proc.drop(\"text\", axis=1)\n",
    "df_ocr_proc.head()"
   ]
  },
  {
   "cell_type": "markdown",
   "metadata": {},
   "source": [
    "## Color Palette"
   ]
  },
  {
   "cell_type": "code",
   "execution_count": 20,
   "metadata": {},
   "outputs": [],
   "source": [
    "def RGB2HEX(color):\n",
    "    return \"#{:02x}{:02x}{:02x}\".format(int(color[0]), int(color[1]), int(color[2]))\n",
    "\n",
    "def get_palette(img):\n",
    "    palette = img.reshape(img.shape[0]*img.shape[1], img.shape[2])\n",
    "    palette_colors = np.unique(palette, return_counts=True, axis=0)\n",
    "    hex_palette = np.apply_along_axis(RGB2HEX, 1, palette_colors[0])\n",
    "    palette_tup = zip(hex_palette.tolist(), palette_colors[1].tolist())\n",
    "    sorted_tup = sorted(palette_tup, key=lambda x: x[1], reverse=True)    \n",
    "    return [color[0] for color in sorted_tup]"
   ]
  },
  {
   "cell_type": "code",
   "execution_count": 18,
   "metadata": {},
   "outputs": [],
   "source": [
    "from sklearn.cluster import MiniBatchKMeans\n",
    "import webcolors\n",
    "import colorsys\n",
    "\n",
    "def quantize(im):\n",
    "    (h, w) = im.shape[:2]\n",
    "    image = cv2.cvtColor(im, cv2.COLOR_RGB2LAB)\n",
    "\n",
    "    image = image.reshape((image.shape[0] * image.shape[1], 3))\n",
    "\n",
    "    clt = MiniBatchKMeans(n_clusters = 8)\n",
    "    labels = clt.fit_predict(image)\n",
    "    quant = clt.cluster_centers_.astype(\"uint8\")[labels]\n",
    "    quant = quant.reshape((h, w, 3))\n",
    "    quant = cv2.cvtColor(quant, cv2.COLOR_LAB2RGB)\n",
    "    \n",
    "    return quant\n",
    "\n",
    "def RGB2HSV(color):\n",
    "    h, s, v = colorsys.rgb_to_hsv(*color)\n",
    "    return h\n",
    "\n",
    "def get_closest_color(color):\n",
    "    min_colors = {}\n",
    "    if colors is not None:\n",
    "        for key, name in webcolors.CSS3_HEX_TO_NAMES.items():\n",
    "            r_c, g_c, b_c = webcolors.hex_to_rgb(key)\n",
    "            rd = (r_c - color[0]) ** 2\n",
    "            gd = (g_c - color[1]) ** 2\n",
    "            bd = (b_c - color[2]) ** 2\n",
    "            min_colors[(rd + gd + bd)] = name\n",
    "        return min_colors[min(min_colors.keys())]\n",
    "    return color\n",
    "\n",
    "def get_palette(img):\n",
    "    img = quantize(img)\n",
    "    palette = img.reshape(img.shape[0]*img.shape[1], img.shape[2])\n",
    "    palette_colors = np.unique(palette, return_counts=True, axis=0)\n",
    "    hue_palette = np.apply_along_axis(RGB2HSV, 1, palette_colors[0])\n",
    "    #hex_palette = np.apply_along_axis(get_closest_color, 1, palette_colors[0])\n",
    "    palette_tup = zip(hue_palette.tolist(), palette_colors[1].tolist())\n",
    "    sorted_tup = sorted(palette_tup, key=lambda x: x[1], reverse=True)    \n",
    "    return [color[0] for color in sorted_tup]"
   ]
  },
  {
   "cell_type": "code",
   "execution_count": 20,
   "metadata": {},
   "outputs": [
    {
     "data": {
      "application/vnd.jupyter.widget-view+json": {
       "model_id": "7628aefc034c449797e0ac9d38cade0e",
       "version_major": 2,
       "version_minor": 0
      },
      "text/plain": [
       "HBox(children=(FloatProgress(value=0.0, max=10630.0), HTML(value='')))"
      ]
     },
     "metadata": {},
     "output_type": "display_data"
    },
    {
     "name": "stdout",
     "output_type": "stream",
     "text": [
      "\n"
     ]
    }
   ],
   "source": [
    "directory = \"./images\"\n",
    "\n",
    "width = 100\n",
    "height = 100\n",
    "dim = (width, height)\n",
    "colors = []\n",
    "color_names = []\n",
    "\n",
    "for idx, filename in enumerate(tqdm(os.listdir(directory))):\n",
    "    im = cv2.imread(os.path.join(directory, filename))\n",
    "    im_rgb = cv2.cvtColor(im, cv2.COLOR_BGR2RGB)\n",
    " \n",
    "    # resize image\n",
    "    resized = cv2.resize(im_rgb, dim, interpolation = cv2.INTER_AREA)\n",
    "    \n",
    "    colors.append(get_palette(resized))\n",
    "    color_names.append(filename.split('.')[0])"
   ]
  },
  {
   "cell_type": "code",
   "execution_count": 21,
   "metadata": {
    "scrolled": true
   },
   "outputs": [],
   "source": [
    "col_names = [f\"col{x}\" for x in range(8)]"
   ]
  },
  {
   "cell_type": "code",
   "execution_count": 22,
   "metadata": {},
   "outputs": [],
   "source": [
    "colors_df = pd.DataFrame(colors, columns=col_names)"
   ]
  },
  {
   "cell_type": "code",
   "execution_count": 23,
   "metadata": {},
   "outputs": [],
   "source": [
    "id_col = pd.DataFrame(color_names, columns=['id'])"
   ]
  },
  {
   "cell_type": "code",
   "execution_count": 24,
   "metadata": {},
   "outputs": [
    {
     "data": {
      "text/html": [
       "<div>\n",
       "<style scoped>\n",
       "    .dataframe tbody tr th:only-of-type {\n",
       "        vertical-align: middle;\n",
       "    }\n",
       "\n",
       "    .dataframe tbody tr th {\n",
       "        vertical-align: top;\n",
       "    }\n",
       "\n",
       "    .dataframe thead th {\n",
       "        text-align: right;\n",
       "    }\n",
       "</style>\n",
       "<table border=\"1\" class=\"dataframe\">\n",
       "  <thead>\n",
       "    <tr style=\"text-align: right;\">\n",
       "      <th></th>\n",
       "      <th>id</th>\n",
       "      <th>col0</th>\n",
       "      <th>col1</th>\n",
       "      <th>col2</th>\n",
       "      <th>col3</th>\n",
       "      <th>col4</th>\n",
       "      <th>col5</th>\n",
       "      <th>col6</th>\n",
       "      <th>col7</th>\n",
       "    </tr>\n",
       "  </thead>\n",
       "  <tbody>\n",
       "    <tr>\n",
       "      <th>0</th>\n",
       "      <td>l0j2uy</td>\n",
       "      <td>0.500000</td>\n",
       "      <td>0.566667</td>\n",
       "      <td>0.533333</td>\n",
       "      <td>0.547619</td>\n",
       "      <td>0.541667</td>\n",
       "      <td>0.583333</td>\n",
       "      <td>0.541667</td>\n",
       "      <td>0.000000</td>\n",
       "    </tr>\n",
       "    <tr>\n",
       "      <th>1</th>\n",
       "      <td>l0jw5j</td>\n",
       "      <td>0.566667</td>\n",
       "      <td>0.600000</td>\n",
       "      <td>0.643875</td>\n",
       "      <td>0.966667</td>\n",
       "      <td>0.680233</td>\n",
       "      <td>0.625786</td>\n",
       "      <td>0.051282</td>\n",
       "      <td>0.710145</td>\n",
       "    </tr>\n",
       "    <tr>\n",
       "      <th>2</th>\n",
       "      <td>l0k6vs</td>\n",
       "      <td>0.000000</td>\n",
       "      <td>0.000000</td>\n",
       "      <td>0.000000</td>\n",
       "      <td>0.000000</td>\n",
       "      <td>0.944444</td>\n",
       "      <td>0.986111</td>\n",
       "      <td>0.991546</td>\n",
       "      <td>0.991228</td>\n",
       "    </tr>\n",
       "    <tr>\n",
       "      <th>3</th>\n",
       "      <td>l0k7wq</td>\n",
       "      <td>0.523810</td>\n",
       "      <td>0.511364</td>\n",
       "      <td>0.311111</td>\n",
       "      <td>0.384615</td>\n",
       "      <td>0.407407</td>\n",
       "      <td>0.148718</td>\n",
       "      <td>0.388889</td>\n",
       "      <td>0.996633</td>\n",
       "    </tr>\n",
       "    <tr>\n",
       "      <th>4</th>\n",
       "      <td>l0khnn</td>\n",
       "      <td>0.500000</td>\n",
       "      <td>0.533333</td>\n",
       "      <td>0.533333</td>\n",
       "      <td>0.533333</td>\n",
       "      <td>0.533333</td>\n",
       "      <td>0.541667</td>\n",
       "      <td>0.562500</td>\n",
       "      <td>0.666667</td>\n",
       "    </tr>\n",
       "    <tr>\n",
       "      <th>...</th>\n",
       "      <td>...</td>\n",
       "      <td>...</td>\n",
       "      <td>...</td>\n",
       "      <td>...</td>\n",
       "      <td>...</td>\n",
       "      <td>...</td>\n",
       "      <td>...</td>\n",
       "      <td>...</td>\n",
       "      <td>...</td>\n",
       "    </tr>\n",
       "    <tr>\n",
       "      <th>10625</th>\n",
       "      <td>lh8j7j</td>\n",
       "      <td>0.333333</td>\n",
       "      <td>0.466667</td>\n",
       "      <td>0.333333</td>\n",
       "      <td>0.583333</td>\n",
       "      <td>0.541667</td>\n",
       "      <td>0.333333</td>\n",
       "      <td>0.350000</td>\n",
       "      <td>0.339623</td>\n",
       "    </tr>\n",
       "    <tr>\n",
       "      <th>10626</th>\n",
       "      <td>lh9q18</td>\n",
       "      <td>0.500000</td>\n",
       "      <td>0.500000</td>\n",
       "      <td>0.366667</td>\n",
       "      <td>0.000000</td>\n",
       "      <td>0.000000</td>\n",
       "      <td>0.297158</td>\n",
       "      <td>0.305556</td>\n",
       "      <td>0.000000</td>\n",
       "    </tr>\n",
       "    <tr>\n",
       "      <th>10627</th>\n",
       "      <td>lh9t7w</td>\n",
       "      <td>0.583333</td>\n",
       "      <td>0.500000</td>\n",
       "      <td>0.416667</td>\n",
       "      <td>0.444444</td>\n",
       "      <td>0.307018</td>\n",
       "      <td>0.000000</td>\n",
       "      <td>0.302326</td>\n",
       "      <td>0.305556</td>\n",
       "    </tr>\n",
       "    <tr>\n",
       "      <th>10628</th>\n",
       "      <td>lhaeyc</td>\n",
       "      <td>0.666667</td>\n",
       "      <td>0.611111</td>\n",
       "      <td>0.611111</td>\n",
       "      <td>0.583333</td>\n",
       "      <td>0.038690</td>\n",
       "      <td>0.583333</td>\n",
       "      <td>0.333333</td>\n",
       "      <td>0.033708</td>\n",
       "    </tr>\n",
       "    <tr>\n",
       "      <th>10629</th>\n",
       "      <td>lhcqjk</td>\n",
       "      <td>0.000000</td>\n",
       "      <td>0.071429</td>\n",
       "      <td>0.166667</td>\n",
       "      <td>0.580645</td>\n",
       "      <td>0.098039</td>\n",
       "      <td>0.986532</td>\n",
       "      <td>0.000000</td>\n",
       "      <td>0.094923</td>\n",
       "    </tr>\n",
       "  </tbody>\n",
       "</table>\n",
       "<p>10630 rows × 9 columns</p>\n",
       "</div>"
      ],
      "text/plain": [
       "           id      col0      col1      col2      col3      col4      col5  \\\n",
       "0      l0j2uy  0.500000  0.566667  0.533333  0.547619  0.541667  0.583333   \n",
       "1      l0jw5j  0.566667  0.600000  0.643875  0.966667  0.680233  0.625786   \n",
       "2      l0k6vs  0.000000  0.000000  0.000000  0.000000  0.944444  0.986111   \n",
       "3      l0k7wq  0.523810  0.511364  0.311111  0.384615  0.407407  0.148718   \n",
       "4      l0khnn  0.500000  0.533333  0.533333  0.533333  0.533333  0.541667   \n",
       "...       ...       ...       ...       ...       ...       ...       ...   \n",
       "10625  lh8j7j  0.333333  0.466667  0.333333  0.583333  0.541667  0.333333   \n",
       "10626  lh9q18  0.500000  0.500000  0.366667  0.000000  0.000000  0.297158   \n",
       "10627  lh9t7w  0.583333  0.500000  0.416667  0.444444  0.307018  0.000000   \n",
       "10628  lhaeyc  0.666667  0.611111  0.611111  0.583333  0.038690  0.583333   \n",
       "10629  lhcqjk  0.000000  0.071429  0.166667  0.580645  0.098039  0.986532   \n",
       "\n",
       "           col6      col7  \n",
       "0      0.541667  0.000000  \n",
       "1      0.051282  0.710145  \n",
       "2      0.991546  0.991228  \n",
       "3      0.388889  0.996633  \n",
       "4      0.562500  0.666667  \n",
       "...         ...       ...  \n",
       "10625  0.350000  0.339623  \n",
       "10626  0.305556  0.000000  \n",
       "10627  0.302326  0.305556  \n",
       "10628  0.333333  0.033708  \n",
       "10629  0.000000  0.094923  \n",
       "\n",
       "[10630 rows x 9 columns]"
      ]
     },
     "execution_count": 24,
     "metadata": {},
     "output_type": "execute_result"
    }
   ],
   "source": [
    "df_colors = pd.concat([id_col, colors_df], axis=1)\n",
    "df_colors"
   ]
  },
  {
   "cell_type": "code",
   "execution_count": 25,
   "metadata": {},
   "outputs": [],
   "source": [
    "df_colors.to_csv(\"backup/colors.csv\", index=False)"
   ]
  },
  {
   "cell_type": "markdown",
   "metadata": {},
   "source": [
    "#### Load from csv"
   ]
  },
  {
   "cell_type": "code",
   "execution_count": 26,
   "metadata": {},
   "outputs": [
    {
     "data": {
      "text/html": [
       "<div>\n",
       "<style scoped>\n",
       "    .dataframe tbody tr th:only-of-type {\n",
       "        vertical-align: middle;\n",
       "    }\n",
       "\n",
       "    .dataframe tbody tr th {\n",
       "        vertical-align: top;\n",
       "    }\n",
       "\n",
       "    .dataframe thead th {\n",
       "        text-align: right;\n",
       "    }\n",
       "</style>\n",
       "<table border=\"1\" class=\"dataframe\">\n",
       "  <thead>\n",
       "    <tr style=\"text-align: right;\">\n",
       "      <th></th>\n",
       "      <th>id</th>\n",
       "      <th>col0</th>\n",
       "      <th>col1</th>\n",
       "      <th>col2</th>\n",
       "      <th>col3</th>\n",
       "      <th>col4</th>\n",
       "      <th>col5</th>\n",
       "      <th>col6</th>\n",
       "      <th>col7</th>\n",
       "    </tr>\n",
       "  </thead>\n",
       "  <tbody>\n",
       "    <tr>\n",
       "      <th>0</th>\n",
       "      <td>l0j2uy</td>\n",
       "      <td>0.500000</td>\n",
       "      <td>0.566667</td>\n",
       "      <td>0.533333</td>\n",
       "      <td>0.547619</td>\n",
       "      <td>0.541667</td>\n",
       "      <td>0.583333</td>\n",
       "      <td>0.541667</td>\n",
       "      <td>0.000000</td>\n",
       "    </tr>\n",
       "    <tr>\n",
       "      <th>1</th>\n",
       "      <td>l0jw5j</td>\n",
       "      <td>0.566667</td>\n",
       "      <td>0.600000</td>\n",
       "      <td>0.643875</td>\n",
       "      <td>0.966667</td>\n",
       "      <td>0.680233</td>\n",
       "      <td>0.625786</td>\n",
       "      <td>0.051282</td>\n",
       "      <td>0.710145</td>\n",
       "    </tr>\n",
       "    <tr>\n",
       "      <th>2</th>\n",
       "      <td>l0k6vs</td>\n",
       "      <td>0.000000</td>\n",
       "      <td>0.000000</td>\n",
       "      <td>0.000000</td>\n",
       "      <td>0.000000</td>\n",
       "      <td>0.944444</td>\n",
       "      <td>0.986111</td>\n",
       "      <td>0.991546</td>\n",
       "      <td>0.991228</td>\n",
       "    </tr>\n",
       "    <tr>\n",
       "      <th>3</th>\n",
       "      <td>l0k7wq</td>\n",
       "      <td>0.523810</td>\n",
       "      <td>0.511364</td>\n",
       "      <td>0.311111</td>\n",
       "      <td>0.384615</td>\n",
       "      <td>0.407407</td>\n",
       "      <td>0.148718</td>\n",
       "      <td>0.388889</td>\n",
       "      <td>0.996633</td>\n",
       "    </tr>\n",
       "    <tr>\n",
       "      <th>4</th>\n",
       "      <td>l0khnn</td>\n",
       "      <td>0.500000</td>\n",
       "      <td>0.533333</td>\n",
       "      <td>0.533333</td>\n",
       "      <td>0.533333</td>\n",
       "      <td>0.533333</td>\n",
       "      <td>0.541667</td>\n",
       "      <td>0.562500</td>\n",
       "      <td>0.666667</td>\n",
       "    </tr>\n",
       "  </tbody>\n",
       "</table>\n",
       "</div>"
      ],
      "text/plain": [
       "       id      col0      col1      col2      col3      col4      col5  \\\n",
       "0  l0j2uy  0.500000  0.566667  0.533333  0.547619  0.541667  0.583333   \n",
       "1  l0jw5j  0.566667  0.600000  0.643875  0.966667  0.680233  0.625786   \n",
       "2  l0k6vs  0.000000  0.000000  0.000000  0.000000  0.944444  0.986111   \n",
       "3  l0k7wq  0.523810  0.511364  0.311111  0.384615  0.407407  0.148718   \n",
       "4  l0khnn  0.500000  0.533333  0.533333  0.533333  0.533333  0.541667   \n",
       "\n",
       "       col6      col7  \n",
       "0  0.541667  0.000000  \n",
       "1  0.051282  0.710145  \n",
       "2  0.991546  0.991228  \n",
       "3  0.388889  0.996633  \n",
       "4  0.562500  0.666667  "
      ]
     },
     "execution_count": 26,
     "metadata": {},
     "output_type": "execute_result"
    }
   ],
   "source": [
    "df_colors = pd.read_csv(\"backup/colors.csv\")\n",
    "df_colors.head()"
   ]
  },
  {
   "cell_type": "markdown",
   "metadata": {},
   "source": [
    "## Feature extraction"
   ]
  },
  {
   "cell_type": "code",
   "execution_count": 31,
   "metadata": {},
   "outputs": [],
   "source": [
    "import os\n",
    "import tensorflow\n",
    "from tensorflow.keras.preprocessing import image\n",
    "from tensorflow.keras.applications.imagenet_utils import decode_predictions, preprocess_input\n",
    "from tensorflow.keras.models import Model"
   ]
  },
  {
   "cell_type": "code",
   "execution_count": 32,
   "metadata": {},
   "outputs": [],
   "source": [
    "model = tensorflow.keras.applications.VGG16(weights='imagenet', include_top=True)"
   ]
  },
  {
   "cell_type": "code",
   "execution_count": 33,
   "metadata": {},
   "outputs": [
    {
     "name": "stdout",
     "output_type": "stream",
     "text": [
      "Model: \"vgg16\"\n",
      "_________________________________________________________________\n",
      "Layer (type)                 Output Shape              Param #   \n",
      "=================================================================\n",
      "input_1 (InputLayer)         [(None, 224, 224, 3)]     0         \n",
      "_________________________________________________________________\n",
      "block1_conv1 (Conv2D)        (None, 224, 224, 64)      1792      \n",
      "_________________________________________________________________\n",
      "block1_conv2 (Conv2D)        (None, 224, 224, 64)      36928     \n",
      "_________________________________________________________________\n",
      "block1_pool (MaxPooling2D)   (None, 112, 112, 64)      0         \n",
      "_________________________________________________________________\n",
      "block2_conv1 (Conv2D)        (None, 112, 112, 128)     73856     \n",
      "_________________________________________________________________\n",
      "block2_conv2 (Conv2D)        (None, 112, 112, 128)     147584    \n",
      "_________________________________________________________________\n",
      "block2_pool (MaxPooling2D)   (None, 56, 56, 128)       0         \n",
      "_________________________________________________________________\n",
      "block3_conv1 (Conv2D)        (None, 56, 56, 256)       295168    \n",
      "_________________________________________________________________\n",
      "block3_conv2 (Conv2D)        (None, 56, 56, 256)       590080    \n",
      "_________________________________________________________________\n",
      "block3_conv3 (Conv2D)        (None, 56, 56, 256)       590080    \n",
      "_________________________________________________________________\n",
      "block3_pool (MaxPooling2D)   (None, 28, 28, 256)       0         \n",
      "_________________________________________________________________\n",
      "block4_conv1 (Conv2D)        (None, 28, 28, 512)       1180160   \n",
      "_________________________________________________________________\n",
      "block4_conv2 (Conv2D)        (None, 28, 28, 512)       2359808   \n",
      "_________________________________________________________________\n",
      "block4_conv3 (Conv2D)        (None, 28, 28, 512)       2359808   \n",
      "_________________________________________________________________\n",
      "block4_pool (MaxPooling2D)   (None, 14, 14, 512)       0         \n",
      "_________________________________________________________________\n",
      "block5_conv1 (Conv2D)        (None, 14, 14, 512)       2359808   \n",
      "_________________________________________________________________\n",
      "block5_conv2 (Conv2D)        (None, 14, 14, 512)       2359808   \n",
      "_________________________________________________________________\n",
      "block5_conv3 (Conv2D)        (None, 14, 14, 512)       2359808   \n",
      "_________________________________________________________________\n",
      "block5_pool (MaxPooling2D)   (None, 7, 7, 512)         0         \n",
      "_________________________________________________________________\n",
      "flatten (Flatten)            (None, 25088)             0         \n",
      "_________________________________________________________________\n",
      "fc1 (Dense)                  (None, 4096)              102764544 \n",
      "_________________________________________________________________\n",
      "fc2 (Dense)                  (None, 4096)              16781312  \n",
      "_________________________________________________________________\n",
      "predictions (Dense)          (None, 1000)              4097000   \n",
      "=================================================================\n",
      "Total params: 138,357,544\n",
      "Trainable params: 138,357,544\n",
      "Non-trainable params: 0\n",
      "_________________________________________________________________\n"
     ]
    }
   ],
   "source": [
    "model.summary()"
   ]
  },
  {
   "cell_type": "code",
   "execution_count": 34,
   "metadata": {},
   "outputs": [
    {
     "name": "stdout",
     "output_type": "stream",
     "text": [
      "Model: \"functional_1\"\n",
      "_________________________________________________________________\n",
      "Layer (type)                 Output Shape              Param #   \n",
      "=================================================================\n",
      "input_1 (InputLayer)         [(None, 224, 224, 3)]     0         \n",
      "_________________________________________________________________\n",
      "block1_conv1 (Conv2D)        (None, 224, 224, 64)      1792      \n",
      "_________________________________________________________________\n",
      "block1_conv2 (Conv2D)        (None, 224, 224, 64)      36928     \n",
      "_________________________________________________________________\n",
      "block1_pool (MaxPooling2D)   (None, 112, 112, 64)      0         \n",
      "_________________________________________________________________\n",
      "block2_conv1 (Conv2D)        (None, 112, 112, 128)     73856     \n",
      "_________________________________________________________________\n",
      "block2_conv2 (Conv2D)        (None, 112, 112, 128)     147584    \n",
      "_________________________________________________________________\n",
      "block2_pool (MaxPooling2D)   (None, 56, 56, 128)       0         \n",
      "_________________________________________________________________\n",
      "block3_conv1 (Conv2D)        (None, 56, 56, 256)       295168    \n",
      "_________________________________________________________________\n",
      "block3_conv2 (Conv2D)        (None, 56, 56, 256)       590080    \n",
      "_________________________________________________________________\n",
      "block3_conv3 (Conv2D)        (None, 56, 56, 256)       590080    \n",
      "_________________________________________________________________\n",
      "block3_pool (MaxPooling2D)   (None, 28, 28, 256)       0         \n",
      "_________________________________________________________________\n",
      "block4_conv1 (Conv2D)        (None, 28, 28, 512)       1180160   \n",
      "_________________________________________________________________\n",
      "block4_conv2 (Conv2D)        (None, 28, 28, 512)       2359808   \n",
      "_________________________________________________________________\n",
      "block4_conv3 (Conv2D)        (None, 28, 28, 512)       2359808   \n",
      "_________________________________________________________________\n",
      "block4_pool (MaxPooling2D)   (None, 14, 14, 512)       0         \n",
      "_________________________________________________________________\n",
      "block5_conv1 (Conv2D)        (None, 14, 14, 512)       2359808   \n",
      "_________________________________________________________________\n",
      "block5_conv2 (Conv2D)        (None, 14, 14, 512)       2359808   \n",
      "_________________________________________________________________\n",
      "block5_conv3 (Conv2D)        (None, 14, 14, 512)       2359808   \n",
      "_________________________________________________________________\n",
      "block5_pool (MaxPooling2D)   (None, 7, 7, 512)         0         \n",
      "_________________________________________________________________\n",
      "flatten (Flatten)            (None, 25088)             0         \n",
      "_________________________________________________________________\n",
      "fc1 (Dense)                  (None, 4096)              102764544 \n",
      "_________________________________________________________________\n",
      "fc2 (Dense)                  (None, 4096)              16781312  \n",
      "=================================================================\n",
      "Total params: 134,260,544\n",
      "Trainable params: 134,260,544\n",
      "Non-trainable params: 0\n",
      "_________________________________________________________________\n"
     ]
    }
   ],
   "source": [
    "feat_extractor = Model(inputs=model.input, outputs=model.get_layer(\"fc2\").output)\n",
    "feat_extractor.summary()"
   ]
  },
  {
   "cell_type": "code",
   "execution_count": 35,
   "metadata": {},
   "outputs": [
    {
     "name": "stdout",
     "output_type": "stream",
     "text": [
      "shape of x:  (1, 224, 224, 3)\n",
      "data type:  float32\n"
     ]
    },
    {
     "data": {
      "text/plain": [
       "<matplotlib.image.AxesImage at 0x3dfc1580>"
      ]
     },
     "execution_count": 35,
     "metadata": {},
     "output_type": "execute_result"
    },
    {
     "data": {
      "image/png": "[encoded data removed]",
      "text/plain": [
       "<Figure size 432x288 with 1 Axes>"
      ]
     },
     "metadata": {
      "needs_background": "light"
     },
     "output_type": "display_data"
    }
   ],
   "source": [
    "def load_image(path):\n",
    "    img = image.load_img(path, target_size=model.input_shape[1:3])\n",
    "    x = image.img_to_array(img)\n",
    "    x = np.expand_dims(x, axis=0)\n",
    "    x = preprocess_input(x)\n",
    "    return img, x\n",
    "\n",
    "img, x = load_image(\"images/l6hez2.jpg\")\n",
    "print(\"shape of x: \", x.shape)\n",
    "print(\"data type: \", x.dtype)\n",
    "plt.imshow(img)"
   ]
  },
  {
   "cell_type": "code",
   "execution_count": 36,
   "metadata": {},
   "outputs": [
    {
     "data": {
      "text/plain": [
       "[<matplotlib.lines.Line2D at 0x418c1a00>]"
      ]
     },
     "execution_count": 36,
     "metadata": {},
     "output_type": "execute_result"
    },
    {
     "data": {
      "image/png": "[encoded data removed]",
      "text/plain": [
       "<Figure size 1152x288 with 1 Axes>"
      ]
     },
     "metadata": {
      "needs_background": "light"
     },
     "output_type": "display_data"
    }
   ],
   "source": [
    "feat = feat_extractor.predict(x)\n",
    "\n",
    "plt.figure(figsize=(16,4))\n",
    "plt.plot(feat[0])"
   ]
  },
  {
   "cell_type": "code",
   "execution_count": 37,
   "metadata": {},
   "outputs": [
    {
     "name": "stdout",
     "output_type": "stream",
     "text": [
      "analyzing image 0\n",
      "analyzing image 1000\n",
      "analyzing image 2000\n",
      "analyzing image 3000\n",
      "analyzing image 4000\n",
      "analyzing image 5000\n",
      "analyzing image 6000\n",
      "analyzing image 7000\n",
      "analyzing image 8000\n",
      "analyzing image 9000\n",
      "analyzing image 10000\n"
     ]
    }
   ],
   "source": [
    "directory = \"./images\"\n",
    "features = []\n",
    "names = []\n",
    "\n",
    "for idx, filename in enumerate(os.listdir(directory)):\n",
    "    if idx % 1000 == 0:\n",
    "        print(\"analyzing image %d\" % (idx))\n",
    "    img, x = load_image(os.path.join(directory, filename))\n",
    "    feat = feat_extractor(x, training=False)[0]\n",
    "    \n",
    "    features.append(feat)\n",
    "    names.append(filename.split('.')[0])"
   ]
  },
  {
   "cell_type": "code",
   "execution_count": 38,
   "metadata": {},
   "outputs": [],
   "source": [
    "import pickle\n",
    "\n",
    "with open('backup/visual_features.pickle', 'wb') as handle:\n",
    "    pickle.dump(features, handle, protocol=pickle.HIGHEST_PROTOCOL)"
   ]
  },
  {
   "cell_type": "code",
   "execution_count": 39,
   "metadata": {},
   "outputs": [],
   "source": [
    "with open('backup/visual_names.pickle', 'wb') as handle:\n",
    "    pickle.dump(names, handle, protocol=pickle.HIGHEST_PROTOCOL)"
   ]
  },
  {
   "cell_type": "markdown",
   "metadata": {},
   "source": [
    "#### Load from pickle"
   ]
  },
  {
   "cell_type": "code",
   "execution_count": 34,
   "metadata": {},
   "outputs": [],
   "source": [
    "with open('backup/visual_features.pickle', 'rb') as handle:\n",
    "    features = pickle.load(handle)\n",
    "    \n",
    "with open('backup/visual_names.pickle', 'rb') as handle:\n",
    "    names = pickle.load(handle)"
   ]
  },
  {
   "cell_type": "code",
   "execution_count": 41,
   "metadata": {},
   "outputs": [
    {
     "data": {
      "text/plain": [
       "PCA(n_components=100)"
      ]
     },
     "execution_count": 41,
     "metadata": {},
     "output_type": "execute_result"
    }
   ],
   "source": [
    "from sklearn.decomposition import PCA\n",
    "\n",
    "features = np.array(features)\n",
    "pca = PCA(n_components=100)\n",
    "pca.fit(features)"
   ]
  },
  {
   "cell_type": "code",
   "execution_count": 42,
   "metadata": {},
   "outputs": [
    {
     "name": "stdout",
     "output_type": "stream",
     "text": [
      "[0.17176275 0.14985533 0.06057297 0.0452063  0.03385099 0.03256629\n",
      " 0.02897501 0.02065022 0.01656629 0.01380707 0.01224022 0.011577\n",
      " 0.01080338 0.01018011 0.00967959 0.00892254 0.00784174 0.00759279\n",
      " 0.00700161 0.00641897 0.00581466 0.00548838 0.00517806 0.00481684\n",
      " 0.00471746 0.00441312 0.00429635 0.00418543 0.0041065  0.00391899\n",
      " 0.00377286 0.00362164 0.00352729 0.00336914 0.00315539 0.00310102\n",
      " 0.0030748  0.0029022  0.00281257 0.00278031 0.00262714 0.00258067\n",
      " 0.00243768 0.00241397 0.00236171 0.00226783 0.00218387 0.0021618\n",
      " 0.00211839 0.00209021 0.00198856 0.00196344 0.00193538 0.00188543\n",
      " 0.00180772 0.0017726  0.00174166 0.00172075 0.00164473 0.00161194\n",
      " 0.00157121 0.00154225 0.00151977 0.00149506 0.00145504 0.00142373\n",
      " 0.0013958  0.00137862 0.00137283 0.00134816 0.00132144 0.00129644\n",
      " 0.00126865 0.0012457  0.00121891 0.00120495 0.00118848 0.00115933\n",
      " 0.00115102 0.00114149 0.00111328 0.00110137 0.00108805 0.00106569\n",
      " 0.00105394 0.00104286 0.0010039  0.00099505 0.00098101 0.000967\n",
      " 0.00093627 0.00092025 0.00091582 0.0009052  0.00089055 0.00088235\n",
      " 0.00087429 0.00086732 0.00085233 0.00083344]\n"
     ]
    }
   ],
   "source": [
    "print(pca.explained_variance_ratio_)"
   ]
  },
  {
   "cell_type": "code",
   "execution_count": 43,
   "metadata": {},
   "outputs": [],
   "source": [
    "pca_features = pca.transform(features)"
   ]
  },
  {
   "cell_type": "code",
   "execution_count": 44,
   "metadata": {},
   "outputs": [],
   "source": [
    "with open('backup/visual_pca_features.pickle', 'wb') as handle:\n",
    "    pickle.dump(pca_features, handle, protocol=pickle.HIGHEST_PROTOCOL)"
   ]
  },
  {
   "cell_type": "markdown",
   "metadata": {},
   "source": [
    "#### Load from pickle"
   ]
  },
  {
   "cell_type": "code",
   "execution_count": 27,
   "metadata": {},
   "outputs": [],
   "source": [
    "with open('backup/visual_pca_features.pickle', 'rb') as handle:\n",
    "    pca_features = pickle.load(handle)"
   ]
  },
  {
   "cell_type": "code",
   "execution_count": 28,
   "metadata": {},
   "outputs": [
    {
     "data": {
      "text/plain": [
       "array([[-9.7784414e+00, -2.4707714e+01, -1.5613345e+01, ...,\n",
       "        -2.1395612e-01,  7.6333582e-01,  8.6966860e-01],\n",
       "       [-1.5861920e+01, -1.3200171e+00, -1.5529302e+01, ...,\n",
       "        -2.6138926e-01, -2.4041111e+00,  2.6410294e-01],\n",
       "       [-9.8067713e+00, -1.2846659e+01, -2.1638662e+01, ...,\n",
       "         1.1637627e+00, -6.3987261e-01, -4.6188530e-01],\n",
       "       ...,\n",
       "       [-7.3069649e+00,  2.7428793e+01,  3.3833508e+01, ...,\n",
       "         6.6787636e-01, -3.0974263e-01,  3.1297231e+00],\n",
       "       [-1.1756054e+01,  1.1654500e+01,  1.0767333e+01, ...,\n",
       "         1.1673625e+00, -2.4750175e+00,  4.3308920e-01],\n",
       "       [-3.0981594e+01,  2.0549591e+01,  3.6421398e+01, ...,\n",
       "        -1.7579998e+00, -7.0620114e-01, -1.5829563e-02]], dtype=float32)"
      ]
     },
     "execution_count": 28,
     "metadata": {},
     "output_type": "execute_result"
    }
   ],
   "source": [
    "pca_features"
   ]
  },
  {
   "cell_type": "code",
   "execution_count": 29,
   "metadata": {},
   "outputs": [],
   "source": [
    "pca_features_reduced = pca_features[:, :13]"
   ]
  },
  {
   "cell_type": "code",
   "execution_count": 30,
   "metadata": {},
   "outputs": [
    {
     "data": {
      "text/plain": [
       "(10630, 13)"
      ]
     },
     "execution_count": 30,
     "metadata": {},
     "output_type": "execute_result"
    }
   ],
   "source": [
    "pca_features_reduced.shape"
   ]
  },
  {
   "cell_type": "code",
   "execution_count": 31,
   "metadata": {},
   "outputs": [
    {
     "data": {
      "text/plain": [
       "(10630, 13)"
      ]
     },
     "execution_count": 31,
     "metadata": {},
     "output_type": "execute_result"
    }
   ],
   "source": [
    "df_pca = pd.DataFrame(pca_features_reduced)\n",
    "df_pca.shape"
   ]
  },
  {
   "cell_type": "code",
   "execution_count": 35,
   "metadata": {},
   "outputs": [],
   "source": [
    "df_pca['id'] = names"
   ]
  },
  {
   "cell_type": "code",
   "execution_count": 36,
   "metadata": {},
   "outputs": [
    {
     "data": {
      "text/html": [
       "<div>\n",
       "<style scoped>\n",
       "    .dataframe tbody tr th:only-of-type {\n",
       "        vertical-align: middle;\n",
       "    }\n",
       "\n",
       "    .dataframe tbody tr th {\n",
       "        vertical-align: top;\n",
       "    }\n",
       "\n",
       "    .dataframe thead th {\n",
       "        text-align: right;\n",
       "    }\n",
       "</style>\n",
       "<table border=\"1\" class=\"dataframe\">\n",
       "  <thead>\n",
       "    <tr style=\"text-align: right;\">\n",
       "      <th></th>\n",
       "      <th>0</th>\n",
       "      <th>1</th>\n",
       "      <th>2</th>\n",
       "      <th>3</th>\n",
       "      <th>4</th>\n",
       "      <th>5</th>\n",
       "      <th>6</th>\n",
       "      <th>7</th>\n",
       "      <th>8</th>\n",
       "      <th>9</th>\n",
       "      <th>10</th>\n",
       "      <th>11</th>\n",
       "      <th>12</th>\n",
       "      <th>id</th>\n",
       "    </tr>\n",
       "  </thead>\n",
       "  <tbody>\n",
       "    <tr>\n",
       "      <th>0</th>\n",
       "      <td>-9.778441</td>\n",
       "      <td>-24.707714</td>\n",
       "      <td>-15.613345</td>\n",
       "      <td>0.718980</td>\n",
       "      <td>-1.149603</td>\n",
       "      <td>-1.947309</td>\n",
       "      <td>-4.740125</td>\n",
       "      <td>-13.350494</td>\n",
       "      <td>10.041041</td>\n",
       "      <td>-0.277502</td>\n",
       "      <td>-1.350466</td>\n",
       "      <td>1.800887</td>\n",
       "      <td>8.404503</td>\n",
       "      <td>l0j2uy</td>\n",
       "    </tr>\n",
       "    <tr>\n",
       "      <th>1</th>\n",
       "      <td>-15.861920</td>\n",
       "      <td>-1.320017</td>\n",
       "      <td>-15.529302</td>\n",
       "      <td>4.561495</td>\n",
       "      <td>-7.948915</td>\n",
       "      <td>0.232046</td>\n",
       "      <td>-8.669718</td>\n",
       "      <td>15.691691</td>\n",
       "      <td>4.067730</td>\n",
       "      <td>-0.449462</td>\n",
       "      <td>-1.699930</td>\n",
       "      <td>1.796376</td>\n",
       "      <td>-10.906918</td>\n",
       "      <td>l0jw5j</td>\n",
       "    </tr>\n",
       "    <tr>\n",
       "      <th>2</th>\n",
       "      <td>-9.806771</td>\n",
       "      <td>-12.846659</td>\n",
       "      <td>-21.638662</td>\n",
       "      <td>-8.387584</td>\n",
       "      <td>10.683289</td>\n",
       "      <td>8.197580</td>\n",
       "      <td>-0.654460</td>\n",
       "      <td>-5.188345</td>\n",
       "      <td>2.994244</td>\n",
       "      <td>2.001646</td>\n",
       "      <td>-2.542726</td>\n",
       "      <td>0.144770</td>\n",
       "      <td>-0.092432</td>\n",
       "      <td>l0k6vs</td>\n",
       "    </tr>\n",
       "    <tr>\n",
       "      <th>3</th>\n",
       "      <td>-19.837250</td>\n",
       "      <td>-23.830692</td>\n",
       "      <td>2.321813</td>\n",
       "      <td>10.697480</td>\n",
       "      <td>-21.758307</td>\n",
       "      <td>5.091673</td>\n",
       "      <td>-4.672430</td>\n",
       "      <td>19.499205</td>\n",
       "      <td>2.614788</td>\n",
       "      <td>9.483265</td>\n",
       "      <td>0.321465</td>\n",
       "      <td>-6.307117</td>\n",
       "      <td>-1.994259</td>\n",
       "      <td>l0k7wq</td>\n",
       "    </tr>\n",
       "    <tr>\n",
       "      <th>4</th>\n",
       "      <td>-5.952649</td>\n",
       "      <td>4.645163</td>\n",
       "      <td>-26.208317</td>\n",
       "      <td>-2.566991</td>\n",
       "      <td>5.856569</td>\n",
       "      <td>16.374063</td>\n",
       "      <td>6.678858</td>\n",
       "      <td>5.530633</td>\n",
       "      <td>4.426989</td>\n",
       "      <td>1.039345</td>\n",
       "      <td>-5.990426</td>\n",
       "      <td>0.222307</td>\n",
       "      <td>-5.609296</td>\n",
       "      <td>l0khnn</td>\n",
       "    </tr>\n",
       "    <tr>\n",
       "      <th>...</th>\n",
       "      <td>...</td>\n",
       "      <td>...</td>\n",
       "      <td>...</td>\n",
       "      <td>...</td>\n",
       "      <td>...</td>\n",
       "      <td>...</td>\n",
       "      <td>...</td>\n",
       "      <td>...</td>\n",
       "      <td>...</td>\n",
       "      <td>...</td>\n",
       "      <td>...</td>\n",
       "      <td>...</td>\n",
       "      <td>...</td>\n",
       "      <td>...</td>\n",
       "    </tr>\n",
       "    <tr>\n",
       "      <th>10625</th>\n",
       "      <td>-13.152501</td>\n",
       "      <td>29.792957</td>\n",
       "      <td>15.582088</td>\n",
       "      <td>-19.730324</td>\n",
       "      <td>-17.513962</td>\n",
       "      <td>-3.823084</td>\n",
       "      <td>14.648697</td>\n",
       "      <td>-10.536871</td>\n",
       "      <td>9.621264</td>\n",
       "      <td>-9.382256</td>\n",
       "      <td>-0.971067</td>\n",
       "      <td>3.258287</td>\n",
       "      <td>1.082165</td>\n",
       "      <td>lh8j7j</td>\n",
       "    </tr>\n",
       "    <tr>\n",
       "      <th>10626</th>\n",
       "      <td>42.742382</td>\n",
       "      <td>-2.659632</td>\n",
       "      <td>12.798088</td>\n",
       "      <td>-4.240649</td>\n",
       "      <td>-12.191031</td>\n",
       "      <td>0.893692</td>\n",
       "      <td>-0.602096</td>\n",
       "      <td>-6.180359</td>\n",
       "      <td>-1.247412</td>\n",
       "      <td>0.070137</td>\n",
       "      <td>0.976334</td>\n",
       "      <td>2.006495</td>\n",
       "      <td>-6.616879</td>\n",
       "      <td>lh9q18</td>\n",
       "    </tr>\n",
       "    <tr>\n",
       "      <th>10627</th>\n",
       "      <td>-7.306965</td>\n",
       "      <td>27.428793</td>\n",
       "      <td>33.833508</td>\n",
       "      <td>10.910515</td>\n",
       "      <td>5.536849</td>\n",
       "      <td>6.347808</td>\n",
       "      <td>14.122611</td>\n",
       "      <td>-2.540338</td>\n",
       "      <td>11.896130</td>\n",
       "      <td>-5.308099</td>\n",
       "      <td>-13.186190</td>\n",
       "      <td>5.320441</td>\n",
       "      <td>1.720898</td>\n",
       "      <td>lh9t7w</td>\n",
       "    </tr>\n",
       "    <tr>\n",
       "      <th>10628</th>\n",
       "      <td>-11.756054</td>\n",
       "      <td>11.654500</td>\n",
       "      <td>10.767333</td>\n",
       "      <td>-9.302024</td>\n",
       "      <td>-1.621235</td>\n",
       "      <td>-11.238375</td>\n",
       "      <td>27.106276</td>\n",
       "      <td>6.907452</td>\n",
       "      <td>-9.639314</td>\n",
       "      <td>-3.745684</td>\n",
       "      <td>-3.860185</td>\n",
       "      <td>-2.126068</td>\n",
       "      <td>8.976760</td>\n",
       "      <td>lhaeyc</td>\n",
       "    </tr>\n",
       "    <tr>\n",
       "      <th>10629</th>\n",
       "      <td>-30.981594</td>\n",
       "      <td>20.549591</td>\n",
       "      <td>36.421398</td>\n",
       "      <td>23.274118</td>\n",
       "      <td>11.350721</td>\n",
       "      <td>-4.172280</td>\n",
       "      <td>1.382696</td>\n",
       "      <td>15.371206</td>\n",
       "      <td>30.709520</td>\n",
       "      <td>14.028909</td>\n",
       "      <td>4.649932</td>\n",
       "      <td>9.905142</td>\n",
       "      <td>-9.150676</td>\n",
       "      <td>lhcqjk</td>\n",
       "    </tr>\n",
       "  </tbody>\n",
       "</table>\n",
       "<p>10630 rows × 14 columns</p>\n",
       "</div>"
      ],
      "text/plain": [
       "               0          1          2          3          4          5  \\\n",
       "0      -9.778441 -24.707714 -15.613345   0.718980  -1.149603  -1.947309   \n",
       "1     -15.861920  -1.320017 -15.529302   4.561495  -7.948915   0.232046   \n",
       "2      -9.806771 -12.846659 -21.638662  -8.387584  10.683289   8.197580   \n",
       "3     -19.837250 -23.830692   2.321813  10.697480 -21.758307   5.091673   \n",
       "4      -5.952649   4.645163 -26.208317  -2.566991   5.856569  16.374063   \n",
       "...          ...        ...        ...        ...        ...        ...   \n",
       "10625 -13.152501  29.792957  15.582088 -19.730324 -17.513962  -3.823084   \n",
       "10626  42.742382  -2.659632  12.798088  -4.240649 -12.191031   0.893692   \n",
       "10627  -7.306965  27.428793  33.833508  10.910515   5.536849   6.347808   \n",
       "10628 -11.756054  11.654500  10.767333  -9.302024  -1.621235 -11.238375   \n",
       "10629 -30.981594  20.549591  36.421398  23.274118  11.350721  -4.172280   \n",
       "\n",
       "               6          7          8          9         10        11  \\\n",
       "0      -4.740125 -13.350494  10.041041  -0.277502  -1.350466  1.800887   \n",
       "1      -8.669718  15.691691   4.067730  -0.449462  -1.699930  1.796376   \n",
       "2      -0.654460  -5.188345   2.994244   2.001646  -2.542726  0.144770   \n",
       "3      -4.672430  19.499205   2.614788   9.483265   0.321465 -6.307117   \n",
       "4       6.678858   5.530633   4.426989   1.039345  -5.990426  0.222307   \n",
       "...          ...        ...        ...        ...        ...       ...   \n",
       "10625  14.648697 -10.536871   9.621264  -9.382256  -0.971067  3.258287   \n",
       "10626  -0.602096  -6.180359  -1.247412   0.070137   0.976334  2.006495   \n",
       "10627  14.122611  -2.540338  11.896130  -5.308099 -13.186190  5.320441   \n",
       "10628  27.106276   6.907452  -9.639314  -3.745684  -3.860185 -2.126068   \n",
       "10629   1.382696  15.371206  30.709520  14.028909   4.649932  9.905142   \n",
       "\n",
       "              12      id  \n",
       "0       8.404503  l0j2uy  \n",
       "1     -10.906918  l0jw5j  \n",
       "2      -0.092432  l0k6vs  \n",
       "3      -1.994259  l0k7wq  \n",
       "4      -5.609296  l0khnn  \n",
       "...          ...     ...  \n",
       "10625   1.082165  lh8j7j  \n",
       "10626  -6.616879  lh9q18  \n",
       "10627   1.720898  lh9t7w  \n",
       "10628   8.976760  lhaeyc  \n",
       "10629  -9.150676  lhcqjk  \n",
       "\n",
       "[10630 rows x 14 columns]"
      ]
     },
     "execution_count": 36,
     "metadata": {},
     "output_type": "execute_result"
    }
   ],
   "source": [
    "df_pca"
   ]
  },
  {
   "cell_type": "markdown",
   "metadata": {},
   "source": [
    "# Image ratio"
   ]
  },
  {
   "cell_type": "code",
   "execution_count": 37,
   "metadata": {},
   "outputs": [
    {
     "data": {
      "application/vnd.jupyter.widget-view+json": {
       "model_id": "5d18cfca14654e079313cd7cef9e2caa",
       "version_major": 2,
       "version_minor": 0
      },
      "text/plain": [
       "HBox(children=(FloatProgress(value=0.0, max=10630.0), HTML(value='')))"
      ]
     },
     "metadata": {},
     "output_type": "display_data"
    },
    {
     "name": "stdout",
     "output_type": "stream",
     "text": [
      "\n"
     ]
    }
   ],
   "source": [
    "directory = \"./images\"\n",
    "\n",
    "def get_ratio(path):\n",
    "    image = cv2.imread(path)\n",
    "    w = image.shape[1]\n",
    "    h = image.shape[0]\n",
    "    return w / h\n",
    "\n",
    "ratio = []\n",
    "ratio_names = []\n",
    "\n",
    "for idx, filename in enumerate(tqdm(os.listdir(directory))):\n",
    "    ratio.append(get_ratio(os.path.join(directory, filename)))\n",
    "    ratio_names.append(filename.split('.')[0])"
   ]
  },
  {
   "cell_type": "code",
   "execution_count": 38,
   "metadata": {},
   "outputs": [
    {
     "data": {
      "text/html": [
       "<div>\n",
       "<style scoped>\n",
       "    .dataframe tbody tr th:only-of-type {\n",
       "        vertical-align: middle;\n",
       "    }\n",
       "\n",
       "    .dataframe tbody tr th {\n",
       "        vertical-align: top;\n",
       "    }\n",
       "\n",
       "    .dataframe thead th {\n",
       "        text-align: right;\n",
       "    }\n",
       "</style>\n",
       "<table border=\"1\" class=\"dataframe\">\n",
       "  <thead>\n",
       "    <tr style=\"text-align: right;\">\n",
       "      <th></th>\n",
       "      <th>id</th>\n",
       "      <th>screenshot</th>\n",
       "    </tr>\n",
       "  </thead>\n",
       "  <tbody>\n",
       "    <tr>\n",
       "      <th>0</th>\n",
       "      <td>l0j2uy</td>\n",
       "      <td>False</td>\n",
       "    </tr>\n",
       "    <tr>\n",
       "      <th>1</th>\n",
       "      <td>l0jw5j</td>\n",
       "      <td>False</td>\n",
       "    </tr>\n",
       "    <tr>\n",
       "      <th>2</th>\n",
       "      <td>l0k6vs</td>\n",
       "      <td>False</td>\n",
       "    </tr>\n",
       "    <tr>\n",
       "      <th>3</th>\n",
       "      <td>l0k7wq</td>\n",
       "      <td>False</td>\n",
       "    </tr>\n",
       "    <tr>\n",
       "      <th>4</th>\n",
       "      <td>l0khnn</td>\n",
       "      <td>True</td>\n",
       "    </tr>\n",
       "    <tr>\n",
       "      <th>...</th>\n",
       "      <td>...</td>\n",
       "      <td>...</td>\n",
       "    </tr>\n",
       "    <tr>\n",
       "      <th>10625</th>\n",
       "      <td>lh8j7j</td>\n",
       "      <td>True</td>\n",
       "    </tr>\n",
       "    <tr>\n",
       "      <th>10626</th>\n",
       "      <td>lh9q18</td>\n",
       "      <td>True</td>\n",
       "    </tr>\n",
       "    <tr>\n",
       "      <th>10627</th>\n",
       "      <td>lh9t7w</td>\n",
       "      <td>False</td>\n",
       "    </tr>\n",
       "    <tr>\n",
       "      <th>10628</th>\n",
       "      <td>lhaeyc</td>\n",
       "      <td>False</td>\n",
       "    </tr>\n",
       "    <tr>\n",
       "      <th>10629</th>\n",
       "      <td>lhcqjk</td>\n",
       "      <td>False</td>\n",
       "    </tr>\n",
       "  </tbody>\n",
       "</table>\n",
       "<p>10630 rows × 2 columns</p>\n",
       "</div>"
      ],
      "text/plain": [
       "           id  screenshot\n",
       "0      l0j2uy       False\n",
       "1      l0jw5j       False\n",
       "2      l0k6vs       False\n",
       "3      l0k7wq       False\n",
       "4      l0khnn        True\n",
       "...       ...         ...\n",
       "10625  lh8j7j        True\n",
       "10626  lh9q18        True\n",
       "10627  lh9t7w       False\n",
       "10628  lhaeyc       False\n",
       "10629  lhcqjk       False\n",
       "\n",
       "[10630 rows x 2 columns]"
      ]
     },
     "execution_count": 38,
     "metadata": {},
     "output_type": "execute_result"
    }
   ],
   "source": [
    "df_ratio = pd.DataFrame(zip(ratio_names, ratio), columns=[\"id\", \"ratio\"])\n",
    "df_ratio['screenshot'] = df_ratio['ratio'] <= 0.5625\n",
    "df_ratio = df_ratio.drop('ratio', axis=1)\n",
    "df_ratio"
   ]
  },
  {
   "cell_type": "markdown",
   "metadata": {},
   "source": [
    "# Merge and save dataframe"
   ]
  },
  {
   "cell_type": "code",
   "execution_count": 39,
   "metadata": {},
   "outputs": [
    {
     "data": {
      "text/plain": [
       "(10630, 9)"
      ]
     },
     "execution_count": 39,
     "metadata": {},
     "output_type": "execute_result"
    }
   ],
   "source": [
    "df_colors.shape"
   ]
  },
  {
   "cell_type": "code",
   "execution_count": 40,
   "metadata": {},
   "outputs": [
    {
     "data": {
      "text/plain": [
       "(10630, 5)"
      ]
     },
     "execution_count": 40,
     "metadata": {},
     "output_type": "execute_result"
    }
   ],
   "source": [
    "df_ocr_proc.shape"
   ]
  },
  {
   "cell_type": "code",
   "execution_count": 41,
   "metadata": {},
   "outputs": [
    {
     "data": {
      "text/html": [
       "<div>\n",
       "<style scoped>\n",
       "    .dataframe tbody tr th:only-of-type {\n",
       "        vertical-align: middle;\n",
       "    }\n",
       "\n",
       "    .dataframe tbody tr th {\n",
       "        vertical-align: top;\n",
       "    }\n",
       "\n",
       "    .dataframe thead th {\n",
       "        text-align: right;\n",
       "    }\n",
       "</style>\n",
       "<table border=\"1\" class=\"dataframe\">\n",
       "  <thead>\n",
       "    <tr style=\"text-align: right;\">\n",
       "      <th></th>\n",
       "      <th>col0</th>\n",
       "      <th>col1</th>\n",
       "      <th>col2</th>\n",
       "      <th>col3</th>\n",
       "      <th>col4</th>\n",
       "      <th>col5</th>\n",
       "      <th>col6</th>\n",
       "      <th>col7</th>\n",
       "      <th>twitter</th>\n",
       "      <th>text_bow</th>\n",
       "      <th>text_length</th>\n",
       "      <th>text_capital</th>\n",
       "    </tr>\n",
       "    <tr>\n",
       "      <th>id</th>\n",
       "      <th></th>\n",
       "      <th></th>\n",
       "      <th></th>\n",
       "      <th></th>\n",
       "      <th></th>\n",
       "      <th></th>\n",
       "      <th></th>\n",
       "      <th></th>\n",
       "      <th></th>\n",
       "      <th></th>\n",
       "      <th></th>\n",
       "      <th></th>\n",
       "    </tr>\n",
       "  </thead>\n",
       "  <tbody>\n",
       "    <tr>\n",
       "      <th>l0j2uy</th>\n",
       "      <td>0.500000</td>\n",
       "      <td>0.566667</td>\n",
       "      <td>0.533333</td>\n",
       "      <td>0.547619</td>\n",
       "      <td>0.541667</td>\n",
       "      <td>0.583333</td>\n",
       "      <td>0.541667</td>\n",
       "      <td>0.000000</td>\n",
       "      <td>0</td>\n",
       "      <td>[0, 1, 0, 0, 0, 0, 0, 0, 0, 0, 0, 0, 0, 0, 0, ...</td>\n",
       "      <td>40</td>\n",
       "      <td>0.229167</td>\n",
       "    </tr>\n",
       "    <tr>\n",
       "      <th>l0jw5j</th>\n",
       "      <td>0.566667</td>\n",
       "      <td>0.600000</td>\n",
       "      <td>0.643875</td>\n",
       "      <td>0.966667</td>\n",
       "      <td>0.680233</td>\n",
       "      <td>0.625786</td>\n",
       "      <td>0.051282</td>\n",
       "      <td>0.710145</td>\n",
       "      <td>0</td>\n",
       "      <td>[0, 0, 0, 0, 0, 0, 0, 0, 0, 0, 0, 0, 0, 0, 0, ...</td>\n",
       "      <td>62</td>\n",
       "      <td>0.068627</td>\n",
       "    </tr>\n",
       "    <tr>\n",
       "      <th>l0k6vs</th>\n",
       "      <td>0.000000</td>\n",
       "      <td>0.000000</td>\n",
       "      <td>0.000000</td>\n",
       "      <td>0.000000</td>\n",
       "      <td>0.944444</td>\n",
       "      <td>0.986111</td>\n",
       "      <td>0.991546</td>\n",
       "      <td>0.991228</td>\n",
       "      <td>0</td>\n",
       "      <td>[0, 0, 0, 1, 0, 1, 0, 1, 0, 0, 0, 0, 0, 0, 0, ...</td>\n",
       "      <td>175</td>\n",
       "      <td>0.129344</td>\n",
       "    </tr>\n",
       "    <tr>\n",
       "      <th>l0k7wq</th>\n",
       "      <td>0.523810</td>\n",
       "      <td>0.511364</td>\n",
       "      <td>0.311111</td>\n",
       "      <td>0.384615</td>\n",
       "      <td>0.407407</td>\n",
       "      <td>0.148718</td>\n",
       "      <td>0.388889</td>\n",
       "      <td>0.996633</td>\n",
       "      <td>0</td>\n",
       "      <td>[0, 0, 0, 0, 0, 0, 0, 0, 0, 0, 0, 0, 0, 0, 0, ...</td>\n",
       "      <td>4</td>\n",
       "      <td>0.500000</td>\n",
       "    </tr>\n",
       "    <tr>\n",
       "      <th>l0khnn</th>\n",
       "      <td>0.500000</td>\n",
       "      <td>0.533333</td>\n",
       "      <td>0.533333</td>\n",
       "      <td>0.533333</td>\n",
       "      <td>0.533333</td>\n",
       "      <td>0.541667</td>\n",
       "      <td>0.562500</td>\n",
       "      <td>0.666667</td>\n",
       "      <td>0</td>\n",
       "      <td>[0, 0, 0, 1, 0, 1, 0, 1, 0, 0, 0, 0, 0, 0, 0, ...</td>\n",
       "      <td>180</td>\n",
       "      <td>0.114964</td>\n",
       "    </tr>\n",
       "  </tbody>\n",
       "</table>\n",
       "</div>"
      ],
      "text/plain": [
       "            col0      col1      col2      col3      col4      col5      col6  \\\n",
       "id                                                                             \n",
       "l0j2uy  0.500000  0.566667  0.533333  0.547619  0.541667  0.583333  0.541667   \n",
       "l0jw5j  0.566667  0.600000  0.643875  0.966667  0.680233  0.625786  0.051282   \n",
       "l0k6vs  0.000000  0.000000  0.000000  0.000000  0.944444  0.986111  0.991546   \n",
       "l0k7wq  0.523810  0.511364  0.311111  0.384615  0.407407  0.148718  0.388889   \n",
       "l0khnn  0.500000  0.533333  0.533333  0.533333  0.533333  0.541667  0.562500   \n",
       "\n",
       "            col7  twitter                                           text_bow  \\\n",
       "id                                                                             \n",
       "l0j2uy  0.000000        0  [0, 1, 0, 0, 0, 0, 0, 0, 0, 0, 0, 0, 0, 0, 0, ...   \n",
       "l0jw5j  0.710145        0  [0, 0, 0, 0, 0, 0, 0, 0, 0, 0, 0, 0, 0, 0, 0, ...   \n",
       "l0k6vs  0.991228        0  [0, 0, 0, 1, 0, 1, 0, 1, 0, 0, 0, 0, 0, 0, 0, ...   \n",
       "l0k7wq  0.996633        0  [0, 0, 0, 0, 0, 0, 0, 0, 0, 0, 0, 0, 0, 0, 0, ...   \n",
       "l0khnn  0.666667        0  [0, 0, 0, 1, 0, 1, 0, 1, 0, 0, 0, 0, 0, 0, 0, ...   \n",
       "\n",
       "        text_length  text_capital  \n",
       "id                                 \n",
       "l0j2uy           40      0.229167  \n",
       "l0jw5j           62      0.068627  \n",
       "l0k6vs          175      0.129344  \n",
       "l0k7wq            4      0.500000  \n",
       "l0khnn          180      0.114964  "
      ]
     },
     "execution_count": 41,
     "metadata": {},
     "output_type": "execute_result"
    }
   ],
   "source": [
    "df_final = df_colors.set_index('id').join(df_ocr_proc.set_index('id'))\n",
    "df_final.head()"
   ]
  },
  {
   "cell_type": "code",
   "execution_count": 42,
   "metadata": {},
   "outputs": [],
   "source": [
    "df_final = df_final.join(df_pca.set_index('id'))\n",
    "df_final = df_final.join(df_ratio.set_index('id'))"
   ]
  },
  {
   "cell_type": "code",
   "execution_count": 43,
   "metadata": {},
   "outputs": [
    {
     "data": {
      "text/plain": [
       "(10630, 26)"
      ]
     },
     "execution_count": 43,
     "metadata": {},
     "output_type": "execute_result"
    }
   ],
   "source": [
    "df_final.shape"
   ]
  },
  {
   "cell_type": "code",
   "execution_count": 44,
   "metadata": {},
   "outputs": [],
   "source": [
    "df_final.to_csv(\"data/wsb_visuals.csv\")"
   ]
  }
 ],
 "metadata": {
  "kernelspec": {
   "display_name": "Python 3",
   "language": "python",
   "name": "python3"
  },
  "language_info": {
   "codemirror_mode": {
    "name": "ipython",
    "version": 3
   },
   "file_extension": ".py",
   "mimetype": "text/x-python",
   "name": "python",
   "nbconvert_exporter": "python",
   "pygments_lexer": "ipython3",
   "version": "3.8.3"
  }
 },
 "nbformat": 4,
 "nbformat_minor": 4
}

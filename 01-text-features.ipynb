{
 "cells": [
  {
   "cell_type": "code",
   "execution_count": 1,
   "metadata": {},
   "outputs": [],
   "source": [
    "%matplotlib inline\n",
    "import pandas as pd\n",
    "import matplotlib.pyplot as plt\n",
    "import seaborn as sns\n",
    "import numpy as np\n",
    "import math\n",
    "import datetime"
   ]
  },
  {
   "cell_type": "code",
   "execution_count": 2,
   "metadata": {},
   "outputs": [],
   "source": [
    "df = pd.read_csv(\"data/reddit_wsb.csv\")"
   ]
  },
  {
   "cell_type": "code",
   "execution_count": 3,
   "metadata": {},
   "outputs": [
    {
     "data": {
      "text/html": [
       "<div>\n",
       "<style scoped>\n",
       "    .dataframe tbody tr th:only-of-type {\n",
       "        vertical-align: middle;\n",
       "    }\n",
       "\n",
       "    .dataframe tbody tr th {\n",
       "        vertical-align: top;\n",
       "    }\n",
       "\n",
       "    .dataframe thead th {\n",
       "        text-align: right;\n",
       "    }\n",
       "</style>\n",
       "<table border=\"1\" class=\"dataframe\">\n",
       "  <thead>\n",
       "    <tr style=\"text-align: right;\">\n",
       "      <th></th>\n",
       "      <th>title</th>\n",
       "      <th>score</th>\n",
       "      <th>id</th>\n",
       "      <th>url</th>\n",
       "      <th>comms_num</th>\n",
       "      <th>created</th>\n",
       "      <th>body</th>\n",
       "      <th>timestamp</th>\n",
       "    </tr>\n",
       "  </thead>\n",
       "  <tbody>\n",
       "    <tr>\n",
       "      <th>0</th>\n",
       "      <td>It's not about the money, it's about sending a...</td>\n",
       "      <td>55</td>\n",
       "      <td>l6ulcx</td>\n",
       "      <td>https://v.redd.it/6j75regs72e61</td>\n",
       "      <td>6</td>\n",
       "      <td>1.611863e+09</td>\n",
       "      <td>NaN</td>\n",
       "      <td>2021-01-28 21:37:41</td>\n",
       "    </tr>\n",
       "    <tr>\n",
       "      <th>1</th>\n",
       "      <td>Math Professor Scott Steiner says the numbers ...</td>\n",
       "      <td>110</td>\n",
       "      <td>l6uibd</td>\n",
       "      <td>https://v.redd.it/ah50lyny62e61</td>\n",
       "      <td>23</td>\n",
       "      <td>1.611862e+09</td>\n",
       "      <td>NaN</td>\n",
       "      <td>2021-01-28 21:32:10</td>\n",
       "    </tr>\n",
       "    <tr>\n",
       "      <th>2</th>\n",
       "      <td>Exit the system</td>\n",
       "      <td>0</td>\n",
       "      <td>l6uhhn</td>\n",
       "      <td>https://www.reddit.com/r/wallstreetbets/commen...</td>\n",
       "      <td>47</td>\n",
       "      <td>1.611862e+09</td>\n",
       "      <td>The CEO of NASDAQ pushed to halt trading “to g...</td>\n",
       "      <td>2021-01-28 21:30:35</td>\n",
       "    </tr>\n",
       "    <tr>\n",
       "      <th>3</th>\n",
       "      <td>NEW SEC FILING FOR GME! CAN SOMEONE LESS RETAR...</td>\n",
       "      <td>29</td>\n",
       "      <td>l6ugk6</td>\n",
       "      <td>https://sec.report/Document/0001193125-21-019848/</td>\n",
       "      <td>74</td>\n",
       "      <td>1.611862e+09</td>\n",
       "      <td>NaN</td>\n",
       "      <td>2021-01-28 21:28:57</td>\n",
       "    </tr>\n",
       "    <tr>\n",
       "      <th>4</th>\n",
       "      <td>Not to distract from GME, just thought our AMC...</td>\n",
       "      <td>71</td>\n",
       "      <td>l6ufgy</td>\n",
       "      <td>https://i.redd.it/4h2sukb662e61.jpg</td>\n",
       "      <td>156</td>\n",
       "      <td>1.611862e+09</td>\n",
       "      <td>NaN</td>\n",
       "      <td>2021-01-28 21:26:56</td>\n",
       "    </tr>\n",
       "    <tr>\n",
       "      <th>...</th>\n",
       "      <td>...</td>\n",
       "      <td>...</td>\n",
       "      <td>...</td>\n",
       "      <td>...</td>\n",
       "      <td>...</td>\n",
       "      <td>...</td>\n",
       "      <td>...</td>\n",
       "      <td>...</td>\n",
       "    </tr>\n",
       "    <tr>\n",
       "      <th>37150</th>\n",
       "      <td>Could use some help here at the end of the day...</td>\n",
       "      <td>109</td>\n",
       "      <td>lt4i4u</td>\n",
       "      <td>https://i.redd.it/1rhnimof9vj61.jpg</td>\n",
       "      <td>37</td>\n",
       "      <td>1.614393e+09</td>\n",
       "      <td>NaN</td>\n",
       "      <td>2021-02-27 04:37:32</td>\n",
       "    </tr>\n",
       "    <tr>\n",
       "      <th>37151</th>\n",
       "      <td>The war has just begun</td>\n",
       "      <td>486</td>\n",
       "      <td>lt4fk0</td>\n",
       "      <td>https://v.redd.it/fcyia2xo8vj61</td>\n",
       "      <td>30</td>\n",
       "      <td>1.614393e+09</td>\n",
       "      <td>NaN</td>\n",
       "      <td>2021-02-27 04:34:21</td>\n",
       "    </tr>\n",
       "    <tr>\n",
       "      <th>37152</th>\n",
       "      <td>PSA: AMCX is not up because of AMC</td>\n",
       "      <td>33</td>\n",
       "      <td>lt4ci5</td>\n",
       "      <td>https://www.reddit.com/r/wallstreetbets/commen...</td>\n",
       "      <td>17</td>\n",
       "      <td>1.614393e+09</td>\n",
       "      <td>Tl;dr AMCX is a very undervalued company based...</td>\n",
       "      <td>2021-02-27 04:30:42</td>\n",
       "    </tr>\n",
       "    <tr>\n",
       "      <th>37153</th>\n",
       "      <td>Ape Combat 6: Liberation of Gamestopmeria</td>\n",
       "      <td>32</td>\n",
       "      <td>lt46qn</td>\n",
       "      <td>https://v.redd.it/x6b005am5vj61</td>\n",
       "      <td>3</td>\n",
       "      <td>1.614393e+09</td>\n",
       "      <td>NaN</td>\n",
       "      <td>2021-02-27 04:23:42</td>\n",
       "    </tr>\n",
       "    <tr>\n",
       "      <th>37154</th>\n",
       "      <td>A Slap Back to Reality</td>\n",
       "      <td>108</td>\n",
       "      <td>lt47yg</td>\n",
       "      <td>https://www.reddit.com/r/wallstreetbets/commen...</td>\n",
       "      <td>175</td>\n",
       "      <td>1.614393e+09</td>\n",
       "      <td>Obligatory: This is not financial advice. I am...</td>\n",
       "      <td>2021-02-27 04:25:09</td>\n",
       "    </tr>\n",
       "  </tbody>\n",
       "</table>\n",
       "<p>37155 rows × 8 columns</p>\n",
       "</div>"
      ],
      "text/plain": [
       "                                                   title  score      id  \\\n",
       "0      It's not about the money, it's about sending a...     55  l6ulcx   \n",
       "1      Math Professor Scott Steiner says the numbers ...    110  l6uibd   \n",
       "2                                        Exit the system      0  l6uhhn   \n",
       "3      NEW SEC FILING FOR GME! CAN SOMEONE LESS RETAR...     29  l6ugk6   \n",
       "4      Not to distract from GME, just thought our AMC...     71  l6ufgy   \n",
       "...                                                  ...    ...     ...   \n",
       "37150  Could use some help here at the end of the day...    109  lt4i4u   \n",
       "37151                             The war has just begun    486  lt4fk0   \n",
       "37152                 PSA: AMCX is not up because of AMC     33  lt4ci5   \n",
       "37153          Ape Combat 6: Liberation of Gamestopmeria     32  lt46qn   \n",
       "37154                             A Slap Back to Reality    108  lt47yg   \n",
       "\n",
       "                                                     url  comms_num  \\\n",
       "0                        https://v.redd.it/6j75regs72e61          6   \n",
       "1                        https://v.redd.it/ah50lyny62e61         23   \n",
       "2      https://www.reddit.com/r/wallstreetbets/commen...         47   \n",
       "3      https://sec.report/Document/0001193125-21-019848/         74   \n",
       "4                    https://i.redd.it/4h2sukb662e61.jpg        156   \n",
       "...                                                  ...        ...   \n",
       "37150                https://i.redd.it/1rhnimof9vj61.jpg         37   \n",
       "37151                    https://v.redd.it/fcyia2xo8vj61         30   \n",
       "37152  https://www.reddit.com/r/wallstreetbets/commen...         17   \n",
       "37153                    https://v.redd.it/x6b005am5vj61          3   \n",
       "37154  https://www.reddit.com/r/wallstreetbets/commen...        175   \n",
       "\n",
       "            created                                               body  \\\n",
       "0      1.611863e+09                                                NaN   \n",
       "1      1.611862e+09                                                NaN   \n",
       "2      1.611862e+09  The CEO of NASDAQ pushed to halt trading “to g...   \n",
       "3      1.611862e+09                                                NaN   \n",
       "4      1.611862e+09                                                NaN   \n",
       "...             ...                                                ...   \n",
       "37150  1.614393e+09                                                NaN   \n",
       "37151  1.614393e+09                                                NaN   \n",
       "37152  1.614393e+09  Tl;dr AMCX is a very undervalued company based...   \n",
       "37153  1.614393e+09                                                NaN   \n",
       "37154  1.614393e+09  Obligatory: This is not financial advice. I am...   \n",
       "\n",
       "                 timestamp  \n",
       "0      2021-01-28 21:37:41  \n",
       "1      2021-01-28 21:32:10  \n",
       "2      2021-01-28 21:30:35  \n",
       "3      2021-01-28 21:28:57  \n",
       "4      2021-01-28 21:26:56  \n",
       "...                    ...  \n",
       "37150  2021-02-27 04:37:32  \n",
       "37151  2021-02-27 04:34:21  \n",
       "37152  2021-02-27 04:30:42  \n",
       "37153  2021-02-27 04:23:42  \n",
       "37154  2021-02-27 04:25:09  \n",
       "\n",
       "[37155 rows x 8 columns]"
      ]
     },
     "execution_count": 3,
     "metadata": {},
     "output_type": "execute_result"
    }
   ],
   "source": [
    "df"
   ]
  },
  {
   "cell_type": "code",
   "execution_count": 4,
   "metadata": {},
   "outputs": [
    {
     "name": "stdout",
     "output_type": "stream",
     "text": [
      "<class 'pandas.core.frame.DataFrame'>\n",
      "RangeIndex: 37155 entries, 0 to 37154\n",
      "Data columns (total 8 columns):\n",
      " #   Column     Non-Null Count  Dtype  \n",
      "---  ------     --------------  -----  \n",
      " 0   title      37155 non-null  object \n",
      " 1   score      37155 non-null  int64  \n",
      " 2   id         37155 non-null  object \n",
      " 3   url        37155 non-null  object \n",
      " 4   comms_num  37155 non-null  int64  \n",
      " 5   created    37155 non-null  float64\n",
      " 6   body       18718 non-null  object \n",
      " 7   timestamp  37155 non-null  object \n",
      "dtypes: float64(1), int64(2), object(5)\n",
      "memory usage: 2.3+ MB\n"
     ]
    }
   ],
   "source": [
    "df.info()"
   ]
  },
  {
   "cell_type": "markdown",
   "metadata": {},
   "source": [
    "## Timestamp"
   ]
  },
  {
   "cell_type": "code",
   "execution_count": 5,
   "metadata": {},
   "outputs": [],
   "source": [
    "df['timestamp'] = pd.to_datetime(df['timestamp'])"
   ]
  },
  {
   "cell_type": "code",
   "execution_count": 6,
   "metadata": {},
   "outputs": [
    {
     "name": "stderr",
     "output_type": "stream",
     "text": [
      "<ipython-input-6-621d3f5dc36a>:1: FutureWarning: Treating datetime data as categorical rather than numeric in `.describe` is deprecated and will be removed in a future version of pandas. Specify `datetime_is_numeric=True` to silence this warning and adopt the future behavior now.\n",
      "  df['timestamp'].describe()\n"
     ]
    },
    {
     "data": {
      "text/plain": [
       "count                   37155\n",
       "unique                  27494\n",
       "top       2021-01-29 01:03:59\n",
       "freq                       14\n",
       "first     2020-09-29 03:46:56\n",
       "last      2021-03-02 16:56:47\n",
       "Name: timestamp, dtype: object"
      ]
     },
     "execution_count": 6,
     "metadata": {},
     "output_type": "execute_result"
    }
   ],
   "source": [
    "df['timestamp'].describe()"
   ]
  },
  {
   "cell_type": "code",
   "execution_count": 7,
   "metadata": {},
   "outputs": [
    {
     "data": {
      "text/html": [
       "<div>\n",
       "<style scoped>\n",
       "    .dataframe tbody tr th:only-of-type {\n",
       "        vertical-align: middle;\n",
       "    }\n",
       "\n",
       "    .dataframe tbody tr th {\n",
       "        vertical-align: top;\n",
       "    }\n",
       "\n",
       "    .dataframe thead th {\n",
       "        text-align: right;\n",
       "    }\n",
       "</style>\n",
       "<table border=\"1\" class=\"dataframe\">\n",
       "  <thead>\n",
       "    <tr style=\"text-align: right;\">\n",
       "      <th></th>\n",
       "      <th>title</th>\n",
       "      <th>score</th>\n",
       "      <th>id</th>\n",
       "      <th>url</th>\n",
       "      <th>comms_num</th>\n",
       "      <th>created</th>\n",
       "      <th>body</th>\n",
       "      <th>timestamp</th>\n",
       "    </tr>\n",
       "  </thead>\n",
       "  <tbody>\n",
       "    <tr>\n",
       "      <th>32591</th>\n",
       "      <td>$CBAT $SUNW $SPI $OXBR Y'all are missing the p...</td>\n",
       "      <td>4</td>\n",
       "      <td>j1fmmo</td>\n",
       "      <td>https://www.reddit.com/r/wallstreetbets/commen...</td>\n",
       "      <td>11</td>\n",
       "      <td>1.601340e+09</td>\n",
       "      <td>$CBAT is going to be a great play further yet:...</td>\n",
       "      <td>2020-09-29 03:46:56</td>\n",
       "    </tr>\n",
       "    <tr>\n",
       "      <th>257</th>\n",
       "      <td>An autists journey. $150 to $68k in one month....</td>\n",
       "      <td>50</td>\n",
       "      <td>l6h58v</td>\n",
       "      <td>https://www.reddit.com/gallery/l6h58v</td>\n",
       "      <td>8</td>\n",
       "      <td>1.611818e+09</td>\n",
       "      <td>NaN</td>\n",
       "      <td>2021-01-28 09:08:16</td>\n",
       "    </tr>\n",
       "    <tr>\n",
       "      <th>256</th>\n",
       "      <td>You all have made Melvin live up to its name</td>\n",
       "      <td>70</td>\n",
       "      <td>l6h59b</td>\n",
       "      <td>https://i.redd.it/59sk10r7iyd61.png</td>\n",
       "      <td>7</td>\n",
       "      <td>1.611818e+09</td>\n",
       "      <td>NaN</td>\n",
       "      <td>2021-01-28 09:08:17</td>\n",
       "    </tr>\n",
       "    <tr>\n",
       "      <th>255</th>\n",
       "      <td>I got in late on GME but I believe in the caus...</td>\n",
       "      <td>75</td>\n",
       "      <td>l6h5a2</td>\n",
       "      <td>https://www.reddit.com/r/wallstreetbets/commen...</td>\n",
       "      <td>14</td>\n",
       "      <td>1.611818e+09</td>\n",
       "      <td>You guys are amazing. Thank you for sending GM...</td>\n",
       "      <td>2021-01-28 09:08:18</td>\n",
       "    </tr>\n",
       "    <tr>\n",
       "      <th>254</th>\n",
       "      <td>Highest SI % of Float End of Business Jan 27th...</td>\n",
       "      <td>26</td>\n",
       "      <td>l6h5am</td>\n",
       "      <td>https://www.reddit.com/r/wallstreetbets/commen...</td>\n",
       "      <td>22</td>\n",
       "      <td>1.611818e+09</td>\n",
       "      <td>Will Update Daily At Market Close\\n\\nTop 5 sec...</td>\n",
       "      <td>2021-01-28 09:08:19</td>\n",
       "    </tr>\n",
       "  </tbody>\n",
       "</table>\n",
       "</div>"
      ],
      "text/plain": [
       "                                                   title  score      id  \\\n",
       "32591  $CBAT $SUNW $SPI $OXBR Y'all are missing the p...      4  j1fmmo   \n",
       "257    An autists journey. $150 to $68k in one month....     50  l6h58v   \n",
       "256         You all have made Melvin live up to its name     70  l6h59b   \n",
       "255    I got in late on GME but I believe in the caus...     75  l6h5a2   \n",
       "254    Highest SI % of Float End of Business Jan 27th...     26  l6h5am   \n",
       "\n",
       "                                                     url  comms_num  \\\n",
       "32591  https://www.reddit.com/r/wallstreetbets/commen...         11   \n",
       "257                https://www.reddit.com/gallery/l6h58v          8   \n",
       "256                  https://i.redd.it/59sk10r7iyd61.png          7   \n",
       "255    https://www.reddit.com/r/wallstreetbets/commen...         14   \n",
       "254    https://www.reddit.com/r/wallstreetbets/commen...         22   \n",
       "\n",
       "            created                                               body  \\\n",
       "32591  1.601340e+09  $CBAT is going to be a great play further yet:...   \n",
       "257    1.611818e+09                                                NaN   \n",
       "256    1.611818e+09                                                NaN   \n",
       "255    1.611818e+09  You guys are amazing. Thank you for sending GM...   \n",
       "254    1.611818e+09  Will Update Daily At Market Close\\n\\nTop 5 sec...   \n",
       "\n",
       "                timestamp  \n",
       "32591 2020-09-29 03:46:56  \n",
       "257   2021-01-28 09:08:16  \n",
       "256   2021-01-28 09:08:17  \n",
       "255   2021-01-28 09:08:18  \n",
       "254   2021-01-28 09:08:19  "
      ]
     },
     "execution_count": 7,
     "metadata": {},
     "output_type": "execute_result"
    }
   ],
   "source": [
    "time_df = df.sort_values(by='timestamp')\n",
    "time_df.head()"
   ]
  },
  {
   "cell_type": "code",
   "execution_count": 8,
   "metadata": {},
   "outputs": [
    {
     "name": "stdout",
     "output_type": "stream",
     "text": [
      "https://www.reddit.com/r/wallstreetbets/comments/j1fmmo/cbat_sunw_spi_oxbr_yall_are_missing_the_point/\n"
     ]
    }
   ],
   "source": [
    "min_date = df['timestamp'].min()\n",
    "earliest_post_url = df.loc[ df['timestamp'] == min_date ]['url']\n",
    "print(earliest_post_url.values[0])"
   ]
  },
  {
   "cell_type": "code",
   "execution_count": 9,
   "metadata": {},
   "outputs": [],
   "source": [
    "df_raw = df.copy()\n",
    "df.drop(index=earliest_post_url.index[0], inplace=True)"
   ]
  },
  {
   "cell_type": "markdown",
   "metadata": {},
   "source": [
    "## Nan"
   ]
  },
  {
   "cell_type": "code",
   "execution_count": 10,
   "metadata": {},
   "outputs": [
    {
     "data": {
      "text/plain": [
       "title            0\n",
       "score            0\n",
       "id               0\n",
       "url              0\n",
       "comms_num        0\n",
       "created          0\n",
       "body         18437\n",
       "timestamp        0\n",
       "dtype: int64"
      ]
     },
     "execution_count": 10,
     "metadata": {},
     "output_type": "execute_result"
    }
   ],
   "source": [
    "df.isna().sum()"
   ]
  },
  {
   "cell_type": "markdown",
   "metadata": {},
   "source": [
    "## Stats"
   ]
  },
  {
   "cell_type": "code",
   "execution_count": 11,
   "metadata": {},
   "outputs": [
    {
     "data": {
      "text/html": [
       "<div>\n",
       "<style scoped>\n",
       "    .dataframe tbody tr th:only-of-type {\n",
       "        vertical-align: middle;\n",
       "    }\n",
       "\n",
       "    .dataframe tbody tr th {\n",
       "        vertical-align: top;\n",
       "    }\n",
       "\n",
       "    .dataframe thead th {\n",
       "        text-align: right;\n",
       "    }\n",
       "</style>\n",
       "<table border=\"1\" class=\"dataframe\">\n",
       "  <thead>\n",
       "    <tr style=\"text-align: right;\">\n",
       "      <th></th>\n",
       "      <th>score</th>\n",
       "      <th>comms_num</th>\n",
       "    </tr>\n",
       "  </thead>\n",
       "  <tbody>\n",
       "    <tr>\n",
       "      <th>count</th>\n",
       "      <td>37154.000000</td>\n",
       "      <td>37154.000000</td>\n",
       "    </tr>\n",
       "    <tr>\n",
       "      <th>mean</th>\n",
       "      <td>1250.153066</td>\n",
       "      <td>169.009932</td>\n",
       "    </tr>\n",
       "    <tr>\n",
       "      <th>std</th>\n",
       "      <td>8299.947422</td>\n",
       "      <td>2189.751788</td>\n",
       "    </tr>\n",
       "    <tr>\n",
       "      <th>min</th>\n",
       "      <td>0.000000</td>\n",
       "      <td>0.000000</td>\n",
       "    </tr>\n",
       "    <tr>\n",
       "      <th>25%</th>\n",
       "      <td>1.000000</td>\n",
       "      <td>1.000000</td>\n",
       "    </tr>\n",
       "    <tr>\n",
       "      <th>50%</th>\n",
       "      <td>16.000000</td>\n",
       "      <td>9.000000</td>\n",
       "    </tr>\n",
       "    <tr>\n",
       "      <th>75%</th>\n",
       "      <td>142.000000</td>\n",
       "      <td>39.000000</td>\n",
       "    </tr>\n",
       "    <tr>\n",
       "      <th>max</th>\n",
       "      <td>348241.000000</td>\n",
       "      <td>89050.000000</td>\n",
       "    </tr>\n",
       "  </tbody>\n",
       "</table>\n",
       "</div>"
      ],
      "text/plain": [
       "               score     comms_num\n",
       "count   37154.000000  37154.000000\n",
       "mean     1250.153066    169.009932\n",
       "std      8299.947422   2189.751788\n",
       "min         0.000000      0.000000\n",
       "25%         1.000000      1.000000\n",
       "50%        16.000000      9.000000\n",
       "75%       142.000000     39.000000\n",
       "max    348241.000000  89050.000000"
      ]
     },
     "execution_count": 11,
     "metadata": {},
     "output_type": "execute_result"
    }
   ],
   "source": [
    "df[['score', 'comms_num']].describe()"
   ]
  },
  {
   "cell_type": "code",
   "execution_count": 12,
   "metadata": {},
   "outputs": [
    {
     "data": {
      "text/html": [
       "<div>\n",
       "<style scoped>\n",
       "    .dataframe tbody tr th:only-of-type {\n",
       "        vertical-align: middle;\n",
       "    }\n",
       "\n",
       "    .dataframe tbody tr th {\n",
       "        vertical-align: top;\n",
       "    }\n",
       "\n",
       "    .dataframe thead th {\n",
       "        text-align: right;\n",
       "    }\n",
       "</style>\n",
       "<table border=\"1\" class=\"dataframe\">\n",
       "  <thead>\n",
       "    <tr style=\"text-align: right;\">\n",
       "      <th></th>\n",
       "      <th>title</th>\n",
       "      <th>body</th>\n",
       "    </tr>\n",
       "  </thead>\n",
       "  <tbody>\n",
       "    <tr>\n",
       "      <th>count</th>\n",
       "      <td>37154</td>\n",
       "      <td>18717</td>\n",
       "    </tr>\n",
       "    <tr>\n",
       "      <th>unique</th>\n",
       "      <td>36272</td>\n",
       "      <td>18477</td>\n",
       "    </tr>\n",
       "    <tr>\n",
       "      <th>top</th>\n",
       "      <td>AMC</td>\n",
       "      <td>Your daily trading discussion thread. Please k...</td>\n",
       "    </tr>\n",
       "    <tr>\n",
       "      <th>freq</th>\n",
       "      <td>39</td>\n",
       "      <td>17</td>\n",
       "    </tr>\n",
       "  </tbody>\n",
       "</table>\n",
       "</div>"
      ],
      "text/plain": [
       "        title                                               body\n",
       "count   37154                                              18717\n",
       "unique  36272                                              18477\n",
       "top       AMC  Your daily trading discussion thread. Please k...\n",
       "freq       39                                                 17"
      ]
     },
     "execution_count": 12,
     "metadata": {},
     "output_type": "execute_result"
    }
   ],
   "source": [
    "df[['title', 'body']].describe()"
   ]
  },
  {
   "cell_type": "markdown",
   "metadata": {},
   "source": [
    "## Histograms"
   ]
  },
  {
   "cell_type": "code",
   "execution_count": 13,
   "metadata": {},
   "outputs": [],
   "source": [
    "def plot_hist(col):\n",
    "    plt.figure(figsize=(14,6))\n",
    "    plt.hist(df[col], bins=100)\n",
    "    plt.plot()"
   ]
  },
  {
   "cell_type": "code",
   "execution_count": 14,
   "metadata": {},
   "outputs": [
    {
     "data": {
      "image/png": "[encoded data removed]",
      "text/plain": [
       "<Figure size 1008x432 with 1 Axes>"
      ]
     },
     "metadata": {
      "needs_background": "light"
     },
     "output_type": "display_data"
    }
   ],
   "source": [
    "plot_hist('score')"
   ]
  },
  {
   "cell_type": "code",
   "execution_count": 15,
   "metadata": {},
   "outputs": [
    {
     "data": {
      "image/png": "[encoded data removed]",
      "text/plain": [
       "<Figure size 1008x432 with 1 Axes>"
      ]
     },
     "metadata": {
      "needs_background": "light"
     },
     "output_type": "display_data"
    }
   ],
   "source": [
    "plot_hist('comms_num')"
   ]
  },
  {
   "cell_type": "markdown",
   "metadata": {},
   "source": [
    "## Created"
   ]
  },
  {
   "cell_type": "code",
   "execution_count": 16,
   "metadata": {},
   "outputs": [],
   "source": [
    "df['date'] = df['timestamp'].apply(lambda x: x.date())"
   ]
  },
  {
   "cell_type": "code",
   "execution_count": 17,
   "metadata": {},
   "outputs": [],
   "source": [
    "df['created_datetime'] = df['created'].apply(lambda x: datetime.datetime.utcfromtimestamp(x))"
   ]
  },
  {
   "cell_type": "code",
   "execution_count": 18,
   "metadata": {},
   "outputs": [
    {
     "data": {
      "text/html": [
       "<div>\n",
       "<style scoped>\n",
       "    .dataframe tbody tr th:only-of-type {\n",
       "        vertical-align: middle;\n",
       "    }\n",
       "\n",
       "    .dataframe tbody tr th {\n",
       "        vertical-align: top;\n",
       "    }\n",
       "\n",
       "    .dataframe thead th {\n",
       "        text-align: right;\n",
       "    }\n",
       "</style>\n",
       "<table border=\"1\" class=\"dataframe\">\n",
       "  <thead>\n",
       "    <tr style=\"text-align: right;\">\n",
       "      <th></th>\n",
       "      <th>created_datetime</th>\n",
       "      <th>timestamp</th>\n",
       "    </tr>\n",
       "  </thead>\n",
       "  <tbody>\n",
       "    <tr>\n",
       "      <th>0</th>\n",
       "      <td>2021-01-28 19:37:41</td>\n",
       "      <td>2021-01-28 21:37:41</td>\n",
       "    </tr>\n",
       "    <tr>\n",
       "      <th>1</th>\n",
       "      <td>2021-01-28 19:32:10</td>\n",
       "      <td>2021-01-28 21:32:10</td>\n",
       "    </tr>\n",
       "    <tr>\n",
       "      <th>2</th>\n",
       "      <td>2021-01-28 19:30:35</td>\n",
       "      <td>2021-01-28 21:30:35</td>\n",
       "    </tr>\n",
       "    <tr>\n",
       "      <th>3</th>\n",
       "      <td>2021-01-28 19:28:57</td>\n",
       "      <td>2021-01-28 21:28:57</td>\n",
       "    </tr>\n",
       "    <tr>\n",
       "      <th>4</th>\n",
       "      <td>2021-01-28 19:26:56</td>\n",
       "      <td>2021-01-28 21:26:56</td>\n",
       "    </tr>\n",
       "    <tr>\n",
       "      <th>...</th>\n",
       "      <td>...</td>\n",
       "      <td>...</td>\n",
       "    </tr>\n",
       "    <tr>\n",
       "      <th>37150</th>\n",
       "      <td>2021-02-27 02:37:32</td>\n",
       "      <td>2021-02-27 04:37:32</td>\n",
       "    </tr>\n",
       "    <tr>\n",
       "      <th>37151</th>\n",
       "      <td>2021-02-27 02:34:21</td>\n",
       "      <td>2021-02-27 04:34:21</td>\n",
       "    </tr>\n",
       "    <tr>\n",
       "      <th>37152</th>\n",
       "      <td>2021-02-27 02:30:42</td>\n",
       "      <td>2021-02-27 04:30:42</td>\n",
       "    </tr>\n",
       "    <tr>\n",
       "      <th>37153</th>\n",
       "      <td>2021-02-27 02:23:42</td>\n",
       "      <td>2021-02-27 04:23:42</td>\n",
       "    </tr>\n",
       "    <tr>\n",
       "      <th>37154</th>\n",
       "      <td>2021-02-27 02:25:09</td>\n",
       "      <td>2021-02-27 04:25:09</td>\n",
       "    </tr>\n",
       "  </tbody>\n",
       "</table>\n",
       "<p>37154 rows × 2 columns</p>\n",
       "</div>"
      ],
      "text/plain": [
       "         created_datetime           timestamp\n",
       "0     2021-01-28 19:37:41 2021-01-28 21:37:41\n",
       "1     2021-01-28 19:32:10 2021-01-28 21:32:10\n",
       "2     2021-01-28 19:30:35 2021-01-28 21:30:35\n",
       "3     2021-01-28 19:28:57 2021-01-28 21:28:57\n",
       "4     2021-01-28 19:26:56 2021-01-28 21:26:56\n",
       "...                   ...                 ...\n",
       "37150 2021-02-27 02:37:32 2021-02-27 04:37:32\n",
       "37151 2021-02-27 02:34:21 2021-02-27 04:34:21\n",
       "37152 2021-02-27 02:30:42 2021-02-27 04:30:42\n",
       "37153 2021-02-27 02:23:42 2021-02-27 04:23:42\n",
       "37154 2021-02-27 02:25:09 2021-02-27 04:25:09\n",
       "\n",
       "[37154 rows x 2 columns]"
      ]
     },
     "execution_count": 18,
     "metadata": {},
     "output_type": "execute_result"
    }
   ],
   "source": [
    "df[['created_datetime', 'timestamp']]"
   ]
  },
  {
   "cell_type": "code",
   "execution_count": 19,
   "metadata": {},
   "outputs": [
    {
     "data": {
      "text/plain": [
       "0 days 02:00:00    37154\n",
       "dtype: int64"
      ]
     },
     "execution_count": 19,
     "metadata": {},
     "output_type": "execute_result"
    }
   ],
   "source": [
    "diff = df['timestamp'] - df['created_datetime']\n",
    "diff.value_counts()"
   ]
  },
  {
   "cell_type": "code",
   "execution_count": 20,
   "metadata": {},
   "outputs": [],
   "source": [
    "df.drop(['created_datetime', 'created'], axis=1, inplace=True)"
   ]
  },
  {
   "cell_type": "markdown",
   "metadata": {},
   "source": [
    "## Plots"
   ]
  },
  {
   "cell_type": "code",
   "execution_count": 21,
   "metadata": {},
   "outputs": [],
   "source": [
    "avg_1_day = df[['score', 'comms_num', 'date']].groupby('date').mean()\n",
    "avg_1_day['date'] = avg_1_day.index"
   ]
  },
  {
   "cell_type": "code",
   "execution_count": 22,
   "metadata": {},
   "outputs": [
    {
     "data": {
      "text/plain": [
       "[]"
      ]
     },
     "execution_count": 22,
     "metadata": {},
     "output_type": "execute_result"
    },
    {
     "data": {
      "image/png": "[encoded data removed]",
      "text/plain": [
       "<Figure size 1296x720 with 1 Axes>"
      ]
     },
     "metadata": {
      "needs_background": "light"
     },
     "output_type": "display_data"
    }
   ],
   "source": [
    "plt.figure(figsize=(18,10))\n",
    "plt.title(\"1-day average for score\")\n",
    "sns.barplot(data=avg_1_day, x='date', y='score', color='b', label='Score')\n",
    "plt.legend()\n",
    "plt.xticks(rotation=45)\n",
    "plt.plot()"
   ]
  },
  {
   "cell_type": "code",
   "execution_count": 23,
   "metadata": {},
   "outputs": [
    {
     "data": {
      "text/plain": [
       "[]"
      ]
     },
     "execution_count": 23,
     "metadata": {},
     "output_type": "execute_result"
    },
    {
     "data": {
      "image/png": "[encoded data removed]",
      "text/plain": [
       "<Figure size 1296x720 with 1 Axes>"
      ]
     },
     "metadata": {
      "needs_background": "light"
     },
     "output_type": "display_data"
    }
   ],
   "source": [
    "plt.figure(figsize=(18,10))\n",
    "plt.title(\"1-day average for comments\")\n",
    "sns.barplot(data=avg_1_day, x='date', y='comms_num', color='r', label='Comments')\n",
    "plt.legend()\n",
    "plt.xticks(rotation=45)\n",
    "plt.plot()"
   ]
  },
  {
   "cell_type": "code",
   "execution_count": 24,
   "metadata": {},
   "outputs": [
    {
     "data": {
      "text/plain": [
       "[]"
      ]
     },
     "execution_count": 24,
     "metadata": {},
     "output_type": "execute_result"
    },
    {
     "data": {
      "image/png": "[encoded data removed]",
      "text/plain": [
       "<Figure size 1296x720 with 1 Axes>"
      ]
     },
     "metadata": {
      "needs_background": "light"
     },
     "output_type": "display_data"
    }
   ],
   "source": [
    "daily_counts = df['date'].value_counts().sort_index()\n",
    "\n",
    "plt.figure(figsize=(18,10))\n",
    "plt.title(\"Number of posts each day\")\n",
    "sns.barplot(daily_counts.index, daily_counts.values, color='g')\n",
    "plt.xticks(rotation=45)\n",
    "plt.plot()"
   ]
  },
  {
   "cell_type": "markdown",
   "metadata": {},
   "source": [
    "## Weekday"
   ]
  },
  {
   "cell_type": "code",
   "execution_count": 25,
   "metadata": {},
   "outputs": [
    {
     "data": {
      "text/plain": [
       "[]"
      ]
     },
     "execution_count": 25,
     "metadata": {},
     "output_type": "execute_result"
    },
    {
     "data": {
      "image/png": "[encoded data removed]",
      "text/plain": [
       "<Figure size 1296x720 with 1 Axes>"
      ]
     },
     "metadata": {
      "needs_background": "light"
     },
     "output_type": "display_data"
    }
   ],
   "source": [
    "weekday = df['score'].groupby(df['timestamp'].dt.weekday).count()\n",
    "\n",
    "plt.figure(figsize=(18,10))\n",
    "plt.title(\"Number of posts for every day of week\")\n",
    "sns.barplot(weekday.index, weekday.values, color='m')\n",
    "plt.plot()"
   ]
  },
  {
   "cell_type": "markdown",
   "metadata": {},
   "source": [
    "### Odfiltrowanie wartości z 29.01"
   ]
  },
  {
   "cell_type": "code",
   "execution_count": 26,
   "metadata": {},
   "outputs": [
    {
     "data": {
      "text/plain": [
       "[]"
      ]
     },
     "execution_count": 26,
     "metadata": {},
     "output_type": "execute_result"
    },
    {
     "data": {
      "image/png": "[encoded data removed]",
      "text/plain": [
       "<Figure size 1296x720 with 1 Axes>"
      ]
     },
     "metadata": {
      "needs_background": "light"
     },
     "output_type": "display_data"
    }
   ],
   "source": [
    "weekday_filtered = df['score'].loc[ df['date'] != datetime.date(2021,1,29) ].groupby(df['timestamp'].dt.weekday).count()\n",
    "\n",
    "plt.figure(figsize=(18,10))\n",
    "plt.title(\"Number of posts for every day of week\")\n",
    "sns.barplot(weekday_filtered.index, weekday_filtered.values, color='m')\n",
    "plt.plot()"
   ]
  },
  {
   "cell_type": "markdown",
   "metadata": {},
   "source": [
    "## Hour"
   ]
  },
  {
   "cell_type": "code",
   "execution_count": 27,
   "metadata": {},
   "outputs": [
    {
     "data": {
      "text/plain": [
       "[]"
      ]
     },
     "execution_count": 27,
     "metadata": {},
     "output_type": "execute_result"
    },
    {
     "data": {
      "image/png": "[encoded data removed]",
      "text/plain": [
       "<Figure size 1296x720 with 1 Axes>"
      ]
     },
     "metadata": {
      "needs_background": "light"
     },
     "output_type": "display_data"
    }
   ],
   "source": [
    "hourly = df['score'].groupby(df['timestamp'].dt.hour).count()\n",
    "\n",
    "plt.figure(figsize=(18,10))\n",
    "plt.title(\"Number of posts for every hour\")\n",
    "sns.barplot(hourly.index, hourly.values, color='g')\n",
    "plt.xticks(rotation=45)\n",
    "plt.plot()"
   ]
  },
  {
   "cell_type": "code",
   "execution_count": 28,
   "metadata": {},
   "outputs": [
    {
     "data": {
      "text/plain": [
       "[]"
      ]
     },
     "execution_count": 28,
     "metadata": {},
     "output_type": "execute_result"
    },
    {
     "data": {
      "image/png": "[encoded data removed]",
      "text/plain": [
       "<Figure size 1296x720 with 1 Axes>"
      ]
     },
     "metadata": {
      "needs_background": "light"
     },
     "output_type": "display_data"
    }
   ],
   "source": [
    "hourly_filtered = df['score'].loc[ df['date'] != datetime.date(2021,1,29) ].groupby(df['timestamp'].dt.hour).count()\n",
    "\n",
    "plt.figure(figsize=(18,10))\n",
    "plt.title(\"Number of posts for every hour\")\n",
    "sns.barplot(hourly_filtered.index, hourly_filtered.values, color='g')\n",
    "plt.xticks(rotation=45)\n",
    "plt.plot()"
   ]
  },
  {
   "cell_type": "code",
   "execution_count": 29,
   "metadata": {},
   "outputs": [
    {
     "data": {
      "text/plain": [
       "[]"
      ]
     },
     "execution_count": 29,
     "metadata": {},
     "output_type": "execute_result"
    },
    {
     "data": {
      "image/png": "[encoded data removed]",
      "text/plain": [
       "<Figure size 1296x720 with 1 Axes>"
      ]
     },
     "metadata": {
      "needs_background": "light"
     },
     "output_type": "display_data"
    }
   ],
   "source": [
    "hourly_data = df[['score', 'comms_num']].groupby(df['timestamp'].dt.hour).mean()\n",
    "hourly_data_filtered = df[['score', 'comms_num']].loc[ df['date'] != datetime.date(2021,1,29) ].groupby(df['timestamp'].dt.hour).mean()\n",
    "\n",
    "plt.figure(figsize=(18,10))\n",
    "plt.title(\"Hourly score and comments\")\n",
    "sns.barplot(data=hourly_data, x=hourly_data.index, y='score', color='b', label='Score')\n",
    "plt.legend()\n",
    "plt.xticks(rotation=45)\n",
    "plt.plot()"
   ]
  },
  {
   "cell_type": "code",
   "execution_count": 30,
   "metadata": {},
   "outputs": [
    {
     "data": {
      "text/plain": [
       "[]"
      ]
     },
     "execution_count": 30,
     "metadata": {},
     "output_type": "execute_result"
    },
    {
     "data": {
      "image/png": "[encoded data removed]",
      "text/plain": [
       "<Figure size 1296x720 with 1 Axes>"
      ]
     },
     "metadata": {
      "needs_background": "light"
     },
     "output_type": "display_data"
    }
   ],
   "source": [
    "plt.figure(figsize=(18,10))\n",
    "plt.title(\"Hourly score and comments\")\n",
    "sns.barplot(data=hourly_data_filtered, x=hourly_data_filtered.index, y='score', color='b', label='Score')\n",
    "plt.legend()\n",
    "plt.xticks(rotation=45)\n",
    "plt.plot()"
   ]
  },
  {
   "cell_type": "code",
   "execution_count": 31,
   "metadata": {},
   "outputs": [
    {
     "data": {
      "text/plain": [
       "[]"
      ]
     },
     "execution_count": 31,
     "metadata": {},
     "output_type": "execute_result"
    },
    {
     "data": {
      "image/png": "[encoded data removed]",
      "text/plain": [
       "<Figure size 1296x720 with 1 Axes>"
      ]
     },
     "metadata": {
      "needs_background": "light"
     },
     "output_type": "display_data"
    }
   ],
   "source": [
    "plt.figure(figsize=(18,10))\n",
    "plt.title(\"Hourly comments\")\n",
    "sns.barplot(data=hourly_data, x=hourly_data.index, y='comms_num', color='r', label='Comments')\n",
    "plt.legend()\n",
    "plt.xticks(rotation=45)\n",
    "plt.plot()"
   ]
  },
  {
   "cell_type": "code",
   "execution_count": 32,
   "metadata": {},
   "outputs": [
    {
     "data": {
      "text/plain": [
       "[]"
      ]
     },
     "execution_count": 32,
     "metadata": {},
     "output_type": "execute_result"
    },
    {
     "data": {
      "image/png": "[encoded data removed]",
      "text/plain": [
       "<Figure size 1296x720 with 1 Axes>"
      ]
     },
     "metadata": {
      "needs_background": "light"
     },
     "output_type": "display_data"
    }
   ],
   "source": [
    "plt.figure(figsize=(18,10))\n",
    "plt.title(\"Hourly comments\")\n",
    "sns.barplot(data=hourly_data_filtered, x=hourly_data_filtered.index, y='comms_num', color='r', label='Comments')\n",
    "plt.legend()\n",
    "plt.xticks(rotation=45)\n",
    "plt.plot()"
   ]
  },
  {
   "cell_type": "markdown",
   "metadata": {},
   "source": [
    "## NLP"
   ]
  },
  {
   "cell_type": "code",
   "execution_count": 33,
   "metadata": {},
   "outputs": [],
   "source": [
    "import spacy\n",
    "import nltk\n",
    "import re\n",
    "\n",
    "from nltk.stem.porter import *"
   ]
  },
  {
   "cell_type": "code",
   "execution_count": 34,
   "metadata": {},
   "outputs": [],
   "source": [
    "nlp = spacy.load(\"en_core_web_sm\")"
   ]
  },
  {
   "cell_type": "code",
   "execution_count": 35,
   "metadata": {},
   "outputs": [],
   "source": [
    "def transform_entities(x):\n",
    "    if type(x) == spacy.tokens.doc.Doc:\n",
    "        return x.ents\n",
    "    return x"
   ]
  },
  {
   "cell_type": "code",
   "execution_count": 36,
   "metadata": {},
   "outputs": [],
   "source": [
    "def lemmatization(x):\n",
    "    if type(x) == spacy.tokens.doc.Doc:\n",
    "        return [token.lemma_ for token in x if not token.is_stop and token.is_alpha]\n",
    "    return x"
   ]
  },
  {
   "cell_type": "code",
   "execution_count": 37,
   "metadata": {},
   "outputs": [],
   "source": [
    "df['title'] = df['title'].apply(lambda x: nlp(x))\n",
    "df['title_raw'] = df['title']\n",
    "df['title'] = df['title'].apply(lemmatization)"
   ]
  },
  {
   "cell_type": "code",
   "execution_count": 38,
   "metadata": {},
   "outputs": [],
   "source": [
    "df['body'] = df['body'].apply(lambda x: nlp(x) if type(x) == str else x)\n",
    "df['body_raw'] = df['body']\n",
    "df['body'] = df['body'].apply(lemmatization)"
   ]
  },
  {
   "cell_type": "markdown",
   "metadata": {},
   "source": [
    "## Attributes"
   ]
  },
  {
   "cell_type": "code",
   "execution_count": 39,
   "metadata": {},
   "outputs": [],
   "source": [
    "def type_check(x):\n",
    "    return type(x) == spacy.tokens.doc.Doc\n",
    "\n",
    "def get_punct(x):\n",
    "    if type_check(x):\n",
    "        for token in x:\n",
    "            if token.pos_ == 'PUNCT':\n",
    "                return 1\n",
    "    return 0\n",
    "\n",
    "def get_caps(x):\n",
    "    if type_check(x):\n",
    "        caps_perc = 0\n",
    "        title_len = 0\n",
    "        for token in x:\n",
    "            title_len += len(token.shape_)\n",
    "            caps_perc += token.shape_.count('X')\n",
    "        return caps_perc / title_len\n",
    "    return 0.0\n",
    "\n",
    "\n",
    "def get_urls(x):\n",
    "    if type_check(x):\n",
    "        urls = 0\n",
    "        for token in x:\n",
    "            if 'https' in str(token):\n",
    "                urls += 1\n",
    "        return urls\n",
    "    return 0\n",
    "\n",
    "def get_type(x):\n",
    "    if 'v.redd' in x or 'youtube' in x or 'vimeo' in x:\n",
    "        return 'video'\n",
    "    if 'i.redd' in x or 'gallery' in x or 'imgur' in x:\n",
    "        return 'image'\n",
    "    if 'reddit' in x:\n",
    "        return 'text'\n",
    "    return 'other'\n",
    "\n",
    "def get_features(df):\n",
    "    df['title_length'] = df['title_raw'].apply(lambda x: len(x))\n",
    "    df['title_capital'] = df['title_raw'].apply(get_caps)\n",
    "    df['body_length'] = df['body_raw'].apply(lambda x: len(x) if type_check(x) else x)\n",
    "    df['body_urls'] = df['body_raw'].apply(get_urls)\n",
    "    df['body_punct'] = df['body_raw'].apply(get_punct)\n",
    "    df['type'] = df['url'].apply(get_type)\n",
    "    df['deleted'] = (df['type'] == 'text') & df['body'].isna()\n",
    "    return df"
   ]
  },
  {
   "cell_type": "code",
   "execution_count": 40,
   "metadata": {},
   "outputs": [],
   "source": [
    "df = get_features(df)"
   ]
  },
  {
   "cell_type": "code",
   "execution_count": 64,
   "metadata": {},
   "outputs": [],
   "source": [
    "import emoji\n",
    "\n",
    "EMOJIS = r\"(\\:[^ ][a-zA-Z0-9\\s\\_]*\\:)\"    \n",
    "\n",
    "def get_emojis(x):\n",
    "    res = re.findall(EMOJIS, x)\n",
    "    return res\n",
    "\n",
    "def decode_emojis(x):\n",
    "    decoded = emoji.demojize(str(x))\n",
    "    decoded = decoded.replace('::', ' ')\n",
    "    emojis = get_emojis(decoded)\n",
    "    \n",
    "    emoji_list = []\n",
    "    for emo in emojis:\n",
    "        emo = emo.replace(':', '')\n",
    "        emo = emo.split(\" \")\n",
    "        \n",
    "        if type(emo) == list:\n",
    "            emoji_list.extend(emo)\n",
    "        else:\n",
    "            emoji_list.append(emo)\n",
    "        \n",
    "    return emoji_list"
   ]
  },
  {
   "cell_type": "code",
   "execution_count": 78,
   "metadata": {},
   "outputs": [],
   "source": [
    "df['title_emojis'] = df['title_raw'].apply(decode_emojis)\n",
    "df['body_emojis'] = df['body_raw'].apply(decode_emojis)"
   ]
  },
  {
   "cell_type": "code",
   "execution_count": 81,
   "metadata": {},
   "outputs": [],
   "source": [
    "df['title'] += df['title_emojis']\n",
    "df['body'] += df['body_emojis']"
   ]
  },
  {
   "cell_type": "code",
   "execution_count": 83,
   "metadata": {},
   "outputs": [],
   "source": [
    "df.drop(['title_emojis', 'body_emojis'], axis=1, inplace=True)"
   ]
  },
  {
   "cell_type": "code",
   "execution_count": 98,
   "metadata": {},
   "outputs": [],
   "source": [
    "from collections import Counter\n",
    "\n",
    "def get_vocab(data, n):\n",
    "    words = Counter()\n",
    "    for i in data.index:\n",
    "        words.update(data.at[i])\n",
    "\n",
    "    return words"
   ]
  },
  {
   "cell_type": "code",
   "execution_count": 99,
   "metadata": {},
   "outputs": [],
   "source": [
    "df['body'] = df['body'].fillna(value='')\n",
    "vocab = get_vocab(df['body'], 1000)"
   ]
  },
  {
   "cell_type": "code",
   "execution_count": 100,
   "metadata": {},
   "outputs": [],
   "source": [
    "def show_histogram(word_counts, title=None):\n",
    "    plot_df = pd.DataFrame.from_dict(word_counts).rename(columns={0:'Token', 1:'Count'})\n",
    "    \n",
    "    f, ax = plt.subplots(figsize=(12, 15))\n",
    "    p = sns.barplot(x=\"Count\", y=\"Token\", data=plot_df, color=\"b\")\n",
    "    p.set(xlabel=\"Count\", ylabel=\"\", title=title)"
   ]
  },
  {
   "cell_type": "code",
   "execution_count": 101,
   "metadata": {},
   "outputs": [
    {
     "data": {
      "image/png": "[encoded data removed]",
      "text/plain": [
       "<Figure size 864x1080 with 1 Axes>"
      ]
     },
     "metadata": {
      "needs_background": "light"
     },
     "output_type": "display_data"
    }
   ],
   "source": [
    "show_histogram(vocab.most_common(50))"
   ]
  },
  {
   "cell_type": "code",
   "execution_count": 102,
   "metadata": {},
   "outputs": [],
   "source": [
    "def bag_of_words(x, most_freq):\n",
    "    sent_vec = []\n",
    "    for token in most_freq:\n",
    "        if token in x:\n",
    "            sent_vec.append(1)\n",
    "        else:\n",
    "            sent_vec.append(0)\n",
    "    return sent_vec"
   ]
  },
  {
   "cell_type": "code",
   "execution_count": 108,
   "metadata": {},
   "outputs": [],
   "source": [
    "feature_dict = [key for key, _ in vocab.most_common(200)]\n",
    "\n",
    "df['body_bow'] = df['body'].apply(lambda x: bag_of_words(x, feature_dict))"
   ]
  },
  {
   "cell_type": "code",
   "execution_count": 109,
   "metadata": {},
   "outputs": [
    {
     "data": {
      "text/html": [
       "<div>\n",
       "<style scoped>\n",
       "    .dataframe tbody tr th:only-of-type {\n",
       "        vertical-align: middle;\n",
       "    }\n",
       "\n",
       "    .dataframe tbody tr th {\n",
       "        vertical-align: top;\n",
       "    }\n",
       "\n",
       "    .dataframe thead th {\n",
       "        text-align: right;\n",
       "    }\n",
       "</style>\n",
       "<table border=\"1\" class=\"dataframe\">\n",
       "  <thead>\n",
       "    <tr style=\"text-align: right;\">\n",
       "      <th></th>\n",
       "      <th>title</th>\n",
       "      <th>score</th>\n",
       "      <th>id</th>\n",
       "      <th>url</th>\n",
       "      <th>comms_num</th>\n",
       "      <th>body</th>\n",
       "      <th>timestamp</th>\n",
       "      <th>date</th>\n",
       "      <th>title_entities</th>\n",
       "      <th>title_raw</th>\n",
       "      <th>body_entities</th>\n",
       "      <th>body_raw</th>\n",
       "      <th>title_length</th>\n",
       "      <th>title_capital</th>\n",
       "      <th>body_length</th>\n",
       "      <th>body_urls</th>\n",
       "      <th>body_punct</th>\n",
       "      <th>type</th>\n",
       "      <th>deleted</th>\n",
       "      <th>body_bow</th>\n",
       "    </tr>\n",
       "  </thead>\n",
       "  <tbody>\n",
       "    <tr>\n",
       "      <th>0</th>\n",
       "      <td>[money, send, message, rocket, gem_stone, rais...</td>\n",
       "      <td>55</td>\n",
       "      <td>l6ulcx</td>\n",
       "      <td>https://v.redd.it/6j75regs72e61</td>\n",
       "      <td>6</td>\n",
       "      <td></td>\n",
       "      <td>2021-01-28 21:37:41</td>\n",
       "      <td>2021-01-28</td>\n",
       "      <td>((🚀),)</td>\n",
       "      <td>(It, 's, not, about, the, money, ,, it, 's, ab...</td>\n",
       "      <td>NaN</td>\n",
       "      <td>NaN</td>\n",
       "      <td>17</td>\n",
       "      <td>0.025000</td>\n",
       "      <td>NaN</td>\n",
       "      <td>0</td>\n",
       "      <td>0</td>\n",
       "      <td>video</td>\n",
       "      <td>False</td>\n",
       "      <td>[0, 0, 0, 0, 0, 0, 0, 0, 0, 0, 0, 0, 0, 0, 0, ...</td>\n",
       "    </tr>\n",
       "    <tr>\n",
       "      <th>1</th>\n",
       "      <td>[Math, Professor, Scott, Steiner, say, number,...</td>\n",
       "      <td>110</td>\n",
       "      <td>l6uibd</td>\n",
       "      <td>https://v.redd.it/ah50lyny62e61</td>\n",
       "      <td>23</td>\n",
       "      <td></td>\n",
       "      <td>2021-01-28 21:32:10</td>\n",
       "      <td>2021-01-28</td>\n",
       "      <td>((Scott, Steiner),)</td>\n",
       "      <td>(Math, Professor, Scott, Steiner, says, the, n...</td>\n",
       "      <td>NaN</td>\n",
       "      <td>NaN</td>\n",
       "      <td>12</td>\n",
       "      <td>0.180000</td>\n",
       "      <td>NaN</td>\n",
       "      <td>0</td>\n",
       "      <td>0</td>\n",
       "      <td>video</td>\n",
       "      <td>False</td>\n",
       "      <td>[0, 0, 0, 0, 0, 0, 0, 0, 0, 0, 0, 0, 0, 0, 0, ...</td>\n",
       "    </tr>\n",
       "    <tr>\n",
       "      <th>2</th>\n",
       "      <td>[exit, system]</td>\n",
       "      <td>0</td>\n",
       "      <td>l6uhhn</td>\n",
       "      <td>https://www.reddit.com/r/wallstreetbets/commen...</td>\n",
       "      <td>47</td>\n",
       "      <td>[ceo, NASDAQ, push, halt, trading, investor, c...</td>\n",
       "      <td>2021-01-28 21:30:35</td>\n",
       "      <td>2021-01-28</td>\n",
       "      <td>()</td>\n",
       "      <td>(Exit, the, system)</td>\n",
       "      <td>((NASDAQ), (SEC), (GME), (2))</td>\n",
       "      <td>(The, CEO, of, NASDAQ, pushed, to, halt, tradi...</td>\n",
       "      <td>3</td>\n",
       "      <td>0.090909</td>\n",
       "      <td>260.0</td>\n",
       "      <td>1</td>\n",
       "      <td>1</td>\n",
       "      <td>text</td>\n",
       "      <td>False</td>\n",
       "      <td>[0, 1, 0, 1, 1, 1, 0, 1, 0, 0, 0, 1, 1, 0, 1, ...</td>\n",
       "    </tr>\n",
       "    <tr>\n",
       "      <th>3</th>\n",
       "      <td>[new, SEC, filing, GME, retarded, interpret]</td>\n",
       "      <td>29</td>\n",
       "      <td>l6ugk6</td>\n",
       "      <td>https://sec.report/Document/0001193125-21-019848/</td>\n",
       "      <td>74</td>\n",
       "      <td></td>\n",
       "      <td>2021-01-28 21:28:57</td>\n",
       "      <td>2021-01-28</td>\n",
       "      <td>((SEC), (GME))</td>\n",
       "      <td>(NEW, SEC, FILING, FOR, GME, !, CAN, SOMEONE, ...</td>\n",
       "      <td>NaN</td>\n",
       "      <td>NaN</td>\n",
       "      <td>15</td>\n",
       "      <td>0.957447</td>\n",
       "      <td>NaN</td>\n",
       "      <td>0</td>\n",
       "      <td>0</td>\n",
       "      <td>other</td>\n",
       "      <td>False</td>\n",
       "      <td>[0, 0, 0, 0, 0, 0, 0, 0, 0, 0, 0, 0, 0, 0, 0, ...</td>\n",
       "    </tr>\n",
       "    <tr>\n",
       "      <th>4</th>\n",
       "      <td>[distract, GME, think, AMC, brother, aware]</td>\n",
       "      <td>71</td>\n",
       "      <td>l6ufgy</td>\n",
       "      <td>https://i.redd.it/4h2sukb662e61.jpg</td>\n",
       "      <td>156</td>\n",
       "      <td></td>\n",
       "      <td>2021-01-28 21:26:56</td>\n",
       "      <td>2021-01-28</td>\n",
       "      <td>((GME), (AMC))</td>\n",
       "      <td>(Not, to, distract, from, GME, ,, just, though...</td>\n",
       "      <td>NaN</td>\n",
       "      <td>NaN</td>\n",
       "      <td>16</td>\n",
       "      <td>0.137255</td>\n",
       "      <td>NaN</td>\n",
       "      <td>0</td>\n",
       "      <td>0</td>\n",
       "      <td>image</td>\n",
       "      <td>False</td>\n",
       "      <td>[0, 0, 0, 0, 0, 0, 0, 0, 0, 0, 0, 0, 0, 0, 0, ...</td>\n",
       "    </tr>\n",
       "    <tr>\n",
       "      <th>...</th>\n",
       "      <td>...</td>\n",
       "      <td>...</td>\n",
       "      <td>...</td>\n",
       "      <td>...</td>\n",
       "      <td>...</td>\n",
       "      <td>...</td>\n",
       "      <td>...</td>\n",
       "      <td>...</td>\n",
       "      <td>...</td>\n",
       "      <td>...</td>\n",
       "      <td>...</td>\n",
       "      <td>...</td>\n",
       "      <td>...</td>\n",
       "      <td>...</td>\n",
       "      <td>...</td>\n",
       "      <td>...</td>\n",
       "      <td>...</td>\n",
       "      <td>...</td>\n",
       "      <td>...</td>\n",
       "      <td>...</td>\n",
       "    </tr>\n",
       "    <tr>\n",
       "      <th>37150</th>\n",
       "      <td>[use, help, end, day, boy]</td>\n",
       "      <td>109</td>\n",
       "      <td>lt4i4u</td>\n",
       "      <td>https://i.redd.it/1rhnimof9vj61.jpg</td>\n",
       "      <td>37</td>\n",
       "      <td></td>\n",
       "      <td>2021-02-27 04:37:32</td>\n",
       "      <td>2021-02-27</td>\n",
       "      <td>((the, end, of, the, day),)</td>\n",
       "      <td>(Could, use, some, help, here, at, the, end, o...</td>\n",
       "      <td>NaN</td>\n",
       "      <td>NaN</td>\n",
       "      <td>12</td>\n",
       "      <td>0.025000</td>\n",
       "      <td>NaN</td>\n",
       "      <td>0</td>\n",
       "      <td>0</td>\n",
       "      <td>image</td>\n",
       "      <td>False</td>\n",
       "      <td>[0, 0, 0, 0, 0, 0, 0, 0, 0, 0, 0, 0, 0, 0, 0, ...</td>\n",
       "    </tr>\n",
       "    <tr>\n",
       "      <th>37151</th>\n",
       "      <td>[war, begin]</td>\n",
       "      <td>486</td>\n",
       "      <td>lt4fk0</td>\n",
       "      <td>https://v.redd.it/fcyia2xo8vj61</td>\n",
       "      <td>30</td>\n",
       "      <td></td>\n",
       "      <td>2021-02-27 04:34:21</td>\n",
       "      <td>2021-02-27</td>\n",
       "      <td>()</td>\n",
       "      <td>(The, war, has, just, begun)</td>\n",
       "      <td>NaN</td>\n",
       "      <td>NaN</td>\n",
       "      <td>5</td>\n",
       "      <td>0.058824</td>\n",
       "      <td>NaN</td>\n",
       "      <td>0</td>\n",
       "      <td>0</td>\n",
       "      <td>video</td>\n",
       "      <td>False</td>\n",
       "      <td>[0, 0, 0, 0, 0, 0, 0, 0, 0, 0, 0, 0, 0, 0, 0, ...</td>\n",
       "    </tr>\n",
       "    <tr>\n",
       "      <th>37152</th>\n",
       "      <td>[psa, AMCX, AMC]</td>\n",
       "      <td>33</td>\n",
       "      <td>lt4ci5</td>\n",
       "      <td>https://www.reddit.com/r/wallstreetbets/commen...</td>\n",
       "      <td>17</td>\n",
       "      <td>[AMCX, undervalued, company, base, EV, EBITDA,...</td>\n",
       "      <td>2021-02-27 04:30:42</td>\n",
       "      <td>2021-02-27</td>\n",
       "      <td>((PSA), (AMCX), (AMC))</td>\n",
       "      <td>(PSA, :, AMCX, is, not, up, because, of, AMC)</td>\n",
       "      <td>((AMCX), (EV, /, EBITDA), (SOTP), (AMCX), (tod...</td>\n",
       "      <td>(Tl;dr, AMCX, is, a, very, undervalued, compan...</td>\n",
       "      <td>9</td>\n",
       "      <td>0.416667</td>\n",
       "      <td>394.0</td>\n",
       "      <td>0</td>\n",
       "      <td>1</td>\n",
       "      <td>text</td>\n",
       "      <td>False</td>\n",
       "      <td>[0, 1, 0, 1, 1, 1, 0, 0, 0, 0, 0, 0, 0, 1, 1, ...</td>\n",
       "    </tr>\n",
       "    <tr>\n",
       "      <th>37153</th>\n",
       "      <td>[Ape, Combat, liberation, Gamestopmeria]</td>\n",
       "      <td>32</td>\n",
       "      <td>lt46qn</td>\n",
       "      <td>https://v.redd.it/x6b005am5vj61</td>\n",
       "      <td>3</td>\n",
       "      <td></td>\n",
       "      <td>2021-02-27 04:23:42</td>\n",
       "      <td>2021-02-27</td>\n",
       "      <td>((Ape, Combat),)</td>\n",
       "      <td>(Ape, Combat, 6, :, Liberation, of, Gamestopme...</td>\n",
       "      <td>NaN</td>\n",
       "      <td>NaN</td>\n",
       "      <td>7</td>\n",
       "      <td>0.181818</td>\n",
       "      <td>NaN</td>\n",
       "      <td>0</td>\n",
       "      <td>0</td>\n",
       "      <td>video</td>\n",
       "      <td>False</td>\n",
       "      <td>[0, 0, 0, 0, 0, 0, 0, 0, 0, 0, 0, 0, 0, 0, 0, ...</td>\n",
       "    </tr>\n",
       "    <tr>\n",
       "      <th>37154</th>\n",
       "      <td>[Slap, reality]</td>\n",
       "      <td>108</td>\n",
       "      <td>lt47yg</td>\n",
       "      <td>https://www.reddit.com/r/wallstreetbets/commen...</td>\n",
       "      <td>175</td>\n",
       "      <td>[obligatory, financial, advice, financial, adv...</td>\n",
       "      <td>2021-02-27 04:25:09</td>\n",
       "      <td>2021-02-27</td>\n",
       "      <td>()</td>\n",
       "      <td>(A, Slap, Back, to, Reality)</td>\n",
       "      <td>((GME), (1), (Melvin), (DID), (2), (ITM), (3),...</td>\n",
       "      <td>(Obligatory, :, This, is, not, financial, advi...</td>\n",
       "      <td>5</td>\n",
       "      <td>0.250000</td>\n",
       "      <td>2279.0</td>\n",
       "      <td>0</td>\n",
       "      <td>1</td>\n",
       "      <td>text</td>\n",
       "      <td>False</td>\n",
       "      <td>[1, 1, 1, 1, 1, 1, 1, 1, 1, 1, 1, 1, 1, 1, 1, ...</td>\n",
       "    </tr>\n",
       "  </tbody>\n",
       "</table>\n",
       "<p>37154 rows × 20 columns</p>\n",
       "</div>"
      ],
      "text/plain": [
       "                                                   title  score      id  \\\n",
       "0      [money, send, message, rocket, gem_stone, rais...     55  l6ulcx   \n",
       "1      [Math, Professor, Scott, Steiner, say, number,...    110  l6uibd   \n",
       "2                                         [exit, system]      0  l6uhhn   \n",
       "3           [new, SEC, filing, GME, retarded, interpret]     29  l6ugk6   \n",
       "4            [distract, GME, think, AMC, brother, aware]     71  l6ufgy   \n",
       "...                                                  ...    ...     ...   \n",
       "37150                         [use, help, end, day, boy]    109  lt4i4u   \n",
       "37151                                       [war, begin]    486  lt4fk0   \n",
       "37152                                   [psa, AMCX, AMC]     33  lt4ci5   \n",
       "37153           [Ape, Combat, liberation, Gamestopmeria]     32  lt46qn   \n",
       "37154                                    [Slap, reality]    108  lt47yg   \n",
       "\n",
       "                                                     url  comms_num  \\\n",
       "0                        https://v.redd.it/6j75regs72e61          6   \n",
       "1                        https://v.redd.it/ah50lyny62e61         23   \n",
       "2      https://www.reddit.com/r/wallstreetbets/commen...         47   \n",
       "3      https://sec.report/Document/0001193125-21-019848/         74   \n",
       "4                    https://i.redd.it/4h2sukb662e61.jpg        156   \n",
       "...                                                  ...        ...   \n",
       "37150                https://i.redd.it/1rhnimof9vj61.jpg         37   \n",
       "37151                    https://v.redd.it/fcyia2xo8vj61         30   \n",
       "37152  https://www.reddit.com/r/wallstreetbets/commen...         17   \n",
       "37153                    https://v.redd.it/x6b005am5vj61          3   \n",
       "37154  https://www.reddit.com/r/wallstreetbets/commen...        175   \n",
       "\n",
       "                                                    body           timestamp  \\\n",
       "0                                                        2021-01-28 21:37:41   \n",
       "1                                                        2021-01-28 21:32:10   \n",
       "2      [ceo, NASDAQ, push, halt, trading, investor, c... 2021-01-28 21:30:35   \n",
       "3                                                        2021-01-28 21:28:57   \n",
       "4                                                        2021-01-28 21:26:56   \n",
       "...                                                  ...                 ...   \n",
       "37150                                                    2021-02-27 04:37:32   \n",
       "37151                                                    2021-02-27 04:34:21   \n",
       "37152  [AMCX, undervalued, company, base, EV, EBITDA,... 2021-02-27 04:30:42   \n",
       "37153                                                    2021-02-27 04:23:42   \n",
       "37154  [obligatory, financial, advice, financial, adv... 2021-02-27 04:25:09   \n",
       "\n",
       "             date               title_entities  \\\n",
       "0      2021-01-28                       ((🚀),)   \n",
       "1      2021-01-28          ((Scott, Steiner),)   \n",
       "2      2021-01-28                           ()   \n",
       "3      2021-01-28               ((SEC), (GME))   \n",
       "4      2021-01-28               ((GME), (AMC))   \n",
       "...           ...                          ...   \n",
       "37150  2021-02-27  ((the, end, of, the, day),)   \n",
       "37151  2021-02-27                           ()   \n",
       "37152  2021-02-27       ((PSA), (AMCX), (AMC))   \n",
       "37153  2021-02-27             ((Ape, Combat),)   \n",
       "37154  2021-02-27                           ()   \n",
       "\n",
       "                                               title_raw  \\\n",
       "0      (It, 's, not, about, the, money, ,, it, 's, ab...   \n",
       "1      (Math, Professor, Scott, Steiner, says, the, n...   \n",
       "2                                    (Exit, the, system)   \n",
       "3      (NEW, SEC, FILING, FOR, GME, !, CAN, SOMEONE, ...   \n",
       "4      (Not, to, distract, from, GME, ,, just, though...   \n",
       "...                                                  ...   \n",
       "37150  (Could, use, some, help, here, at, the, end, o...   \n",
       "37151                       (The, war, has, just, begun)   \n",
       "37152      (PSA, :, AMCX, is, not, up, because, of, AMC)   \n",
       "37153  (Ape, Combat, 6, :, Liberation, of, Gamestopme...   \n",
       "37154                       (A, Slap, Back, to, Reality)   \n",
       "\n",
       "                                           body_entities  \\\n",
       "0                                                    NaN   \n",
       "1                                                    NaN   \n",
       "2                          ((NASDAQ), (SEC), (GME), (2))   \n",
       "3                                                    NaN   \n",
       "4                                                    NaN   \n",
       "...                                                  ...   \n",
       "37150                                                NaN   \n",
       "37151                                                NaN   \n",
       "37152  ((AMCX), (EV, /, EBITDA), (SOTP), (AMCX), (tod...   \n",
       "37153                                                NaN   \n",
       "37154  ((GME), (1), (Melvin), (DID), (2), (ITM), (3),...   \n",
       "\n",
       "                                                body_raw  title_length  \\\n",
       "0                                                    NaN            17   \n",
       "1                                                    NaN            12   \n",
       "2      (The, CEO, of, NASDAQ, pushed, to, halt, tradi...             3   \n",
       "3                                                    NaN            15   \n",
       "4                                                    NaN            16   \n",
       "...                                                  ...           ...   \n",
       "37150                                                NaN            12   \n",
       "37151                                                NaN             5   \n",
       "37152  (Tl;dr, AMCX, is, a, very, undervalued, compan...             9   \n",
       "37153                                                NaN             7   \n",
       "37154  (Obligatory, :, This, is, not, financial, advi...             5   \n",
       "\n",
       "       title_capital  body_length  body_urls  body_punct   type  deleted  \\\n",
       "0           0.025000          NaN          0           0  video    False   \n",
       "1           0.180000          NaN          0           0  video    False   \n",
       "2           0.090909        260.0          1           1   text    False   \n",
       "3           0.957447          NaN          0           0  other    False   \n",
       "4           0.137255          NaN          0           0  image    False   \n",
       "...              ...          ...        ...         ...    ...      ...   \n",
       "37150       0.025000          NaN          0           0  image    False   \n",
       "37151       0.058824          NaN          0           0  video    False   \n",
       "37152       0.416667        394.0          0           1   text    False   \n",
       "37153       0.181818          NaN          0           0  video    False   \n",
       "37154       0.250000       2279.0          0           1   text    False   \n",
       "\n",
       "                                                body_bow  \n",
       "0      [0, 0, 0, 0, 0, 0, 0, 0, 0, 0, 0, 0, 0, 0, 0, ...  \n",
       "1      [0, 0, 0, 0, 0, 0, 0, 0, 0, 0, 0, 0, 0, 0, 0, ...  \n",
       "2      [0, 1, 0, 1, 1, 1, 0, 1, 0, 0, 0, 1, 1, 0, 1, ...  \n",
       "3      [0, 0, 0, 0, 0, 0, 0, 0, 0, 0, 0, 0, 0, 0, 0, ...  \n",
       "4      [0, 0, 0, 0, 0, 0, 0, 0, 0, 0, 0, 0, 0, 0, 0, ...  \n",
       "...                                                  ...  \n",
       "37150  [0, 0, 0, 0, 0, 0, 0, 0, 0, 0, 0, 0, 0, 0, 0, ...  \n",
       "37151  [0, 0, 0, 0, 0, 0, 0, 0, 0, 0, 0, 0, 0, 0, 0, ...  \n",
       "37152  [0, 1, 0, 1, 1, 1, 0, 0, 0, 0, 0, 0, 0, 1, 1, ...  \n",
       "37153  [0, 0, 0, 0, 0, 0, 0, 0, 0, 0, 0, 0, 0, 0, 0, ...  \n",
       "37154  [1, 1, 1, 1, 1, 1, 1, 1, 1, 1, 1, 1, 1, 1, 1, ...  \n",
       "\n",
       "[37154 rows x 20 columns]"
      ]
     },
     "execution_count": 109,
     "metadata": {},
     "output_type": "execute_result"
    }
   ],
   "source": [
    "df"
   ]
  },
  {
   "cell_type": "code",
   "execution_count": 43,
   "metadata": {},
   "outputs": [
    {
     "data": {
      "text/html": [
       "<div>\n",
       "<style scoped>\n",
       "    .dataframe tbody tr th:only-of-type {\n",
       "        vertical-align: middle;\n",
       "    }\n",
       "\n",
       "    .dataframe tbody tr th {\n",
       "        vertical-align: top;\n",
       "    }\n",
       "\n",
       "    .dataframe thead th {\n",
       "        text-align: right;\n",
       "    }\n",
       "</style>\n",
       "<table border=\"1\" class=\"dataframe\">\n",
       "  <thead>\n",
       "    <tr style=\"text-align: right;\">\n",
       "      <th></th>\n",
       "      <th>title_length</th>\n",
       "      <th>title_capital</th>\n",
       "      <th>body_length</th>\n",
       "      <th>body_urls</th>\n",
       "    </tr>\n",
       "  </thead>\n",
       "  <tbody>\n",
       "    <tr>\n",
       "      <th>count</th>\n",
       "      <td>37154.000000</td>\n",
       "      <td>37154.000000</td>\n",
       "      <td>18717.000000</td>\n",
       "      <td>37154.000000</td>\n",
       "    </tr>\n",
       "    <tr>\n",
       "      <th>mean</th>\n",
       "      <td>13.468509</td>\n",
       "      <td>0.254769</td>\n",
       "      <td>186.179249</td>\n",
       "      <td>0.298810</td>\n",
       "    </tr>\n",
       "    <tr>\n",
       "      <th>std</th>\n",
       "      <td>10.783371</td>\n",
       "      <td>0.289241</td>\n",
       "      <td>379.572207</td>\n",
       "      <td>1.732001</td>\n",
       "    </tr>\n",
       "    <tr>\n",
       "      <th>min</th>\n",
       "      <td>1.000000</td>\n",
       "      <td>0.000000</td>\n",
       "      <td>1.000000</td>\n",
       "      <td>0.000000</td>\n",
       "    </tr>\n",
       "    <tr>\n",
       "      <th>25%</th>\n",
       "      <td>6.000000</td>\n",
       "      <td>0.062500</td>\n",
       "      <td>21.000000</td>\n",
       "      <td>0.000000</td>\n",
       "    </tr>\n",
       "    <tr>\n",
       "      <th>50%</th>\n",
       "      <td>10.000000</td>\n",
       "      <td>0.134328</td>\n",
       "      <td>61.000000</td>\n",
       "      <td>0.000000</td>\n",
       "    </tr>\n",
       "    <tr>\n",
       "      <th>75%</th>\n",
       "      <td>17.000000</td>\n",
       "      <td>0.285714</td>\n",
       "      <td>192.000000</td>\n",
       "      <td>0.000000</td>\n",
       "    </tr>\n",
       "    <tr>\n",
       "      <th>max</th>\n",
       "      <td>142.000000</td>\n",
       "      <td>1.000000</td>\n",
       "      <td>7645.000000</td>\n",
       "      <td>80.000000</td>\n",
       "    </tr>\n",
       "  </tbody>\n",
       "</table>\n",
       "</div>"
      ],
      "text/plain": [
       "       title_length  title_capital   body_length     body_urls\n",
       "count  37154.000000   37154.000000  18717.000000  37154.000000\n",
       "mean      13.468509       0.254769    186.179249      0.298810\n",
       "std       10.783371       0.289241    379.572207      1.732001\n",
       "min        1.000000       0.000000      1.000000      0.000000\n",
       "25%        6.000000       0.062500     21.000000      0.000000\n",
       "50%       10.000000       0.134328     61.000000      0.000000\n",
       "75%       17.000000       0.285714    192.000000      0.000000\n",
       "max      142.000000       1.000000   7645.000000     80.000000"
      ]
     },
     "execution_count": 43,
     "metadata": {},
     "output_type": "execute_result"
    }
   ],
   "source": [
    "df[['title_length', 'title_capital', 'body_length', 'body_urls']].describe()"
   ]
  },
  {
   "cell_type": "code",
   "execution_count": 44,
   "metadata": {},
   "outputs": [
    {
     "data": {
      "text/plain": [
       "0.9115777101031148"
      ]
     },
     "execution_count": 44,
     "metadata": {},
     "output_type": "execute_result"
    }
   ],
   "source": [
    "df['body_punct'].sum() / df['body_length'].count()"
   ]
  },
  {
   "cell_type": "code",
   "execution_count": 47,
   "metadata": {},
   "outputs": [
    {
     "data": {
      "text/plain": [
       "0.5931506117433349"
      ]
     },
     "execution_count": 47,
     "metadata": {},
     "output_type": "execute_result"
    }
   ],
   "source": [
    "df['body_urls'].sum() / df['body_length'].count()"
   ]
  },
  {
   "cell_type": "code",
   "execution_count": 43,
   "metadata": {},
   "outputs": [
    {
     "data": {
      "text/plain": [
       "0.17144841587861304"
      ]
     },
     "execution_count": 43,
     "metadata": {},
     "output_type": "execute_result"
    }
   ],
   "source": [
    "df['deleted'].sum() / df['body_length'].count()"
   ]
  },
  {
   "cell_type": "code",
   "execution_count": 45,
   "metadata": {},
   "outputs": [
    {
     "data": {
      "text/plain": [
       "[]"
      ]
     },
     "execution_count": 45,
     "metadata": {},
     "output_type": "execute_result"
    },
    {
     "data": {
      "image/png": "[encoded data removed]",
      "text/plain": [
       "<Figure size 864x576 with 1 Axes>"
      ]
     },
     "metadata": {
      "needs_background": "light"
     },
     "output_type": "display_data"
    }
   ],
   "source": [
    "types = df['type'].value_counts()\n",
    "\n",
    "plt.figure(figsize=(12,8))\n",
    "plt.title(\"Types\")\n",
    "ax = sns.barplot(data=types, x=types.index, y=types.values)\n",
    "ax.set_xticklabels(reversed(types.index))\n",
    "plt.plot()"
   ]
  },
  {
   "cell_type": "markdown",
   "metadata": {},
   "source": [
    "## Save csv"
   ]
  },
  {
   "cell_type": "code",
   "execution_count": 46,
   "metadata": {},
   "outputs": [],
   "source": [
    "df.to_csv(\"data/wsb_interim.csv\")"
   ]
  }
 ],
 "metadata": {
  "kernelspec": {
   "display_name": "Python 3",
   "language": "python",
   "name": "python3"
  },
  "language_info": {
   "codemirror_mode": {
    "name": "ipython",
    "version": 3
   },
   "file_extension": ".py",
   "mimetype": "text/x-python",
   "name": "python",
   "nbconvert_exporter": "python",
   "pygments_lexer": "ipython3",
   "version": "3.8.3"
  }
 },
 "nbformat": 4,
 "nbformat_minor": 4
}

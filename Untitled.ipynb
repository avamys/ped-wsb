{
 "cells": [
  {
   "cell_type": "code",
   "execution_count": 32,
   "metadata": {},
   "outputs": [],
   "source": [
    "%matplotlib inline\n",
    "import pandas as pd\n",
    "import matplotlib.pyplot as plt\n",
    "import seaborn as sns\n",
    "import datetime"
   ]
  },
  {
   "cell_type": "code",
   "execution_count": 2,
   "metadata": {},
   "outputs": [],
   "source": [
    "df = pd.read_csv(\"data/reddit_wsb.csv\")"
   ]
  },
  {
   "cell_type": "code",
   "execution_count": 3,
   "metadata": {},
   "outputs": [
    {
     "data": {
      "text/html": [
       "<div>\n",
       "<style scoped>\n",
       "    .dataframe tbody tr th:only-of-type {\n",
       "        vertical-align: middle;\n",
       "    }\n",
       "\n",
       "    .dataframe tbody tr th {\n",
       "        vertical-align: top;\n",
       "    }\n",
       "\n",
       "    .dataframe thead th {\n",
       "        text-align: right;\n",
       "    }\n",
       "</style>\n",
       "<table border=\"1\" class=\"dataframe\">\n",
       "  <thead>\n",
       "    <tr style=\"text-align: right;\">\n",
       "      <th></th>\n",
       "      <th>title</th>\n",
       "      <th>score</th>\n",
       "      <th>id</th>\n",
       "      <th>url</th>\n",
       "      <th>comms_num</th>\n",
       "      <th>created</th>\n",
       "      <th>body</th>\n",
       "      <th>timestamp</th>\n",
       "    </tr>\n",
       "  </thead>\n",
       "  <tbody>\n",
       "    <tr>\n",
       "      <th>0</th>\n",
       "      <td>It's not about the money, it's about sending a...</td>\n",
       "      <td>55</td>\n",
       "      <td>l6ulcx</td>\n",
       "      <td>https://v.redd.it/6j75regs72e61</td>\n",
       "      <td>6</td>\n",
       "      <td>1.611863e+09</td>\n",
       "      <td>NaN</td>\n",
       "      <td>2021-01-28 21:37:41</td>\n",
       "    </tr>\n",
       "    <tr>\n",
       "      <th>1</th>\n",
       "      <td>Math Professor Scott Steiner says the numbers ...</td>\n",
       "      <td>110</td>\n",
       "      <td>l6uibd</td>\n",
       "      <td>https://v.redd.it/ah50lyny62e61</td>\n",
       "      <td>23</td>\n",
       "      <td>1.611862e+09</td>\n",
       "      <td>NaN</td>\n",
       "      <td>2021-01-28 21:32:10</td>\n",
       "    </tr>\n",
       "    <tr>\n",
       "      <th>2</th>\n",
       "      <td>Exit the system</td>\n",
       "      <td>0</td>\n",
       "      <td>l6uhhn</td>\n",
       "      <td>https://www.reddit.com/r/wallstreetbets/commen...</td>\n",
       "      <td>47</td>\n",
       "      <td>1.611862e+09</td>\n",
       "      <td>The CEO of NASDAQ pushed to halt trading “to g...</td>\n",
       "      <td>2021-01-28 21:30:35</td>\n",
       "    </tr>\n",
       "    <tr>\n",
       "      <th>3</th>\n",
       "      <td>NEW SEC FILING FOR GME! CAN SOMEONE LESS RETAR...</td>\n",
       "      <td>29</td>\n",
       "      <td>l6ugk6</td>\n",
       "      <td>https://sec.report/Document/0001193125-21-019848/</td>\n",
       "      <td>74</td>\n",
       "      <td>1.611862e+09</td>\n",
       "      <td>NaN</td>\n",
       "      <td>2021-01-28 21:28:57</td>\n",
       "    </tr>\n",
       "    <tr>\n",
       "      <th>4</th>\n",
       "      <td>Not to distract from GME, just thought our AMC...</td>\n",
       "      <td>71</td>\n",
       "      <td>l6ufgy</td>\n",
       "      <td>https://i.redd.it/4h2sukb662e61.jpg</td>\n",
       "      <td>156</td>\n",
       "      <td>1.611862e+09</td>\n",
       "      <td>NaN</td>\n",
       "      <td>2021-01-28 21:26:56</td>\n",
       "    </tr>\n",
       "    <tr>\n",
       "      <th>...</th>\n",
       "      <td>...</td>\n",
       "      <td>...</td>\n",
       "      <td>...</td>\n",
       "      <td>...</td>\n",
       "      <td>...</td>\n",
       "      <td>...</td>\n",
       "      <td>...</td>\n",
       "      <td>...</td>\n",
       "    </tr>\n",
       "    <tr>\n",
       "      <th>37150</th>\n",
       "      <td>Could use some help here at the end of the day...</td>\n",
       "      <td>109</td>\n",
       "      <td>lt4i4u</td>\n",
       "      <td>https://i.redd.it/1rhnimof9vj61.jpg</td>\n",
       "      <td>37</td>\n",
       "      <td>1.614393e+09</td>\n",
       "      <td>NaN</td>\n",
       "      <td>2021-02-27 04:37:32</td>\n",
       "    </tr>\n",
       "    <tr>\n",
       "      <th>37151</th>\n",
       "      <td>The war has just begun</td>\n",
       "      <td>486</td>\n",
       "      <td>lt4fk0</td>\n",
       "      <td>https://v.redd.it/fcyia2xo8vj61</td>\n",
       "      <td>30</td>\n",
       "      <td>1.614393e+09</td>\n",
       "      <td>NaN</td>\n",
       "      <td>2021-02-27 04:34:21</td>\n",
       "    </tr>\n",
       "    <tr>\n",
       "      <th>37152</th>\n",
       "      <td>PSA: AMCX is not up because of AMC</td>\n",
       "      <td>33</td>\n",
       "      <td>lt4ci5</td>\n",
       "      <td>https://www.reddit.com/r/wallstreetbets/commen...</td>\n",
       "      <td>17</td>\n",
       "      <td>1.614393e+09</td>\n",
       "      <td>Tl;dr AMCX is a very undervalued company based...</td>\n",
       "      <td>2021-02-27 04:30:42</td>\n",
       "    </tr>\n",
       "    <tr>\n",
       "      <th>37153</th>\n",
       "      <td>Ape Combat 6: Liberation of Gamestopmeria</td>\n",
       "      <td>32</td>\n",
       "      <td>lt46qn</td>\n",
       "      <td>https://v.redd.it/x6b005am5vj61</td>\n",
       "      <td>3</td>\n",
       "      <td>1.614393e+09</td>\n",
       "      <td>NaN</td>\n",
       "      <td>2021-02-27 04:23:42</td>\n",
       "    </tr>\n",
       "    <tr>\n",
       "      <th>37154</th>\n",
       "      <td>A Slap Back to Reality</td>\n",
       "      <td>108</td>\n",
       "      <td>lt47yg</td>\n",
       "      <td>https://www.reddit.com/r/wallstreetbets/commen...</td>\n",
       "      <td>175</td>\n",
       "      <td>1.614393e+09</td>\n",
       "      <td>Obligatory: This is not financial advice. I am...</td>\n",
       "      <td>2021-02-27 04:25:09</td>\n",
       "    </tr>\n",
       "  </tbody>\n",
       "</table>\n",
       "<p>37155 rows × 8 columns</p>\n",
       "</div>"
      ],
      "text/plain": [
       "                                                   title  score      id  \\\n",
       "0      It's not about the money, it's about sending a...     55  l6ulcx   \n",
       "1      Math Professor Scott Steiner says the numbers ...    110  l6uibd   \n",
       "2                                        Exit the system      0  l6uhhn   \n",
       "3      NEW SEC FILING FOR GME! CAN SOMEONE LESS RETAR...     29  l6ugk6   \n",
       "4      Not to distract from GME, just thought our AMC...     71  l6ufgy   \n",
       "...                                                  ...    ...     ...   \n",
       "37150  Could use some help here at the end of the day...    109  lt4i4u   \n",
       "37151                             The war has just begun    486  lt4fk0   \n",
       "37152                 PSA: AMCX is not up because of AMC     33  lt4ci5   \n",
       "37153          Ape Combat 6: Liberation of Gamestopmeria     32  lt46qn   \n",
       "37154                             A Slap Back to Reality    108  lt47yg   \n",
       "\n",
       "                                                     url  comms_num  \\\n",
       "0                        https://v.redd.it/6j75regs72e61          6   \n",
       "1                        https://v.redd.it/ah50lyny62e61         23   \n",
       "2      https://www.reddit.com/r/wallstreetbets/commen...         47   \n",
       "3      https://sec.report/Document/0001193125-21-019848/         74   \n",
       "4                    https://i.redd.it/4h2sukb662e61.jpg        156   \n",
       "...                                                  ...        ...   \n",
       "37150                https://i.redd.it/1rhnimof9vj61.jpg         37   \n",
       "37151                    https://v.redd.it/fcyia2xo8vj61         30   \n",
       "37152  https://www.reddit.com/r/wallstreetbets/commen...         17   \n",
       "37153                    https://v.redd.it/x6b005am5vj61          3   \n",
       "37154  https://www.reddit.com/r/wallstreetbets/commen...        175   \n",
       "\n",
       "            created                                               body  \\\n",
       "0      1.611863e+09                                                NaN   \n",
       "1      1.611862e+09                                                NaN   \n",
       "2      1.611862e+09  The CEO of NASDAQ pushed to halt trading “to g...   \n",
       "3      1.611862e+09                                                NaN   \n",
       "4      1.611862e+09                                                NaN   \n",
       "...             ...                                                ...   \n",
       "37150  1.614393e+09                                                NaN   \n",
       "37151  1.614393e+09                                                NaN   \n",
       "37152  1.614393e+09  Tl;dr AMCX is a very undervalued company based...   \n",
       "37153  1.614393e+09                                                NaN   \n",
       "37154  1.614393e+09  Obligatory: This is not financial advice. I am...   \n",
       "\n",
       "                 timestamp  \n",
       "0      2021-01-28 21:37:41  \n",
       "1      2021-01-28 21:32:10  \n",
       "2      2021-01-28 21:30:35  \n",
       "3      2021-01-28 21:28:57  \n",
       "4      2021-01-28 21:26:56  \n",
       "...                    ...  \n",
       "37150  2021-02-27 04:37:32  \n",
       "37151  2021-02-27 04:34:21  \n",
       "37152  2021-02-27 04:30:42  \n",
       "37153  2021-02-27 04:23:42  \n",
       "37154  2021-02-27 04:25:09  \n",
       "\n",
       "[37155 rows x 8 columns]"
      ]
     },
     "execution_count": 3,
     "metadata": {},
     "output_type": "execute_result"
    }
   ],
   "source": [
    "df"
   ]
  },
  {
   "cell_type": "code",
   "execution_count": 4,
   "metadata": {},
   "outputs": [
    {
     "name": "stdout",
     "output_type": "stream",
     "text": [
      "<class 'pandas.core.frame.DataFrame'>\n",
      "RangeIndex: 37155 entries, 0 to 37154\n",
      "Data columns (total 8 columns):\n",
      " #   Column     Non-Null Count  Dtype  \n",
      "---  ------     --------------  -----  \n",
      " 0   title      37155 non-null  object \n",
      " 1   score      37155 non-null  int64  \n",
      " 2   id         37155 non-null  object \n",
      " 3   url        37155 non-null  object \n",
      " 4   comms_num  37155 non-null  int64  \n",
      " 5   created    37155 non-null  float64\n",
      " 6   body       18718 non-null  object \n",
      " 7   timestamp  37155 non-null  object \n",
      "dtypes: float64(1), int64(2), object(5)\n",
      "memory usage: 2.3+ MB\n"
     ]
    }
   ],
   "source": [
    "df.info()"
   ]
  },
  {
   "cell_type": "markdown",
   "metadata": {},
   "source": [
    "## Timestamp"
   ]
  },
  {
   "cell_type": "code",
   "execution_count": 5,
   "metadata": {},
   "outputs": [],
   "source": [
    "df['timestamp'] = pd.to_datetime(df['timestamp'])"
   ]
  },
  {
   "cell_type": "code",
   "execution_count": 6,
   "metadata": {},
   "outputs": [
    {
     "name": "stderr",
     "output_type": "stream",
     "text": [
      "<ipython-input-6-621d3f5dc36a>:1: FutureWarning: Treating datetime data as categorical rather than numeric in `.describe` is deprecated and will be removed in a future version of pandas. Specify `datetime_is_numeric=True` to silence this warning and adopt the future behavior now.\n",
      "  df['timestamp'].describe()\n"
     ]
    },
    {
     "data": {
      "text/plain": [
       "count                   37155\n",
       "unique                  27494\n",
       "top       2021-01-29 01:03:59\n",
       "freq                       14\n",
       "first     2020-09-29 03:46:56\n",
       "last      2021-03-02 16:56:47\n",
       "Name: timestamp, dtype: object"
      ]
     },
     "execution_count": 6,
     "metadata": {},
     "output_type": "execute_result"
    }
   ],
   "source": [
    "df['timestamp'].describe()"
   ]
  },
  {
   "cell_type": "code",
   "execution_count": 7,
   "metadata": {},
   "outputs": [
    {
     "data": {
      "text/html": [
       "<div>\n",
       "<style scoped>\n",
       "    .dataframe tbody tr th:only-of-type {\n",
       "        vertical-align: middle;\n",
       "    }\n",
       "\n",
       "    .dataframe tbody tr th {\n",
       "        vertical-align: top;\n",
       "    }\n",
       "\n",
       "    .dataframe thead th {\n",
       "        text-align: right;\n",
       "    }\n",
       "</style>\n",
       "<table border=\"1\" class=\"dataframe\">\n",
       "  <thead>\n",
       "    <tr style=\"text-align: right;\">\n",
       "      <th></th>\n",
       "      <th>title</th>\n",
       "      <th>score</th>\n",
       "      <th>id</th>\n",
       "      <th>url</th>\n",
       "      <th>comms_num</th>\n",
       "      <th>created</th>\n",
       "      <th>body</th>\n",
       "      <th>timestamp</th>\n",
       "    </tr>\n",
       "  </thead>\n",
       "  <tbody>\n",
       "    <tr>\n",
       "      <th>32591</th>\n",
       "      <td>$CBAT $SUNW $SPI $OXBR Y'all are missing the p...</td>\n",
       "      <td>4</td>\n",
       "      <td>j1fmmo</td>\n",
       "      <td>https://www.reddit.com/r/wallstreetbets/commen...</td>\n",
       "      <td>11</td>\n",
       "      <td>1.601340e+09</td>\n",
       "      <td>$CBAT is going to be a great play further yet:...</td>\n",
       "      <td>2020-09-29 03:46:56</td>\n",
       "    </tr>\n",
       "    <tr>\n",
       "      <th>257</th>\n",
       "      <td>An autists journey. $150 to $68k in one month....</td>\n",
       "      <td>50</td>\n",
       "      <td>l6h58v</td>\n",
       "      <td>https://www.reddit.com/gallery/l6h58v</td>\n",
       "      <td>8</td>\n",
       "      <td>1.611818e+09</td>\n",
       "      <td>NaN</td>\n",
       "      <td>2021-01-28 09:08:16</td>\n",
       "    </tr>\n",
       "    <tr>\n",
       "      <th>256</th>\n",
       "      <td>You all have made Melvin live up to its name</td>\n",
       "      <td>70</td>\n",
       "      <td>l6h59b</td>\n",
       "      <td>https://i.redd.it/59sk10r7iyd61.png</td>\n",
       "      <td>7</td>\n",
       "      <td>1.611818e+09</td>\n",
       "      <td>NaN</td>\n",
       "      <td>2021-01-28 09:08:17</td>\n",
       "    </tr>\n",
       "    <tr>\n",
       "      <th>255</th>\n",
       "      <td>I got in late on GME but I believe in the caus...</td>\n",
       "      <td>75</td>\n",
       "      <td>l6h5a2</td>\n",
       "      <td>https://www.reddit.com/r/wallstreetbets/commen...</td>\n",
       "      <td>14</td>\n",
       "      <td>1.611818e+09</td>\n",
       "      <td>You guys are amazing. Thank you for sending GM...</td>\n",
       "      <td>2021-01-28 09:08:18</td>\n",
       "    </tr>\n",
       "    <tr>\n",
       "      <th>254</th>\n",
       "      <td>Highest SI % of Float End of Business Jan 27th...</td>\n",
       "      <td>26</td>\n",
       "      <td>l6h5am</td>\n",
       "      <td>https://www.reddit.com/r/wallstreetbets/commen...</td>\n",
       "      <td>22</td>\n",
       "      <td>1.611818e+09</td>\n",
       "      <td>Will Update Daily At Market Close\\n\\nTop 5 sec...</td>\n",
       "      <td>2021-01-28 09:08:19</td>\n",
       "    </tr>\n",
       "  </tbody>\n",
       "</table>\n",
       "</div>"
      ],
      "text/plain": [
       "                                                   title  score      id  \\\n",
       "32591  $CBAT $SUNW $SPI $OXBR Y'all are missing the p...      4  j1fmmo   \n",
       "257    An autists journey. $150 to $68k in one month....     50  l6h58v   \n",
       "256         You all have made Melvin live up to its name     70  l6h59b   \n",
       "255    I got in late on GME but I believe in the caus...     75  l6h5a2   \n",
       "254    Highest SI % of Float End of Business Jan 27th...     26  l6h5am   \n",
       "\n",
       "                                                     url  comms_num  \\\n",
       "32591  https://www.reddit.com/r/wallstreetbets/commen...         11   \n",
       "257                https://www.reddit.com/gallery/l6h58v          8   \n",
       "256                  https://i.redd.it/59sk10r7iyd61.png          7   \n",
       "255    https://www.reddit.com/r/wallstreetbets/commen...         14   \n",
       "254    https://www.reddit.com/r/wallstreetbets/commen...         22   \n",
       "\n",
       "            created                                               body  \\\n",
       "32591  1.601340e+09  $CBAT is going to be a great play further yet:...   \n",
       "257    1.611818e+09                                                NaN   \n",
       "256    1.611818e+09                                                NaN   \n",
       "255    1.611818e+09  You guys are amazing. Thank you for sending GM...   \n",
       "254    1.611818e+09  Will Update Daily At Market Close\\n\\nTop 5 sec...   \n",
       "\n",
       "                timestamp  \n",
       "32591 2020-09-29 03:46:56  \n",
       "257   2021-01-28 09:08:16  \n",
       "256   2021-01-28 09:08:17  \n",
       "255   2021-01-28 09:08:18  \n",
       "254   2021-01-28 09:08:19  "
      ]
     },
     "execution_count": 7,
     "metadata": {},
     "output_type": "execute_result"
    }
   ],
   "source": [
    "time_df = df.sort_values(by='timestamp')\n",
    "time_df.head()"
   ]
  },
  {
   "cell_type": "code",
   "execution_count": 8,
   "metadata": {},
   "outputs": [
    {
     "name": "stdout",
     "output_type": "stream",
     "text": [
      "https://www.reddit.com/r/wallstreetbets/comments/j1fmmo/cbat_sunw_spi_oxbr_yall_are_missing_the_point/\n"
     ]
    }
   ],
   "source": [
    "min_date = df['timestamp'].min()\n",
    "earliest_post_url = df.loc[ df['timestamp'] == min_date ]['url']\n",
    "print(earliest_post_url.values[0])"
   ]
  },
  {
   "cell_type": "code",
   "execution_count": 9,
   "metadata": {},
   "outputs": [],
   "source": [
    "df_raw = df.copy()\n",
    "df.drop(index=earliest_post_url.index[0], inplace=True)"
   ]
  },
  {
   "cell_type": "markdown",
   "metadata": {},
   "source": [
    "## Nan"
   ]
  },
  {
   "cell_type": "code",
   "execution_count": 10,
   "metadata": {},
   "outputs": [
    {
     "data": {
      "text/plain": [
       "title            0\n",
       "score            0\n",
       "id               0\n",
       "url              0\n",
       "comms_num        0\n",
       "created          0\n",
       "body         18437\n",
       "timestamp        0\n",
       "dtype: int64"
      ]
     },
     "execution_count": 10,
     "metadata": {},
     "output_type": "execute_result"
    }
   ],
   "source": [
    "df.isna().sum()"
   ]
  },
  {
   "cell_type": "markdown",
   "metadata": {},
   "source": [
    "## Stats"
   ]
  },
  {
   "cell_type": "code",
   "execution_count": 11,
   "metadata": {},
   "outputs": [
    {
     "data": {
      "text/html": [
       "<div>\n",
       "<style scoped>\n",
       "    .dataframe tbody tr th:only-of-type {\n",
       "        vertical-align: middle;\n",
       "    }\n",
       "\n",
       "    .dataframe tbody tr th {\n",
       "        vertical-align: top;\n",
       "    }\n",
       "\n",
       "    .dataframe thead th {\n",
       "        text-align: right;\n",
       "    }\n",
       "</style>\n",
       "<table border=\"1\" class=\"dataframe\">\n",
       "  <thead>\n",
       "    <tr style=\"text-align: right;\">\n",
       "      <th></th>\n",
       "      <th>score</th>\n",
       "      <th>comms_num</th>\n",
       "    </tr>\n",
       "  </thead>\n",
       "  <tbody>\n",
       "    <tr>\n",
       "      <th>count</th>\n",
       "      <td>37154.000000</td>\n",
       "      <td>37154.000000</td>\n",
       "    </tr>\n",
       "    <tr>\n",
       "      <th>mean</th>\n",
       "      <td>1250.153066</td>\n",
       "      <td>169.009932</td>\n",
       "    </tr>\n",
       "    <tr>\n",
       "      <th>std</th>\n",
       "      <td>8299.947422</td>\n",
       "      <td>2189.751788</td>\n",
       "    </tr>\n",
       "    <tr>\n",
       "      <th>min</th>\n",
       "      <td>0.000000</td>\n",
       "      <td>0.000000</td>\n",
       "    </tr>\n",
       "    <tr>\n",
       "      <th>25%</th>\n",
       "      <td>1.000000</td>\n",
       "      <td>1.000000</td>\n",
       "    </tr>\n",
       "    <tr>\n",
       "      <th>50%</th>\n",
       "      <td>16.000000</td>\n",
       "      <td>9.000000</td>\n",
       "    </tr>\n",
       "    <tr>\n",
       "      <th>75%</th>\n",
       "      <td>142.000000</td>\n",
       "      <td>39.000000</td>\n",
       "    </tr>\n",
       "    <tr>\n",
       "      <th>max</th>\n",
       "      <td>348241.000000</td>\n",
       "      <td>89050.000000</td>\n",
       "    </tr>\n",
       "  </tbody>\n",
       "</table>\n",
       "</div>"
      ],
      "text/plain": [
       "               score     comms_num\n",
       "count   37154.000000  37154.000000\n",
       "mean     1250.153066    169.009932\n",
       "std      8299.947422   2189.751788\n",
       "min         0.000000      0.000000\n",
       "25%         1.000000      1.000000\n",
       "50%        16.000000      9.000000\n",
       "75%       142.000000     39.000000\n",
       "max    348241.000000  89050.000000"
      ]
     },
     "execution_count": 11,
     "metadata": {},
     "output_type": "execute_result"
    }
   ],
   "source": [
    "df[['score', 'comms_num']].describe()"
   ]
  },
  {
   "cell_type": "code",
   "execution_count": 12,
   "metadata": {},
   "outputs": [
    {
     "data": {
      "text/html": [
       "<div>\n",
       "<style scoped>\n",
       "    .dataframe tbody tr th:only-of-type {\n",
       "        vertical-align: middle;\n",
       "    }\n",
       "\n",
       "    .dataframe tbody tr th {\n",
       "        vertical-align: top;\n",
       "    }\n",
       "\n",
       "    .dataframe thead th {\n",
       "        text-align: right;\n",
       "    }\n",
       "</style>\n",
       "<table border=\"1\" class=\"dataframe\">\n",
       "  <thead>\n",
       "    <tr style=\"text-align: right;\">\n",
       "      <th></th>\n",
       "      <th>title</th>\n",
       "      <th>body</th>\n",
       "    </tr>\n",
       "  </thead>\n",
       "  <tbody>\n",
       "    <tr>\n",
       "      <th>count</th>\n",
       "      <td>37154</td>\n",
       "      <td>18717</td>\n",
       "    </tr>\n",
       "    <tr>\n",
       "      <th>unique</th>\n",
       "      <td>36272</td>\n",
       "      <td>18477</td>\n",
       "    </tr>\n",
       "    <tr>\n",
       "      <th>top</th>\n",
       "      <td>AMC</td>\n",
       "      <td>Your daily trading discussion thread. Please k...</td>\n",
       "    </tr>\n",
       "    <tr>\n",
       "      <th>freq</th>\n",
       "      <td>39</td>\n",
       "      <td>17</td>\n",
       "    </tr>\n",
       "  </tbody>\n",
       "</table>\n",
       "</div>"
      ],
      "text/plain": [
       "        title                                               body\n",
       "count   37154                                              18717\n",
       "unique  36272                                              18477\n",
       "top       AMC  Your daily trading discussion thread. Please k...\n",
       "freq       39                                                 17"
      ]
     },
     "execution_count": 12,
     "metadata": {},
     "output_type": "execute_result"
    }
   ],
   "source": [
    "df[['title', 'body']].describe()"
   ]
  },
  {
   "cell_type": "markdown",
   "metadata": {},
   "source": [
    "## Histograms"
   ]
  },
  {
   "cell_type": "code",
   "execution_count": 25,
   "metadata": {},
   "outputs": [],
   "source": [
    "def plot_hist(col):\n",
    "    plt.figure(figsize=(14,6))\n",
    "    plt.hist(df[col], bins=100)\n",
    "    plt.plot()"
   ]
  },
  {
   "cell_type": "code",
   "execution_count": 26,
   "metadata": {},
   "outputs": [
    {
     "data": {
      "image/png": "[encoded data removed]",
      "text/plain": [
       "<Figure size 1008x432 with 1 Axes>"
      ]
     },
     "metadata": {
      "needs_background": "light"
     },
     "output_type": "display_data"
    }
   ],
   "source": [
    "plot_hist('score')"
   ]
  },
  {
   "cell_type": "code",
   "execution_count": 27,
   "metadata": {},
   "outputs": [
    {
     "data": {
      "image/png": "[encoded data removed]",
      "text/plain": [
       "<Figure size 1008x432 with 1 Axes>"
      ]
     },
     "metadata": {
      "needs_background": "light"
     },
     "output_type": "display_data"
    }
   ],
   "source": [
    "plot_hist('comms_num')"
   ]
  },
  {
   "cell_type": "markdown",
   "metadata": {},
   "source": [
    "## Created"
   ]
  },
  {
   "cell_type": "code",
   "execution_count": 18,
   "metadata": {},
   "outputs": [],
   "source": [
    "df['date'] = df['timestamp'].apply(lambda x: x.date())"
   ]
  },
  {
   "cell_type": "code",
   "execution_count": 34,
   "metadata": {},
   "outputs": [],
   "source": [
    "df['created_datetime'] = df['created'].apply(lambda x: datetime.datetime.utcfromtimestamp(x))"
   ]
  },
  {
   "cell_type": "code",
   "execution_count": 36,
   "metadata": {},
   "outputs": [
    {
     "data": {
      "text/html": [
       "<div>\n",
       "<style scoped>\n",
       "    .dataframe tbody tr th:only-of-type {\n",
       "        vertical-align: middle;\n",
       "    }\n",
       "\n",
       "    .dataframe tbody tr th {\n",
       "        vertical-align: top;\n",
       "    }\n",
       "\n",
       "    .dataframe thead th {\n",
       "        text-align: right;\n",
       "    }\n",
       "</style>\n",
       "<table border=\"1\" class=\"dataframe\">\n",
       "  <thead>\n",
       "    <tr style=\"text-align: right;\">\n",
       "      <th></th>\n",
       "      <th>created_datetime</th>\n",
       "      <th>timestamp</th>\n",
       "    </tr>\n",
       "  </thead>\n",
       "  <tbody>\n",
       "    <tr>\n",
       "      <th>0</th>\n",
       "      <td>2021-01-28 19:37:41</td>\n",
       "      <td>2021-01-28 21:37:41</td>\n",
       "    </tr>\n",
       "    <tr>\n",
       "      <th>1</th>\n",
       "      <td>2021-01-28 19:32:10</td>\n",
       "      <td>2021-01-28 21:32:10</td>\n",
       "    </tr>\n",
       "    <tr>\n",
       "      <th>2</th>\n",
       "      <td>2021-01-28 19:30:35</td>\n",
       "      <td>2021-01-28 21:30:35</td>\n",
       "    </tr>\n",
       "    <tr>\n",
       "      <th>3</th>\n",
       "      <td>2021-01-28 19:28:57</td>\n",
       "      <td>2021-01-28 21:28:57</td>\n",
       "    </tr>\n",
       "    <tr>\n",
       "      <th>4</th>\n",
       "      <td>2021-01-28 19:26:56</td>\n",
       "      <td>2021-01-28 21:26:56</td>\n",
       "    </tr>\n",
       "    <tr>\n",
       "      <th>...</th>\n",
       "      <td>...</td>\n",
       "      <td>...</td>\n",
       "    </tr>\n",
       "    <tr>\n",
       "      <th>37150</th>\n",
       "      <td>2021-02-27 02:37:32</td>\n",
       "      <td>2021-02-27 04:37:32</td>\n",
       "    </tr>\n",
       "    <tr>\n",
       "      <th>37151</th>\n",
       "      <td>2021-02-27 02:34:21</td>\n",
       "      <td>2021-02-27 04:34:21</td>\n",
       "    </tr>\n",
       "    <tr>\n",
       "      <th>37152</th>\n",
       "      <td>2021-02-27 02:30:42</td>\n",
       "      <td>2021-02-27 04:30:42</td>\n",
       "    </tr>\n",
       "    <tr>\n",
       "      <th>37153</th>\n",
       "      <td>2021-02-27 02:23:42</td>\n",
       "      <td>2021-02-27 04:23:42</td>\n",
       "    </tr>\n",
       "    <tr>\n",
       "      <th>37154</th>\n",
       "      <td>2021-02-27 02:25:09</td>\n",
       "      <td>2021-02-27 04:25:09</td>\n",
       "    </tr>\n",
       "  </tbody>\n",
       "</table>\n",
       "<p>37154 rows × 2 columns</p>\n",
       "</div>"
      ],
      "text/plain": [
       "         created_datetime           timestamp\n",
       "0     2021-01-28 19:37:41 2021-01-28 21:37:41\n",
       "1     2021-01-28 19:32:10 2021-01-28 21:32:10\n",
       "2     2021-01-28 19:30:35 2021-01-28 21:30:35\n",
       "3     2021-01-28 19:28:57 2021-01-28 21:28:57\n",
       "4     2021-01-28 19:26:56 2021-01-28 21:26:56\n",
       "...                   ...                 ...\n",
       "37150 2021-02-27 02:37:32 2021-02-27 04:37:32\n",
       "37151 2021-02-27 02:34:21 2021-02-27 04:34:21\n",
       "37152 2021-02-27 02:30:42 2021-02-27 04:30:42\n",
       "37153 2021-02-27 02:23:42 2021-02-27 04:23:42\n",
       "37154 2021-02-27 02:25:09 2021-02-27 04:25:09\n",
       "\n",
       "[37154 rows x 2 columns]"
      ]
     },
     "execution_count": 36,
     "metadata": {},
     "output_type": "execute_result"
    }
   ],
   "source": [
    "df[['created_datetime', 'timestamp']]"
   ]
  },
  {
   "cell_type": "code",
   "execution_count": 39,
   "metadata": {},
   "outputs": [],
   "source": [
    "df.drop(['created_datetime', 'created'], axis=1, inplace=True)"
   ]
  },
  {
   "cell_type": "markdown",
   "metadata": {},
   "source": [
    "## Plots"
   ]
  },
  {
   "cell_type": "code",
   "execution_count": 19,
   "metadata": {},
   "outputs": [],
   "source": [
    "avg_1_day = df[['score', 'comms_num', 'date']].groupby('date').mean()\n",
    "avg_1_day['date'] = avg_1_day.index"
   ]
  },
  {
   "cell_type": "code",
   "execution_count": 20,
   "metadata": {},
   "outputs": [
    {
     "data": {
      "text/plain": [
       "[]"
      ]
     },
     "execution_count": 20,
     "metadata": {},
     "output_type": "execute_result"
    },
    {
     "data": {
      "image/png": "[encoded data removed]",
      "text/plain": [
       "<Figure size 1296x720 with 1 Axes>"
      ]
     },
     "metadata": {
      "needs_background": "light"
     },
     "output_type": "display_data"
    }
   ],
   "source": [
    "plt.figure(figsize=(18,10))\n",
    "plt.title(\"1-day average for score\")\n",
    "sns.barplot(data=avg_1_day, x='date', y='score', color='b')\n",
    "plt.xticks(rotation=45)\n",
    "plt.plot()"
   ]
  },
  {
   "cell_type": "code",
   "execution_count": 21,
   "metadata": {},
   "outputs": [
    {
     "data": {
      "text/plain": [
       "[]"
      ]
     },
     "execution_count": 21,
     "metadata": {},
     "output_type": "execute_result"
    },
    {
     "data": {
      "image/png": "[encoded data removed]",
      "text/plain": [
       "<Figure size 1296x720 with 1 Axes>"
      ]
     },
     "metadata": {
      "needs_background": "light"
     },
     "output_type": "display_data"
    }
   ],
   "source": [
    "plt.figure(figsize=(18,10))\n",
    "plt.title(\"1-day average for number of comments\")\n",
    "sns.barplot(data=avg_1_day, x='date', y='comms_num', color='r')\n",
    "plt.xticks(rotation=45)\n",
    "plt.plot()"
   ]
  },
  {
   "cell_type": "code",
   "execution_count": 22,
   "metadata": {},
   "outputs": [
    {
     "data": {
      "text/plain": [
       "[]"
      ]
     },
     "execution_count": 22,
     "metadata": {},
     "output_type": "execute_result"
    },
    {
     "data": {
      "image/png": "[encoded data removed]",
      "text/plain": [
       "<Figure size 1296x720 with 1 Axes>"
      ]
     },
     "metadata": {
      "needs_background": "light"
     },
     "output_type": "display_data"
    }
   ],
   "source": [
    "daily_counts = df['date'].value_counts().sort_index()\n",
    "\n",
    "plt.figure(figsize=(18,10))\n",
    "plt.title(\"Number of posts each day\")\n",
    "sns.barplot(daily_counts.index, daily_counts.values, color='g')\n",
    "plt.xticks(rotation=45)\n",
    "plt.plot()"
   ]
  },
  {
   "cell_type": "code",
   "execution_count": null,
   "metadata": {},
   "outputs": [],
   "source": []
  }
 ],
 "metadata": {
  "kernelspec": {
   "display_name": "Python 3",
   "language": "python",
   "name": "python3"
  },
  "language_info": {
   "codemirror_mode": {
    "name": "ipython",
    "version": 3
   },
   "file_extension": ".py",
   "mimetype": "text/x-python",
   "name": "python",
   "nbconvert_exporter": "python",
   "pygments_lexer": "ipython3",
   "version": "3.8.3"
  }
 },
 "nbformat": 4,
 "nbformat_minor": 4
}
